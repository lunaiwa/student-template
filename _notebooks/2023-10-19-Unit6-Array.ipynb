{
 "cells": [
  {
   "cell_type": "markdown",
   "metadata": {},
   "source": [
    "---\n",
    "toc: true\n",
    "comments: true\n",
    "layout: post\n",
    "title: Unit 6 | Arrays\n",
    "description:  Lesson on the College Board Unit 6 Arrays. This is the teacher notebook.\n",
    "courses: { csa: {week: 9} }\n",
    "authors: Ethan Z\n",
    "type: plans\n",
    "---"
   ]
  },
  {
   "cell_type": "markdown",
   "metadata": {},
   "source": [
    "## Intro into Arrays\n",
    "\n",
    "- An **array** is a data structure used to implement a collection (list) of primitive or object reference data.\n",
    "\n",
    "- An **element** is a single value in the **array**\n",
    "\n",
    "- The __**index**__ of an **element** is the position of the element in the **array**\n",
    "\n",
    "    - In java, the **first element** of an array is at **index 0**.\n",
    "\n",
    "- The **length** of an **array** is the number of elements in the array.\n",
    "\n",
    "    - **`length`** is a `public final` data member of an array\n",
    "\n",
    "        - Since `length` is `public`, we can access it in **any class**!\n",
    "\n",
    "        - Since `length` is `final` we cannot change an array's `length` after it has been created\n",
    "    - In Java, the **last element** of an array named `list` is at **index** `list.length -1`"
   ]
  },
  {
   "cell_type": "markdown",
   "metadata": {},
   "source": [
    "## A look into list Memory\n",
    "`int [] listOne = new int[5];`\n",
    "\n",
    "This will allocate a space in memory for 5 integers.\n",
    "\n",
    "```\n",
    "ARRAY: [0, 0, 0, 0, 0]\n",
    "INDEX:  0  1  2  3  4\n",
    "```\n",
    "\n",
    "Using the keyword new uses the default values for the data type. The default values are as follows:\n",
    "\n",
    "| Data Type | Default Value |\n",
    "| --------- | ------------- |\n",
    "| byte      | (byte) 0      |\n",
    "| short     | (short) 0     |\n",
    "| int       | 0             |\n",
    "| double    | 0.0           |\n",
    "| boolean   | false         |\n",
    "| char      | '\\u0000'      |\n",
    "\n",
    "What do we do if we want to insert a value into the array?\n",
    "\n",
    "`listOne[0] = 5;`\n",
    "\n",
    "Gives us the following array:\n",
    "\n",
    "```\n",
    "ARRAY: [0, 0, 0, 0, 0]\n",
    "INDEX:  0  1  2  3  4\n",
    "```\n",
    "\n",
    "What if we want to initialize our own values? We can use an initializer list!\n",
    "\n",
    "`int [] listTwo = {1, 2, 3, 4, 5};`\n",
    "\n",
    "Gives us the following array:\n",
    "\n",
    "```\n",
    "ARRAY: [1, 2, 3, 4, 5]\n",
    "INDEX:  0  1  2  3  4\n",
    "```\n",
    "\n",
    "If we try to access an index outside of the range of existing indexes, we will get an error. But why? Remember the basis of all programming languages is memory. Because we are trying to access a location in memory that does not exist, java will throw an error (`ArrayIndexOutOfBoundsException`).\n",
    "\n",
    "How do we print the array? Directly printing the array will not work, it just prints the value of the array in memory. We need to iterate through the array and print each value individually!"
   ]
  },
  {
   "cell_type": "code",
   "execution_count": 5,
   "metadata": {
    "vscode": {
     "languageId": "java"
    }
   },
   "outputs": [
    {
     "name": "stdout",
     "output_type": "stream",
     "text": [
      "Error at listOne[5] = 13\n",
      "ArrayIndexOutOfBoundsException: We can't access a memory index that doesn't exist!\n",
      "[I@620c6ceb\n",
      "0\n"
     ]
    }
   ],
   "source": [
    "/* lets take a look at the above */\n",
    "\n",
    "int [] listOne = new int[5]; // Our list looks like [0, 0, 0, 0, 0]\n",
    "\n",
    "listOne[2] = 33; // Our list looks like [0, 0, 33, 0, 0]\n",
    "listOne[3] = listOne[2] * 3; // Our list looks like [0, 0, 33, 99, 0]\n",
    "\n",
    "try {\n",
    "    listOne[5] = 13; // This will return an error\n",
    "} catch (Exception e) {\n",
    "    System.out.println(\"Error at listOne[5] = 13\");\n",
    "    System.out.println(\"ArrayIndexOutOfBoundsException: We can't access a memory index that doesn't exist!\");\n",
    "}\n",
    "\n",
    "\n",
    "System.out.println(listOne); // THIS DOES NOT PRINT THE LIST!! It prints the value in memory\n",
    "System.out.println(listOne[4]); // This will actually print the vaules in the array"
   ]
  },
  {
   "cell_type": "markdown",
   "metadata": {},
   "source": [
    "## Popcorn Hacks!\n",
    "\n",
    "Write code to print out every element of listOne the following"
   ]
  },
  {
   "cell_type": "code",
   "execution_count": 6,
   "metadata": {
    "vscode": {
     "languageId": "java"
    }
   },
   "outputs": [
    {
     "name": "stdout",
     "output_type": "stream",
     "text": [
      "printing elements of listOne:\n",
      "10\n",
      "20\n",
      "30\n",
      "40\n",
      "50\n"
     ]
    }
   ],
   "source": [
    "public class ArrayElements {\n",
    "    public static void main(String[] args) {\n",
    "        int[] listOne = new int[5];\n",
    "        listOne[0] = 10;\n",
    "        listOne[1] = 20;\n",
    "        listOne[2] = 30;\n",
    "        listOne[3] = 40;\n",
    "        listOne[4] = 50;\n",
    "\n",
    "        System.out.println(\"printing elements of listOne:\");\n",
    "        for (int i = 0; i < listOne.length; i++) {\n",
    "            System.out.println(listOne[i]);\n",
    "        }\n",
    "    }\n",
    "}\n",
    "ArrayElements.main(null)"
   ]
  },
  {
   "cell_type": "markdown",
   "metadata": {},
   "source": [
    "## Reference elements\n",
    "\n",
    "Lists can be made up of elements other than the default data types! We can make lists of objects, or even lists of lists! Lets say I have a class `Student` and I want to make a list of all students in the class. I can do this by creating a list of `Student` objects.\n",
    "\n",
    "```\n",
    "Student [] classList;\n",
    "classList new Student [3];\n",
    "```\n",
    "\n",
    "Keep in mind, however, that the list won't be generated with any students in it. They are initialized to `null` by default, and We need to create the students and then add them to the list ourselves.\n",
    "\n",
    "```\n",
    "classList[0] = new Student(\"Bob\", 12, 3.5);\n",
    "classList[1] = new Student(\"John\", 11, 4.0);\n",
    "classList[2] = new Student(\"Steve\", 10, 3.75);\n",
    "```"
   ]
  },
  {
   "cell_type": "markdown",
   "metadata": {},
   "source": [
    "## Popcorn hacks!\n",
    "\n",
    "Use a class that you have already created and create a list of objects of that class. Then, iterate through the list and print out each object using:\n",
    " 1) a for loop\n",
    " 2) a while loop"
   ]
  },
  {
   "cell_type": "code",
   "execution_count": 8,
   "metadata": {
    "vscode": {
     "languageId": "java"
    }
   },
   "outputs": [
    {
     "name": "stdout",
     "output_type": "stream",
     "text": [
      "iterating using a for loop:\n",
      "Name: Jillian, Age: 16, Grade: 99.5\n",
      "Name: Josh, Age: 16, Grade: 92.3\n",
      "Name: JingJang, Age: 16, Grade: 78.9\n",
      "\n",
      "iterating using a while loop:\n",
      "Name: Jillian, Age: 16, Grade: 99.5\n",
      "Name: Josh, Age: 16, Grade: 92.3\n",
      "Name: JingJang, Age: 16, Grade: 78.9\n"
     ]
    }
   ],
   "source": [
    "import java.util.ArrayList;\n",
    "import java.util.List;\n",
    "\n",
    "class Student {\n",
    "    private String name;\n",
    "    private int age;\n",
    "    private double grade;\n",
    "\n",
    "    public Student(String name, int age, double grade) {\n",
    "        this.name = name;\n",
    "        this.age = age;\n",
    "        this.grade = grade;\n",
    "    }\n",
    "\n",
    "    @Override\n",
    "    public String toString() {\n",
    "        return \"Name: \" + name + \", Age: \" + age + \", Grade: \" + grade;\n",
    "    }\n",
    "}\n",
    "\n",
    "public class StudentListIteration {\n",
    "    public static void main(String[] args) {\n",
    "        // Create a list of Student objects\n",
    "        List<Student> studentList = new ArrayList<>();\n",
    "        studentList.add(new Student(\"Jillian\", 16, 99.5));\n",
    "        studentList.add(new Student(\"Josh\", 16, 92.3));\n",
    "        studentList.add(new Student(\"JingJang\", 16, 78.9));\n",
    "\n",
    "        // Iterate through the list using a for loop\n",
    "        System.out.println(\"iterating using a for loop:\");\n",
    "        for (int i = 0; i < studentList.size(); i++) {\n",
    "            System.out.println(studentList.get(i));\n",
    "        }\n",
    "\n",
    "        // Iterate through the list using a while loop\n",
    "        System.out.println(\"\\niterating using a while loop:\");\n",
    "        int index = 0;\n",
    "        while (index < studentList.size()) {\n",
    "            System.out.println(studentList.get(index));\n",
    "            index++;\n",
    "        }\n",
    "    }\n",
    "}\n",
    "StudentListIteration.main(null)"
   ]
  },
  {
   "cell_type": "markdown",
   "metadata": {},
   "source": [
    "## Enhanced for loops\n",
    "\n",
    "The enhanced `for` loop is also called a for-each loop. Unlike a \"traditional\" indexed `for` loop with three parts separated by semicolons, there are only two parts to the enhanced `for` loop header and they are separated by a colon.\n",
    "\n",
    "The first half of an enhanced `for` loop signature is the type of name for the variable that is a copy of the value stored in the structure. Next a colon separates the variable section from the data structure being traversed with the loop.\n",
    "\n",
    "Inside the body of the loop you are able to access the value stored in the variable. A key point to remember is that you are unable to assign into the variable defined in the header (the signature)\n",
    "\n",
    "You also do not have access to the indices of the array or subscript notation when using the enhanced `for` loop.\n",
    "\n",
    "These loops have a structure similar to the one shown below:\n",
    "\n",
    "```js\n",
    "for (type declaration : structure )\n",
    "{\n",
    "    // statement one;\n",
    "    // statement two;\n",
    "    // ...\n",
    "}\n",
    "```\n",
    "\n",
    "## Popcorn Hacks!\n",
    "\n",
    "Create an array, then use a enhanced for loop to print out each element of the array."
   ]
  },
  {
   "cell_type": "code",
   "execution_count": 9,
   "metadata": {
    "vscode": {
     "languageId": "java"
    }
   },
   "outputs": [
    {
     "name": "stdout",
     "output_type": "stream",
     "text": [
      "10\n",
      "20\n",
      "30\n",
      "40\n",
      "50\n"
     ]
    }
   ],
   "source": [
    "public class Array {\n",
    "    public static void main(String[] args) {\n",
    "        // Create an array of integers\n",
    "        int[] numbers = {10, 20, 30, 40, 50};\n",
    "\n",
    "        // Use an enhanced for loop to print each element of the array\n",
    "        for (int number : numbers) {\n",
    "            System.out.println(number);\n",
    "        }\n",
    "    }\n",
    "}\n",
    "Array.main(null)"
   ]
  },
  {
   "cell_type": "markdown",
   "metadata": {},
   "source": [
    "## Min maxing\n",
    "\n",
    "It is a common task to determine what the largest or smallest value stored is inside an array. in order to do this, we need a method that can ake a parameter of an array of primitive values (`int` or `double`) and return the item that is at the appropriate extreme.\n",
    "\n",
    "Inside the method of a local variable is needed to store the current max of min value that will be compared against all the values in the array. you can assign the current value to be either the opposite extreme or the first item you would be looking at.\n",
    "\n",
    "You can use either a standard `for` loop or an enhanced `for` loop to determine the max or min. Assign the temporary variable a starting value based on what extreme you are searching for.\n",
    "\n",
    "Inside the `for` loop, compare the current value against the local variable, if the current value is better, assign it to the temporary variable. When the loop is over, the local variable will contain the approximate value and is still available and within scope and can be returned from the method.\n",
    "\n",
    "## Popcorn Hacks!\n",
    "Create two lists: one of ints and one of doubles. Use both a standard for loop and an enhanced for loop to find the max and min of each list."
   ]
  },
  {
   "cell_type": "code",
   "execution_count": 10,
   "metadata": {
    "vscode": {
     "languageId": "java"
    }
   },
   "outputs": [
    {
     "name": "stdout",
     "output_type": "stream",
     "text": [
      "Integer List - Standard For Loop:\n",
      "Max: 30\n",
      "Min: 5\n",
      "\n",
      "Double List - Standard For Loop:\n",
      "Max: 30.3\n",
      "Min: 5.2\n",
      "\n",
      "Double List - Enhanced For Loop:\n",
      "Max: 30.3\n",
      "Min: 5.2\n"
     ]
    }
   ],
   "source": [
    "import java.util.ArrayList;\n",
    "import java.util.List;\n",
    "\n",
    "public class MaxMinFinder {\n",
    "    public static void main(String[] args) {\n",
    "        // list of integers\n",
    "        List<Integer> intList = new ArrayList<>();\n",
    "        intList.add(10);\n",
    "        intList.add(5);\n",
    "        intList.add(20);\n",
    "        intList.add(15);\n",
    "        intList.add(30);\n",
    "        intList.add(25);\n",
    "\n",
    "        // list of doubles\n",
    "        List<Double> doubleList = new ArrayList<>();\n",
    "        doubleList.add(10.5);\n",
    "        doubleList.add(5.2);\n",
    "        doubleList.add(20.1);\n",
    "        doubleList.add(15.7);\n",
    "        doubleList.add(30.3);\n",
    "        doubleList.add(25.6);\n",
    "\n",
    "        // maximum and minimum values in the integer list\n",
    "        int intMax = intList.get(0);\n",
    "        int intMin = intList.get(0);\n",
    "\n",
    "        for (int i = 1; i < intList.size(); i++) {\n",
    "            int currentValue = intList.get(i);\n",
    "            if (currentValue > intMax) {\n",
    "                intMax = currentValue;\n",
    "            }\n",
    "            if (currentValue < intMin) {\n",
    "                intMin = currentValue;\n",
    "            }\n",
    "        }\n",
    "\n",
    "        // maximum and minimum values in the double list\n",
    "        double doubleMax = doubleList.get(0);\n",
    "        double doubleMin = doubleList.get(0);\n",
    "\n",
    "        for (int i = 1; i < doubleList.size(); i++) {\n",
    "            double currentValue = doubleList.get(i);\n",
    "            if (currentValue > doubleMax) {\n",
    "                doubleMax = currentValue;\n",
    "            }\n",
    "            if (currentValue < doubleMin) {\n",
    "                doubleMin = currentValue;\n",
    "            }\n",
    "        }\n",
    "\n",
    "        System.out.println(\"Integer List - Standard For Loop:\");\n",
    "        System.out.println(\"Max: \" + intMax);\n",
    "        System.out.println(\"Min: \" + intMin);\n",
    "\n",
    "        System.out.println(\"\\nDouble List - Standard For Loop:\");\n",
    "        System.out.println(\"Max: \" + doubleMax);\n",
    "        System.out.println(\"Min: \" + doubleMin);\n",
    "\n",
    "        double doubleMaxEnhanced = Double.NEGATIVE_INFINITY;\n",
    "        double doubleMinEnhanced = Double.POSITIVE_INFINITY;\n",
    "\n",
    "        for (Double value : doubleList) {\n",
    "            if (value > doubleMaxEnhanced) {\n",
    "                doubleMaxEnhanced = value;\n",
    "            }\n",
    "            if (value < doubleMinEnhanced) {\n",
    "                doubleMinEnhanced = value;\n",
    "            }\n",
    "        }\n",
    "\n",
    "        System.out.println(\"\\nDouble List - Enhanced For Loop:\");\n",
    "        System.out.println(\"Max: \" + doubleMaxEnhanced);\n",
    "        System.out.println(\"Min: \" + doubleMinEnhanced);\n",
    "    }\n",
    "}\n",
    "MaxMinFinder.main(null)"
   ]
  },
  {
   "cell_type": "markdown",
   "metadata": {},
   "source": [
    "## Hacks (Due 10/22 11:59 PM)\n",
    "Given an input of N integers, find A, the maximum, B, the minimum, and C the median.\n",
    "\n",
    "Print the following in this order: A + B + C A - B - C (A + B) * C\n",
    "\n",
    "For extra, create your own fun program using an array"
   ]
  },
  {
   "cell_type": "markdown",
   "metadata": {},
   "source": [
    "Given an input of N integers, find A, the maximum, B, the minimum, and C the median."
   ]
  },
  {
   "cell_type": "code",
   "execution_count": 11,
   "metadata": {
    "vscode": {
     "languageId": "java"
    }
   },
   "outputs": [
    {
     "name": "stdout",
     "output_type": "stream",
     "text": [
      "Maximum (A): 30\n",
      "Minimum (B): 5\n",
      "Median (C): 17\n"
     ]
    }
   ],
   "source": [
    "import java.util.Arrays;\n",
    "\n",
    "public class FindMinMaxMedian {\n",
    "    public static void main(String[] args) {\n",
    "        int[] numbers = {10, 5, 20, 15, 30, 25};\n",
    "\n",
    "        //  maximum (A)\n",
    "        int max = Arrays.stream(numbers).max().getAsInt();\n",
    "\n",
    "        //  minimum (B)\n",
    "        int min = Arrays.stream(numbers).min().getAsInt();\n",
    "\n",
    "        //  median (C)\n",
    "        Arrays.sort(numbers);\n",
    "        int median;\n",
    "        if (numbers.length % 2 == 0) {\n",
    "            median = (numbers[numbers.length / 2 - 1] + numbers[numbers.length / 2]) / 2;\n",
    "        } else {\n",
    "            median = numbers[numbers.length / 2];\n",
    "        }\n",
    "\n",
    "        System.out.println(\"Maximum (A): \" + max);\n",
    "        System.out.println(\"Minimum (B): \" + min);\n",
    "        System.out.println(\"Median (C): \" + median);\n",
    "    }\n",
    "}\n",
    "FindMinMaxMedian.main(null)"
   ]
  },
  {
   "cell_type": "markdown",
   "metadata": {},
   "source": [
    "Print the following in this order: A + B + C A - B - C (A + B) * C"
   ]
  },
  {
   "cell_type": "code",
   "execution_count": 13,
   "metadata": {
    "vscode": {
     "languageId": "java"
    }
   },
   "outputs": [
    {
     "name": "stdout",
     "output_type": "stream",
     "text": [
      "A + B + C: 55\n",
      "A - B - C: 5\n",
      "(A + B) * C: 700\n"
     ]
    }
   ],
   "source": [
    "public class Expressions {\n",
    "    public static void main(String[] args) {\n",
    "        int A = 30; // Replace with the actual maximum value\n",
    "        int B = 5;  // Replace with the actual minimum value\n",
    "        int C = 20; // Replace with the actual median value\n",
    "\n",
    "        int result1 = A + B + C;\n",
    "        int result2 = A - B - C;\n",
    "        int result3 = (A + B) * C;\n",
    "\n",
    "        System.out.println(\"A + B + C: \" + result1);\n",
    "        System.out.println(\"A - B - C: \" + result2);\n",
    "        System.out.println(\"(A + B) * C: \" + result3);\n",
    "    }\n",
    "}\n",
    "Expressions.main(null)"
   ]
  },
  {
   "cell_type": "code",
   "execution_count": null,
   "metadata": {
    "vscode": {
     "languageId": "java"
    }
   },
   "outputs": [],
   "source": [
    "Sample data:\n",
    "\n",
    "INPUT:\n",
    "5\n",
    "1 2 3 4 5\n",
    "\n",
    "OUTPUT:\n",
    "9 1 18\n",
    "\n",
    "INPUT:\n",
    "9\n",
    "2 4 6 8 10 10 12 14 16\n",
    "\n",
    "OUTPUT:\n",
    "28 6 180"
   ]
  }
 ],
 "metadata": {
  "kernelspec": {
   "display_name": "Java",
   "language": "java",
   "name": "java"
  },
  "language_info": {
   "codemirror_mode": "java",
   "file_extension": ".jshell",
   "mimetype": "text/x-java-source",
   "name": "Java",
   "pygments_lexer": "java",
   "version": "20.0.1"
  },
  "orig_nbformat": 4
 },
 "nbformat": 4,
 "nbformat_minor": 2
}
