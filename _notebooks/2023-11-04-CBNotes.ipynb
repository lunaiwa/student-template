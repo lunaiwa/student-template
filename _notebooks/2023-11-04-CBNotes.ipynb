{
 "cells": [
  {
   "cell_type": "markdown",
   "metadata": {},
   "source": [
    "---\n",
    "toc: true\n",
    "comments: true\n",
    "layout: post\n",
    "title: CB CSA Notes | (Units 1-10)\n",
    "description: Notes on College Board CSA up until Unit 10\n",
    "type: tangibles\n",
    "courses: { csa: {week: 12} }\n",
    "---"
   ]
  },
  {
   "cell_type": "markdown",
   "metadata": {},
   "source": [
    "# APCSA Units 1-10 Notes"
   ]
  },
  {
   "cell_type": "markdown",
   "metadata": {},
   "source": [
    "### Unit 1: Primitive Types\n",
    "\n",
    "- Introduction to Java programming language.\n",
    "- Data types, variables, and literals (int, double, char, boolean).\n",
    "- Arithmetic operators and mathematical operations.\n",
    "- Type casting and type conversion.\n",
    "- Basic input and output (using Scanner and System.out)."
   ]
  },
  {
   "cell_type": "markdown",
   "metadata": {},
   "source": [
    "### Unit 2: Using Objects\n",
    "\n",
    "- Introduction to objects and classes.\n",
    "- Creating and using objects.\n",
    "- Object references.\n",
    "- Constructors and methods.\n",
    "- Static methods and variables.\n",
    "- The String class and its methods.\n",
    "- Wrapper classes for primitive types."
   ]
  },
  {
   "cell_type": "markdown",
   "metadata": {},
   "source": [
    "### Unit 3: Boolean Expressions and If Statements ★\n",
    "\n",
    "- Conditional statements (if, else if, else).\n",
    "- Logical operators (&&, ||, !).\n",
    "- Comparing values (==, !=, <, >, <=, >=).\n",
    "- Nested conditionals.\n",
    "- The switch statement.\n",
    "- Conditional expressions (the ternary operator)."
   ]
  },
  {
   "cell_type": "markdown",
   "metadata": {},
   "source": [
    "### Unit 4: Iteration\n",
    "\n",
    "- Introduction to loops (while, for, do-while).\n",
    "- Loop control (break and continue statements).\n",
    "- Loop patterns (counting, sentinel, and flag-controlled loops).\n",
    "- Common loop algorithms (sums, averages, searching, and sorting)."
   ]
  },
  {
   "cell_type": "markdown",
   "metadata": {},
   "source": [
    "### Unit 5: Writing Classes\n",
    "\n",
    "- Designing and implementing custom classes.\n",
    "- Instance variables and methods.\n",
    "- Encapsulation and access modifiers (public, private).\n",
    "- Constructors and overloading constructors.\n",
    "- The this keyword.\n",
    "- The equals method and the toString method.\n",
    "- The compareTo method."
   ]
  },
  {
   "cell_type": "markdown",
   "metadata": {},
   "source": [
    "### Unit 6: Array Lists\n",
    "\n",
    "- Introduction to ArrayLists.\n",
    "- Adding, modifying, and removing elements.\n",
    "- Traversing and searching within ArrayLists.\n",
    "- Enhancing the ArrayList class.\n",
    "- Using enhanced for loops.\n",
    "- Two-dimensional arrays."
   ]
  },
  {
   "cell_type": "markdown",
   "metadata": {},
   "source": [
    "### Unit 7: Arrays of Objects ★\n",
    "\n",
    "- Arrays of objects and references.\n",
    "- Sorting and searching arrays of objects.\n",
    "- Implementing classes with array attributes.\n",
    "- Multidimensional arrays.\n",
    "- The ArrayList class compared to arrays."
   ]
  },
  {
   "cell_type": "markdown",
   "metadata": {},
   "source": [
    "### Unit 8: Classes and Objects\n",
    "\n",
    "- Design principles for classes.\n",
    "- The use of static and instance variables.\n",
    "- The static keyword and static methods.\n",
    "- Constructors in classes.\n",
    "- Access modifiers (public, private, protected).\n",
    "- Object-oriented design and UML diagrams."
   ]
  },
  {
   "cell_type": "markdown",
   "metadata": {},
   "source": [
    "### Unit 9: Inheritance\n",
    "\n",
    "- Inheritance in object-oriented programming.\n",
    "- Extending and inheriting from classes.\n",
    "- Overriding methods.\n",
    "- Polymorphism and dynamic method binding.\n",
    "- Abstract classes and interfaces.\n",
    "- Implementing multiple interfaces.\n",
    "- Using the super keyword."
   ]
  },
  {
   "cell_type": "markdown",
   "metadata": {},
   "source": [
    "### Unit 10: Recursion ★\n",
    "\n",
    "- Introduction to recursion.\n",
    "- Recursive methods and their structure.\n",
    "- Recursive algorithms for solving problems.\n",
    "- Base cases and recursive cases.\n",
    "- Recursion vs. iteration.\n",
    "- Recursive sorting algorithms (e.g., Merge Sort)."
   ]
  },
  {
   "cell_type": "markdown",
   "metadata": {},
   "source": [
    "### Unit 11 : xxx"
   ]
  }
 ],
 "metadata": {
  "language_info": {
   "name": "python"
  }
 },
 "nbformat": 4,
 "nbformat_minor": 2
}
