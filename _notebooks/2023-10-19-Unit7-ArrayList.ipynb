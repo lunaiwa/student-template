{
 "cells": [
  {
   "cell_type": "markdown",
   "metadata": {},
   "source": [
    "---\n",
    "toc: true\n",
    "comments: true\n",
    "layout: post\n",
    "title: Unit 7 | ArrayLists \n",
    "description:  Lesson on the College Board Unit 6 Arrays. This is the teacher notebook.\n",
    "courses: { csa: {week: 10} }\n",
    "type: hacks\n",
    "authors: Tay, Raymond, Ethan T., Ethan Z., Anthony B.\n",
    "---"
   ]
  },
  {
   "cell_type": "markdown",
   "metadata": {},
   "source": [
    "## 7.1 Intro to ArrayLists\n",
    "\n",
    "- An **ArrayList** is a utility from the ``java.util`` package\n",
    "\n",
    "- To declare a variable, use the format `ArrayList<DataType> variableName = new ArrayList<DataType>(initial number of elements);`\n",
    "\n",
    "- Unlike arrays, ArrayLists are mutable (can be resized after initialization)\n",
    "\n",
    "- Functions as a more versatile array\n",
    "\n",
    "    - Does technically take more space than an array but for the purposes of CSA it shouldn't matter\n",
    "<br>\n",
    "<br>\n",
    "\n",
    "Difference between Array and Arraylist:\n",
    "\n",
    "\n",
    "| Array | Arraylist |\n",
    "| - | - |\n",
    "| Fixed length | Resizable length |\n",
    "| Fundamental Java Feature | Part of a Framework |\n",
    "| An object with no methods | A Class with many methods |\n",
    "| Not very flexible | Flexible |\n",
    "| Can store primitives | Cannot store primitives - stores objects instead |\n",
    "\n",
    "Example of Array: Basketball players on court\n",
    "\n",
    "Example of Arraylist: Dodgeball players on court\n",
    "\n",
    "### Question\n",
    "When should we use ArrayLists vs Arrays?\n",
    "\n",
    "Answer:<mark>**When you have a set of data that is changing in size**</mark>\n",
    "\n",
    "<br>\n",
    "<br>\n",
    "Showing how ArrayLists are mutable:"
   ]
  },
  {
   "cell_type": "code",
   "execution_count": 5,
   "metadata": {
    "vscode": {
     "languageId": "java"
    }
   },
   "outputs": [
    {
     "name": "stdout",
     "output_type": "stream",
     "text": [
      "Array 1:[]\n",
      "Array 2:[]\n",
      "Array 1:[1, 2, 3, 4, 5]\n",
      "Array 2:[1, 2, 3, 4, 5]\n"
     ]
    }
   ],
   "source": [
    "import java.util.ArrayList;\n",
    "\n",
    "class ArrayListExample { \n",
    "    public static void main(String[] args) \n",
    "    { \n",
    "        // Size of ArrayList \n",
    "        int n = 5; \n",
    "  \n",
    "        // Declaring ArrayList with initial size n \n",
    "        ArrayList<Integer> arr1 = new ArrayList<Integer>(n); \n",
    "  \n",
    "        // Declaring ArrayList without initial size\n",
    "        ArrayList<Integer> arr2 = new ArrayList<Integer>(); \n",
    "  \n",
    "        // Printing ArrayList \n",
    "        System.out.println(\"Array 1:\" + arr1); \n",
    "        System.out.println(\"Array 2:\" + arr2); \n",
    "  \n",
    "        // Appending new elements to the end of the list \n",
    "        for (int i = 1; i <= n; i++) { \n",
    "            arr1.add(i); \n",
    "            arr2.add(i); \n",
    "        } \n",
    "  \n",
    "        // Printing ArrayList \n",
    "        System.out.println(\"Array 1:\" + arr1); \n",
    "        System.out.println(\"Array 2:\" + arr2); \n",
    "    } \n",
    "}\n",
    "ArrayListExample.main(null);"
   ]
  },
  {
   "cell_type": "markdown",
   "metadata": {},
   "source": [
    "## 7.1 Popcorn Hack\n",
    "\n",
    "Create an ArrayList that stores the integers 5, 8, 14, 18, 24, 39, and 56 and only print the numbers that are divisible by 3."
   ]
  },
  {
   "cell_type": "code",
   "execution_count": 6,
   "metadata": {
    "vscode": {
     "languageId": "java"
    }
   },
   "outputs": [
    {
     "ename": "CompilationException",
     "evalue": "",
     "output_type": "error",
     "traceback": [
      "\u001b[1m\u001b[30m|   \u001b[1m\u001b[30m        ArrayList<Integer> arr1 = ne\u001b[0m\u001b[1m\u001b[30m\u001b[41m\u001b[0m\u001b[1m\u001b[30m ArrayList<Integer>(n);\u001b[0m",
      "\u001b[1m\u001b[31m';' expected\u001b[0m",
      "",
      "\u001b[1m\u001b[30m|   \u001b[1m\u001b[30m        ArrayList<Integer> arr1 = ne \u001b[0m\u001b[1m\u001b[30m\u001b[41mArrayList<Integer>\u001b[0m\u001b[1m\u001b[30m(n);\u001b[0m",
      "\u001b[1m\u001b[31mnot a statement\u001b[0m",
      "",
      "\u001b[1m\u001b[30m|   \u001b[1m\u001b[30m        ArrayList<Integer> arr1 = ne ArrayList<Integer>\u001b[0m\u001b[1m\u001b[30m\u001b[41m\u001b[0m\u001b[1m\u001b[30m(n);\u001b[0m",
      "\u001b[1m\u001b[31m';' expected\u001b[0m",
      "",
      "\u001b[1m\u001b[30m|   \u001b[1m\u001b[30m        ArrayList<Integer> arr1 = ne ArrayList<Integer>(\u001b[0m\u001b[1m\u001b[30m\u001b[41mn\u001b[0m\u001b[1m\u001b[30m);\u001b[0m",
      "\u001b[1m\u001b[31mnot a statement\u001b[0m",
      "",
      "\u001b[1m\u001b[30m|   \u001b[1m\u001b[30m        ArrayList<Integer> arr1 = ne ArrayList<Integer>(n\u001b[0m\u001b[1m\u001b[30m\u001b[41m\u001b[0m\u001b[1m\u001b[30m);\u001b[0m",
      "\u001b[1m\u001b[31m';' expected\u001b[0m",
      ""
     ]
    }
   ],
   "source": [
    "import java.util.ArrayList;\n",
    "\n",
    "public class DivisibleBy3 {\n",
    "    public static void main(String[] args) {\n",
    "        // declare variable and add integers\n",
    "        int size = 7;\n",
    "        ArrayList<Integer> arr1 = ne ArrayList<Integer>(n);\n",
    "        ArrayList<Integer> arr2 = new ArrayList<Integer>();\n",
    "\n",
    "        System.out.println(\"Numbers divisble by 3:\");\n",
    "        // write code here\n",
    "    }\n",
    "}\n",
    "DivisibleBy3.main(null);"
   ]
  },
  {
   "cell_type": "markdown",
   "metadata": {},
   "source": [
    "### Vocabulary Refresher\n",
    "- An **element** is a single value in the **array**\n",
    "\n",
    "- The __**index**__ of an **element** is the position of the element in the **array** or **ArrayList**\n",
    "\n",
    "    - The first index of an **ArrayList**, like **arrays** is also 0 \n",
    "<br>\n",
    "<br>\n",
    "- The **length** of an **array** is the number of elements in the array.\n"
   ]
  },
  {
   "cell_type": "markdown",
   "metadata": {},
   "source": [
    "## 7.2 Arraylist Methods\n",
    "- add()\n",
    "    - Adding a value to the ArrayList\n",
    "    - Can be used to create an element at a specific index in the ArrayList - when this happens, everything at the positions of index and higher are moved to the right by 1 \n",
    "- get()\n",
    "    - Get the value of an index in the ArrayList\n",
    "- set()\n",
    "    - Change the value at an index in the ArrayList\n",
    "- remove()\n",
    "    - Delete the value at in index in the ArrayList\n",
    "- clear()\n",
    "    - Remove all values in an ArrayList\n",
    "- size()\n",
    "    - Get the length of the ArrayList"
   ]
  },
  {
   "cell_type": "code",
   "execution_count": 8,
   "metadata": {
    "vscode": {
     "languageId": "java"
    }
   },
   "outputs": [
    {
     "name": "stdout",
     "output_type": "stream",
     "text": [
      "0\n",
      "[1, 2, 3, 4, 5, 6, 7]\n",
      "2\n",
      "5\n",
      "[1, 200, 3, 4, 6, 7]\n"
     ]
    }
   ],
   "source": [
    "import java.util.ArrayList;\n",
    "\n",
    "public class Test {\n",
    "    public static void main(String[] args) {\n",
    "        ArrayList<Integer> test = new ArrayList<>();\n",
    "        System.out.println(test.size());\n",
    "        test.add(1); //index 0\n",
    "        test.add(2); // index 1\n",
    "        test.add(3); // index 2\n",
    "        test.add(4); // index 3\n",
    "        test.add(5); // index 4\n",
    "        test.add(6); // index 5\n",
    "        test.add(7); // index 6\n",
    "\n",
    "        System.out.println(test);\n",
    "\n",
    "        int i = test.set(1, 200); // prints what used to be at index 1\n",
    "        int x = test.remove(4); // prints what was removed\n",
    "\n",
    "        System.out.println(i);\n",
    "        System.out.println(x);\n",
    "        System.out.println(test);\n",
    "    }\n",
    "}\n",
    "Test.main(null);"
   ]
  },
  {
   "cell_type": "markdown",
   "metadata": {},
   "source": [
    "## Printing an ArrayList\n",
    "- You can't print an **array** without a loop\n",
    "- You can print **ArrayLists** with just one `System.out.println()`"
   ]
  },
  {
   "cell_type": "code",
   "execution_count": 5,
   "metadata": {
    "vscode": {
     "languageId": "java"
    }
   },
   "outputs": [
    {
     "name": "stdout",
     "output_type": "stream",
     "text": [
      "[You agree, I agree]\n",
      "\n",
      "[They agree, I agree]\n"
     ]
    }
   ],
   "source": [
    "import java.util.ArrayList;\n",
    "\n",
    "public class Main {\n",
    "    public static void main(String[] args)\n",
    "    {\n",
    "        ArrayList<String> arr = new ArrayList<String>(); //initializes the arraylist object\n",
    "\n",
    "        arr.add(\"I agree\");\n",
    "        arr.add(0, \"You agree\");\n",
    "        System.out.println(arr);\n",
    "\n",
    "        arr.set(0, \"They agree\");\n",
    "\n",
    "        arr.add(\"I disagree\");\n",
    "        arr.remove(2);\n",
    "        \n",
    "        System.out.println();\n",
    "        System.out.println(arr);\n",
    "    }\n",
    "}\n",
    "Main.main(null);"
   ]
  },
  {
   "cell_type": "markdown",
   "metadata": {},
   "source": [
    "## 7.2 Popcorn Hack\n",
    "\n",
    "Finish the code below so that all duplicates in the ArrayList are removed."
   ]
  },
  {
   "cell_type": "code",
   "execution_count": 7,
   "metadata": {
    "vscode": {
     "languageId": "java"
    }
   },
   "outputs": [
    {
     "ename": "CompilationException",
     "evalue": "",
     "output_type": "error",
     "traceback": [
      "\u001b[1m\u001b[30m|   \u001b[1m\u001b[30mimport \u001b[0m\u001b[1m\u001b[30m\u001b[41mjava.util.Arraylist\u001b[0m\u001b[1m\u001b[30m;\u001b[0m",
      "\u001b[1m\u001b[31mcannot find symbol\u001b[0m",
      "\u001b[1m\u001b[31m  symbol:   class Arraylist\u001b[0m",
      ""
     ]
    }
   ],
   "source": [
    "import java.util.Arraylist;\n",
    "\n",
    "public class RemoveDuplicates {\n",
    "    public static void main(String[] args) {\n",
    "        ArrayList<Integer> arr = new ArrayList<>(); // creating new arraylist of integers\n",
    "        // adding integers to the arraylist\n",
    "        arr.add(1);\n",
    "        arr.add(7);\n",
    "        arr.add(9);\n",
    "        arr.add(13);\n",
    "        arr.add(3);\n",
    "        arr.add(7);\n",
    "        arr.add(9);\n",
    "        arr.add(2);\n",
    "    \n",
    "        // add your code here\n",
    "        arr.set(0, \"even:\");\n",
    "        arr.remove(2,3);\n",
    "        System.out.println();\n",
    "        System.out.println(arr);\n",
    "    }\n",
    "}\n",
    "RemoveDuplicates.main(null);"
   ]
  },
  {
   "cell_type": "markdown",
   "metadata": {},
   "source": [
    "## Array to ArrayList\n",
    "- You can use the Arrays.asList() method to convert an existing **array** to an **ArrayList**"
   ]
  },
  {
   "cell_type": "code",
   "execution_count": 2,
   "metadata": {
    "vscode": {
     "languageId": "java"
    }
   },
   "outputs": [
    {
     "name": "stdout",
     "output_type": "stream",
     "text": [
      "[Kim, Tay, Tran, Ethan, Sheng, Raymond]\n"
     ]
    }
   ],
   "source": [
    "public class ArrayListFromArray\n",
    "{\n",
    "    public static void main(String[] args)\n",
    "    {\n",
    "       String[] names = {\"Kim\", \"Tay\", \"Tran\", \"Ethan\", \"Sheng\", \"Raymond\"};\n",
    "       ArrayList<String> namesList = new ArrayList<String>(Arrays.asList(names));\n",
    "       System.out.println(namesList);\n",
    "    }\n",
    "}\n",
    "ArrayListFromArray.main(null);"
   ]
  },
  {
   "cell_type": "markdown",
   "metadata": {},
   "source": [
    "## 7.3 Traversing ArrayLists\n",
    "- You can traverse an ArrayList the same way as an array, with some exceptions:\n",
    "\n",
    "- Deleting elements in the ArrayList while iterating over the ArrayList needs to be carefully done\n",
    "- Using an enhanced for loop can result in the ConcurrentModificationException error\n",
    "    - Do not delete elements in an ArrayList while using an enhanced for loop"
   ]
  },
  {
   "cell_type": "code",
   "execution_count": 16,
   "metadata": {
    "vscode": {
     "languageId": "java"
    }
   },
   "outputs": [
    {
     "name": "stdout",
     "output_type": "stream",
     "text": [
      "1 7 9 13 3 7 9 2 \n",
      "1 7 9 13 3 7 9 2 "
     ]
    }
   ],
   "source": [
    "public static void main(String[] args)\n",
    "{\n",
    "    ArrayList<Integer> arr = new ArrayList<>();        \n",
    "    arr.add(1);\n",
    "    arr.add(7);\n",
    "    arr.add(9);\n",
    "    arr.add(13);\n",
    "    arr.add(3);\n",
    "    arr.add(7);\n",
    "    arr.add(9);\n",
    "    arr.add(2);\n",
    "\n",
    "    for (int i = 0; i < arr.size(); i++) //for loop, would work the same as with an array\n",
    "    {\n",
    "        System.out.print(arr.get(i) + \" \");\n",
    "    }\n",
    "    System.out.println();\n",
    "\n",
    "    for (Integer i : arr) //enhanced for loop without removing, same as an array\n",
    "    {\n",
    "        System.out.print(i + \" \");\n",
    "    }\n",
    "\n",
    "}\n",
    "main(null);"
   ]
  },
  {
   "cell_type": "code",
   "execution_count": 3,
   "metadata": {
    "vscode": {
     "languageId": "java"
    }
   },
   "outputs": [
    {
     "ename": "EvalException",
     "evalue": "null",
     "output_type": "error",
     "traceback": [
      "\u001b[1m\u001b[31m---------------------------------------------------------------------------\u001b[0m",
      "\u001b[1m\u001b[31mjava.util.ConcurrentModificationException: null\u001b[0m",
      "\u001b[1m\u001b[31m\tat java.base/java.util.ArrayList$Itr.checkForComodification(ArrayList.java:1013)\u001b[0m",
      "\u001b[1m\u001b[31m\tat java.base/java.util.ArrayList$Itr.next(ArrayList.java:967)\u001b[0m",
      "\u001b[1m\u001b[31m\tat .main(#12:13)\u001b[0m",
      "\u001b[1m\u001b[31m\tat .(#15:1)\u001b[0m"
     ]
    }
   ],
   "source": [
    "public static void main(String[] args)\n",
    "{\n",
    "    ArrayList<Integer> arr = new ArrayList<>();        \n",
    "    arr.add(1);\n",
    "    arr.add(7);\n",
    "    arr.add(9);\n",
    "    arr.add(13);\n",
    "    arr.add(3);\n",
    "    arr.add(7);\n",
    "    arr.add(9);\n",
    "    arr.add(2);\n",
    "\n",
    "    for (Integer i : arr) //throws a ConcurrentModificationException\n",
    "    {\n",
    "        if (i % 2 == 0)\n",
    "        {\n",
    "            arr.remove(i);\n",
    "        }\n",
    "    }\n",
    "}\n",
    "main(null);"
   ]
  },
  {
   "cell_type": "markdown",
   "metadata": {},
   "source": [
    "## Popcorn Hack\n",
    "Traverse the following ArrayList using a loop. Remove each element that is a multiple of 4."
   ]
  },
  {
   "cell_type": "code",
   "execution_count": 5,
   "metadata": {
    "vscode": {
     "languageId": "java"
    }
   },
   "outputs": [],
   "source": [
    "public static void main(String[] args)\n",
    "{\n",
    "    //array list\n",
    "    ArrayList<Integer> arr = new ArrayList<>();        \n",
    "    arr.add(1);\n",
    "    arr.add(7);\n",
    "    arr.add(9);\n",
    "    arr.add(80);\n",
    "    arr.add(13);\n",
    "    arr.add(3);\n",
    "    arr.add(7);\n",
    "    arr.add(8);\n",
    "    arr.add(2);\n",
    "    arr.add(16);\n",
    "    //add code here >> removing the elements that are the multiples of 4\n",
    "\n",
    "\n",
    "    //printing out the array list\n",
    "    System.out.println();\n",
    "    System.out.println(arr);\n",
    "}\n",
    "//main to null\n",
    "main(null);"
   ]
  },
  {
   "cell_type": "markdown",
   "metadata": {},
   "source": [
    "## 7.4 Developing Algorithms Using ArrayLists\n",
    "- For the most part, algorithms in ArrayLists and arrays are very similar."
   ]
  },
  {
   "cell_type": "markdown",
   "metadata": {},
   "source": [
    "## Popcorn Hacks\n",
    "Find the maximum, minimum, and sum of an ArrayList."
   ]
  },
  {
   "cell_type": "code",
   "execution_count": 14,
   "metadata": {
    "vscode": {
     "languageId": "java"
    }
   },
   "outputs": [
    {
     "ename": "IncompleteSourceException",
     "evalue": "public class SelectionSort {\n    public static void main(String[] args) {\n    ArrayList<Integer> arr = new ArrayList<>();        \n    arr.add(1);\n    arr.add(7);\n    arr.add(9);\n    arr.add(80);\n    arr.add(13);\n    arr.add(3);\n    arr.add(7);\n    arr.add(8);\n    arr.add(2);\n    arr.add(16);\n    selectionSort(arrayList);\n    System.out.println(\"Sorted ArrayList: \" + arrayList);\n}\n\n    //printing out the array list\nmain(null);",
     "output_type": "error",
     "traceback": [
      "\u001b[1m\u001b[31mIncomplete input:\u001b[0m",
      "\u001b[1m\u001b[30m|   \u001b[1m\u001b[30mpublic class SelectionSort {\u001b[0m",
      "\u001b[1m\u001b[30m|   \u001b[1m\u001b[30m    public static void main(String[] args) {\u001b[0m",
      "\u001b[1m\u001b[30m|   \u001b[1m\u001b[30m    ArrayList<Integer> arr = new ArrayList<>();        \u001b[0m",
      "\u001b[1m\u001b[30m|   \u001b[1m\u001b[30m    arr.add(1);\u001b[0m",
      "\u001b[1m\u001b[30m|   \u001b[1m\u001b[30m    arr.add(7);\u001b[0m",
      "\u001b[1m\u001b[30m|   \u001b[1m\u001b[30m    arr.add(9);\u001b[0m",
      "\u001b[1m\u001b[30m|   \u001b[1m\u001b[30m    arr.add(80);\u001b[0m",
      "\u001b[1m\u001b[30m|   \u001b[1m\u001b[30m    arr.add(13);\u001b[0m",
      "\u001b[1m\u001b[30m|   \u001b[1m\u001b[30m    arr.add(3);\u001b[0m",
      "\u001b[1m\u001b[30m|   \u001b[1m\u001b[30m    arr.add(7);\u001b[0m",
      "\u001b[1m\u001b[30m|   \u001b[1m\u001b[30m    arr.add(8);\u001b[0m",
      "\u001b[1m\u001b[30m|   \u001b[1m\u001b[30m    arr.add(2);\u001b[0m",
      "\u001b[1m\u001b[30m|   \u001b[1m\u001b[30m    arr.add(16);\u001b[0m",
      "\u001b[1m\u001b[30m|   \u001b[1m\u001b[30m    selectionSort(arrayList);\u001b[0m",
      "\u001b[1m\u001b[30m|   \u001b[1m\u001b[30m    System.out.println(\"Sorted ArrayList: \" + arrayList);\u001b[0m",
      "\u001b[1m\u001b[30m|   \u001b[1m\u001b[30m}\u001b[0m",
      "\u001b[1m\u001b[30m|   \u001b[1m\u001b[30m\u001b[0m",
      "\u001b[1m\u001b[30m|   \u001b[1m\u001b[30m    //printing out the array list\u001b[0m",
      "\u001b[1m\u001b[30m|   \u001b[1m\u001b[30mmain(null);\u001b[0m"
     ]
    }
   ],
   "source": [
    "public class SelectionSort {\n",
    "    public static void main(String[] args) {\n",
    "    ArrayList<Integer> arr = new ArrayList<>();        \n",
    "    arr.add(1);\n",
    "    arr.add(7);\n",
    "    arr.add(9);\n",
    "    arr.add(80);\n",
    "    arr.add(13);\n",
    "    arr.add(3);\n",
    "    arr.add(7);\n",
    "    arr.add(8);\n",
    "    arr.add(2);\n",
    "    arr.add(16);\n",
    "    selectionSort(arrayList);\n",
    "    System.out.println(\"Sorted ArrayList: \" + arrayList);\n",
    "}\n",
    "\n",
    "    //printing out the array list\n",
    "main(null);"
   ]
  },
  {
   "cell_type": "markdown",
   "metadata": {},
   "source": [
    "## 7.5 Searching\n",
    "\n",
    "- Searching in an ArrayList allows you to find an element, if it exists, an index is returned\n",
    "- All that is needed to search any linear structure is a standard for loop and if block\n",
    "- Typically, if the element is not found then -1 is returned, however a boolean value can also be used\n",
    "\n",
    "#### Example of Linear Search"
   ]
  },
  {
   "cell_type": "code",
   "execution_count": null,
   "metadata": {
    "vscode": {
     "languageId": "java"
    }
   },
   "outputs": [],
   "source": [
    "import java.util.ArrayList;\n",
    "\n",
    "public class LinearSearch {\n",
    "    public static int linearSearch(ArrayList<Integer> list, int target) {\n",
    "        for (int i = 0; i < list.size(); i++) {\n",
    "            if (list.get(i) == target) {\n",
    "                return i; // return index of target element if found\n",
    "            }\n",
    "        }\n",
    "        return -1; // return -1 if the target element is not in the array\n",
    "    }\n",
    "\n",
    "    public static void main(String[] args) {\n",
    "        ArrayList<Integer> numbers = new ArrayList<>();\n",
    "        numbers.add(5);\n",
    "        numbers.add(10);\n",
    "        numbers.add(15);\n",
    "        numbers.add(20);\n",
    "        numbers.add(25);\n",
    "\n",
    "        int target = 15; // target of search\n",
    "        int result = linearSearch(numbers, target);\n",
    "\n",
    "        if (result != -1) {\n",
    "            System.out.println(target + \" found at index \" + result);\n",
    "        } else {\n",
    "            System.out.println(target + \" not found in the ArrayList.\");\n",
    "        }\n",
    "    }\n",
    "}\n",
    "\n",
    "LinearSearch.main(null);"
   ]
  },
  {
   "cell_type": "markdown",
   "metadata": {},
   "source": [
    "- The linear search algorithm searches for a specific target value (15 in this example) within the ArrayList by iterating through its elements one by one\n",
    "- It checks if the element at the current index (list.get(i)) is equal to the target value\n",
    "- If a match is found, the index is returned; else, it continues the loop until the end of the ArrayList is reached"
   ]
  },
  {
   "cell_type": "markdown",
   "metadata": {},
   "source": [
    "## Popcorn Hack\n",
    "\n",
    "- Finish the code below, write code that checks if favoriteFlavor is in chipsBag\n",
    "- Using a loop, print a message saying if favoriteFlavor is in the bag"
   ]
  },
  {
   "cell_type": "code",
   "execution_count": 20,
   "metadata": {
    "vscode": {
     "languageId": "java"
    }
   },
   "outputs": [
    {
     "name": "stdout",
     "output_type": "stream",
     "text": [
      "Enter your favorite chip flavor: "
     ]
    },
    {
     "name": "stdout",
     "output_type": "stream",
     "text": [
      "BBQ is my fave!\n"
     ]
    }
   ],
   "source": [
    "import java.util.ArrayList;\n",
    "import java.util.Scanner;\n",
    "\n",
    "public class FavoriteChip {\n",
    "    public static void main(String[] args) {\n",
    "        ArrayList<String> chipsBag = new ArrayList<>();\n",
    "        Scanner scanner = new Scanner(System.in);\n",
    "        //different flavors\n",
    "        chipsBag.add(\"BBQ\");\n",
    "        chipsBag.add(\"Cheddar\");\n",
    "        chipsBag.add(\"Salt and Pepper\");\n",
    "        //entering the chip flavors\n",
    "        System.out.print(\"Enter your favorite chip flavor: \");\n",
    "        String favoriteFlavor = scanner.nextLine();\n",
    "\n",
    "        boolean found = false; // track if the favoriteFlavor is found\n",
    "\n",
    "        // loop through the chipsBag and check if favoriteFlavor \n",
    "        for (String chip : chipsBag) {\n",
    "            if (chip.equalsIgnoreCase(favoriteFlavor)) {\n",
    "                found = true;\n",
    "                break; // exit if the flavor is found\n",
    "            }\n",
    "        }\n",
    "        //printing out the answer\n",
    "        if (found) {\n",
    "            System.out.println(favoriteFlavor + \" is my fave!\");\n",
    "        } else {\n",
    "            System.out.println(favoriteFlavor + \" is not my fave.\");\n",
    "        }\n",
    "    }\n",
    "}\n",
    "FavoriteChip.main(null)"
   ]
  },
  {
   "cell_type": "markdown",
   "metadata": {},
   "source": [
    "## 7.6 Sorting\n",
    "- There are 2 main sorting algorithms that Collegeboard focuses on, **selection sort** and **insertion sort**\n",
    "\n",
    "### Selection sort\n",
    "- Selection sort divides the ArrayList into two \"subarrays,\" the first is sorted and the second is unsorted.\n",
    "- Selection sort is easy to implement and is useful for sorting through small datasets.\n",
    "\n",
    "#### Example of Selection sort"
   ]
  },
  {
   "cell_type": "code",
   "execution_count": 18,
   "metadata": {
    "vscode": {
     "languageId": "java"
    }
   },
   "outputs": [
    {
     "name": "stdout",
     "output_type": "stream",
     "text": [
      "Sorted ArrayList: [11, 12, 22, 25, 64]\n"
     ]
    }
   ],
   "source": [
    "import java.util.ArrayList;\n",
    "\n",
    "public class SelectionSort {\n",
    "    public static void main(String[] args) {\n",
    "        ArrayList<Integer> arrayList = new ArrayList<>();\n",
    "        arrayList.add(64);\n",
    "        arrayList.add(25);\n",
    "        arrayList.add(12);\n",
    "        arrayList.add(22);\n",
    "        arrayList.add(11);\n",
    "\n",
    "        selectionSort(arrayList);\n",
    "\n",
    "        System.out.println(\"Sorted ArrayList: \" + arrayList);\n",
    "    }\n",
    "\n",
    "    public static void selectionSort(ArrayList<Integer> arr) {\n",
    "        int n = arr.size();\n",
    "\n",
    "        for (int i = 0; i < n - 1; i++) {\n",
    "            int minIndex = i;\n",
    "\n",
    "            for (int j = i + 1; j < n; j++) {\n",
    "                if (arr.get(j) < arr.get(minIndex)) {\n",
    "                    minIndex = j;\n",
    "                }\n",
    "            }\n",
    "\n",
    "            // Swap the found minimum element with the element at index i\n",
    "            int temp = arr.get(i);\n",
    "            arr.set(i, arr.get(minIndex));\n",
    "            arr.set(minIndex, temp);\n",
    "        }\n",
    "    }\n",
    "}\n",
    "SelectionSort.main(null);"
   ]
  },
  {
   "cell_type": "markdown",
   "metadata": {},
   "source": [
    "- Start with an ArrayList, [64, 25, 12, 22, 11]\n",
    "\n",
    "- We want to arrange these numbers in order from smallest to largest, like [11, 12, 22, 25, 64]\n",
    "\n",
    "- selectionSort starts at the beginning of the list and looks for the smallest number in the whole list. In this case, it's 11\n",
    "\n",
    "- It swaps 11 with the first number in the list (which is 64) so that 11 comes first\n",
    "\n",
    "- Now, the list looks like [11, 25, 12, 22, 64]\n",
    "\n",
    "- The function repeats this process for the remaining numbers, finding the next smallest (which is 12) and putting it in the second position\n",
    "\n",
    "- This continues until all numbers are in order\n",
    "\n",
    "- The final sorted list is [11, 12, 22, 25, 64]"
   ]
  },
  {
   "cell_type": "markdown",
   "metadata": {},
   "source": [
    "### Insertion Sort\n",
    "- In insertion sort, we assume that the first element is already sorted\n",
    "- The second element is then taken and is either inserted before the first element or kept in place to make the first 2 elements sorted\n",
    "- Insertion sort is adaptive as it does not need to perform as many comparisons and swaps as selection sort. If you expect the data to be partially ordered, insertion sort is the better option.\n",
    "\n",
    "#### Example of Insertion Sort"
   ]
  },
  {
   "cell_type": "code",
   "execution_count": 17,
   "metadata": {
    "vscode": {
     "languageId": "java"
    }
   },
   "outputs": [
    {
     "name": "stdout",
     "output_type": "stream",
     "text": [
      "Original ArrayList: [12, 11, 13, 5, 6]\n",
      "Sorted ArrayList: [5, 6, 11, 12, 13]\n"
     ]
    }
   ],
   "source": [
    "import java.util.ArrayList;\n",
    "\n",
    "public class InsertionSort {\n",
    "    public static void insertionSort(ArrayList<Integer> arr) {\n",
    "        int n = arr.size();\n",
    "        for (int i = 1; i < n; i++) {\n",
    "            int key = arr.get(i);\n",
    "            int j = i - 1;\n",
    "\n",
    "            // Move elements of arr[0..i-1] that are greater than key\n",
    "            // to one position ahead of their current position\n",
    "            while (j >= 0 && arr.get(j) > key) {\n",
    "                arr.set(j + 1, arr.get(j));\n",
    "                j = j - 1;\n",
    "            }\n",
    "            arr.set(j + 1, key);\n",
    "        }\n",
    "    }\n",
    "\n",
    "    public static void main(String[] args) {\n",
    "        ArrayList<Integer> arrayList = new ArrayList<>();\n",
    "        arrayList.add(12);\n",
    "        arrayList.add(11);\n",
    "        arrayList.add(13);\n",
    "        arrayList.add(5);\n",
    "        arrayList.add(6);\n",
    "\n",
    "        System.out.println(\"Original ArrayList: \" + arrayList);\n",
    "\n",
    "        insertionSort(arrayList);\n",
    "\n",
    "        System.out.println(\"Sorted ArrayList: \" + arrayList);\n",
    "    }\n",
    "}\n",
    "InsertionSort.main(null);"
   ]
  },
  {
   "cell_type": "markdown",
   "metadata": {},
   "source": [
    "- Start with an ArrayList of numbers, [12, 11, 13, 5, 6]\n",
    "\n",
    "- We want to arrange these numbers in order from smallest to largest, like [5, 6, 11, 12, 13]\n",
    "\n",
    "- insertionSort starts with the second element (11)\n",
    "\n",
    "- It compares 11 to the elements on its left. It finds that 11 is smaller than 12, so it shifts 12 one position to the right to make space for 11\n",
    "\n",
    "- The ArrayList now looks like [11, 12, 13, 5, 6]\n",
    "\n",
    "- The function repeats this process for each element in the list. It moves 13 to the right place and then 5 and 6\n",
    "\n",
    "- After sorting all the elements, the ArrayList is now sorted in ascending order: [5, 6, 11, 12, 13]"
   ]
  },
  {
   "cell_type": "markdown",
   "metadata": {},
   "source": [
    "## 7.6 Popcorn Hack\n",
    "\n",
    "Given an ArrayList of String objects, sort the following ArrayLists on ascending order of word length."
   ]
  },
  {
   "cell_type": "markdown",
   "metadata": {},
   "source": [
    "## 1)"
   ]
  },
  {
   "cell_type": "code",
   "execution_count": 16,
   "metadata": {
    "vscode": {
     "languageId": "java"
    }
   },
   "outputs": [
    {
     "name": "stdout",
     "output_type": "stream",
     "text": [
      "feast\n",
      "theater\n",
      "meeting\n",
      "seasonal\n",
      "connection\n"
     ]
    }
   ],
   "source": [
    "import java.util.ArrayList;\n",
    "import java.util.Collections;\n",
    "import java.util.Comparator;\n",
    "\n",
    "public class SortByLength {\n",
    "    public static void main(String[] args) {\n",
    "        ArrayList<String> words = new ArrayList<>(); // creating a new ArrayList\n",
    "\n",
    "        // adding words to the list\n",
    "        words.add(\"theater\");\n",
    "        words.add(\"connection\");\n",
    "        words.add(\"seasonal\");\n",
    "        words.add(\"feast\");\n",
    "        words.add(\"meeting\");\n",
    "\n",
    "        // make comparator based on the data\n",
    "        Comparator<String> lengthComparator = new Comparator<String>() {\n",
    "            @Override\n",
    "            public int compare(String str1, String str2) {\n",
    "                return Integer.compare(str1.length(), str2.length());\n",
    "            }\n",
    "        };\n",
    "\n",
    "        // sort using comparator\n",
    "        Collections.sort(words, lengthComparator);\n",
    "\n",
    "        // printing the words\n",
    "        for (String word : words) {\n",
    "            System.out.println(word);\n",
    "        }\n",
    "    }\n",
    "}\n",
    "SortByLength.main(null)"
   ]
  },
  {
   "cell_type": "markdown",
   "metadata": {},
   "source": [
    "## 2)"
   ]
  },
  {
   "cell_type": "code",
   "execution_count": 12,
   "metadata": {
    "vscode": {
     "languageId": "java"
    }
   },
   "outputs": [],
   "source": [
    "import java.util.ArrayList;\n",
    "import java.util.Collections;\n",
    "import java.util.Comparator;\n",
    "\n",
    "class Student {\n",
    "    String name;\n",
    "    double gpa;\n",
    "\n",
    "    public Student(String name, double gpa) {\n",
    "        this.name = name;\n",
    "        this.gpa = gpa;\n",
    "    }\n",
    "}\n",
    "\n",
    "public class SortByGPA {\n",
    "    public static void main (String[] args) {\n",
    "        ArrayList<Student> students = new ArrayList<>(); // creating new arraylist to store student objects\n",
    "\n",
    "        // add student objects to ArrayList\n",
    "\n",
    "        // write code for sorting here\n",
    "    }\n",
    "}\n",
    "SortByGPA.main(null);"
   ]
  },
  {
   "cell_type": "markdown",
   "metadata": {},
   "source": [
    "## 7.7 Ethical Issues Around Data Collection\n",
    "\n",
    "When collecting data in a Java program, data security is **VERY IMPORTANT**. This involves any program that deals with\n",
    "\n",
    "- Necessary personal information\n",
    "- Information that is associated with results\n",
    "\n",
    "### Removing Data\n",
    "- When collected data is no longer needed, be sure to remove the information from your application\n",
    "- Removal of unnecessary data reduces risk of data breaches and protects sensitive information from unauthorized access\n",
    "\n",
    "### Anonymizing Data\n",
    "\n",
    "- When collecting user information, avoid asking for private information to identify users ie. phone numbers, social security numbers, etc.\n",
    "\n",
    "> Collegeboard Example"
   ]
  },
  {
   "cell_type": "code",
   "execution_count": 15,
   "metadata": {
    "vscode": {
     "languageId": "java"
    }
   },
   "outputs": [],
   "source": [
    "Scanner inputScanner = new Scanner(System.in);\n",
    "String fullName = inputScanner.nextLine();\n",
    "\n",
    "// implementation of code\n",
    "\n",
    "int identifier = fullName.hashCode();\n",
    "fullName = null;\n",
    "\n",
    "// further implementation"
   ]
  },
  {
   "cell_type": "markdown",
   "metadata": {},
   "source": [
    "In this example... \n",
    "- The user would type their full name in which it is used in the program\n",
    "- After, the identifier equates to the hash value of the original string and the fullName is set to null\n",
    "- Using the hash value instead of the actual name adds a degree of anonymity for the user\n",
    "- Turning the fullName to null also indicates that the code no longer needs to store the name of the user\n",
    "\n",
    "This minimizes the possible impact of the data by reducing the likelihood of unintentional exposure of the user's name within the program."
   ]
  },
  {
   "cell_type": "markdown",
   "metadata": {},
   "source": [
    "## Hacks for Unit 7\n",
    "- Complete all questions and popcorn hacks"
   ]
  },
  {
   "cell_type": "markdown",
   "metadata": {},
   "source": [
    "- Write a Java program that creates an ArrayList of integers. Create methods for adding, removing, setting, getting, etc numbers and also sort the list. Then, utilize user input to determine which methods will actually be run and enable the user to also determine the specific index that a number will be added, removed."
   ]
  },
  {
   "cell_type": "markdown",
   "metadata": {},
   "source": [
    "### Challenge\n",
    "You are given an ArrayList of `Student` objects. Each `Student` has a name (String) and a GPA (double). Create a program that sorts the `Student` objects in descending order of GPA."
   ]
  }
 ],
 "metadata": {
  "kernelspec": {
   "display_name": "Java",
   "language": "java",
   "name": "java"
  },
  "language_info": {
   "codemirror_mode": "java",
   "file_extension": ".jshell",
   "mimetype": "text/x-java-source",
   "name": "Java",
   "pygments_lexer": "java",
   "version": "20.0.1"
  }
 },
 "nbformat": 4,
 "nbformat_minor": 2
}
