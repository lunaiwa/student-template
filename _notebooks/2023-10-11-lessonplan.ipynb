{
 "cells": [
  {
   "cell_type": "markdown",
   "metadata": {},
   "source": [
    "---\n",
    "layout: post\n",
    "title: U4 | 4.4 Nested Iteration\n",
    "description: Lesson plan based on nested iteration\n",
    "comments: true\n",
    "courses: { csa: {week: 8} }\n",
    "type: hacks\n",
    "authors: Luna Iwazaki\n",
    "---"
   ]
  },
  {
   "cell_type": "markdown",
   "metadata": {},
   "source": [
    "# 4.4 Nested Iteration\n",
    "\n",
    "A **nested iteration** occurs when we have a loop inside of another loop, similar to nested conditional statements in unit 3\n",
    "\n",
    "When you have one loop inside another, the inner loop has to finish all its rounds before the outer loop moves to the next round. If the inner loop has a \"stop\" command, it only stops for that round of the outer loop. The next time the outer loop starts a new round, the inner loop starts over.\n",
    "\n",
    "If you have two nested loops without stops, and the outer one runs n times while the inner one runs m times each time the outer one goes around, the inner loop will run m times n times, which is m * n times in total. This rule also applies if you have more than two nested loops. To find the total number of times the innermost loop runs, just multiply how many times each loop runs per round."
   ]
  },
  {
   "cell_type": "code",
   "execution_count": 2,
   "metadata": {
    "vscode": {
     "languageId": "java"
    }
   },
   "outputs": [
    {
     "name": "stdout",
     "output_type": "stream",
     "text": [
      "Outer loop iteration: 1\n",
      "Inner loop iteration: 1\n",
      "Inner loop iteration: 2\n",
      "Outer loop iteration: 2\n",
      "Inner loop iteration: 1\n",
      "Inner loop iteration: 2\n",
      "Outer loop iteration: 3\n",
      "Inner loop iteration: 1\n",
      "Inner loop iteration: 2\n"
     ]
    }
   ],
   "source": [
    "public class NestedLoopsDemo {\n",
    "    public static void main(String[] args) {\n",
    "        int n = 3; //numb of times the outside loop runs\n",
    "        int m = 2; //numb of times the inside loop runs\n",
    "\n",
    "        //the nested loops\n",
    "        for (int i = 1; i <= n; i++) {\n",
    "            System.out.println(\"Outer loop iteration: \" + i);\n",
    "            for (int j = 1; j <= m; j++) {\n",
    "                System.out.println(\"Inner loop iteration: \" + j);\n",
    "            }\n",
    "        }\n",
    "    }\n",
    "}\n",
    "NestedLoopsDemo.main(null)"
   ]
  },
  {
   "cell_type": "markdown",
   "metadata": {},
   "source": [
    "### Break Statement\n",
    "\n",
    "The **break statement** is used to exit a loop prematurely, typically when a certain condition is met. In the case of nested loops, it can be used to break out of the innermost loop. "
   ]
  },
  {
   "cell_type": "code",
   "execution_count": 8,
   "metadata": {
    "vscode": {
     "languageId": "java"
    }
   },
   "outputs": [
    {
     "name": "stdout",
     "output_type": "stream",
     "text": [
      "Outer loop iteration 1\n",
      "Inner loop iteration 1\n",
      "Inner loop iteration 2\n",
      "Inner loop iteration 3\n",
      "Outer loop iteration 2\n",
      "Inner loop iteration 1\n",
      "Inner loop iteration 2\n",
      "Breaking inner loop\n",
      "Outer loop iteration 3\n",
      "Inner loop iteration 1\n",
      "Inner loop iteration 2\n",
      "Inner loop iteration 3\n"
     ]
    }
   ],
   "source": [
    "public class BreakExample {\n",
    "    public static void main(String[] args) {\n",
    "        for (int i = 1; i <= 3; i++) {\n",
    "            System.out.println(\"Outer loop iteration \" + i);\n",
    "            \n",
    "            for (int j = 1; j <= 3; j++) {\n",
    "                System.out.println(\"Inner loop iteration \" + j);\n",
    "                \n",
    "                if (i == 2 && j == 2) {\n",
    "                    System.out.println(\"Breaking inner loop\");\n",
    "                    break; //break out of the inside loop when i is 2 and j is 2.\n",
    "                }\n",
    "            }\n",
    "        }\n",
    "    }\n",
    "}\n",
    "BreakExample.main(null)"
   ]
  },
  {
   "cell_type": "markdown",
   "metadata": {},
   "source": [
    "### Popcorn HACK\n",
    "\n",
    "When the targetNumber is found, you can print a message and use the break statement to exit the loop. When it's not found, you can print a message indicating that the number was not found."
   ]
  },
  {
   "cell_type": "code",
   "execution_count": null,
   "metadata": {
    "vscode": {
     "languageId": "java"
    }
   },
   "outputs": [],
   "source": [
    "public class BreakHack {\n",
    "    public static void main(String[] args) {\n",
    "        int targetNumber = 42; //numb we want\n",
    "        int[] numbers = {10, 20, 30, 40, 50, 60, 70}; //numb array\n",
    "\n",
    "        for (int number : numbers) {\n",
    "            if (number == targetNumber) {\n",
    "                //if numb is found\n",
    "                //print message to break out loop\n",
    "            }\n",
    "        }\n",
    "        //if numb isnt found\n",
    "        //print message showing numb wasnt found if you want\n",
    "    }\n",
    "}\n",
    "BreakHack.main(null)"
   ]
  },
  {
   "cell_type": "markdown",
   "metadata": {},
   "source": [
    "### Continue Statement\n",
    "\n",
    "The **continue statement** is used to skip the current iteration of a loop and move to the next iteration. In the case of nested loops, it applies to the innermost loop."
   ]
  },
  {
   "cell_type": "code",
   "execution_count": 9,
   "metadata": {
    "vscode": {
     "languageId": "java"
    }
   },
   "outputs": [
    {
     "name": "stdout",
     "output_type": "stream",
     "text": [
      "Outer loop iteration 1\n",
      "Inner loop iteration 1\n",
      "Inner loop iteration 2\n",
      "Inner loop iteration 3\n",
      "Outer loop iteration 2\n",
      "Inner loop iteration 1\n",
      "Skipping inner loop iteration 2\n",
      "Inner loop iteration 3\n",
      "Outer loop iteration 3\n",
      "Inner loop iteration 1\n",
      "Inner loop iteration 2\n",
      "Inner loop iteration 3\n"
     ]
    }
   ],
   "source": [
    "public class ContinueExample {\n",
    "    public static void main(String[] args) {\n",
    "        for (int i = 1; i <= 3; i++) {\n",
    "            System.out.println(\"Outer loop iteration \" + i);\n",
    "            \n",
    "            for (int j = 1; j <= 3; j++) {\n",
    "                if (i == 2 && j == 2) {\n",
    "                    System.out.println(\"Skipping inner loop iteration \" + j);\n",
    "                    continue; //skip the iteration when i is 2 and j is 2.\n",
    "                }\n",
    "                System.out.println(\"Inner loop iteration \" + j);\n",
    "            }\n",
    "        }\n",
    "    }\n",
    "}\n",
    "ContinueExample.main(null)"
   ]
  },
  {
   "cell_type": "markdown",
   "metadata": {},
   "source": [
    "### Patterns and Shapes"
   ]
  },
  {
   "cell_type": "code",
   "execution_count": 5,
   "metadata": {
    "vscode": {
     "languageId": "java"
    }
   },
   "outputs": [
    {
     "name": "stdout",
     "output_type": "stream",
     "text": [
      "Enter the symbol you want to use: Enter the number of rows for the pyramid:         o\n",
      "       ooo\n",
      "      ooooo\n",
      "     ooooooo\n",
      "    ooooooooo\n",
      "   ooooooooooo\n",
      "  ooooooooooooo\n",
      " ooooooooooooooo\n",
      "ooooooooooooooooo\n"
     ]
    }
   ],
   "source": [
    "import java.util.Scanner;\n",
    "\n",
    "public class InteractivePyramid {\n",
    "    public static void main(String[] args) {\n",
    "        Scanner scanner = new Scanner(System.in);\n",
    "\n",
    "        System.out.print(\"Enter the symbol you want to use: \");\n",
    "        char symbol = scanner.next().charAt(0);\n",
    "\n",
    "        System.out.print(\"Enter the number of rows for the pyramid: \");\n",
    "        int numRows = scanner.nextInt();\n",
    "\n",
    "        for (int i = 1; i <= numRows; i++) {\n",
    "            //print space before the symbol\n",
    "            for (int j = 1; j <= numRows - i; j++) {\n",
    "                System.out.print(\" \");\n",
    "            }\n",
    "\n",
    "            //print\n",
    "            for (int k = 1; k <= 2 * i - 1; k++) {\n",
    "                System.out.print(symbol);\n",
    "            }\n",
    "\n",
    "            System.out.println(); //next line\n",
    "        }\n",
    "        scanner.close();\n",
    "    }\n",
    "}\n",
    "InteractivePyramid.main(null)"
   ]
  },
  {
   "cell_type": "markdown",
   "metadata": {},
   "source": [
    "## Hacks\n",
    "\n",
    "1. **Modify pyramid code:**\n",
    "\n",
    "- Create different patterns (other then pyramid) by modifying nested loop structure\n",
    "\n",
    "2. **Questions**\n",
    "\n",
    "- What is a nested iteration, continue statement, and break statement (in your own words)?\n",
    "- Create a simple example of a continue statement **or** break statement"
   ]
  }
 ],
 "metadata": {
  "kernelspec": {
   "display_name": "Java",
   "language": "java",
   "name": "java"
  },
  "language_info": {
   "codemirror_mode": "java",
   "file_extension": ".jshell",
   "mimetype": "text/x-java-source",
   "name": "Java",
   "pygments_lexer": "java",
   "version": "20.0.1"
  }
 },
 "nbformat": 4,
 "nbformat_minor": 2
}
