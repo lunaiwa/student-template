{
 "cells": [
  {
   "cell_type": "markdown",
   "metadata": {},
   "source": [
    "---\n",
    "toc: true\n",
    "comments: true\n",
    "layout: post\n",
    "title: CB Question 22\n",
    "description: Print values in 2D int array \n",
    "courses: { csa: {week: 20} }\n",
    "type: hacks\n",
    "---"
   ]
  },
  {
   "cell_type": "markdown",
   "metadata": {},
   "source": [
    "# Introduction to 2D Arrays and Printing Values\n",
    "\n",
    "- A 2D array is a matrix with rows and columns.\n",
    "- In programming, 2D arrays are often used to represent tables of values.\n",
    "\n",
    "## Row-Major Order:\n",
    "- In row-major order, elements in each row are stored together in memory.\n",
    "- Rows are stored consecutively, making it efficient for row-wise access.\n",
    "\n",
    "## Column-Major Order:\n",
    "- In column-major order, elements in each column are stored together in memory.\n",
    "- Columns are stored consecutively, making it efficient for column-wise access.\n",
    "\n",
    "\n",
    "\n",
    "The choice between row-major and column-major order depends on the specific requirements of the program."
   ]
  },
  {
   "cell_type": "markdown",
   "metadata": {},
   "source": [
    "## Printing Values in Row-Major Order:"
   ]
  },
  {
   "cell_type": "code",
   "execution_count": 4,
   "metadata": {
    "vscode": {
     "languageId": "java"
    }
   },
   "outputs": [],
   "source": [
    "public class RowMajor {\n",
    "    public static void rowMajor(int[][] array) {\n",
    "        for (int i = 0; i < array.length; i++) {\n",
    "            for (int j = 0; j < array[0].length; j++) {\n",
    "                System.out.print(array[i][j] + \" \");\n",
    "            }\n",
    "            System.out.println();\n",
    "        }\n",
    "    }\n",
    "\n",
    "    public static void main(String[] args) {\n",
    "        int[][] myArray = {\n",
    "            {1, 2, 3},\n",
    "            {4, 5, 6},\n",
    "            {7, 8, 9}\n",
    "        };\n",
    "        rowMajor(myArray);\n",
    "    }\n",
    "}"
   ]
  },
  {
   "cell_type": "markdown",
   "metadata": {},
   "source": [
    "## Printing Values in Column-Major Order:"
   ]
  },
  {
   "cell_type": "code",
   "execution_count": 3,
   "metadata": {
    "vscode": {
     "languageId": "java"
    }
   },
   "outputs": [],
   "source": [
    "public class ColumnMajor {\n",
    "    public static void columnMajor(int[][] array) {\n",
    "        for (int j = 0; j < array[0].length; j++) {\n",
    "            for (int i = 0; i < array.length; i++) {\n",
    "                System.out.print(array[i][j] + \" \");\n",
    "            }\n",
    "            System.out.println();\n",
    "        }\n",
    "    }\n",
    "\n",
    "    public static void main(String[] args) {\n",
    "        int[][] myArray = {\n",
    "            {1, 2, 3},\n",
    "            {4, 5, 6},\n",
    "            {7, 8, 9}\n",
    "        };\n",
    "        columnMajor(myArray);\n",
    "    }\n",
    "}"
   ]
  },
  {
   "cell_type": "markdown",
   "metadata": {},
   "source": [
    "# Hacks\n",
    "\n",
    "- Practice printing values in a 2D array using both rowmajor and columnmajor order in Java.\n",
    "\n",
    "- Create a 2D array using the following values\n",
    "\n",
    "{ {71, 72, 73}, {81, 82, 83}, {91, 92, 93} }\n",
    "\n",
    "- Modify the printRowMajor and printColumnMajor methods to print the values in both row-major and column-major order for this new array.\n"
   ]
  },
  {
   "cell_type": "code",
   "execution_count": null,
   "metadata": {
    "vscode": {
     "languageId": "java"
    }
   },
   "outputs": [],
   "source": [
    "//Add 2D array HACK here"
   ]
  }
 ],
 "metadata": {
  "kernelspec": {
   "display_name": "Java",
   "language": "java",
   "name": "java"
  },
  "language_info": {
   "codemirror_mode": "java",
   "file_extension": ".jshell",
   "mimetype": "text/x-java-source",
   "name": "Java",
   "pygments_lexer": "java",
   "version": "20.0.1"
  }
 },
 "nbformat": 4,
 "nbformat_minor": 2
}
