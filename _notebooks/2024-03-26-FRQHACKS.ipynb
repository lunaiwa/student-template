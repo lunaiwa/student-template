{
 "cells": [
  {
   "cell_type": "markdown",
   "metadata": {},
   "source": [
    "---\n",
    "toc: true\n",
    "comments: true\n",
    "layout: post\n",
    "title: FRQ Hacks\n",
    "description: FRQ#2 Hacks\n",
    "type: hacks\n",
    "courses: { csa: {week: 25} }\n",
    "---"
   ]
  },
  {
   "cell_type": "markdown",
   "metadata": {},
   "source": [
    "# FRQ Hacks Testing \n",
    "\n",
    "\n",
    "### Question 1 - Pojos and Access Control:\n",
    "\n",
    "Situation: The school librarian wants to create a program that stores all of the books within the library in a database and is used to manage their inventory of books available to the students. You decided to put your amazing code skills to work and help out the librarian!\n",
    "\n",
    "a. Describe the key differences between the private and public access controllers and how it affects a POJO\n",
    "\n",
    "b. Identify a scenario when you would use the private vs. public access controllers that isn’t the one given in the scenario above\n",
    "\n",
    "c. Create a Book class that represents the following attributes about a book: title, author, date published, person holding the book and make sure that the objects are using a POJO, the proper getters and setters and are secure from any other modifications that the program makes later to the objects"
   ]
  },
  {
   "cell_type": "markdown",
   "metadata": {},
   "source": [
    "a. Key Differences between Private and Public Access Controllers:\n",
    "\n",
    "Public Access Modifier (public): When a class member (variable or method) is declared as public, it can be accessed from any other class. This means that the member is visible to any other class, regardless of the package in which it is declared. Public members are accessible to all other classes and can be used to interact with the object of the class.\n",
    "\n",
    "Private Access Modifier (private): When a class member is declared as private, it can only be accessed within the same class in which it is declared. It cannot be accessed or modified directly by any other class. Private members are encapsulated within the class, making them inaccessible from outside the class. They are typically used to hide implementation details and ensure data integrity.\n",
    "\n",
    "Impact on POJO (Plain Old Java Object): In a POJO, private access controllers are often used to encapsulate the internal state of an object, providing controlled access to its attributes through getter and setter methods. Public access controllers, on the other hand, are used to expose certain behavior or attributes of the object to external classes.\n",
    "\n",
    "b. Scenario of Using Private vs. Public Access Controllers:\n",
    "\n",
    "Private Access Controller: Suppose you're designing a banking application. Within a BankAccount class, you'd likely have attributes such as balance, accountNumber, and ownerName. It's crucial to ensure that balance and accountNumber are private because they contain sensitive information that should not be directly accessible or modified from outside the BankAccount class. Thus, you would use private access controllers to protect these attributes.\n",
    "\n",
    "Public Access Controller: However, you might have methods like depositMoney() and withdrawMoney() which should be accessible to external classes to interact with the BankAccount object. These methods would be declared as public, allowing other classes to use them to deposit or withdraw money from the account."
   ]
  },
  {
   "cell_type": "code",
   "execution_count": 18,
   "metadata": {
    "vscode": {
     "languageId": "java"
    }
   },
   "outputs": [
    {
     "name": "stdout",
     "output_type": "stream",
     "text": [
      "Book{title='The Great Gatsby', author='F. Scott Fitzgerald', datePublished='April 10, 1925', personHolding='Library'}\n"
     ]
    }
   ],
   "source": [
    "public class Book {\n",
    "    private String title;\n",
    "    private String author;\n",
    "    private String datePublished;\n",
    "    private String personHolding;\n",
    "\n",
    "    public Book(String title, String author, String datePublished, String personHolding) {\n",
    "        this.title = title;\n",
    "        this.author = author;\n",
    "        this.datePublished = datePublished;\n",
    "        this.personHolding = personHolding;\n",
    "    }\n",
    "\n",
    "    public String getTitle() {\n",
    "        return title;\n",
    "    }\n",
    "\n",
    "    public void setTitle(String title) {\n",
    "        this.title = title;\n",
    "    }\n",
    "\n",
    "    public String getAuthor() {\n",
    "        return author;\n",
    "    }\n",
    "\n",
    "    public void setAuthor(String author) {\n",
    "        this.author = author;\n",
    "    }\n",
    "\n",
    "    public String getDatePublished() {\n",
    "        return datePublished;\n",
    "    }\n",
    "\n",
    "    public void setDatePublished(String datePublished) {\n",
    "        this.datePublished = datePublished;\n",
    "    }\n",
    "\n",
    "    public String getPersonHolding() {\n",
    "        return personHolding;\n",
    "    }\n",
    "\n",
    "    public void setPersonHolding(String personHolding) {\n",
    "        this.personHolding = personHolding;\n",
    "    }\n",
    "\n",
    "    @Override\n",
    "    public String toString() {\n",
    "        return \"Book{\" +\n",
    "                \"title='\" + title + '\\'' +\n",
    "                \", author='\" + author + '\\'' +\n",
    "                \", datePublished='\" + datePublished + '\\'' +\n",
    "                \", personHolding='\" + personHolding + '\\'' +\n",
    "                '}';\n",
    "    }\n",
    "\n",
    "    public static void main(String[] args) {\n",
    "        Book book = new Book(\"The Great Gatsby\", \"F. Scott Fitzgerald\", \"April 10, 1925\", \"Library\");\n",
    "        System.out.println(book);\n",
    "    }\n",
    "}\n",
    "Book.main(null);"
   ]
  },
  {
   "cell_type": "markdown",
   "metadata": {},
   "source": [
    "### Question 2 - Writing Classes:\n",
    "\n",
    "(a) Describe the different features needed to create a class and what their purpose is.\n",
    "\n",
    "(b) Code:\n",
    "\n",
    "Create a Java class BankAccount to represent a simple bank account. This class should have the following attributes:\n",
    "\n",
    "accountHolder (String): The name of the account holder. balance (double): The current balance in the account. Implement the following mutator (setter) methods for the BankAccount class:\n",
    "setAccountHolder(String name): Sets the name of the account holder.\n",
    "deposit(double amount): Deposits a given amount into the account.\n",
    "withdraw(double amount): Withdraws a given amount from the account, but only if the withdrawal amount is less than or equal to the current balance. Ensure that the balance is never negative."
   ]
  },
  {
   "cell_type": "markdown",
   "metadata": {},
   "source": [
    "Class Declaration: It begins with the keyword class followed by the class name. This defines a new class and serves as a blueprint for creating objects.\n",
    "\n",
    "Attributes (Instance Variables): These are the data members of the class and represent the state of objects. They hold the data associated with the class and its objects.\n",
    "\n",
    "Constructors: Constructors are special methods used for initializing objects. They have the same name as the class and are called automatically when an object is created.\n",
    "\n",
    "Methods (Member Functions): These are the behaviors of the class and define what objects of the class can do. They can manipulate the attributes of the class and perform various operations.\n",
    "\n",
    "Access Modifiers (public, private, protected): These control the visibility and accessibility of class members (attributes and methods) to other classes. They enforce encapsulation and protect the internal state of objects.\n",
    "\n",
    "Getter and Setter Methods: These are special methods used to access (get) and modify (set) the values of private attributes. They help in achieving data encapsulation and ensure controlled access to class attributes.\n",
    "\n",
    "Override Methods: Java allows overriding methods from the superclass (like toString() method from Object class) to provide custom behavior specific to the class."
   ]
  },
  {
   "cell_type": "code",
   "execution_count": 15,
   "metadata": {
    "vscode": {
     "languageId": "java"
    }
   },
   "outputs": [
    {
     "name": "stdout",
     "output_type": "stream",
     "text": [
      "Account Holder: Luna Iwazaki\n",
      "Initial Balance: 1000.0\n",
      "500.0 deposited successfully.\n",
      "Balance after deposit: 1500.0\n",
      "200.0 withdrawn successfully.\n",
      "Balance after withdrawal: 1300.0\n"
     ]
    }
   ],
   "source": [
    "public class BankAccount {\n",
    "    private String accountHolder;\n",
    "    private double balance;\n",
    "\n",
    "    public BankAccount(String accountHolder, double balance) {\n",
    "        this.accountHolder = accountHolder;\n",
    "        this.balance = balance;\n",
    "    }\n",
    "\n",
    "    public void deposit(double amount) {\n",
    "        if (amount > 0) {\n",
    "            balance += amount;\n",
    "            System.out.println(amount + \" deposited successfully.\");\n",
    "        } else {\n",
    "            System.out.println(\"Invalid amount. Deposit amount should be positive.\");\n",
    "        }\n",
    "    }\n",
    "\n",
    "    public void withdraw(double amount) {\n",
    "        if (amount > 0 && amount <= balance) {\n",
    "            balance -= amount;\n",
    "            System.out.println(amount + \" withdrawn successfully.\");\n",
    "        } else {\n",
    "            System.out.println(\"Invalid amount or insufficient balance.\");\n",
    "        }\n",
    "    }\n",
    "\n",
    "    public String getAccountHolder() {\n",
    "        return accountHolder;\n",
    "    }\n",
    "\n",
    "    public double getBalance() {\n",
    "        return balance;\n",
    "    }\n",
    "\n",
    "    public void setAccountHolder(String name) {\n",
    "        this.accountHolder = name;\n",
    "    }\n",
    "\n",
    "    @Override\n",
    "    public String toString() {\n",
    "        return \"BankAccount{\" +\n",
    "                \"accountHolder='\" + accountHolder + '\\'' +\n",
    "                \", balance=\" + balance +\n",
    "                '}';\n",
    "    }\n",
    "\n",
    "    public static void main(String[] args) {\n",
    "        BankAccount account = new BankAccount(\"Luna Iwazaki\", 1000);\n",
    "        System.out.println(\"Account Holder: \" + account.getAccountHolder());\n",
    "        System.out.println(\"Initial Balance: \" + account.getBalance());\n",
    "\n",
    "        account.deposit(500);\n",
    "        System.out.println(\"Balance after deposit: \" + account.getBalance());\n",
    "\n",
    "        account.withdraw(200);\n",
    "        System.out.println(\"Balance after withdrawal: \" + account.getBalance());\n",
    "    }\n",
    "}\n",
    "BankAccount.main(null);"
   ]
  },
  {
   "cell_type": "markdown",
   "metadata": {},
   "source": [
    "### Question 5 - Inheritence:\n",
    "\n",
    "Situation: You are developing a program to manage a zoo, where various types of animals are kept in different enclosures. To streamline your code, you decide to use inheritance to model the relationships between different types of animals and their behaviors.\n",
    "\n",
    "(a) Explain the concept of inheritance in Java. Provide an example scenario where inheritance is useful.\n",
    "\n",
    "(b) Code:\n",
    "\n",
    "You need to implement a Java class hierarchy to represent different types of animals in the zoo. Create a superclass Animal with basic attributes and methods common to all animals, and at least three subclasses representing specific types of animals with additional attributes and methods. Include comments to explain your code, specifically how inheritance is used."
   ]
  },
  {
   "cell_type": "markdown",
   "metadata": {},
   "source": [
    "In Java, inheritance allows one class to inherit attributes and methods from another class. \n",
    "\n",
    "For example, imagine you're creating a program for a zoo. You might have a basic class called `Animal` with general attributes like `name` and `age`, along with methods like `eat()` and `sleep()`. \n",
    "\n",
    "Now, you can create specific types of animals like `Lion`, `Elephant`, and `Monkey` as subclasses of `Animal`. These subclasses automatically inherit the attributes and methods of `Animal`, so you don't have to rewrite them. \n",
    "\n",
    "Each subclass can then add its own unique characteristics. For instance, `Lion` might have a `roar()` method, `Elephant` could have a `trumpet()` method, and `Monkey` might have a `swing()` method.\n",
    "\n",
    "Inheritance simplifies coding by letting you reuse common features and customize them as needed for specific types of objects."
   ]
  },
  {
   "cell_type": "code",
   "execution_count": 12,
   "metadata": {
    "vscode": {
     "languageId": "java"
    }
   },
   "outputs": [
    {
     "name": "stdout",
     "output_type": "stream",
     "text": [
      "The animal makes a sound.\n",
      "The lion roars loudly.\n"
     ]
    }
   ],
   "source": [
    "class Animal {\n",
    "    protected String name;\n",
    "    protected int age;\n",
    "\n",
    "    public Animal(String name, int age) {\n",
    "        this.name = name;\n",
    "        this.age = age;\n",
    "    }\n",
    "\n",
    "    public void makeSound() {\n",
    "        System.out.println(\"The animal makes a sound.\");\n",
    "    }\n",
    "}\n",
    "\n",
    "class Lion extends Animal {\n",
    "    private int maneLength;\n",
    "\n",
    "    public Lion(String name, int age, int maneLength) {\n",
    "        super(name, age);\n",
    "        this.maneLength = maneLength;\n",
    "    }\n",
    "\n",
    "    public void roar() {\n",
    "        System.out.println(\"The lion roars loudly.\");\n",
    "    }\n",
    "}\n",
    "\n",
    "public class Main {\n",
    "    public static void main(String[] args) {\n",
    "        Lion lion = new Lion(\"Leo\", 5, 10);\n",
    "        lion.makeSound(); //  The animal makes a sound.\n",
    "        lion.roar();      //  The lion roars loudly.\n",
    "    }\n",
    "}\n",
    "Main.main(null);"
   ]
  }
 ],
 "metadata": {
  "kernelspec": {
   "display_name": "Java",
   "language": "java",
   "name": "java"
  },
  "language_info": {
   "codemirror_mode": "java",
   "file_extension": ".jshell",
   "mimetype": "text/x-java-source",
   "name": "Java",
   "pygments_lexer": "java",
   "version": "20.0.1"
  }
 },
 "nbformat": 4,
 "nbformat_minor": 2
}
