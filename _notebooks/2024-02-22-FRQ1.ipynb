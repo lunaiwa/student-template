{
 "cells": [
  {
   "cell_type": "markdown",
   "metadata": {},
   "source": [
    "---\n",
    "toc: true\n",
    "comments: true\n",
    "layout: post\n",
    "title: College Board FRQ 2015 - Part 1\n",
    "description: Trimester 2 FRQ\n",
    "type: hacks\n",
    "courses: { csa: {week: 19} }\n",
    "---"
   ]
  },
  {
   "cell_type": "markdown",
   "metadata": {},
   "source": [
    "# Question 1\n",
    "\n",
    "- Assume that the classes listed in the Java Quick Reference have been imported where appropriate.\n",
    "\n",
    "- Unless otherwise noted in the question, assume that parameters in method calls are not null and that methods are called only when their preconditions are satisfied.\n",
    "\n",
    "- In writing solutions for each question, you may use any of the accessible methods that are listed in classes defined in that question. Writing significant amounts of code that can be replaced by a call to one of these methods will not receive full credit.\n",
    "\n",
    "This question involves reasoning about one-dimensional and two-dimensional arrays of integers. You will write three static methods, all of which are in a single enclosing class, named DiverseArray (not shown). The first method returns the sum of the values of a one-dimensional array; the second method returns an array that represents the sums of the rows of a two-dimensional array; and the third method analyzes row sums."
   ]
  },
  {
   "cell_type": "markdown",
   "metadata": {},
   "source": [
    "---"
   ]
  },
  {
   "cell_type": "markdown",
   "metadata": {},
   "source": [
    "**(a) Write a static method arraySum that calculates and returns the sum of the entries in a specified one-dimensional array. The following example shows an array arr1 and the value returned by a call to arraySum.**\n",
    "\n",
    "<img width=\"424\" alt=\"Screenshot 2024-02-22 at 12 05 51 PM\" src=\"https://github.com/lunaiwa/student-template/assets/111661543/8b2c35fe-cf34-4169-a4e7-1c524bd05e5b\">\n",
    "\n",
    "Complete method arraySum below.\n",
    "\n",
    "/ * * Returns the sum of the entries in the one-dimensional array arr.\n",
    "\n",
    "* /\n",
    "\n",
    "public static int arraySum (int [ ] arr)"
   ]
  },
  {
   "cell_type": "code",
   "execution_count": 1,
   "metadata": {},
   "outputs": [
    {
     "name": "stdout",
     "output_type": "stream",
     "text": [
      "array sum : 16\n"
     ]
    }
   ],
   "source": [
    "public class DiverseArray {\n",
    "    public static int arraySum(int[] arr) {\n",
    "        int sum = 0;\n",
    "        // iterate through elements in the array\n",
    "        for (int currentValue : arr) {\n",
    "            // adding the current element to sum\n",
    "            sum += currentValue;\n",
    "        }\n",
    "        return sum;\n",
    "    }\n",
    "    \n",
    "    public static void main(String[] args) { // calls the arraySum function\n",
    "        // testing the method\n",
    "        int[] arr1 = {1, 3, 2, 7, 3}; // defining the integer array \n",
    "        System.out.println(\"array sum : \" + arraySum(arr1));\n",
    "    }\n",
    "}\n",
    "\n",
    "DiverseArray.main(null); "
   ]
  },
  {
   "cell_type": "markdown",
   "metadata": {},
   "source": [
    "---"
   ]
  },
  {
   "cell_type": "markdown",
   "metadata": {},
   "source": [
    "**(b) Write a static method rowSums that calculates the sums of each of the rows in a given two-dimensional array and returns these sums in a one-dimensional array. The method has one parameter, a two-dimensional array arr2D of int values. The array is in row-major order: arr2D [ r ] [ c ] is the entry at row r and column c. The method returns a one-dimensional array with one entry for each row of arr2D such that each entry is the sum of the corresponding row in arr2D. As a reminder, each row of a two-dimensional array is a one-dimensional array.**\n",
    "\n",
    "**For example, if mat1 is the array represented by the following table, the call rowSums(mat1) returns the array {16, 32, 28, 20}.**\n",
    "\n",
    "<img width=\"605\" alt=\"Screenshot 2024-02-22 at 12 06 26 PM\" src=\"https://github.com/lunaiwa/student-template/assets/111661543/52d7e507-f989-4604-9d64-9e0c75234824\">\n",
    "\n",
    "Assume that arraySum works as specified, regardless of what you wrote in part (a). You must use arraySum appropriately to receive full credit.\n",
    "\n",
    "Complete method rowSums below.\n",
    "\n",
    "/ * * Returns a one-dimensional array in which the entry at index k is the sum of\n",
    "\n",
    "* the entries of row k of the two-dimensional array arr2D.\n",
    "\n",
    "* /\n",
    "\n",
    "public static int [ ] rowSums(int [ ] [ ] arr2D)"
   ]
  },
  {
   "cell_type": "code",
   "execution_count": 2,
   "metadata": {},
   "outputs": [
    {
     "name": "stdout",
     "output_type": "stream",
     "text": [
      "sum of mat1 : 16 32 28 20 \n"
     ]
    }
   ],
   "source": [
    "public class DiverseArray1 {\n",
    "\n",
    "    public static int arraySum(int[] arr) {\n",
    "        int sum = 0; // initializing the variable to store the sum of the array elements\n",
    "        // itereate through each element\n",
    "        for (int currentValue : arr) {\n",
    "            // add current elemnt to sum\n",
    "            sum += currentValue;\n",
    "        }\n",
    "        return sum;\n",
    "    }\n",
    "    \n",
    "    public static int[] rowSums(int[][] arr2D) {\n",
    "        int[] result = new int[arr2D.length]; // initializing array to store sum of row \n",
    "        // iterating though rows in 2d array\n",
    "        for (int k = 0; k < arr2D.length; k++) {\n",
    "            // finding sum via method and storing as result\n",
    "            result[k] = arraySum(arr2D[k]); \n",
    "        }\n",
    "        return result;\n",
    "    }\n",
    "\n",
    "    public static void main(String[] args) {\n",
    "       // define 2d array\n",
    "        int[][] mat1 = {\n",
    "            {1, 3, 2, 7,3},\n",
    "            {10, 10, 4, 6, 2},\n",
    "            {5, 3, 5, 9, 6},\n",
    "            {7, 6, 4, 2, 1}\n",
    "        };\n",
    "        // computing using rowsum method\n",
    "        int[] sums = rowSums(mat1);\n",
    "        System.out.print(\"sum of mat1 : \");\n",
    "        for (int sum : sums) {\n",
    "            System.out.print(sum + \" \");\n",
    "        }\n",
    "        System.out.println();\n",
    "}\n",
    "}\n",
    "\n",
    "DiverseArray1.main(null);"
   ]
  },
  {
   "cell_type": "markdown",
   "metadata": {},
   "source": [
    "---"
   ]
  },
  {
   "cell_type": "markdown",
   "metadata": {},
   "source": [
    "**(c) A two-dimensional array is diverse if no two of its rows have entries that sum to the same value. In the following examples, the array mat1 is diverse because each row sum is different, but the array mat2 is not diverse because the first and last rows have the same sum.**\n",
    "\n",
    "<img width=\"416\" alt=\"Screenshot 2024-02-22 at 12 07 00 PM\" src=\"https://github.com/lunaiwa/student-template/assets/111661543/9dd77471-e2d4-468d-a10f-b72c96753aec\">\n",
    "\n",
    "**Write a static method isDiverse that determines whether or not a given two-dimensional array is diverse. The method has one parameter: a two-dimensional array arr2D of int values. The method should return true if all the row sums in the given array are unique; otherwise, it should return false. In the arrays shown above, the call isDiverse (mat1) returns true and the call isDiverse(mat2) returns false.**\n",
    "\n",
    "<img width=\"604\" alt=\"Screenshot 2024-02-22 at 12 07 25 PM\" src=\"https://github.com/lunaiwa/student-template/assets/111661543/48a7728f-d160-4c99-b8a9-ae73c3aec774\">\n",
    "\n",
    "**Assume that arraySum and rowSums work as specified, regardless of what you wrote in parts (a) and(b). You must use rowSums appropriately to receive full credit.\n",
    "Complete method isDiverse below.**\n",
    "\n",
    "/ * * Returns true if all rows in arr2D have different row sums;\n",
    "* false otherwise.\n",
    "\n",
    "* /public static boolean isDiverse(int [ ] [ ] arr2D)"
   ]
  },
  {
   "cell_type": "code",
   "execution_count": 3,
   "metadata": {},
   "outputs": [
    {
     "name": "stdout",
     "output_type": "stream",
     "text": [
      "mat1 : true\n",
      "mat2 : false\n"
     ]
    }
   ],
   "source": [
    "public class DiverseArray2 {\n",
    "\n",
    "    public static int arraySum(int[] arr) {\n",
    "        int sum = 0;\n",
    "        for (int currentValue : arr) {\n",
    "            sum += currentValue;\n",
    "        }\n",
    "        return sum;\n",
    "    }\n",
    "\n",
    "    public static int[] rowSums(int[][] arr2D) {\n",
    "        int[] result = new int[arr2D.length];\n",
    "        for (int k = 0; k < arr2D.length; k++) {\n",
    "            result[k] = arraySum(arr2D[k]);\n",
    "        }\n",
    "        return result;\n",
    "    }\n",
    "\n",
    "    // diverse determination\n",
    "    public static boolean isDiverse(int[][] arr2D) {\n",
    "        int[] rowSumsArray = rowSums(arr2D);\n",
    "        for (int i = 0; i < rowSumsArray.length; i++) { // comparing pair of row sums, checkign duplicates\n",
    "            for (int j = i + 1; j < rowSumsArray.length; j++) {\n",
    "                if (rowSumsArray[i] == rowSumsArray[j])\n",
    "                    return false; // if any 2 row sums are the same return false\n",
    "            }\n",
    "        }\n",
    "        return true;// none are equal return true\n",
    "    }\n",
    "\n",
    "    public static void main(String[] args) {\n",
    "        int[][] mat1 = {\n",
    "            {1, 3, 2, 7,3},\n",
    "            {10, 10, 4, 6, 2},\n",
    "            {5, 3, 5, 9, 6},\n",
    "            {7, 6, 4, 2, 1}\n",
    "        };\n",
    "\n",
    "        int[][] mat2 = {\n",
    "            {1, 1, 5, 3, 4},\n",
    "            {12, 7, 6, 1, 9},\n",
    "            {8, 11, 10, 2, 5},\n",
    "            {3, 2, 3, 0, 6}\n",
    "        };\n",
    "\n",
    "        System.out.println(\"mat1 : \" + isDiverse(mat1)); // returns true\n",
    "        System.out.println(\"mat2 : \" + isDiverse(mat2)); // returns false\n",
    "    }\n",
    "}\n",
    "\n",
    "// Run the main method\n",
    "DiverseArray2.main(null);"
   ]
  },
  {
   "cell_type": "markdown",
   "metadata": {},
   "source": [
    "# Notes"
   ]
  }
 ],
 "metadata": {
  "kernelspec": {
   "display_name": "Java",
   "language": "java",
   "name": "java"
  },
  "language_info": {
   "codemirror_mode": "java",
   "file_extension": ".jshell",
   "mimetype": "text/x-java-source",
   "name": "java",
   "pygments_lexer": "java",
   "version": "20.0.1"
  }
 },
 "nbformat": 4,
 "nbformat_minor": 2
}
