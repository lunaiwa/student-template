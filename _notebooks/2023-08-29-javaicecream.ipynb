{
 "cells": [
  {
   "cell_type": "markdown",
   "metadata": {},
   "source": [
    "---\n",
    "# this is YAML front matter\n",
    "layout: post\n",
    "title: IceCreamInfo - Java Hello\n",
    "description: Making a class using Java and Jupyter Notebook\n",
    "courses: { csa: {week: 2, categories: [3.A]} }\n",
    "categories: [C4.0]\n",
    "type: hacks\n",
    "---"
   ]
  },
  {
   "cell_type": "markdown",
   "metadata": {},
   "source": [
    "# IceCreamInfo - Java Hello\n",
    "This article shows the basic language structures and constructs of Java (aka anatomy).  In async order, it is critical to understand these examples and learn vocab for OOP and Creating Objects: \n",
    "- [Object Oriented Programming](https://youtu.be/Wok4Xw_5cyY) \n",
    "- [Creating Objects](https://youtu.be/C5Ks_u87Ltg)\n",
    "- [Calling Methods](https://youtu.be/CPE_lYGCw3A)"
   ]
  },
  {
   "cell_type": "code",
   "execution_count": 15,
   "metadata": {
    "vscode": {
     "languageId": "java"
    }
   },
   "outputs": [],
   "source": [
    "// Define a class\n",
    "public class IceCreamInfo {\n",
    "    //  instance variables to store ice cream information\n",
    "    private String name;  // Stores the name of the ice cream\n",
    "    private int price;    // Stores the price of the ice cream in cents\n",
    "\n",
    "    // Initializes instance variables with default values\n",
    "    public IceCreamInfo() {\n",
    "        this.name = \"\";    // Initialize name with an empty string\n",
    "        this.price = 0;    // Initialize price = 0\n",
    "    }\n",
    "\n",
    "    // Initializes instance variables with provided values\n",
    "    public IceCreamInfo(String name, int price) {\n",
    "        this.name = name;  // Initialize name with provided value\n",
    "        this.price = price;  // Initialize price with provided value\n",
    "    }\n",
    "\n",
    "    // Setter method to update the ice cream's name\n",
    "    public void setName(String newName) {\n",
    "        this.name = newName;  // Update name with the new provided value\n",
    "    }\n",
    "\n",
    "    // Setter method to update the ice cream's price\n",
    "    public void setPrice(int newPrice) {\n",
    "        this.price = newPrice;  // Update price with the new provided value\n",
    "    }\n",
    "\n",
    "    // Getter method to retrieve the ice cream's name\n",
    "    public String getName() {\n",
    "        return this.name;  // Return the stored name\n",
    "    }\n",
    "\n",
    "    // Getter method to retrieve the ice cream's price\n",
    "    public int getPrice() {\n",
    "        return this.price;  // Return the stored price\n",
    "    }\n",
    "\n",
    "    public static void main(String[] args) {\n",
    "        System.out.println(\"Ice Cream Time\");\n",
    "\n",
    "        // Create instances of the class using constructors\n",
    "        IceCreamInfo vanilla = new IceCreamInfo();\n",
    "        vanilla.setName(\"Vanilla\");  // Set the name of the ice cream\n",
    "        vanilla.setPrice(200);       // Set the price of the ice cream\n",
    "\n",
    "        IceCreamInfo chocolate = new IceCreamInfo(\"Chocolate\", 200);\n",
    "        IceCreamInfo strawberry = new IceCreamInfo(\"Strawberry\", 300);\n",
    "        IceCreamInfo creme = new IceCreamInfo(\"Creme\", 100);\n",
    "        IceCreamInfo caramel = new IceCreamInfo(\"Caramel\", 200);\n",
    "\n",
    "        // Print Statements to display ice cream information\n",
    "        System.out.println(\"Ice Cream | Price \");\n",
    "        System.out.println(chocolate.getName() + \" | \" + chocolate.getPrice());\n",
    "        System.out.println(strawberry.getName() + \" | \" + strawberry.getPrice());\n",
    "        System.out.println(creme.getName() + \" | \" + creme.getPrice());\n",
    "        System.out.println(caramel.getName() + \" | \" + caramel.getPrice());\n",
    "    }\n",
    "}"
   ]
  },
  {
   "cell_type": "code",
   "execution_count": 16,
   "metadata": {
    "vscode": {
     "languageId": "java"
    }
   },
   "outputs": [
    {
     "name": "stdout",
     "output_type": "stream",
     "text": [
      "Ice Cream Time\n",
      "Ice Cream | Price \n",
      "Chocolate | 200\n",
      "Strawberry | 300\n",
      "Creme | 100\n",
      "Caramel | 200\n"
     ]
    }
   ],
   "source": [
    "IceCreamInfo.main(null);"
   ]
  },
  {
   "cell_type": "code",
   "execution_count": 17,
   "metadata": {
    "vscode": {
     "languageId": "java"
    }
   },
   "outputs": [
    {
     "data": {
      "text/plain": [
       "500"
      ]
     },
     "execution_count": 17,
     "metadata": {},
     "output_type": "execute_result"
    }
   ],
   "source": [
    "IceCreamInfo chocolate = new IceCreamInfo();\n",
    "chocolate.getPrice();\n",
    "chocolate.setPrice(500);\n",
    "chocolate.getPrice();"
   ]
  },
  {
   "cell_type": "code",
   "execution_count": null,
   "metadata": {
    "vscode": {
     "languageId": "java"
    }
   },
   "outputs": [],
   "source": []
  },
  {
   "cell_type": "code",
   "execution_count": null,
   "metadata": {
    "vscode": {
     "languageId": "java"
    }
   },
   "outputs": [],
   "source": []
  },
  {
   "cell_type": "markdown",
   "metadata": {},
   "source": [
    "![IMG_0FD79FA9CD9D-1](https://github.com/lunaiwa/student-template/assets/111661543/2365bc45-ceba-4508-9e0b-4f7fa6087846)"
   ]
  },
  {
   "cell_type": "markdown",
   "metadata": {},
   "source": [
    "## Static vs Non-Static\n",
    "\n",
    "**Static**\n",
    "\n",
    "- Class Variables: shared among all instances of the class. If oe instance changes the value of a static variable, the change is reflected across all instances and the class itself\n",
    "- Class Methods: Belong to the class and not to any instance. They can be called using the class name and are often used for utility functions that don't require instance-specific data.\n",
    "\n",
    "**Instance Elements**\n",
    "\n",
    "- Attributes/Fields: hold data that varies from instance to instance. Each instance has its own set of instance values\n",
    "- Object Methods: Operate on the data of a specific instance. Can acess instance variable and other instance methods\n",
    "\n",
    "**Differences**\n",
    "\n",
    "- Memory Allocation: Static elements are allocated memory only once when the class is loaded, regardless of how many instances are created. Instance elements are allocated memory separately for each instance.\n",
    "- Access: Static elements can be accessed using the class name, e.g., ClassName.staticMethod(). Instance elements are accessed using an instance of the class, e.g., instanceName.instanceMethod().\n",
    "- Usage: Static methods are used for tasks that don't require instance-specific data. Instance methods are used for tasks that involve instance-specific data.\n",
    "- Visibility: Static elements can access other static elements directly. Instance elements can access both static and other instance elements directly."
   ]
  },
  {
   "cell_type": "markdown",
   "metadata": {},
   "source": [
    "## Hacks\n",
    "Build your own Jupyter Notebook meeting these College Board and CTE competencies.  It is critical to understand Static versus Instance Now, this is College Board requirement!!!\n",
    "- X Explain Anatomy of a Class in comments of program (Diagram key parts of the class).\n",
    "- X Comment in code where there is a definition of a Class and an instance of a Class (ie object)\n",
    "- X Comment in code where there are constructors and highlight the signature difference in the signature\n",
    "- X Call an object method with parameter (ie setters).\n",
    "\n",
    "\n",
    "Additional requirements (Pick something)\n",
    "1. Go through code progression of understanding Class usage and generating an Instance of a Class (Object). \n",
    "    a. Build a purposeful dynamic Class, using an Object, generate multiple instances: \n",
    "        - Person: Name and Age\n",
    "        - Dessert: Type and Cost\n",
    "        - Location: City, State, Zip\n",
    "    b. Create a static void main tester method to generate objects of the class.\n",
    "    c. In tester method, show how setters/mutators can be used to make the data in the Object dynamically change\n",
    "3. Go through progression of understanding a Static Class.  Build a purposeful static Class, no Objects.\n",
    "    - Calculate common operations on a Date field, age since date, older of two dates, number of seconds since date\n",
    "    - Calculate stats functions on an array of values: mean, median, mode."
   ]
  }
 ],
 "metadata": {
  "kernelspec": {
   "display_name": "Java",
   "language": "java",
   "name": "java"
  },
  "language_info": {
   "codemirror_mode": "java",
   "file_extension": ".jshell",
   "mimetype": "text/x-java-source",
   "name": "Java",
   "pygments_lexer": "java",
   "version": "20.0.1"
  }
 },
 "nbformat": 4,
 "nbformat_minor": 2
}
