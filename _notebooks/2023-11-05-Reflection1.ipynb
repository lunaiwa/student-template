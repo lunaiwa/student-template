{
 "cells": [
  {
   "cell_type": "markdown",
   "metadata": {},
   "source": [
    "---\n",
    "toc: true\n",
    "comments: true\n",
    "layout: post\n",
    "title: Reflection | Trimester 1\n",
    "description: Reflection of accomplishments and future growth\n",
    "type: tangibles\n",
    "courses: { csa: {week: 12} }\n",
    "---"
   ]
  },
  {
   "cell_type": "markdown",
   "metadata": {},
   "source": [
    "# Reflection : Trimester 1"
   ]
  },
  {
   "cell_type": "markdown",
   "metadata": {},
   "source": [
    "## Positive Accomplishments:\n",
    "\n",
    "1. Faster Frontend Ability: One of the major accomplishments during this trimester has been the significant improvement in my frontend development skills. I've honed my knowledge of HTML, CSS, and JavaScript, enabling me to create more responsive and visually appealing user interfaces. This not only boosted my confidence but also allowed me to build more interactive web applications.\n",
    "\n",
    "2. Exploring Figma as a Quicker Frontend Option: Figma has proven to be a game-changer in my workflow. Leveraging this design tool, I've been able to create prototypes and mockups much more efficiently, saving time and ensuring better collaboration with designers. The ability to iterate and make design changes swiftly has streamlined the frontend development process.\n",
    "\n",
    "## Areas for Future Growth:\n",
    "\n",
    "1. Figuring Canvases in Code: While I've made strides in frontend development, I still struggle with implementing complex canvases in code. The canvas element in HTML, often used for creating dynamic graphics and visualizations, has been a challenge. In the coming trimesters, I intend to dedicate more time to mastering this aspect, learning about canvas rendering and animations, and exploring libraries that can simplify the process.\n",
    "\n",
    "2. Working with Backend and AWS: My experiences with backend development and AWS have revealed the need for further growth. The complexities of server-side programming, database management, and cloud services have shown me the depth of knowledge required in this area. I plan to expand my skills in backend technologies, databases, and AWS services. This includes exploring serverless computing and understanding how to deploy scalable and reliable backend systems.\n",
    "\n",
    "## Summary\n",
    "\n",
    "In conclusion, this trimester has been a valuable learning experience for me as a computer science student. I've achieved positive results in terms of frontend development and streamlined my workflow with Figma. However, I also recognize the need for growth in tackling more advanced frontend elements, diving deeper into backend development, and mastering AWS services. These challenges are opportunities for me to expand my skill set and become a more well-rounded computer scientist in future trimesters."
   ]
  }
 ],
 "metadata": {
  "language_info": {
   "name": "python"
  }
 },
 "nbformat": 4,
 "nbformat_minor": 2
}
