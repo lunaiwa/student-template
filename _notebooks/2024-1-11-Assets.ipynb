{
 "cells": [
  {
   "cell_type": "markdown",
   "metadata": {},
   "source": [
    "---\n",
    "toc: true\n",
    "comments: true\n",
    "layout: post\n",
    "title: Key Assets and Projects\n",
    "description: showing key assets and projects accumulated\n",
    "courses: { csa: {week: 21} }\n",
    "type: tanglibles\n",
    "---"
   ]
  },
  {
   "cell_type": "markdown",
   "metadata": {},
   "source": [
    "# Key Assets and Projects"
   ]
  },
  {
   "cell_type": "markdown",
   "metadata": {},
   "source": [
    "---"
   ]
  },
  {
   "cell_type": "markdown",
   "metadata": {},
   "source": [
    "## Carhub > Car Website\n",
    "\n",
    "[**Repository Link**](https://github.com/TeamORBORB/CarHub)\n",
    "\n",
    "[**Runtime Link**](https://teamorborb.github.io/CarHub/)\n",
    "\n",
    "<img width=\"885\" alt=\"Screenshot 2024-01-17 at 9 48 50 PM\" src=\"https://github.com/lunaiwa/student-template/assets/111661543/7707cae2-793a-465e-94e9-2ee5b2bb91ee\">\n",
    "\n",
    "First website I really enjoyed designing, used this formatting for the rest of the year. Learned a lot while building the website. Was inefficient since I could've utilized the SASS more.\n",
    "\n",
    "**Commits >>**\n",
    "\n",
    "<img width=\"290\" alt=\"Screenshot 2024-01-17 at 9 23 45 PM\" src=\"https://github.com/FTTJLR/Issues/assets/111661543/2fdd4dc7-82f8-4cbe-82d0-2b47d36f085d\">"
   ]
  },
  {
   "cell_type": "markdown",
   "metadata": {},
   "source": [
    "---"
   ]
  },
  {
   "cell_type": "markdown",
   "metadata": {},
   "source": [
    "## Sorting Algo > Sorting Visualization\n",
    "\n",
    "[**Repository Link**](https://github.com/lunaiwa/SortingAlgo)\n",
    "\n",
    "[**Runtime Link**](https:/lunaiwa.github.io/SortingAlgo/)\n",
    "\n",
    "**Commits >>**\n",
    "\n",
    "<img width=\"296\" alt=\"Screenshot 2024-01-17 at 9 26 14 PM\" src=\"https://github.com/lunaiwa/student-template/assets/111661543/60c8e6e0-f535-46a7-9756-006de2f6f743\">"
   ]
  },
  {
   "cell_type": "markdown",
   "metadata": {},
   "source": [
    "---"
   ]
  },
  {
   "cell_type": "markdown",
   "metadata": {},
   "source": [
    "## ★ Code Couture > Dress-up game\n",
    "\n",
    "[**Repository Link**](https://github.com/codecouturebaddies/codec)\n",
    "\n",
    "[**Runtime Link**](https://codecouturebaddies.github.io/codec/)\n",
    "\n",
    "<img width=\"845\" alt=\"Screenshot 2024-01-17 at 9 45 20 PM\" src=\"https://github.com/lunaiwa/student-template/assets/111661543/60240051-7cb6-449d-ab70-88c13a06b53d\">\n",
    "\n",
    "Relly enjoyed this project.. The development process was also reall enjoyable since everyone was on the same page on things. We all collaborated really well and I think the finihsed product is really nice too. Worked with lots of elements on this game like sound, buttons, looks, assets. Really enjoyed working with the SASS pixel package.. make development easier \n",
    "\n",
    "**Commits >>**\n",
    "\n",
    "<img width=\"290\" alt=\"Screenshot 2024-01-17 at 9 26 55 PM\" src=\"https://github.com/lunaiwa/student-template/assets/111661543/92395972-1c18-4670-b8ac-9c06cefba868\">"
   ]
  },
  {
   "cell_type": "markdown",
   "metadata": {},
   "source": [
    "---"
   ]
  },
  {
   "cell_type": "markdown",
   "metadata": {},
   "source": [
    "## Athlete Appetite > Making Diet/Menus\n",
    "\n",
    "[**Repository Link**](https://github.com/lunaiwa/A.A.)\n",
    "\n",
    "[**Runtime Link**](https://lunaiwa.github.io/A.A./)\n",
    "\n",
    "\n",
    "<img width=\"675\" alt=\"Screenshot 2024-01-17 at 9 42 10 PM\" src=\"https://github.com/lunaiwa/student-template/assets/111661543/ce2c4485-3de1-4aeb-8e24-165f81710ed0\">\n",
    "\n",
    "<img width=\"477\" alt=\"Screenshot 2024-01-17 at 9 43 20 PM\" src=\"https://github.com/lunaiwa/student-template/assets/111661543/59d03902-32f0-4cbe-8562-92f7a5e0cb70\">\n",
    "\n",
    "\n",
    "Experimented with animation more on this one and worked on local storage comments.. Worked more with SASS and formatting buttons \n",
    "\n",
    "\n",
    "**Commits >>**\n",
    "\n",
    "<img width=\"300\" alt=\"Screenshot 2024-01-17 at 9 27 30 PM\" src=\"https://github.com/lunaiwa/student-template/assets/111661543/5b55724c-bfee-4f3c-b1d6-186096e28da2\">"
   ]
  },
  {
   "cell_type": "markdown",
   "metadata": {},
   "source": [
    "---"
   ]
  },
  {
   "cell_type": "markdown",
   "metadata": {},
   "source": [
    "# Collegeboard Prep\n",
    "\n",
    "[**CB Corrections**](https://lunaiwa.github.io/student-template//2023/12/22/CBCorr_IPYNB_2_.html)\n",
    "\n",
    "[**Java Files**](https://github.com/lunaiwa/cb-corrections/commit/4e5e7ded47f931c0f4167116c5e377b0be4774b6)"
   ]
  },
  {
   "cell_type": "markdown",
   "metadata": {},
   "source": [
    "# Lab Notebook\n",
    "\n",
    "[**Time Box**](https://lunaiwa.github.io/student-template/csa)\n",
    "\n",
    "[**Notebook Link**](https://lunaiwa.github.io/student-template/)"
   ]
  },
  {
   "cell_type": "markdown",
   "metadata": {},
   "source": [
    "# Github Commits\n",
    "\n",
    "<img width=\"464\" alt=\"Screenshot 2024-01-17 at 9 22 53 PM\" src=\"https://github.com/lunaiwa/student-template/assets/111661543/616cebaa-78a9-4e32-886b-5c0f6cd1552a\">"
   ]
  },
  {
   "cell_type": "markdown",
   "metadata": {},
   "source": [
    "# Goals For the Year\n",
    "\n",
    "This year I want to do somthing similar with codecouture mainly beucase it was a project I had really enjoyed last year and i want to do somthing similar to it. I was able to add all the things i liked into the project and I want to do that again. I want to experiemnt more with unity and creating games within the github pages... I also want to work more in the backend!!!"
   ]
  }
 ],
 "metadata": {
  "language_info": {
   "name": "python"
  }
 },
 "nbformat": 4,
 "nbformat_minor": 2
}
