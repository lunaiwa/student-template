{
 "cells": [
  {
   "cell_type": "markdown",
   "metadata": {},
   "source": [
    "---\n",
    "layout: post\n",
    "title: Week 4 |FRQ - Methods and Control Structures\n",
    "description: Going over the FRQ No. 2 classes\n",
    "categories: []\n",
    "courses: { csa: {week: 4} }\n",
    "type: hacks\n",
    "---"
   ]
  },
  {
   "cell_type": "markdown",
   "metadata": {},
   "source": [
    "# Methods and Control Sturcutres"
   ]
  },
  {
   "cell_type": "markdown",
   "metadata": {},
   "source": [
    "### Methods"
   ]
  },
  {
   "cell_type": "markdown",
   "metadata": {},
   "source": [
    "In Java, methods are blocks of code within classes that perform specific tasks or functions. They are defined with a name, optional parameters, and an optional return type, and they can be invoked (called) from other parts of the program to execute the code within them. Methods help organize and modularize code, making it easier to read, maintain, and reuse, and they are a fundamental building block of Java programs, allowing developers to encapsulate functionality and promote code reusability."
   ]
  },
  {
   "cell_type": "markdown",
   "metadata": {},
   "source": [
    "### Control Structures"
   ]
  },
  {
   "cell_type": "markdown",
   "metadata": {},
   "source": [
    "Control structures in Java are constructs that govern the flow of a program by allowing you to make decisions and control the execution of code. The primary control structures in Java include if-else statements, switch statements, loops (such as for, while, and do-while loops), and branching mechanisms like break and continue. These structures enable developers to create conditions, loops, and branching logic, empowering them to execute specific code blocks based on conditions, iterate through data, and control the program's flow, ultimately enhancing the program's logic and functionality."
   ]
  },
  {
   "cell_type": "markdown",
   "metadata": {},
   "source": [
    "# FRQ HACKS\n",
    "\n",
    "Using the classes type of questions\n",
    "\n",
    "link the the frq https://apcentral.collegeboard.org/media/pdf/ap23-frq-comp-sci-a.pdf"
   ]
  },
  {
   "cell_type": "markdown",
   "metadata": {},
   "source": [
    "### Answering the FRQ\n",
    "\n",
    "Solve the problem, including missing pieces in a Jupyter Notebook.\n",
    "\n",
    "This question involves the **AppointmentBook** class, which provides methods for students to schedule appointments with their teacher. Appointments can be scheduled during one of eight class periods during the school day, numbered 1 through 8. A requested appointment had a duration, which is the number of minutes the appointment will last. The 60 minutes within a period are numbered 0 through 59. In order for an appointemnt to be scheudled, the teacher must ave a block of consecutive, available minutes that contains at least the requested number of minutes in a requested period. Scheudled appointments must start and end within the same period.\n",
    "\n",
    "The **AppointmentBook** class contains two helper methods, **isMinuteFree** and **reserceBlock**. You will write two additional methods of the **AppointmentBook** class."
   ]
  },
  {
   "cell_type": "markdown",
   "metadata": {},
   "source": [
    "### PART A"
   ]
  },
  {
   "cell_type": "markdown",
   "metadata": {},
   "source": [
    "Write the **findFreeBlock** method, which searches **period** for the first block of free minutes that is **duration** minutes long. If such bloack is found, **findFreeBlock** returns the first minute in the block. Otherwise, **findFreeBlock** returns -1. The **findFreeBlock** method uses the helper method **isMinuteFree** which returns **true** if a particular minute is available to be included in a new appointment and returns **false** if the minute is unavailable\n",
    "\n",
    "Consider the following list of unavailable and available minutes in period 2\n",
    "\n",
    "0-9 is not available\n",
    "\n",
    "10-14 is available\n",
    "\n",
    "15-29 is not available\n",
    "\n",
    "30-44 is available\n",
    "\n",
    "45-49 is not available\n",
    "\n",
    "50-59 is available"
   ]
  },
  {
   "cell_type": "code",
   "execution_count": 16,
   "metadata": {},
   "outputs": [
    {
     "name": "stdout",
     "output_type": "stream",
     "text": [
      "Free block found starting at minute 10\n"
     ]
    }
   ],
   "source": [
    "import java.util.List;\n",
    "\n",
    "public class FreeBlockFinder {\n",
    "    // Function to find a free block of the specified duration within a period.\n",
    "    public static int findFreeBlock(List<Boolean> period, int duration) {\n",
    "        int periodSize = period.size();\n",
    "        \n",
    "        // Loop through each minute in the period.\n",
    "        for (int minute = 0; minute <= periodSize - duration; minute++) {\n",
    "            boolean isBlockFree = true;\n",
    "            \n",
    "            // Check if the block of the specified duration is free.\n",
    "            for (int i = 0; i < duration; i++) {\n",
    "                if (!isMinuteFree(period, minute + i)) {\n",
    "                    isBlockFree = false;\n",
    "                    break; // Break out of the inner loop as soon as a non-free minute is found.\n",
    "                }\n",
    "            }\n",
    "            \n",
    "            // If the block is free, return the starting minute of the free block.\n",
    "            if (isBlockFree) {\n",
    "                return minute;\n",
    "            }\n",
    "        }\n",
    "        \n",
    "        // If no free block of the specified duration is found, return -1.\n",
    "        return -1;\n",
    "    }\n",
    "    \n",
    "    // Function to check if a specific minute within the period is free.\n",
    "    public static boolean isMinuteFree(List<Boolean> period, int minute) {\n",
    "        if (minute < 0 || minute >= period.size()) {\n",
    "            return false; // Minute is out of range, considered as not free.\n",
    "        }\n",
    "        \n",
    "        return period.get(minute); // Return whether the minute is free or not.\n",
    "    }\n",
    "    \n",
    "    // Main method for testing the FreeBlockFinder class.\n",
    "    public static void main(String[] args) {\n",
    "        // Example usage: Define a period of availability represented as a list of Boolean values.\n",
    "        List<Boolean> period = List.of(\n",
    "            false, false, false, false, false, false, false, false, false, false, // 0-9\n",
    "            true, true, true, true, true, // 10-14\n",
    "            false, false, false, false, false, false, false, false, false, false, // 15-29\n",
    "            true, true, true, true, true, // 30-44\n",
    "            false, false, false, false, false // 45-49\n",
    "        );\n",
    "        \n",
    "        int duration = 3; // Specify the duration of the block to search for.\n",
    "        int minute = findFreeBlock(period, duration); // Find a free block of the specified duration.\n",
    "        \n",
    "        // Output the result based on whether a free block was found or not.\n",
    "        if (minute != -1) {\n",
    "            System.out.println(\"Free block found starting at minute \" + minute);\n",
    "        } else {\n",
    "            System.out.println(\"No free block of duration \" + duration + \" found.\");\n",
    "        }\n",
    "    }\n",
    "}\n",
    "FreeBlockFinder.main(null)"
   ]
  },
  {
   "cell_type": "markdown",
   "metadata": {},
   "source": [
    "### PART B"
   ]
  },
  {
   "cell_type": "markdown",
   "metadata": {},
   "source": [
    "The method call **findFreeBlock** (2,15) would return 30 to indicate that a  15 minute block starting with minute 30 is available. No steps should be taken as a result of the call to **findFreeBlock** to mark those 15 minutes as unavailable.\n",
    "\n",
    "The method call **findFreeBlock** (2,9) would also return 30. Whenever there are multiple blocks that satisfy the requirment, the earliest starting minute is returned.\n",
    "\n",
    "The method **findFreeBlock** (2,20) would return -1, since no 20-minute block of available minutes exists in period 2.\n",
    "\n",
    "Complete method **findFreeBlock**. You must use **isMinuteFree** appropriatley in order to receive full credit."
   ]
  },
  {
   "cell_type": "code",
   "execution_count": 17,
   "metadata": {},
   "outputs": [
    {
     "name": "stdout",
     "output_type": "stream",
     "text": [
      "For duration 15:\n",
      "No free block of duration 15 found.\n",
      "For duration 9:\n",
      "No free block of duration 9 found.\n",
      "For duration 20:\n",
      "No free block of duration 20 found.\n"
     ]
    }
   ],
   "source": [
    "import java.util.List;\n",
    "\n",
    "public class FreeBlockFinder {\n",
    "    // Function to find a free block of the specified duration within a period.\n",
    "    public static int findFreeBlock(List<Boolean> period, int duration) {\n",
    "        int periodSize = period.size();\n",
    "        \n",
    "        // Loop through each minute in the period.\n",
    "        for (int minute = 0; minute <= periodSize - duration; minute++) {\n",
    "            boolean isBlockFree = true;\n",
    "            \n",
    "            // Check if the block of the specified duration is free.\n",
    "            for (int i = 0; i < duration; i++) {\n",
    "                if (!isMinuteFree(period, minute + i)) {\n",
    "                    isBlockFree = false;\n",
    "                    break; // Break out of the inner loop as soon as a non-free minute is found.\n",
    "                }\n",
    "            }\n",
    "            \n",
    "            // If the block is free, return the starting minute of the free block.\n",
    "            if (isBlockFree) {\n",
    "                return minute;\n",
    "            }\n",
    "        }\n",
    "        \n",
    "        // If no free block of the specified duration is found, return -1.\n",
    "        return -1;\n",
    "    }\n",
    "    \n",
    "    // Function to check if a specific minute within the period is free.\n",
    "    public static boolean isMinuteFree(List<Boolean> period, int minute) {\n",
    "        if (minute < 0 || minute >= period.size()) {\n",
    "            return false; // Minute is out of range, considered as not free.\n",
    "        }\n",
    "        \n",
    "        return period.get(minute); // Return whether the minute is free or not.\n",
    "    }\n",
    "    \n",
    "    // Main method for testing the FreeBlockFinder class.\n",
    "    public static void main(String[] args) {\n",
    "        // Example usage: Define a period of availability represented as a list of Boolean values.\n",
    "        List<Boolean> period = List.of(\n",
    "            false, false, false, false, false, false, false, false, false, false, // 0-9\n",
    "            true, true, true, true, true, // 10-14\n",
    "            false, false, false, false, false, false, false, false, false, false, // 15-29\n",
    "            true, true, true, true, true, // 30-44\n",
    "            false, false, false, false, false // 45-49\n",
    "        );\n",
    "        \n",
    "        // Test the findFreeBlock function with different durations.\n",
    "        int duration1 = 15;\n",
    "        int minute1 = findFreeBlock(period, duration1);\n",
    "        \n",
    "        int duration2 = 9;\n",
    "        int minute2 = findFreeBlock(period, duration2);\n",
    "        \n",
    "        int duration3 = 20;\n",
    "        int minute3 = findFreeBlock(period, duration3);\n",
    "        \n",
    "        // Output the results for each duration.\n",
    "        System.out.println(\"For duration \" + duration1 + \":\");\n",
    "        if (minute1 != -1) {\n",
    "            System.out.println(\"Free block found starting at minute \" + minute1);\n",
    "        } else {\n",
    "            System.out.println(\"No free block of duration \" + duration1 + \" found.\");\n",
    "        }\n",
    "        \n",
    "        System.out.println(\"For duration \" + duration2 + \":\");\n",
    "        if (minute2 != -1) {\n",
    "            System.out.println(\"Free block found starting at minute \" + minute2);\n",
    "        } else {\n",
    "            System.out.println(\"No free block of duration \" + duration2 + \" found.\");\n",
    "        }\n",
    "        \n",
    "        System.out.println(\"For duration \" + duration3 + \":\");\n",
    "        if (minute3 != -1) {\n",
    "            System.out.println(\"Free block found starting at minute \" + minute3);\n",
    "        } else {\n",
    "            System.out.println(\"No free block of duration \" + duration3 + \" found.\");\n",
    "        }\n",
    "    }\n",
    "}\n",
    "FreeBlockFinder.main(null)"
   ]
  },
  {
   "cell_type": "markdown",
   "metadata": {},
   "source": [
    "![IMG_0603603FAA0A-1](https://github.com/lunaiwa/student-template/assets/111661543/a6e21a37-1859-4ae6-a8e4-c4dc224520aa)\n",
    "![IMG_0232](https://github.com/lunaiwa/student-template/assets/111661543/fb13db92-c848-49ba-a7e8-2c514bf5ad71)"
   ]
  },
  {
   "cell_type": "markdown",
   "metadata": {},
   "source": [
    "### thoughts/challenges while doing the FRQ\n",
    "\n"
   ]
  },
  {
   "cell_type": "markdown",
   "metadata": {},
   "source": [
    "- Planning on how to answer the prompt\n",
    "- time management, during the test this is crutial\n",
    "- realizing i'll have to later wirte this by hand\n",
    "- optimizing my code\n",
    "- double checking code"
   ]
  },
  {
   "cell_type": "markdown",
   "metadata": {},
   "source": [
    "### future PBL questions ?"
   ]
  },
  {
   "cell_type": "markdown",
   "metadata": {},
   "source": [
    "### outside sources"
   ]
  },
  {
   "cell_type": "markdown",
   "metadata": {},
   "source": [
    "**Khan Academy Sources**\n",
    "\n",
    "https://www.khanacademy.org/computing/ap-computer-science-principles/algorithms-101/building-algorithms/a/the-building-blocks-of-algorithms\n",
    "\n",
    "https://www.khanacademy.org/computing/ap-computer-science-principles/programming-101/lists/a/storing-lists-of-data\n",
    "\n",
    "\n",
    "**College Board Methods and COntrol Sturcutres**\n",
    "\n",
    "https://www.youtube.com/watch?v=hwXArSLHvMg\n"
   ]
  }
 ],
 "metadata": {
  "kernelspec": {
   "display_name": "Java",
   "language": "java",
   "name": "java"
  },
  "language_info": {
   "codemirror_mode": "java",
   "file_extension": ".jshell",
   "mimetype": "text/x-java-source",
   "name": "java",
   "pygments_lexer": "java",
   "version": "20.0.1"
  }
 },
 "nbformat": 4,
 "nbformat_minor": 2
}
