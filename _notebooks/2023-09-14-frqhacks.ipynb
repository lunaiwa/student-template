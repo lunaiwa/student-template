{
 "cells": [
  {
   "cell_type": "markdown",
   "metadata": {},
   "source": [
    "---\n",
    "layout: post\n",
    "title: Week 4 |FRQ - Methods and Control Structures\n",
    "description: Going over the FRQ No. 2 classes\n",
    "categories: []\n",
    "courses: { csa: {week: 4} }\n",
    "type: hacks\n",
    "---"
   ]
  },
  {
   "cell_type": "markdown",
   "metadata": {},
   "source": [
    "# Methods and Control Sturcutres"
   ]
  },
  {
   "cell_type": "markdown",
   "metadata": {},
   "source": [
    "### Methods"
   ]
  },
  {
   "cell_type": "markdown",
   "metadata": {},
   "source": [
    "In Java, methods are blocks of code within classes that perform specific tasks or functions. They are defined with a name, optional parameters, and an optional return type, and they can be invoked (called) from other parts of the program to execute the code within them. Methods help organize and modularize code, making it easier to read, maintain, and reuse, and they are a fundamental building block of Java programs, allowing developers to encapsulate functionality and promote code reusability."
   ]
  },
  {
   "cell_type": "markdown",
   "metadata": {},
   "source": [
    "### Control Structures"
   ]
  },
  {
   "cell_type": "markdown",
   "metadata": {},
   "source": [
    "Control structures in Java are constructs that govern the flow of a program by allowing you to make decisions and control the execution of code. The primary control structures in Java include if-else statements, switch statements, loops (such as for, while, and do-while loops), and branching mechanisms like break and continue. These structures enable developers to create conditions, loops, and branching logic, empowering them to execute specific code blocks based on conditions, iterate through data, and control the program's flow, ultimately enhancing the program's logic and functionality."
   ]
  },
  {
   "cell_type": "markdown",
   "metadata": {},
   "source": [
    "# FRQ HACKS\n",
    "\n",
    "Using the classes type of questions\n",
    "\n",
    "link the the frq https://apcentral.collegeboard.org/media/pdf/ap23-frq-comp-sci-a.pdf"
   ]
  },
  {
   "cell_type": "markdown",
   "metadata": {},
   "source": [
    "### Answering the FRQ\n",
    "\n",
    "Solve the problem, including missing pieces in a Jupyter Notebook.\n",
    "\n",
    "This question involves the **AppointmentBook** class, which provides methods for students to schedule appointments with their teacher. Appointments can be scheduled during one of eight class periods during the school day, numbered 1 through 8. A requested appointment had a duration, which is the number of minutes the appointment will last. The 60 minutes within a period are numbered 0 through 59. In order for an appointemnt to be scheudled, the teacher must ave a block of consecutive, available minutes that contains at least the requested number of minutes in a requested period. Scheudled appointments must start and end within the same period.\n",
    "\n",
    "The **AppointmentBook** class contains two helper methods, **isMinuteFree** and **reserceBlock**. You will write two additional methods of the **AppointmentBook** class."
   ]
  },
  {
   "cell_type": "markdown",
   "metadata": {},
   "source": [
    "### PART A"
   ]
  },
  {
   "cell_type": "markdown",
   "metadata": {},
   "source": [
    "Write the **findFreeBlock** method, which searches **period** for the first block of free minutes that is **duration** minutes long. If such bloack is found, **findFreeBlock** returns the first minute in the block. Otherwise, **findFreeBlock** returns -1. The **findFreeBlock** method uses the helper method **isMinuteFree** which returns **true** if a particular minute is available to be included in a new appointment and returns **false** if the minute is unavailable\n",
    "\n",
    "Consider the following list of unavailable and available minutes in period 2\n",
    "\n",
    "0-9 is not available\n",
    "\n",
    "10-14 is available\n",
    "\n",
    "15-29 is not available\n",
    "\n",
    "30-44 is available\n",
    "\n",
    "45-49 is not available\n",
    "\n",
    "50-59 is available"
   ]
  },
  {
   "cell_type": "code",
   "execution_count": 4,
   "metadata": {
    "vscode": {
     "languageId": "java"
    }
   },
   "outputs": [],
   "source": [
    "import java.util.ArrayList;\n",
    "import java.util.List;\n",
    "\n",
    "public class AppointmentBook {\n",
    "    // The number of periods in a school day (1 through 8)\n",
    "    private static final int NUM_PERIODS = 8;\n",
    "\n",
    "    // Data structure to represent the availability of minutes in each period\n",
    "    private List<List<Boolean>> availability;\n",
    "\n",
    "    public AppointmentBook() {\n",
    "        // Initialize the availability matrix with 8 periods of 60 minutes each\n",
    "        availability = new ArrayList<>();\n",
    "        for (int i = 0; i < NUM_PERIODS; i++) {\n",
    "            List<Boolean> periodAvailability = new ArrayList<>();\n",
    "            for (int j = 0; j < 60; j++) {\n",
    "                periodAvailability.add(true); // Assume all minutes are initially available\n",
    "            }\n",
    "            availability.add(periodAvailability);\n",
    "        }\n",
    "    }\n",
    "\n",
    "    // Helper method to check if a specific minute in a period is free\n",
    "    private boolean isMinuteFree(int period, int minute) {\n",
    "        return availability.get(period - 1).get(minute);\n",
    "    }\n",
    "\n",
    "    // Helper method to reserve a block of minutes for an appointment\n",
    "    private void reserveBlock(int period, int startMinute, int duration) {\n",
    "        for (int i = startMinute; i < startMinute + duration; i++) {\n",
    "            availability.get(period - 1).set(i, false); // Mark the minutes as unavailable\n",
    "        }\n",
    "    }\n",
    "\n",
    "    // Method to find the first block of free minutes that is 'duration' minutes long\n",
    "    public int findFreeBlock(int period, int duration) {\n",
    "        List<Boolean> periodAvailability = availability.get(period - 1);\n",
    "        int consecutiveFreeMinutes = 0;\n",
    "        int firstFreeMinute = -1;\n",
    "\n",
    "        for (int i = 0; i < 60; i++) {\n",
    "            if (periodAvailability.get(i)) {\n",
    "                // If the minute is available, increment the consecutive free minutes count\n",
    "                consecutiveFreeMinutes++;\n",
    "                if (consecutiveFreeMinutes == 1) {\n",
    "                    // Record the start of the first free block\n",
    "                    firstFreeMinute = i;\n",
    "                }\n",
    "                if (consecutiveFreeMinutes == duration) {\n",
    "                    // Found a block of the required duration, so return the start minute\n",
    "                    reserveBlock(period, firstFreeMinute, duration); // Reserve the block\n",
    "                    return firstFreeMinute;\n",
    "                }\n",
    "            } else {\n",
    "                // If the minute is not available, reset the consecutive free minutes count\n",
    "                consecutiveFreeMinutes = 0;\n",
    "            }\n",
    "        }\n",
    "\n",
    "        // If no block of the required duration is found, return -1\n",
    "        return -1;\n",
    "    }\n",
    "\n",
    "    public static void main(String[] args) {\n",
    "        AppointmentBook appointmentBook = new AppointmentBook();\n",
    "        \n",
    "        int period = 2;\n",
    "        int duration = 5;\n",
    "        int startMinute = appointmentBook.findFreeBlock(period, duration);\n",
    "        \n",
    "        if (startMinute != -1) {\n",
    "            System.out.println(\"Appointment scheduled in period \" + period + \" starting at minute \" + startMinute);\n",
    "        } else {\n",
    "            System.out.println(\"No available block found in period \" + period + \" for duration \" + duration + \" minutes.\");\n",
    "        }\n",
    "    }\n",
    "}"
   ]
  },
  {
   "cell_type": "markdown",
   "metadata": {},
   "source": [
    "### PART B"
   ]
  },
  {
   "cell_type": "markdown",
   "metadata": {},
   "source": [
    "The method call **findFreeBlock** (2,15) would return 30 to indicate that a  15 minute block starting with minute 30 is available. No steps should be taken as a result of the call to **findFreeBlock** to mark those 15 minutes as unavailable.\n",
    "\n",
    "The method call **findFreeBlock** (2,9) would also return 30. Whenever there are multiple blocks that satisfy the requirment, the earliest starting minute is returned.\n",
    "\n",
    "The method **findFreeBlock** (2,20) would return -1, since no 20-minute block of available minutes exists in period 2.\n",
    "\n",
    "Complete method **findFreeBlock**. You must use **isMinuteFree** appropriatley in order to receive full credit."
   ]
  },
  {
   "cell_type": "code",
   "execution_count": 7,
   "metadata": {
    "vscode": {
     "languageId": "java"
    }
   },
   "outputs": [],
   "source": [
    "public boolean makeAppointment(int startPeriod, int endPeriod, int duration) {\n",
    "    // Loop through the specified 'startPeriod' to 'endPeriod'\n",
    "    for (int go = startPeriod; go <= endPeriod; go++) {\n",
    "        // Attempt to find a free block of the given 'duration' within the current 'go' period\n",
    "        int loc = findFreeBlock(go, duration);\n",
    "\n",
    "        // If a free block is found (loc is not -1), reserve the block and return true\n",
    "        if (loc != -1) {\n",
    "            reserveBlock(go, loc, duration);\n",
    "            return true; // Appointment successfully made\n",
    "        }\n",
    "    }\n",
    "    // If no free blocks are found in the specified range, return false\n",
    "    return false; // Appointment could not be made\n",
    "}"
   ]
  },
  {
   "cell_type": "markdown",
   "metadata": {},
   "source": [
    "## Illustrations\n",
    "\n",
    "\n",
    "![IMG_661A79616015-1](https://github.com/lunaiwa/student-template/assets/111661543/a6623422-8091-4fd6-ada8-b49cde2bf4f0)\n",
    "![IMG_EF5E9BC73D23-1](https://github.com/lunaiwa/student-template/assets/111661543/a7ca7788-4fad-47a6-9669-4af1f2ce9c99)"
   ]
  },
  {
   "cell_type": "markdown",
   "metadata": {},
   "source": [
    "### thoughts/challenges while doing the FRQ\n",
    "\n"
   ]
  },
  {
   "cell_type": "markdown",
   "metadata": {},
   "source": [
    "- Planning on how to answer the prompt\n",
    "- time management, during the test this is crutial\n",
    "- realizing i'll have to later wirte this by hand\n",
    "- optimizing my code\n",
    "- double checking code"
   ]
  },
  {
   "cell_type": "markdown",
   "metadata": {},
   "source": [
    "### future PBL questions ?"
   ]
  },
  {
   "cell_type": "markdown",
   "metadata": {},
   "source": [
    "### outside sources"
   ]
  },
  {
   "cell_type": "markdown",
   "metadata": {},
   "source": [
    "**Khan Academy Sources**\n",
    "\n",
    "https://www.khanacademy.org/computing/ap-computer-science-principles/algorithms-101/building-algorithms/a/the-building-blocks-of-algorithms\n",
    "\n",
    "https://www.khanacademy.org/computing/ap-computer-science-principles/programming-101/lists/a/storing-lists-of-data\n",
    "\n",
    "\n",
    "**College Board Methods and COntrol Sturcutres**\n",
    "\n",
    "https://www.youtube.com/watch?v=hwXArSLHvMg\n"
   ]
  },
  {
   "cell_type": "code",
   "execution_count": null,
   "metadata": {
    "vscode": {
     "languageId": "java"
    }
   },
   "outputs": [],
   "source": [
    "public int findFreeBlock(int period, int duration) {\n",
    "    // Initialize variables to keep track of the current run and the start of the free block\n",
    "    int run = 0; // The current run of consecutive free minutes\n",
    "    int s = 0;   // The start of the free block\n",
    "\n",
    "    // Loop through the minutes from 0 to 59 (representing an hour)\n",
    "    for (int m = 0; m <= 59; m++) {\n",
    "        // Check if the minute at 'm' is free within the given 'period'\n",
    "        if (isMinuteFree(period, m)) {\n",
    "            // If this is the beginning of a potential free block, update the start 's'\n",
    "            if (run == 0)\n",
    "                s = m;\n",
    "\n",
    "            // Increment the run count for consecutive free minutes\n",
    "            run++;\n",
    "\n",
    "            // If the desired 'duration' of free minutes is met, return the start 's'\n",
    "            if (run == duration)\n",
    "                return s;\n",
    "        } else {\n",
    "            // If the minute is not free, reset the run count\n",
    "            run = 0;\n",
    "        }\n",
    "    }\n",
    "\n",
    "    // If no free block of the specified duration is found, return -1\n",
    "    return -1;\n",
    "}"
   ]
  }
 ],
 "metadata": {
  "kernelspec": {
   "display_name": "Java",
   "language": "java",
   "name": "java"
  },
  "language_info": {
   "codemirror_mode": "java",
   "file_extension": ".jshell",
   "mimetype": "text/x-java-source",
   "name": "Java",
   "pygments_lexer": "java",
   "version": "20.0.1"
  }
 },
 "nbformat": 4,
 "nbformat_minor": 2
}
