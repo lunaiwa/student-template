{
 "cells": [
  {
   "cell_type": "markdown",
   "metadata": {},
   "source": [
    "---\n",
    "layout: post\n",
    "title: Week 4 |FRQ - Methods and Control Structures\n",
    "description: Going over the FRQ No. 2 classes\n",
    "categories: []\n",
    "courses: { csa: {week: 4} }\n",
    "type: hacks\n",
    "---"
   ]
  },
  {
   "cell_type": "markdown",
   "metadata": {},
   "source": [
    "# Methods and Control Sturcutres"
   ]
  },
  {
   "cell_type": "markdown",
   "metadata": {},
   "source": [
    "### Methods"
   ]
  },
  {
   "cell_type": "markdown",
   "metadata": {},
   "source": [
    "In Java, methods are blocks of code within classes that perform specific tasks or functions. They are defined with a name, optional parameters, and an optional return type, and they can be invoked (called) from other parts of the program to execute the code within them. Methods help organize and modularize code, making it easier to read, maintain, and reuse, and they are a fundamental building block of Java programs, allowing developers to encapsulate functionality and promote code reusability."
   ]
  },
  {
   "cell_type": "markdown",
   "metadata": {},
   "source": [
    "### Control Structures"
   ]
  },
  {
   "cell_type": "markdown",
   "metadata": {},
   "source": [
    "Control structures in Java are constructs that govern the flow of a program by allowing you to make decisions and control the execution of code. The primary control structures in Java include if-else statements, switch statements, loops (such as for, while, and do-while loops), and branching mechanisms like break and continue. These structures enable developers to create conditions, loops, and branching logic, empowering them to execute specific code blocks based on conditions, iterate through data, and control the program's flow, ultimately enhancing the program's logic and functionality."
   ]
  },
  {
   "cell_type": "markdown",
   "metadata": {},
   "source": [
    "# FRQ HACKS\n",
    "\n",
    "Using the classes type of questions\n",
    "\n",
    "link the the frq https://apcentral.collegeboard.org/media/pdf/ap23-frq-comp-sci-a.pdf"
   ]
  },
  {
   "cell_type": "markdown",
   "metadata": {},
   "source": [
    "### Answering the FRQ\n",
    "\n",
    "Solve the problem, including missing pieces in a Jupyter Notebook.\n",
    "\n",
    "This question involves the **AppointmentBook** class, which provides methods for students to schedule appointments with their teacher. Appointments can be scheduled during one of eight class periods during the school day, numbered 1 through 8. A requested appointment had a duration, which is the number of minutes the appointment will last. The 60 minutes within a period are numbered 0 through 59. In order for an appointemnt to be scheudled, the teacher must ave a block of consecutive, available minutes that contains at least the requested number of minutes in a requested period. Scheudled appointments must start and end within the same period.\n",
    "\n",
    "The **AppointmentBook** class contains two helper methods, **isMinuteFree** and **reserceBlock**. You will write two additional methods of the **AppointmentBook** class."
   ]
  },
  {
   "cell_type": "markdown",
   "metadata": {},
   "source": [
    "### PART A"
   ]
  },
  {
   "cell_type": "markdown",
   "metadata": {},
   "source": [
    "Write the **findFreeBlock** method, which searches **period** for the first block of free minutes that is **duration** minutes long. If such bloack is found, **findFreeBlock** returns the first minute in the block. Otherwise, **findFreeBlock** returns -1. The **findFreeBlock** method uses the helper method **isMinuteFree** which returns **true** if a particular minute is available to be included in a new appointment and returns **false** if the minute is unavailable\n",
    "\n",
    "Consider the following list of unavailable and available minutes in period 2\n",
    "\n",
    "0-9 is not available\n",
    "\n",
    "10-14 is available\n",
    "\n",
    "15-29 is not available\n",
    "\n",
    "30-44 is available\n",
    "\n",
    "45-49 is not available\n",
    "\n",
    "50-59 is available"
   ]
  },
  {
   "cell_type": "code",
   "execution_count": 4,
   "metadata": {},
   "outputs": [],
   "source": [
    "public int findFreeBlock(int period, int duration) {\n",
    "    // Initialize variables to keep track of the current run and the start of the free block\n",
    "    int run = 0; // The current run of consecutive free minutes\n",
    "    int s = 0;   // The start of the free block\n",
    "\n",
    "    // Loop through the minutes from 0 to 59 (representing an hour)\n",
    "    for (int m = 0; m <= 59; m++) {\n",
    "        // Check if the minute at 'm' is free within the given 'period'\n",
    "        if (isMinuteFree(period, m)) {\n",
    "            // If this is the beginning of a potential free block, update the start 's'\n",
    "            if (run == 0)\n",
    "                s = m;\n",
    "\n",
    "            // Increment the run count for consecutive free minutes\n",
    "            run++;\n",
    "\n",
    "            // If the desired 'duration' of free minutes is met, return the start 's'\n",
    "            if (run == duration)\n",
    "                return s;\n",
    "        } else {\n",
    "            // If the minute is not free, reset the run count\n",
    "            run = 0;\n",
    "        }\n",
    "    }\n",
    "\n",
    "    // If no free block of the specified duration is found, return -1\n",
    "    return -1;\n",
    "}"
   ]
  },
  {
   "cell_type": "markdown",
   "metadata": {},
   "source": [
    "### PART B"
   ]
  },
  {
   "cell_type": "markdown",
   "metadata": {},
   "source": [
    "The method call **findFreeBlock** (2,15) would return 30 to indicate that a  15 minute block starting with minute 30 is available. No steps should be taken as a result of the call to **findFreeBlock** to mark those 15 minutes as unavailable.\n",
    "\n",
    "The method call **findFreeBlock** (2,9) would also return 30. Whenever there are multiple blocks that satisfy the requirment, the earliest starting minute is returned.\n",
    "\n",
    "The method **findFreeBlock** (2,20) would return -1, since no 20-minute block of available minutes exists in period 2.\n",
    "\n",
    "Complete method **findFreeBlock**. You must use **isMinuteFree** appropriatley in order to receive full credit."
   ]
  },
  {
   "cell_type": "code",
   "execution_count": 7,
   "metadata": {},
   "outputs": [],
   "source": [
    "public boolean makeAppointment(int startPeriod, int endPeriod, int duration) {\n",
    "    // loop the specif 'startPeriod' to 'endPeriod'\n",
    "    for (int go = startPeriod; go <= endPeriod; go++) {\n",
    "        // try find free block of the given 'duration' within the current 'go' period\n",
    "        int loc = findFreeBlock(go, duration);\n",
    "\n",
    "        //  free block is found (loc is not -1), rese block + return true\n",
    "        if (loc != -1) {\n",
    "            reserveBlock(go, loc, duration);\n",
    "            return true; // Appointment successfully made\n",
    "        }\n",
    "    }\n",
    "    // no free blocks are found in the range, false\n",
    "    return false; // appointm could not be made\n",
    "}"
   ]
  },
  {
   "cell_type": "markdown",
   "metadata": {},
   "source": [
    "## Illustrations\n",
    "\n",
    "\n",
    "![IMG_661A79616015-1](https://github.com/lunaiwa/student-template/assets/111661543/a6623422-8091-4fd6-ada8-b49cde2bf4f0)\n",
    "\n",
    "The provided code is a Java method called `findFreeBlock` that is designed to find a consecutive block of free minutes within a given hour (60 minutes) that meets certain criteria. It takes two integer parameters: `period` and `duration`, and returns an integer value indicating the start of the free block or -1 if no suitable block is found.\n",
    "\n",
    "Here's a detailed explanation of the code:\n",
    "\n",
    "1. **Variables Initialization**: \n",
    "   - `int run = 0;`: This variable keeps track of the current run of consecutive free minutes.\n",
    "   - `int s = 0;`: This variable stores the start of the free block, which will be returned as the result.\n",
    "\n",
    "2. **Loop through Minutes**:\n",
    "   - The code uses a `for` loop to iterate through the minutes from 0 to 59, representing an hour.\n",
    "\n",
    "3. **Checking for Free Minutes**:\n",
    "   - Inside the loop, it calls the `isMinuteFree` function with the current minute `m` and the specified `period` to check if the minute is free within the given period.\n",
    "\n",
    "4. **Updating Start of Free Block (`s`)**:\n",
    "   - If the minute at `m` is free within the given `period` and `run` (the count of consecutive free minutes) is 0, it updates the start `s` to the current minute `m`. This marks the beginning of a potential free block.\n",
    "\n",
    "5. **Incrementing the Run Count**:\n",
    "   - If the minute is free, it increments the `run` count to keep track of consecutive free minutes.\n",
    "\n",
    "6. **Checking for Desired Duration**:\n",
    "   - It checks if the `run` count has reached the desired `duration`. If it has, it means a free block of the specified duration has been found, so it returns the start `s` as the result.\n",
    "\n",
    "7. **Resetting Run Count**:\n",
    "   - If the minute is not free, it resets the `run` count to 0, as the consecutive run of free minutes has been interrupted.\n",
    "\n",
    "8. **Returning -1 if No Suitable Block Found**:\n",
    "   - If no free block of the specified duration is found within the hour, the method returns -1 to indicate that no suitable block was found.\n",
    "\n",
    "In summary, this method iterates through an hour, looking for a consecutive block of free minutes that meets the specified `period` and `duration` criteria. If such a block is found, it returns the starting minute of the block; otherwise, it returns -1 to indicate that no suitable block was found.\n",
    "\n",
    "![IMG_EF5E9BC73D23-1](https://github.com/lunaiwa/student-template/assets/111661543/a7ca7788-4fad-47a6-9669-4af1f2ce9c99)\n",
    "\n",
    "The provided code is a Java method named `makeAppointment` that is intended to schedule an appointment for a specific duration within a given time range represented by `startPeriod` and `endPeriod`. It returns a boolean value: `true` if the appointment is successfully made, and `false` if no suitable time slot is available.\n",
    "\n",
    "Here's a detailed breakdown of how this code works:\n",
    "\n",
    "1. **Loop Through Time Range**:\n",
    "   - The method starts by looping through the time periods from `startPeriod` to `endPeriod`. These periods likely represent time slots during which appointments can be scheduled.\n",
    "\n",
    "2. **Finding a Free Block**:\n",
    "   - Within each time period (`go`), it calls the `findFreeBlock` method to search for a free block of the given `duration`. The `findFreeBlock` method attempts to find consecutive free minutes within the current time period.\n",
    "\n",
    "3. **Checking for a Free Block**:\n",
    "   - If the `findFreeBlock` method returns a value other than -1 (indicating that a free block of the specified duration was found within the current time period), the code proceeds.\n",
    "\n",
    "4. **Reserving the Block**:\n",
    "   - It calls a `reserveBlock` method (which is not shown in the provided code but presumably handles the reservation of the appointment) with the following arguments:\n",
    "     - `go`: The time period in which the free block was found.\n",
    "     - `loc`: The start minute of the free block.\n",
    "     - `duration`: The duration of the appointment.\n",
    "\n",
    "5. **Returning `true`**:\n",
    "   - After successfully reserving the appointment, it returns `true` to indicate that the appointment was successfully made.\n",
    "\n",
    "6. **No Suitable Block Found**:\n",
    "   - If the loop completes without finding a suitable free block for the given duration within the specified time range, the method returns `false` to indicate that the appointment could not be made.\n",
    "\n",
    "In essence, this code attempts to find a free time slot for an appointment by iterating through a specified time range and using the `findFreeBlock` method to check for available slots of the desired duration. If it finds one, it reserves the appointment and returns `true`. If no suitable slot is found in the entire range, it returns `false`."
   ]
  },
  {
   "cell_type": "markdown",
   "metadata": {},
   "source": [
    "### thoughts/challenges while doing the FRQ\n",
    "\n"
   ]
  },
  {
   "cell_type": "markdown",
   "metadata": {},
   "source": [
    "- Planning on how to answer the prompt\n",
    "- time management, during the test this is crutial\n",
    "- realizing i'll have to later wirte this by hand\n",
    "- optimizing my code\n",
    "- double checking code"
   ]
  },
  {
   "cell_type": "markdown",
   "metadata": {},
   "source": [
    "### future PBL questions ?"
   ]
  },
  {
   "cell_type": "markdown",
   "metadata": {},
   "source": [
    "### outside sources"
   ]
  },
  {
   "cell_type": "markdown",
   "metadata": {},
   "source": [
    "**Khan Academy Sources**\n",
    "\n",
    "https://www.khanacademy.org/computing/ap-computer-science-principles/algorithms-101/building-algorithms/a/the-building-blocks-of-algorithms\n",
    "\n",
    "https://www.khanacademy.org/computing/ap-computer-science-principles/programming-101/lists/a/storing-lists-of-data\n",
    "\n",
    "\n",
    "**College Board Methods and COntrol Sturcutres**\n",
    "\n",
    "https://www.youtube.com/watch?v=hwXArSLHvMg\n"
   ]
  },
  {
   "cell_type": "markdown",
   "metadata": {},
   "source": [
    "The provided code is a Java method called `findFreeBlock` that is designed to find a consecutive block of free minutes within a given hour (60 minutes) that meets certain criteria. It takes two integer parameters: `period` and `duration`, and returns an integer value indicating the start of the free block or -1 if no suitable block is found.\n",
    "\n",
    "Here's a detailed explanation of the code:\n",
    "\n",
    "1. **Variables Initialization**: \n",
    "   - `int run = 0;`: This variable keeps track of the current run of consecutive free minutes.\n",
    "   - `int s = 0;`: This variable stores the start of the free block, which will be returned as the result.\n",
    "\n",
    "2. **Loop through Minutes**:\n",
    "   - The code uses a `for` loop to iterate through the minutes from 0 to 59, representing an hour.\n",
    "\n",
    "3. **Checking for Free Minutes**:\n",
    "   - Inside the loop, it calls the `isMinuteFree` function with the current minute `m` and the specified `period` to check if the minute is free within the given period.\n",
    "\n",
    "4. **Updating Start of Free Block (`s`)**:\n",
    "   - If the minute at `m` is free within the given `period` and `run` (the count of consecutive free minutes) is 0, it updates the start `s` to the current minute `m`. This marks the beginning of a potential free block.\n",
    "\n",
    "5. **Incrementing the Run Count**:\n",
    "   - If the minute is free, it increments the `run` count to keep track of consecutive free minutes.\n",
    "\n",
    "6. **Checking for Desired Duration**:\n",
    "   - It checks if the `run` count has reached the desired `duration`. If it has, it means a free block of the specified duration has been found, so it returns the start `s` as the result.\n",
    "\n",
    "7. **Resetting Run Count**:\n",
    "   - If the minute is not free, it resets the `run` count to 0, as the consecutive run of free minutes has been interrupted.\n",
    "\n",
    "8. **Returning -1 if No Suitable Block Found**:\n",
    "   - If no free block of the specified duration is found within the hour, the method returns -1 to indicate that no suitable block was found.\n",
    "\n",
    "In summary, this method iterates through an hour, looking for a consecutive block of free minutes that meets the specified `period` and `duration` criteria. If such a block is found, it returns the starting minute of the block; otherwise, it returns -1 to indicate that no suitable block was found."
   ]
  }
 ],
 "metadata": {
  "kernelspec": {
   "display_name": "Java",
   "language": "java",
   "name": "java"
  },
  "language_info": {
   "codemirror_mode": "java",
   "file_extension": ".jshell",
   "mimetype": "text/x-java-source",
   "name": "java",
   "pygments_lexer": "java",
   "version": "20.0.1"
  }
 },
 "nbformat": 4,
 "nbformat_minor": 2
}
