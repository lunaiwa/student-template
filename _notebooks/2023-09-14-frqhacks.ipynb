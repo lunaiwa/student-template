{
 "cells": [
  {
   "cell_type": "markdown",
   "metadata": {},
   "source": [
    " ---\n",
    "layout: post\n",
    "title: Week 4 |FRQ Overview\n",
    "description: Going over the FRQ No. 2 classes\n",
    "courses: { csa: {week: 4} }\n",
    "type: plans\n",
    "---"
   ]
  },
  {
   "cell_type": "markdown",
   "metadata": {},
   "source": [
    "# FRQ HACKS\n",
    "\n",
    "Using the classes type of questions\n",
    "\n",
    "link the the frq https://apcentral.collegeboard.org/media/pdf/ap23-frq-comp-sci-a.pdf"
   ]
  },
  {
   "cell_type": "markdown",
   "metadata": {},
   "source": [
    "### illustration for the FRQ >>"
   ]
  },
  {
   "cell_type": "markdown",
   "metadata": {},
   "source": [
    "### Answering the FRQ\n",
    "\n",
    "Solve the problem, including missing pieces in a Jupyter Notebook.\n",
    "\n",
    "This question involves the **AppointmentBook** class, which provides methods for students to schedule appointments with their teacher. Appointments can be scheduled during one of eight class periods during the school day, numbered 1 through 8. A requested appointment had a duration, which is the number of minutes the appointment will last. The 60 minutes within a period are numbered 0 through 59. In order for an appointemnt to be scheudled, the teacher must ave a block of consecutive, available minutes that contains at least the requested number of minutes in a requested period. Scheudled appointments must start and end within the same period.\n",
    "\n",
    "The **AppointmentBook** class contains two helper methods, **isMinuteFree** and **reserceBlock**. You will write two additional methods of the **AppointmentBook** class."
   ]
  },
  {
   "cell_type": "markdown",
   "metadata": {},
   "source": [
    "Write the **findFreeBlock** method, which searches **period** for the first block of free minutes that is **duration** minutes long. If such bloack is found, **findFreeBlock** returns the first minute in the block. Otherwise, **findFreeBlock** returns -1. The **findFreeBlock** method uses the helper method **isMinuteFree** which returns **true** if a particular minute is available to be included in a new appointment and returns **false** if the minute is unavailable\n",
    "\n",
    "Consider the following list of unavailable and available minutes in period 2\n",
    "\n",
    "0-9 is not available\n",
    "\n",
    "10-14 is available\n",
    "\n",
    "15-29 is not available\n",
    "\n",
    "30-44 is available\n",
    "\n",
    "45-49 is not available\n",
    "\n",
    "50-59 is available\n",
    "\n",
    "The method call **findFreeBlock** (2,15) would return 30 to indicate that a  15 minute block starting with minute 30 is available. No steps should be taken as a result of the call to **findFreeBlock** to mark those 15 minutes as unavailable.\n",
    "\n",
    "The method call **findFreeBlock** (2,9) would also return 30. Whenever there are multiple blocks that satisfy the requirment, the earliest starting minute is returned.\n",
    "\n",
    "The method **findFreeBlock** (2,20) would return -1, since no 20-minute block of available minutes exists in period 2.\n",
    "\n",
    "Complete method **findFreeBlock**. You must use **isMinuteFree** appropriatley in order to receive full credit."
   ]
  },
  {
   "cell_type": "markdown",
   "metadata": {},
   "source": [
    "### thoughts/challenges while doing the FRQ"
   ]
  },
  {
   "cell_type": "markdown",
   "metadata": {},
   "source": [
    "### future PBL questions ?"
   ]
  },
  {
   "cell_type": "markdown",
   "metadata": {},
   "source": [
    "### outside sources"
   ]
  }
 ],
 "metadata": {
  "language_info": {
   "name": "python"
  },
  "orig_nbformat": 4
 },
 "nbformat": 4,
 "nbformat_minor": 2
}
