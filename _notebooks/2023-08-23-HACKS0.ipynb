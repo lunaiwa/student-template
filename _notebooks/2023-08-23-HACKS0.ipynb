{
 "cells": [
  {
   "cell_type": "markdown",
   "metadata": {},
   "source": [
    "---\n",
    "comments: true\n",
    "layout: post\n",
    "title: Week 0 Hacks\n",
    "description: Hacks of the week in the categories of \n",
    "type: hacks\n",
    "courses: { csse: {week: 0}, csp: {week: 0}, csa: {week: 0} }\n",
    "categories: [C4.1]\n",
    "---"
   ]
  },
  {
   "cell_type": "markdown",
   "metadata": {},
   "source": [
    "# **Week 0 HACKS**\n",
    "---"
   ]
  },
  {
   "cell_type": "markdown",
   "metadata": {},
   "source": [
    "# <mark>**Code, Code, Code**</mark>"
   ]
  },
  {
   "cell_type": "markdown",
   "metadata": {},
   "source": [
    "## <span style=\"color:red\">Markdown Student Page</span>"
   ]
  },
  {
   "cell_type": "markdown",
   "metadata": {},
   "source": [
    "### <span style=\"color:blue\">**Hacks**</span>\n",
    "\n",
    "At the end of this week you should select your theme and start customizing your page.\n",
    "\n",
    "- [ ] Students should select a theme from the available options in the _config.yml file and start customizing their page accordingly.\n",
    "- [ ] Try to alter index.md with images and links according to some of your personal interests. For instance, make an outline of your classes, school activities, and homework requirements. Add your freeform picture.\n",
    "- [ ] Google Markdown Cheatsheet or W3Schools HTML Tutorial for guideance. Try to do something on your index.md not discussed in this blog."
   ]
  },
  {
   "cell_type": "markdown",
   "metadata": {},
   "source": [
    "## <span style=\"color:red\">Build a Project</pan>"
   ]
  },
  {
   "cell_type": "markdown",
   "metadata": {},
   "source": [
    "What do beginning developers like to Create? Everyone says the best way to learn a language is to build something. What would do beginning developers like to build?\n",
    "\n",
    "- [ ] [Geeks for Geeks Research Ideas](https://www.geeksforgeeks.org/top-10-projects-for-beginners-to-practice-html-and-css-skills/)\n",
    "- [ ] Talk to someone who remembers their 1st Web project. What did the build?\n",
    "- [ ] Ask someone what they need. It is always best to be working on something that is useful.\n",
    "- [ ] Think about your school year. Computer Science is often thought about as a tool box. How would you use the tools of Computer Science to help you become a better student this year?"
   ]
  },
  {
   "cell_type": "markdown",
   "metadata": {},
   "source": [
    "### <span style=\"color:blue\">**Hacks**</span>\n",
    "\n",
    "Go forward with information provided in all the lessons up to now and try to complete a home page for a project and make a new .md file in _posts for one of the hacks describe below. Connect the hack with the home page, index.md. These items listed are considered prevalent on the internet. In this Teachers opinion, this is more of finding and moving code into your project, not so much a development project. This process is to finding code, learning the pieces, and then moving into your project is called integration. If you are doing a lot of coding, you may be over working the coding part, focus more on the integration part!\n",
    "\n",
    "Overall, this project offers a good foundation for high school students to dive into web development using GitHub Pages. It provides guidance on creating a home page, integrating content and features, and suggests fun and engaging projects for students to explore. With the provided links and hacks, students should have plenty of resources and ideas to start building their own GitHub Pages projects."
   ]
  },
  {
   "cell_type": "markdown",
   "metadata": {},
   "source": [
    "**Build a Game**\n",
    "\n",
    "Building a game is an excellent project for students to explore more advanced JavaScript concepts, such as game logic, handling user interactions, and managing state.\n",
    "\n",
    "- [ ] Show data to store game logic\n",
    "- [ ] Many Tic Tac Toe games are available on Internet and ChatGPT, search “tic-tack-toe in javascript”. Additionally, Teach has some other games that are very common…"
   ]
  },
  {
   "cell_type": "markdown",
   "metadata": {},
   "source": [
    "---"
   ]
  },
  {
   "cell_type": "markdown",
   "metadata": {},
   "source": [
    "# <mark>**Tools and DevOps**</mark>"
   ]
  },
  {
   "cell_type": "markdown",
   "metadata": {},
   "source": [
    "## <span style=\"color:red\">Tools and Equipment Overview</span>"
   ]
  },
  {
   "cell_type": "markdown",
   "metadata": {},
   "source": [
    "### <span style=\"color:blue\">**Hacks**</span>\n",
    "\n",
    "Review all the items mentioned above and get started with setup. Try to understand the concepts behind these tools and seek clarification when needed. Each student needs to take the setup process seriously and should highlight that consistent access to the necessary tools is essential for active participation in the class.\n",
    "\n",
    "- [ ] Bring your computer daily. If you don't have computer and tools access, you are effectually absent!!!\n",
    "- [ ] Review material on tools, draw a picture. Installing tools can be a bit of a process. Read, review, and get started. After you do it a little, it starts to become easy.\n",
    "- [ ] Blog why you love your tools. Do not fear your tools, love your tools'. Then you become familiar and proficient in using your tools, they become extensions of your abilities and empower you to accomplish Code/Code/Coding tasks more efficiently.\n",
    "- [ ] Add yourself to Users Database. We need you registered so we know how to support you best. This registration will be used for automation now and through the year."
   ]
  },
  {
   "cell_type": "markdown",
   "metadata": {},
   "source": [
    "## <span style=\"color:red\">VSCode, GitHub Pages Setup</span>"
   ]
  },
  {
   "cell_type": "markdown",
   "metadata": {},
   "source": [
    "- [] Create a personal repository. Teacher suggestion is to use Template to create your own repository."
   ]
  },
  {
   "cell_type": "markdown",
   "metadata": {},
   "source": [
    "### <span style=\"color:blue\">**Hacks**</span>\n",
    "\n",
    "Installation Hack It is fundamental that you learn how to make your own blogging Website and make sure you begin your understanding of the following.\n",
    "\n",
    "- [ x ] Take note and describe the type of shell commands that you are using through Terminal in this installation procedure.\n",
    "    - [ x ] wsl, cd, git, apt, brew, …"
   ]
  },
  {
   "cell_type": "code",
   "execution_count": null,
   "metadata": {
    "vscode": {
     "languageId": "plaintext"
    }
   },
   "outputs": [],
   "source": [
    "/bin/bash -c \"$(curl -fsSL https://raw.githubusercontent.com/Homebrew/install/HEAD/install.sh)\"\n",
    "\n",
    "brew install wget\n",
    "\n",
    "git config --global user.email <lunaiwazaki@gmail.com>\n",
    "git config --global user.name <lunaiwa>\n",
    "\n",
    "mkdir vscode\n",
    "cd vscode\n",
    "\n",
    "git clone ---\n",
    "\n",
    "code ----repo name----"
   ]
  },
  {
   "cell_type": "markdown",
   "metadata": {},
   "source": [
    "**VSCode Terminal**"
   ]
  },
  {
   "cell_type": "code",
   "execution_count": null,
   "metadata": {
    "vscode": {
     "languageId": "plaintext"
    }
   },
   "outputs": [],
   "source": [
    "cs ~/vscode\n",
    "git clone <link>\n",
    "code <repo name>"
   ]
  },
  {
   "cell_type": "markdown",
   "metadata": {},
   "source": [
    "**Tools to Run Locally**"
   ]
  },
  {
   "cell_type": "code",
   "execution_count": null,
   "metadata": {
    "vscode": {
     "languageId": "plaintext"
    }
   },
   "outputs": [],
   "source": [
    "echo\n",
    "brew update\n",
    "brew upgrade\n",
    "brew install xz\n",
    "\n",
    "echo \n",
    "brew install rbenv\n",
    "rbenv install 3.1.4\n",
    "rbenv global 3.1.4\n",
    "\n",
    "echo\n",
    "rbenv versions\n",
    "\n",
    "echo\n",
    "brew install python\n",
    "\n",
    "echo brew install jupyter\n",
    "\n",
    "export GEM_HOME=\"$HOME/gems\"\n",
    "export PATH=\"$HOME/gems/bin:$PATH\"\n",
    "echo 'export GEM_HOME=\"$HOME/gems\"' >> ~/.zshrc\n",
    "echo 'export PATH=\"$HOME/gems/bin:$PATH\"' >> ~/.zshrc\n",
    "gem install jekyll bundler"
   ]
  },
  {
   "cell_type": "markdown",
   "metadata": {},
   "source": [
    "**Version Check**"
   ]
  },
  {
   "cell_type": "code",
   "execution_count": null,
   "metadata": {
    "vscode": {
     "languageId": "plaintext"
    }
   },
   "outputs": [],
   "source": [
    "ruby -v\n",
    "\n",
    "python --version\n",
    "\n",
    "pip install nbconvert \n",
    "pip install nbformat \n",
    "pip install pyyaml  \n",
    "\n",
    "jupyter --version\n",
    "\n",
    "jupyter kernelspec list\n",
    "\n",
    "bundle install\n",
    "make"
   ]
  },
  {
   "cell_type": "markdown",
   "metadata": {},
   "source": [
    "- [ ] In the Development process, developers use Version control. Annotate in notes what you have learned about Version Control while doing this setup process.\n",
    "    - [ ] Where are the files from GitHub placed on your local machine. How do you navigate to those files.\n",
    "    - [ ] Where are the files placed in the GitHub Cloud, how do you navigate to those files.\n",
    "    - [ ] How would you update your Fork of student repository if teacher wanted you to pick up an update?"
   ]
  },
  {
   "cell_type": "markdown",
   "metadata": {},
   "source": [
    "**Version Control**\n",
    "\n",
    "- Helps Devs keep track of changes in code and keep a history\n",
    "- Git push and pull\n",
    "- You can work with many other people\n",
    "- You can go back inside the code history to see what worked and what didn't\n"
   ]
  },
  {
   "cell_type": "markdown",
   "metadata": {},
   "source": [
    "- [ ] Put into words the difference between viewing GitHub Pages running on localhost machine versus running on a deployed server.\n",
    "    - [ ] What is the localhost URL for your distribution? Can anyone else see it?\n",
    "    - [ ] What is the GitHub Pages URL for your distribution? Can anyone else see it?"
   ]
  },
  {
   "cell_type": "markdown",
   "metadata": {},
   "source": [
    "**Local Host URL:** http://0.0.0.0:4200/student/ \n",
    "Only I can see it since I am running it live on my computer and it is used for testing/development. It is super helpful during testing to test code and see if it works before pushing the code.\n",
    "\n",
    "**GitHUb Pages URL:**\n"
   ]
  },
  {
   "cell_type": "markdown",
   "metadata": {},
   "source": [
    "## <span style=\"color:red\">Anatomy of GitHub Pages</span>"
   ]
  },
  {
   "cell_type": "markdown",
   "metadata": {},
   "source": [
    "Discuss how to develop a home page, code, run local server test, and then sync to deploy to GitHub Pages.\n",
    "\n",
    "- [ ] Review tools setup and make in README.md to support this lesson."
   ]
  },
  {
   "cell_type": "markdown",
   "metadata": {},
   "source": [
    "### <span style=\"color:blue\">**Hacks**</span>\n",
    "\n",
    "- [ ] Perform customization to your ‘student’. This is an opportunity to learn a few concepts from ‘teacher’ repository and then customize your own page to your course needs and personal interests.\n",
    "\n",
    "Observe the Submenu on the teacher project home page.\n",
    "\n",
    "- Course. This is course overview.\n",
    "- Style. This page how to Style, while understanding inherited styling from Theme.\n",
    "- Background. This page contains JavaScript background description overlay.\n",
    "- Table. This page shows how to obtain data from outside source and forming a table.\n",
    "- About. This is about the Creator.\n"
   ]
  },
  {
   "cell_type": "markdown",
   "metadata": {},
   "source": [
    "### <span style=\"color:blue\">**Course Hack**</span>\n",
    "\n",
    "This is made from markdown and references images from the image folder.\n",
    "\n",
    "- index.md is the file that contains markdown for this page\n",
    "- _includes/nave_home.html contains code for submenu, it is included in every page in this dialog\n",
    "- menus code shows img and href examples, /teacher refers to baseurl defined in _config.yml, this is the localtion of all files in WebSite. Note, this changes as you run on localhost and deployed; make sure you remember to use this for locations of assets in site.\n",
    "- [ ] As you view content in any of these files, it is best to recognize language type and then find a reference. For instance, looking at index.md you should recognize it as Markdown and then use a Markdown Cheet Sheet for reference.\n"
   ]
  },
  {
   "cell_type": "markdown",
   "metadata": {},
   "source": [
    "### <span style=\"color:blue\">**Style Hack**</span>\n",
    "\n",
    "The Style submenu is using a Calculator as an example.\n",
    "\n",
    "- [ ] /assets/css/style.css contains import of style customization per rules defined by GitHub Pages themse. Read the description on how Stye customization are handled by midnight in the README.md. This is a way to use there repo of customization, but also add individual spice. This is much faster than trying to do this by yourself.\n",
    "- [ ] /_posts/<date>Example-calculator.md contains code for Calculator in the project. Only the top output is generating completely custom style, the remainder comes from adjusting style.css.\n",
    "- [ ] A Calculator is a great way to learn customizations of things like buttons, which are common elements in a Theme. Also, it is great way to learn Math operations. Suggested Hacks are inside this file.\n",
    "- [ ] As you view the content of this file you will see CSS, HTML, and JavaScipt. To enhance this you would need to start to learn the basic structures and use a Cheat Sheet for reference. Also, putting this code into ChatGPT and aking for overview is a great way to understand line by line."
   ]
  },
  {
   "cell_type": "markdown",
   "metadata": {},
   "source": [
    "---"
   ]
  },
  {
   "cell_type": "markdown",
   "metadata": {},
   "source": [
    "# <mark>**Collaboration**</mark>"
   ]
  },
  {
   "cell_type": "markdown",
   "metadata": {},
   "source": [
    "## <span style=\"color:red\">Pair Programming</span>"
   ]
  },
  {
   "cell_type": "markdown",
   "metadata": {},
   "source": [
    "- Feature Considerations for Project\n",
    "    - [ ] Final Project and Blog Requirements\n",
    "        - [ ] A home or fun zone for your blog, also a unique idea(s)\n",
    "        - [ ] Educational zones that capture every key learning objective\n",
    "        - [ ] About Me, consider personal privacy issues as this will be public\n",
    "\n",
    "- Project Technicals\n",
    "    - [ ] Managing PBL Requirement for Project (Issues, Scrum Board)\n",
    "    - [ ] CSSE, CSP, CSA. Use of “JavaScript, HTML, CSS”. Frontend or Presentation development.\n",
    "    - [ ] CSP. Use of “Python Functions and Classes” in backend.\n",
    "    - [ ] CSA. Use of “Java Classes and OOP” in backend.\n",
    "    - [ ] Data Structures. The exchange between frontend and backend: Backend could be Data Frames from Pandas, “SQL” or “MongoDB” databases, etc.\n"
   ]
  },
  {
   "cell_type": "markdown",
   "metadata": {},
   "source": [
    "### <span style=\"color:blue\">**Hacks**</span>\n",
    "\n",
    "- [ ] Establish PBL and Comp Sci attitude; often called an Agile Mindset or Growth Mindset.\n",
    "- [ ] Watch a video How I Would Learn To Code\n",
    "    - [ ] Video Notes\n",
    "\n",
    "- [ ] Attitude. An Agile/Growth mindset is not knowing the answer, making lots of mistakes and performing iteration. A successful grade is dependent on making mistakes, research, asking questions, and continual iteration.\n",
    "- [ ] Requirement. Please bring a personal laptop or Chromebook to class daily. The Internet, ChatGPT, and AP Classroom web site will be considered a text book.\n",
    "- [ ] Requirements. Everything will be distributed electronically. All code you develop will be delivered to the Cloud. No paper!\n",
    "\n",
    "- [ ] Grading guidelines. There will be key technical objectives which will require <mark>producing tangibles</mark> aka tangible artifacts. Essentially, it is impossible to be late with work if you work consistently attend class, work in class and turn in progressive tangibles each week. Thus, failure to have work will result in point deduction. Additionally, late work must be defended in office hours and will receive 10% deduction.\n",
    "    - [ ] High “A” is very tough to achieve, something beyond the given tangible requirements. Something that exhibits an unforced desire to learn and Code/Code/Code. This grade is required to earn a Teacher recommendation.\n",
    "    - [ ] Low “A” is consistency in producing tangibles toward Team Project and Individual GH Page according to Issues and Scrum Board plans. Plans must be consistent with key objectives and technicals.\n",
    "    - [ ] “B” is having flaws in consistency or tangible shortcomings, but mostly on track. A flaw would be mostly working code, attempts, but incomplete.\n",
    "    - [ ] “C” is a lack consistent effort, lacking tangibles. Lack of producing working Code.\n",
    "    - [ ] Below “C” is composed of Slash/Slash/Slash offenses. Lack of attendance, disruptive behaviors, using phone inappropriately, doing work from other classes during CompSci class time, paper visible in class, and turning in tangibles that you can’t represent in live review.\n",
    "    - [ ] Zero is a result of plagiarism. The Teachers will likely miss first offenses of plagiarism, thus any offense will result in an inquiry on previous work. Remember this is an effort based class."
   ]
  }
 ],
 "metadata": {
  "language_info": {
   "name": "python"
  },
  "orig_nbformat": 4
 },
 "nbformat": 4,
 "nbformat_minor": 2
}
