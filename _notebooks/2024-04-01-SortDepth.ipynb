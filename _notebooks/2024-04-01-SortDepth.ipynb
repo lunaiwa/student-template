{
 "cells": [
  {
   "cell_type": "markdown",
   "metadata": {},
   "source": [
    "---\n",
    "toc: true\n",
    "comments: true\n",
    "layout: post\n",
    "title: Learn Algorithmic Sort in Depth\n",
    "description: Going in depth with sorting algortihhms\n",
    "type: hacks\n",
    "courses: { csa: {week: 26} }\n",
    "---"
   ]
  },
  {
   "cell_type": "markdown",
   "metadata": {},
   "source": [
    "- Build your performance sort into your custom built collection, aka LinkedList\n",
    "- Implement a Sort into your LL in Jupyter Notebook ... Here is concept.\n",
    "- Utilize Capabilities of Object overrides with toString and compareTo to Sort using Object overrides (these are built in by extending Collectable, formerly Generics).\n",
    "- Build toString to return JSON for LinkedList, Queue and/or Stack so they could be utilized with API.\n",
    "- Demostrate changing Sort keys with Tester Methods\n",
    "- Look at this for FrontEnd ideas using these new Data Ops"
   ]
  },
  {
   "cell_type": "markdown",
   "metadata": {},
   "source": [
    "## Bubble Sort \n",
    "\n",
    ">> making a custom build collection for bubble sort\n",
    "\n"
   ]
  }
 ],
 "metadata": {
  "language_info": {
   "name": "python"
  }
 },
 "nbformat": 4,
 "nbformat_minor": 2
}
