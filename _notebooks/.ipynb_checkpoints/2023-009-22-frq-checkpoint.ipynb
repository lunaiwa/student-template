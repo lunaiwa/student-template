{
 "cells": [
  {
   "cell_type": "code",
   "execution_count": 5,
   "metadata": {},
   "outputs": [
    {
     "ename": "UnresolvedReferenceException",
     "evalue": "Attempt to use definition snippet with unresolved references in MethodSnippet:initializeKeypad/()void-public static void initializeKeypad(){\n    Array keypad=new Array[4][3];\n    for(int i=1;i<11;i++){\n        keypad[(i-1)/3][(i-1)%3]=i;\n        if(i==10){\n            keypad[3][0]=0;\n        }\n    }\n    System.out.println(keypad);\n}",
     "output_type": "error",
     "traceback": [
      "\u001b[1m\u001b[30m|   \u001b[1m\u001b[30mpublic static void initializeKeypad(){\u001b[0m",
      "\u001b[1m\u001b[30m|   \u001b[1m\u001b[30m    Array keypad=new Array[4][3];\u001b[0m",
      "\u001b[1m\u001b[30m|   \u001b[1m\u001b[30m    for(int i=1;i<11;i++){\u001b[0m",
      "\u001b[1m\u001b[30m|   \u001b[1m\u001b[30m        keypad[(i-1)/3][(i-1)%3]=i;\u001b[0m",
      "\u001b[1m\u001b[30m|   \u001b[1m\u001b[30m        if(i==10){\u001b[0m",
      "\u001b[1m\u001b[30m|   \u001b[1m\u001b[30m            keypad[3][0]=0;\u001b[0m",
      "\u001b[1m\u001b[30m|   \u001b[1m\u001b[30m        }\u001b[0m",
      "\u001b[1m\u001b[30m|   \u001b[1m\u001b[30m    }\u001b[0m",
      "\u001b[1m\u001b[30m|   \u001b[1m\u001b[30m    System.out.println(keypad);\u001b[0m",
      "\u001b[1m\u001b[30m|   \u001b[1m\u001b[30m}\u001b[0m",
      "\u001b[1m\u001b[31mUnresolved dependencies:\u001b[0m",
      "\u001b[1m\u001b[31m   - class Array\u001b[0m"
     ]
    }
   ],
   "source": [
    "public static void initializeKeypad(){\n",
    "    Array keypad=new Array[4][3];\n",
    "    for(int i=1;i<11;i++){\n",
    "        keypad[(i-1)/3][(i-1)%3]=i;\n",
    "        if(i==10){\n",
    "            keypad[3][0]=0;\n",
    "        }\n",
    "    }\n",
    "    System.out.println(keypad);\n",
    "}\n",
    "initializeKeypad();\n"
   ]
  },
  {
   "cell_type": "code",
   "execution_count": 4,
   "metadata": {
    "scrolled": true
   },
   "outputs": [
    {
     "ename": "CompilationException",
     "evalue": "",
     "output_type": "error",
     "traceback": [
      "\u001b[1m\u001b[30m|   \u001b[1m\u001b[30m        \u001b[0m\u001b[1m\u001b[30m\u001b[41mrandList[i]\u001b[0m\u001b[1m\u001b[30m=randomNum;\u001b[0m",
      "\u001b[1m\u001b[31marray required, but java.util.ArrayList<java.lang.Integer> found\u001b[0m",
      ""
     ]
    }
   ],
   "source": [
    "import java.util.*;\n",
    "public static ArrayList<Integer> initializeRandomList(Integer n, Integer min, Integer max){\n",
    "    ArrayList<Integer> randList=new ArrayList<>();\n",
    "    for(int i=0;i<n;i++){\n",
    "        int randomNum=(int) (Math.random()*(max-min+1))+min;\n",
    "        randList[i]=randomNum;\n",
    "    }\n",
    "    return randList;\n",
    "}\n",
    "ArrayList<Integer> randomList=initializeRandomList(5,2,8);\n",
    "    System.out.println(randomList);"
   ]
  },
  {
   "cell_type": "code",
   "execution_count": 3,
   "metadata": {},
   "outputs": [
    {
     "ename": "CompilationException",
     "evalue": "",
     "output_type": "error",
     "traceback": [
      "\u001b[1m\u001b[30m|   \u001b[1m\u001b[30m\u001b[0m\u001b[1m\u001b[30m\u001b[41mreversedArray\u001b[0m\u001b[1m\u001b[30m();\u001b[0m",
      "\u001b[1m\u001b[31mmethod reversedArray in class  cannot be applied to given types;\u001b[0m",
      "\u001b[1m\u001b[31m  required: java.util.ArrayList<java.lang.Integer>\u001b[0m",
      "\u001b[1m\u001b[31m  found:    no arguments\u001b[0m",
      "\u001b[1m\u001b[31m  reason: actual and formal argument lists differ in length\u001b[0m",
      ""
     ]
    }
   ],
   "source": [
    "public static void reversedArray(ArrayList<Integer> n){\n",
    "    ArrayList<Integer> reverse=new ArrayList<>();\n",
    "    for(int i=0;i<n.size();i++){\n",
    "        reverse(i)=n(n.size()-1-i);\n",
    "    }\n",
    "}\n",
    "reversedArray();"
   ]
  },
  {
   "cell_type": "code",
   "execution_count": 2,
   "metadata": {},
   "outputs": [
    {
     "ename": "UnresolvedReferenceException",
     "evalue": "Attempt to use definition snippet with unresolved references in MethodSnippet:main/(String[])void-public static void main(String[] args){\n    System.out.println(\"Keypad:\");\n    initializeKeypad();\n\n    System.out.println(\"\\nReversed Array:\");\n    reversedArray();\n\n    System.out.println(\"\\n\\nRandom List:\");\n    ArrayList<Integer> randomList=initializeRandomList(5,2,8);\n    System.out.println(randomList);\n}",
     "output_type": "error",
     "traceback": [
      "\u001b[1m\u001b[30m|   \u001b[1m\u001b[30mpublic static void main(String[] args){\u001b[0m",
      "\u001b[1m\u001b[30m|   \u001b[1m\u001b[30m    System.out.println(\"Keypad:\");\u001b[0m",
      "\u001b[1m\u001b[30m|   \u001b[1m\u001b[30m    initializeKeypad();\u001b[0m",
      "\u001b[1m\u001b[30m|   \u001b[1m\u001b[30m\u001b[0m",
      "\u001b[1m\u001b[30m|   \u001b[1m\u001b[30m    System.out.println(\"\\nReversed Array:\");\u001b[0m",
      "\u001b[1m\u001b[30m|   \u001b[1m\u001b[30m    reversedArray();\u001b[0m",
      "\u001b[1m\u001b[30m|   \u001b[1m\u001b[30m\u001b[0m",
      "\u001b[1m\u001b[30m|   \u001b[1m\u001b[30m    System.out.println(\"\\n\\nRandom List:\");\u001b[0m",
      "\u001b[1m\u001b[30m|   \u001b[1m\u001b[30m    ArrayList<Integer> randomList=initializeRandomList(5,2,8);\u001b[0m",
      "\u001b[1m\u001b[30m|   \u001b[1m\u001b[30m    System.out.println(randomList);\u001b[0m",
      "\u001b[1m\u001b[30m|   \u001b[1m\u001b[30m}\u001b[0m",
      "\u001b[1m\u001b[31mUnresolved dependencies:\u001b[0m",
      "\u001b[1m\u001b[31m   - method initializeKeypad()\u001b[0m",
      "\u001b[1m\u001b[31m   - method initializeRandomList(int,int,int)\u001b[0m"
     ]
    }
   ],
   "source": [
    "public static void main(String[] args){\n",
    "    System.out.println(\"Keypad:\");\n",
    "    initializeKeypad();\n",
    "\n",
    "    System.out.println(\"\\nReversed Array:\");\n",
    "    reversedArray();\n",
    "\n",
    "    System.out.println(\"\\n\\nRandom List:\");\n",
    "    ArrayList<Integer> randomList=initializeRandomList(5,2,8);\n",
    "    System.out.println(randomList);\n",
    "}\n",
    "main(null);"
   ]
  },
  {
   "cell_type": "code",
   "execution_count": null,
   "metadata": {},
   "outputs": [],
   "source": []
  }
 ],
 "metadata": {
  "kernelspec": {
   "display_name": "Java",
   "language": "java",
   "name": "java"
  },
  "language_info": {
   "codemirror_mode": "java",
   "file_extension": ".jshell",
   "mimetype": "text/x-java-source",
   "name": "Java",
   "pygments_lexer": "java",
   "version": "20.0.1"
  }
 },
 "nbformat": 4,
 "nbformat_minor": 2
}
