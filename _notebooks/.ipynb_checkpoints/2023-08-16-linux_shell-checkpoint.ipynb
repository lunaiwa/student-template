{
 "cells": [
  {
   "cell_type": "markdown",
   "metadata": {},
   "source": [
    "---\n",
    "layout: post\n",
    "title: Linux Shell and Bash\n",
    "description: A Tech Talk on Linux and the Bash shell.\n",
    "toc: true\n",
    "comments: true\n",
    "categories: [5.A, C4.1]\n",
    "courses: { csse: {week: 1}, csp: {week: 1, categories: [6.B]}, csa: {week: 1} }\n",
    "type: devops\n",
    "---"
   ]
  },
  {
   "cell_type": "markdown",
   "metadata": {},
   "source": [
    "## Bash Tutorial\n",
    "> A brief overview of Bash, on your way to becoming a Linux expert.  <mark>When a computer boots up, a kernel (MacOS, Windows, Linux) is started</mark>.  This kernel provides a shell, or <mark>terminal</mark>, that allows user to interact with a most basic set of commands.  Typically, the casual user will not interact with the shell/terminal as a Desktop User Interface is started by the computer boot up process.  To activate a shell directly, users will run a \"terminal\" through the Desktop. <mark>VS Code provides ability to activate \"terminal\"</mark> while in the IDE."
   ]
  },
  {
   "cell_type": "markdown",
   "metadata": {},
   "source": [
    "## Variable Prerequisites\n",
    "> Setup bash shell dependency variables for this page.  Variables are one of the first aspects of programming.  <mark>Variables have \"name\" and a \"value\"</mark>.\n",
    "\n",
    "- Hack Note: Change variables to match your student project."
   ]
  },
  {
   "cell_type": "markdown",
   "metadata": {},
   "source": [
    "### Define variable\n",
    "The following code cell <mark>defines 3 variables and assigns each a value</mark>.  There are some extra command, called a HERE document, that write these variables to a file.  This is so we can use these variables over and over below."
   ]
  },
  {
   "cell_type": "code",
   "execution_count": 3,
   "metadata": {
    "vscode": {
     "languageId": "shellscript"
    }
   },
   "outputs": [],
   "source": [
    "%%script bash\n",
    "\n",
    "# Dependency Variables, set to match your project directories\n",
    "\n",
    "cat <<EOF > /tmp/variables.sh\n",
    "export project_dir=$HOME/vscode  # change vscode to different name to test git clone\n",
    "export project=\\$project_dir/teacher  # change teacher to name of project from git clone\n",
    "export project_repo=\"https://github.com/nighthawkcoders/teacher.git\"  # change to project of choice\n",
    "EOF"
   ]
  },
  {
   "cell_type": "markdown",
   "metadata": {},
   "source": [
    "### Output the value of a variable\n",
    "The following code cell <mark>outputs the value of the variables</mark>, using the echo command.  For visual understanding in the output, each echo command provide a title before the $variable "
   ]
  },
  {
   "cell_type": "code",
   "execution_count": 2,
   "metadata": {
    "vscode": {
     "languageId": "shellscript"
    }
   },
   "outputs": [
    {
     "name": "stdout",
     "output_type": "stream",
     "text": [
      "Project dir: /Users/lunaiwazaki/vscode\n",
      "Project: /Users/lunaiwazaki/vscode/teacher\n",
      "Repo: https://github.com/nighthawkcoders/teacher.git\n"
     ]
    }
   ],
   "source": [
    "%%script bash\n",
    "\n",
    "# Extract saved variables\n",
    "source /tmp/variables.sh\n",
    "\n",
    "# Output shown title and value variables\n",
    "echo \"Project dir: $project_dir\"\n",
    "echo \"Project: $project\"\n",
    "echo \"Repo: $project_repo\""
   ]
  },
  {
   "cell_type": "markdown",
   "metadata": {},
   "source": [
    "## Project Setup and Analysis with Bash Scripts\n",
    "The bash scripts that follow automate what was done in the setup procedures.  The purpose of this is to show that many of the commands we performed can be added to a script, then performed automatically."
   ]
  },
  {
   "cell_type": "markdown",
   "metadata": {},
   "source": [
    "### Pull Code\n",
    "> Pull code from GitHub to your machine. This is a <mark>bash script</mark>, a sequence of commands, that will create a project directory and add the \"project\" from GitHub to the vscode directory.  There is conditional logic to make sure that clone only happen if it does not (!) exist.   Here are some key elements in this code...\n",
    "\n",
    "- cd command (change directory), remember this from terminal session\n",
    "- if statements (conditional statement, called selection statement by College Board), code inside only happens if condition is met"
   ]
  },
  {
   "cell_type": "code",
   "execution_count": 4,
   "metadata": {
    "vscode": {
     "languageId": "shellscript"
    }
   },
   "outputs": [
    {
     "name": "stdout",
     "output_type": "stream",
     "text": [
      "Using conditional statement to create a project directory and project\n",
      "Directory /Users/lunaiwazaki/vscode exists.\n",
      "Directory /Users/lunaiwazaki/vscode/teacher exists.\n"
     ]
    }
   ],
   "source": [
    "%%script bash\n",
    "\n",
    "# Extract saved variables\n",
    "source /tmp/variables.sh\n",
    "\n",
    "echo \"Using conditional statement to create a project directory and project\"\n",
    "\n",
    "cd ~    # start in home directory\n",
    "\n",
    "# Conditional block to make a project directory\n",
    "if [ ! -d $project_dir ]\n",
    "then \n",
    "    echo \"Directory $project_dir does not exists... makinng directory $project_dir\"\n",
    "    mkdir -p $project_dir\n",
    "fi\n",
    "echo \"Directory $project_dir exists.\" \n",
    "\n",
    "# Conditional block to git clone a project from project_repo\n",
    "if [ ! -d $project ]\n",
    "then\n",
    "    echo \"Directory $project does not exists... cloning $project_repo\"\n",
    "    cd $project_dir\n",
    "    git clone $project_repo\n",
    "    cd ~\n",
    "fi\n",
    "echo \"Directory $project exists.\" "
   ]
  },
  {
   "cell_type": "markdown",
   "metadata": {},
   "source": [
    "### Look at files Github project\n",
    "> All computers contain files and directories.  The clone brought more files from cloud to your machine.  Review the bash shell script, observe the commands that show and interact with files and directories.  These were used during setup.\n",
    "\n",
    "- \"ls\" lists computer files in Unix and Unix-like operating systems\n",
    "- \"cd\" offers way to navigate and change working directory\n",
    "- \"pwd\" print working directory\n",
    "- \"echo\" used to display line of text/string that are passed as an argument"
   ]
  },
  {
   "cell_type": "code",
   "execution_count": 5,
   "metadata": {
    "vscode": {
     "languageId": "shellscript"
    }
   },
   "outputs": [
    {
     "name": "stdout",
     "output_type": "stream",
     "text": [
      "Navigate to project, then navigate to area wwhere files were cloned\n",
      "/Users/lunaiwazaki/vscode/teacher\n",
      "\n",
      "list top level or root of files with project pulled from github\n",
      "Gemfile\n",
      "LICENSE\n",
      "Makefile\n",
      "README.md\n",
      "_config.yml\n",
      "\u001b[34m_data\u001b[m\u001b[m\n",
      "\u001b[34m_includes\u001b[m\u001b[m\n",
      "\u001b[34m_layouts\u001b[m\u001b[m\n",
      "\u001b[34m_notebooks\u001b[m\u001b[m\n",
      "\u001b[34m_posts\u001b[m\u001b[m\n",
      "\u001b[34massets\u001b[m\u001b[m\n",
      "csa.md\n",
      "csp.md\n",
      "csse.md\n",
      "\u001b[34mimages\u001b[m\u001b[m\n",
      "index.md\n",
      "indexBlogs.md\n",
      "\u001b[34mscripts\u001b[m\u001b[m\n"
     ]
    }
   ],
   "source": [
    "%%script bash\n",
    "\n",
    "# Extract saved variables\n",
    "source /tmp/variables.sh\n",
    "\n",
    "echo \"Navigate to project, then navigate to area wwhere files were cloned\"\n",
    "cd $project\n",
    "pwd\n",
    "\n",
    "echo \"\"\n",
    "echo \"list top level or root of files with project pulled from github\"\n",
    "ls\n"
   ]
  },
  {
   "cell_type": "markdown",
   "metadata": {},
   "source": [
    "### Look at file list with hidden and long attributes\n",
    "> Most linux commands have options to enhance behavior.  The enhanced listing below shows permission bits, owner of file, size and date.\n",
    "\n",
    "[ls reference](https://www.rapidtables.com/code/linux/ls.html)"
   ]
  },
  {
   "cell_type": "code",
   "execution_count": 6,
   "metadata": {
    "vscode": {
     "languageId": "shellscript"
    }
   },
   "outputs": [
    {
     "name": "stdout",
     "output_type": "stream",
     "text": [
      "Navigate to project, then navigate to area wwhere files were cloned\n",
      "/Users/lunaiwazaki/vscode/teacher\n",
      "\n",
      "list all files in long format\n",
      "total 104\n",
      "drwxr-xr-x  23 lunaiwazaki  staff   736 Aug 22 12:34 \u001b[34m.\u001b[m\u001b[m\n",
      "drwxr-xr-x  28 lunaiwazaki  staff   896 Aug 21 08:42 \u001b[34m..\u001b[m\u001b[m\n",
      "drwxr-xr-x  14 lunaiwazaki  staff   448 Aug 22 12:34 \u001b[34m.git\u001b[m\u001b[m\n",
      "drwxr-xr-x   3 lunaiwazaki  staff    96 Jun 11 12:31 \u001b[34m.github\u001b[m\u001b[m\n",
      "-rw-r--r--   1 lunaiwazaki  staff   157 Aug 22 12:34 .gitignore\n",
      "-rw-r--r--   1 lunaiwazaki  staff   122 Aug 22 12:34 Gemfile\n",
      "-rw-r--r--   1 lunaiwazaki  staff  1081 Jun 11 12:31 LICENSE\n",
      "-rw-r--r--   1 lunaiwazaki  staff  3131 Aug 22 12:34 Makefile\n",
      "-rw-r--r--   1 lunaiwazaki  staff  6853 Aug 22 12:34 README.md\n",
      "-rw-r--r--   1 lunaiwazaki  staff   607 Aug 22 12:34 _config.yml\n",
      "drwxr-xr-x   6 lunaiwazaki  staff   192 Aug 22 12:34 \u001b[34m_data\u001b[m\u001b[m\n",
      "drwxr-xr-x  11 lunaiwazaki  staff   352 Aug 22 12:34 \u001b[34m_includes\u001b[m\u001b[m\n",
      "drwxr-xr-x   6 lunaiwazaki  staff   192 Aug 22 12:34 \u001b[34m_layouts\u001b[m\u001b[m\n",
      "drwxr-xr-x  38 lunaiwazaki  staff  1216 Aug 22 12:34 \u001b[34m_notebooks\u001b[m\u001b[m\n",
      "drwxr-xr-x  12 lunaiwazaki  staff   384 Aug 22 12:34 \u001b[34m_posts\u001b[m\u001b[m\n",
      "drwxr-xr-x   4 lunaiwazaki  staff   128 Aug 22 12:34 \u001b[34massets\u001b[m\u001b[m\n",
      "-rw-r--r--   1 lunaiwazaki  staff    92 Jun 11 12:31 csa.md\n",
      "-rw-r--r--   1 lunaiwazaki  staff    98 Jun 11 12:31 csp.md\n",
      "-rw-r--r--   1 lunaiwazaki  staff   108 Jun 11 12:31 csse.md\n",
      "drwxr-xr-x  34 lunaiwazaki  staff  1088 Aug 22 12:34 \u001b[34mimages\u001b[m\u001b[m\n",
      "-rw-r--r--   1 lunaiwazaki  staff  5149 Aug 22 12:34 index.md\n",
      "-rw-r--r--   1 lunaiwazaki  staff    53 Jun 11 12:31 indexBlogs.md\n",
      "drwxr-xr-x   8 lunaiwazaki  staff   256 Aug 22 12:34 \u001b[34mscripts\u001b[m\u001b[m\n"
     ]
    }
   ],
   "source": [
    "%%script bash\n",
    "\n",
    "# Extract saved variables\n",
    "source /tmp/variables.sh\n",
    "\n",
    "echo \"Navigate to project, then navigate to area wwhere files were cloned\"\n",
    "cd $project\n",
    "pwd\n",
    "\n",
    "echo \"\"\n",
    "echo \"list all files in long format\"\n",
    "ls -al   # all files -a (hidden) in -l long listing"
   ]
  },
  {
   "cell_type": "code",
   "execution_count": 7,
   "metadata": {
    "vscode": {
     "languageId": "shellscript"
    }
   },
   "outputs": [
    {
     "name": "stdout",
     "output_type": "stream",
     "text": [
      "Look for posts\n",
      "/Users/lunaiwazaki/vscode/teacher/_posts\n",
      "total 176\n",
      "-rw-r--r--  1 lunaiwazaki  staff   7685 Aug 22 12:34 2023-08-16-Tools_Equipment.md\n",
      "-rw-r--r--  1 lunaiwazaki  staff   4650 Aug 22 12:34 2023-08-16-pair_programming.md\n",
      "-rw-r--r--  1 lunaiwazaki  staff   7137 Aug 22 12:34 2023-08-17-markdown-html_fragments.md\n",
      "-rw-r--r--  1 lunaiwazaki  staff   6659 Aug 22 12:34 2023-08-23-javascript-calculator.md\n",
      "-rw-r--r--  1 lunaiwazaki  staff  10642 Aug 22 12:34 2023-08-30-agile_methodolgy.md\n",
      "-rw-r--r--  1 lunaiwazaki  staff   3849 Aug 22 12:34 2023-08-30-javascript-music-api.md\n",
      "-rw-r--r--  1 lunaiwazaki  staff   5312 Aug 22 12:34 2023-09-06-javascript-motion-mario-oop.md\n",
      "-rw-r--r--  1 lunaiwazaki  staff   4812 Aug 22 12:34 2023-09-13-java-free_response.md\n",
      "-rw-r--r--  1 lunaiwazaki  staff  13220 Aug 22 12:34 2023-10-16-java-api-pojo-jpa.md\n",
      "-rw-r--r--  1 lunaiwazaki  staff   6819 Aug 22 12:34 2023-11-13-jwt-java-spring.md\n"
     ]
    }
   ],
   "source": [
    "%%script bash\n",
    "\n",
    "# Extract saved variables\n",
    "source /tmp/variables.sh\n",
    "\n",
    "echo \"Look for posts\"\n",
    "export posts=$project/_posts  # _posts inside project\n",
    "cd $posts  # this should exist per fastpages\n",
    "pwd  # present working directory\n",
    "ls -l  # list posts"
   ]
  },
  {
   "cell_type": "code",
   "execution_count": 8,
   "metadata": {
    "vscode": {
     "languageId": "shellscript"
    }
   },
   "outputs": [
    {
     "name": "stdout",
     "output_type": "stream",
     "text": [
      "Look for notebooks\n",
      "/Users/lunaiwazaki/vscode/teacher/_notebooks\n",
      "total 1472\n",
      "-rw-r--r--  1 lunaiwazaki  staff   13014 Aug 22 12:34 2023-08-01-cloud_database.ipynb\n",
      "-rw-r--r--  1 lunaiwazaki  staff    8992 Aug 22 12:34 2023-08-01-mario_player.ipynb\n",
      "-rw-r--r--  1 lunaiwazaki  staff   43705 Aug 22 12:34 2023-08-02-cloud-workspace-automation.ipynb\n",
      "-rw-r--r--  1 lunaiwazaki  staff   22060 Aug 22 12:34 2023-08-03-mario_block.ipynb\n",
      "-rw-r--r--  1 lunaiwazaki  staff   11791 Aug 22 12:34 2023-08-03-mario_platform.ipynb\n",
      "-rw-r--r--  1 lunaiwazaki  staff   19450 Aug 22 12:34 2023-08-03-mario_tube.ipynb\n",
      "-rw-r--r--  1 lunaiwazaki  staff   24387 Aug 22 12:34 2023-08-04-mario_background.ipynb\n",
      "-rw-r--r--  1 lunaiwazaki  staff    3496 Aug 22 12:34 2023-08-07-mario_lesson.ipynb\n",
      "-rw-r--r--  1 lunaiwazaki  staff   10110 Aug 22 12:34 2023-08-15-java-hello.ipynb\n",
      "-rw-r--r--  1 lunaiwazaki  staff   25624 Aug 22 12:34 2023-08-16-github_pages_setup.ipynb\n",
      "-rw-r--r--  1 lunaiwazaki  staff   16348 Aug 22 12:47 2023-08-16-linux_shell.ipynb\n",
      "-rw-r--r--  1 lunaiwazaki  staff   11466 Aug 22 12:34 2023-08-16-python_hello.ipynb\n",
      "-rw-r--r--  1 lunaiwazaki  staff    9425 Aug 22 12:34 2023-08-23-github_pages_anatomy.ipynb\n",
      "-rw-r--r--  1 lunaiwazaki  staff   22668 Aug 22 12:34 2023-08-23-java-console_games.ipynb\n",
      "-rw-r--r--  1 lunaiwazaki  staff    9038 Aug 22 12:34 2023-08-23-python_tricks.ipynb\n",
      "-rw-r--r--  1 lunaiwazaki  staff   10152 Aug 22 12:34 2023-08-30-javascript_top_10.ipynb\n",
      "-rw-r--r--  1 lunaiwazaki  staff    9689 Aug 22 12:34 2023-08-30-showcase-S1-pair.ipynb\n",
      "-rw-r--r--  1 lunaiwazaki  staff    7192 Aug 22 12:34 2023-09-05-python-flask-anatomy.ipynb\n",
      "-rw-r--r--  1 lunaiwazaki  staff   22157 Aug 22 12:34 2023-09-06-AWS-deployment.ipynb\n",
      "-rw-r--r--  1 lunaiwazaki  staff   14380 Aug 22 12:34 2023-09-06-java-primitives.ipynb\n",
      "-rw-r--r--  1 lunaiwazaki  staff   11671 Aug 22 12:34 2023-09-06-javascript-input.ipynb\n",
      "-rw-r--r--  1 lunaiwazaki  staff   13706 Aug 22 12:34 2023-09-12-java_menu_class.ipynb\n",
      "-rw-r--r--  1 lunaiwazaki  staff    9562 Aug 22 12:34 2023-09-13-java_fibonaccii_class.ipynb\n",
      "-rw-r--r--  1 lunaiwazaki  staff   44217 Aug 22 12:34 2023-09-13-javascript_output.ipynb\n",
      "-rw-r--r--  1 lunaiwazaki  staff   43423 Aug 22 12:34 2023-09-13-python-pandas_intro.ipynb\n",
      "-rw-r--r--  1 lunaiwazaki  staff   11578 Aug 22 12:34 2023-09-20-java-image_2D.ipynb\n",
      "-rw-r--r--  1 lunaiwazaki  staff   26739 Aug 22 12:34 2023-09-20-javascript_motion_dog.ipynb\n",
      "-rw-r--r--  1 lunaiwazaki  staff   13599 Aug 22 12:34 2023-10-02-java-spring-anatomy.ipynb\n",
      "-rw-r--r--  1 lunaiwazaki  staff   12429 Aug 22 12:34 2023-10-09-java-chatgpt.ipynb\n",
      "-rw-r--r--  1 lunaiwazaki  staff   15632 Aug 22 12:34 2023-10-09-javascript_api.ipynb\n",
      "-rw-r--r--  1 lunaiwazaki  staff  113091 Aug 22 12:34 2023-10-09-python_machine_learing_fitness.ipynb\n",
      "-rw-r--r--  1 lunaiwazaki  staff   16271 Aug 22 12:34 2023-11-13-jwt-python-flask.ipynb\n",
      "-rw-r--r--  1 lunaiwazaki  staff   15951 Aug 22 12:34 2023-11-13-vulnerabilities.ipynb\n",
      "-rw-r--r--  1 lunaiwazaki  staff   18328 Aug 22 12:34 2023-11-20-jwt-java-spring-challenge.md\n",
      "-rw-r--r--  1 lunaiwazaki  staff   10745 Aug 22 12:34 2024-01-04-cockpit-setup.ipynb\n",
      "drwxr-xr-x  3 lunaiwazaki  staff      96 Aug 22 12:34 \u001b[34mfiles\u001b[m\u001b[m\n"
     ]
    }
   ],
   "source": [
    "%%script bash\n",
    "\n",
    "# Extract saved variables\n",
    "source /tmp/variables.sh\n",
    "\n",
    "echo \"Look for notebooks\"\n",
    "export notebooks=$project/_notebooks  # _notebooks is inside project\n",
    "cd $notebooks   # this should exist per fastpages\n",
    "pwd  # present working directory\n",
    "ls -l  # list notebooks"
   ]
  },
  {
   "cell_type": "code",
   "execution_count": 9,
   "metadata": {
    "vscode": {
     "languageId": "shellscript"
    }
   },
   "outputs": [
    {
     "name": "stdout",
     "output_type": "stream",
     "text": [
      "Look for images in notebooks, print working directory, list files\n",
      "/Users/lunaiwazaki/vscode/student-template/_notebooks\n"
     ]
    },
    {
     "name": "stderr",
     "output_type": "stream",
     "text": [
      "bash: line 6: cd: /images: No such file or directory\n"
     ]
    },
    {
     "name": "stdout",
     "output_type": "stream",
     "text": [
      "total 176\n",
      "-rw-r--r--  1 lunaiwazaki  staff  24825 Aug 23 01:23 2023-08-16-linux_shell.ipynb\n",
      "-rw-r--r--  1 lunaiwazaki  staff   5415 Aug 18 08:56 2023-08-17-AP-pseudo-vs-python.ipynb\n",
      "-rw-r--r--  1 lunaiwazaki  staff   8615 Aug 18 08:56 2023-08-21-VSCode-GitHub_Pages.ipynb\n",
      "-rw-r--r--  1 lunaiwazaki  staff   2001 Aug 22 23:01 2023-08-22-HBASE copy.ipynb\n",
      "-rw-r--r--  1 lunaiwazaki  staff   5465 Aug 22 23:58 2023-08-23-HACKS01.ipynb\n",
      "-rw-r--r--  1 lunaiwazaki  staff  12796 Aug 23 01:01 2023-08-23-HACKS02.ipynb\n",
      "-rw-r--r--  1 lunaiwazaki  staff   4497 Aug 23 01:04 2023-08-23-HACKS03.ipynb\n",
      "-rw-r--r--  1 lunaiwazaki  staff   2835 Aug 23 01:22 2023-08-24-HACKS11.ipynb\n"
     ]
    }
   ],
   "source": [
    "%%script bash\n",
    "\n",
    "# Extract saved variables\n",
    "source /tmp/variables.sh\n",
    "\n",
    "echo \"Look for images in notebooks, print working directory, list files\"\n",
    "cd $notebooks/images  # this should exist per fastpages\n",
    "pwd\n",
    "ls -l"
   ]
  },
  {
   "cell_type": "markdown",
   "metadata": {},
   "source": [
    "### Look inside a Markdown File\n",
    "> \"cat\" reads data from the file and gives its content as output"
   ]
  },
  {
   "cell_type": "code",
   "execution_count": 10,
   "metadata": {
    "vscode": {
     "languageId": "shellscript"
    }
   },
   "outputs": [
    {
     "name": "stdout",
     "output_type": "stream",
     "text": [
      "Navigate to project, then navigate to area wwhere files were cloned\n",
      "show the contents of README.md\n",
      "\n",
      "## Teacher Blog site\n",
      "This site is intended for the development of Teacher content.  This blogging site is built using GitHub Pages [GitHub Pages](https://docs.github.com/en/pages/getting-started-with-github-pages/creating-a-github-pages-site).\n",
      "- The purpose is to build lessons and distribute across different Computer Science sections (CSSE, CSP, CSA), a pathway that covers 3 years of High School Instruction.\n",
      "- The primary languages and frameworks that are taught are `JavaScript/HTML/CSS`, `Python/Flask`, `Java/Spring`.  Read below for more details.\n",
      "- In this course, Teacher content is not exclusively developed by Teachers.  In fact, many Students have been invited to develop and publish content into this repository.  Their names will appear as authors on the content which they aided in producing.\n",
      "- This site has incorporated ideas and has radically modified scripts from the now deprecated [fastpages](https://github.com/fastai/fastpages) repository.\n",
      "- This site includes assistance and guideance from ChatGPT, [chat.openai.com](https://chat.openai.com/) \n",
      "\n",
      "### Courses and Pathway\n",
      "The focus of the Del Norte Computer Science three-year pathway is `Full Stack Web Development`.  This focus provides a variety of technologies and exposures.  The intention of the pathway is breadth and exposure.\n",
      "- `JavaScript` documents are focused on frontend development and for entry class into the Del Norte Computer Science pathway.  JavaScript documents and materials are a prerequisites to Python and Java classes.\n",
      "- `Python` documents are focused on backend development and requirements for the AP Computer Science Principles exam.\n",
      "- `Java` documents are focused on backend development and requirements for the AP Computer Sciene A exam.\n",
      "- `Data Structures` materials embedded into JavaScript, Python, or Java documents are focused on college course articulation.\n",
      "\n",
      "### Resources and Instruction\n",
      "The materials, such as this README, as well as `Tools`, `DevOps`, and `Collaboration` resources are integral part of this course and Computer Science in general.  Everything in our environment is part of our learning of Computer Science. \n",
      "- `Visual Studio Code` is key the code-build-debug cycle editor used in this course, [VSCode download](https://code.visualstudio.com/).  This is an example of a resource, but inside of it it has features for collaboration.\n",
      "- `Tech Talks`, aka lectures, are intended to be interactive and utilize `Jupyter Notebooks` and Websites.  This is an example of blending instruction and tools together, which in turn provide additional resources for learning.  For instance, deep knowledge on  GitHub Pages and Notebooks are valuable in understanding principles behind Full Stack Development and Data Science. \n",
      "\n",
      "## GitHub Pages\n",
      "All `GitHub Pages` websites are managed on GitHub infrastructure. GitHub uses `Jekyll` to tranform your content into static websites and blogs. Each time we change files in GitHub it initiates a GitHub Action that rebuilds and publishes the site with Jekyll.  \n",
      "- GitHub Pages is powered by: [Jekyll](https://jekyllrb.com/).\n",
      "- Publised teacher website: [nighthawkcoders.github.io/teacher](https://nighthawkcoders.github.io/teacher/)\n",
      "\n",
      "## Preparing a Preview Site \n",
      "In all development, it is recommended to test your code before deployment.  The GitHub Pages development process is optimized by testing your development on your local machine, prior to files on GitHub\n",
      "\n",
      "Development Cycle. For GitHub pages, the tooling described below will create a development cycle  `make-code-save-preview`.  In the development cycle, it is a requirement to preview work locally, prior to doing a VSCode `commit` to git.\n",
      "\n",
      "Deployment Cycle.  In the deplopyment cycle, `sync-github-action-review`, it is a requirement to complete the development cycle prior to doing a VSCode `sync`.  The sync triggers github repository update.  The action starts the jekyll build to publish the website.  Any step can have errors and will require you to do a review.\n",
      "\n",
      "### WSL and/or Ubuntu installation requirements\n",
      "- The result of these step is Ubuntu tools to run preview server.  These procedures were created using [jekyllrb.com](https://jekyllrb.com/docs/installation/ubuntu/)\n",
      "```bash\n",
      "# \n",
      "# WSL/Ubuntu setup\n",
      "#\n",
      "mkdir mkdir vscode\n",
      "git clone https://github.com/nighthawkcoders/teacher.git\n",
      "# run script, path vscode/teacher are baked in script\n",
      "~/vscode/teacher/scripts/activate_ubuntu.sh\n",
      "#=== !!!Start a new Terminal!!! ===\n",
      "#=== Continue to next section ===\n",
      "```\n",
      "\n",
      "### MacOs installation requirements \n",
      "- Ihe result of these step are MacOS tools to run preview server.  These procedures were created using [jekyllrb.com](https://jekyllrb.com/docs/installation/macos/). \n",
      "\n",
      "```bash\n",
      "# \n",
      "# MacOS setup\n",
      "#\n",
      "mkdir mkdir vscode\n",
      "git clone https://github.com/nighthawkcoders/teacher.git\n",
      "# run script, path vscode/teacher are baked in script\n",
      "~/vscode/teacher/scripts/activate_macos.sh\n",
      "#=== !!!Start a new Terminal!!! ===\n",
      "#=== Continue to next section ===\n",
      "```\n",
      "\n",
      "\n",
      "### Run Preview Server\n",
      "- The result of these step is server running on: http://0.0.0.0:4100/teacher/.  Regeneration messages will run in terminal on any save and update site upon refresh.  Terminal is active, press the Enter or Return key in the terminal at any time to see prompt to enter commands.\n",
      "\n",
      "- Complete installation\n",
      "```bash\n",
      "cd ~/vscode/teacher\n",
      "bundle install\n",
      "make\n",
      "```\n",
      "- Run Server.  This requires running terminal commands `make`, `make stop`, `make clean`, or `make convert` to manage the running server.  Logging of details will appear in terminal.   A `Makefile` has been created in project to support commands and start processes.\n",
      "\n",
      "    - Start preview server in terminal\n",
      "    ```bash\n",
      "    cd ~/vscode/teacher  # my project location, adapt as necessary\n",
      "    make\n",
      "    ```\n",
      "\n",
      "    - Terminal output of shows server address. Cmd or Ctl click http location to open preview server in browser. Example Server address message... \n",
      "    ```\n",
      "    Server address: http://0.0.0.0:4100/teacher/\n",
      "    ```\n",
      "\n",
      "    - Save on ipynb or md activiates \"regeneration\". Refresh browser to see updates. Example terminal message...\n",
      "    ```\n",
      "    Regenerating: 1 file(s) changed at 2023-07-31 06:54:32\n",
      "        _notebooks/2024-01-04-cockpit-setup.ipynb\n",
      "    ```\n",
      "\n",
      "    - Terminal message are generated from background processes.  Click return or enter to obtain prompt and use terminal as needed for other tasks.  Alway return to root of project `cd ~/vscode/teacher` for all \"make\" actions. \n",
      "        \n",
      "\n",
      "    - Stop preview server, but leave constructed files in project for your review.\n",
      "    ```bash\n",
      "    make stop\n",
      "    ```\n",
      "\n",
      "    - Stop server and \"clean\" constructed files, best choice when renaming files to eliminate potential duplicates in constructed files.\n",
      "    ```bash\n",
      "    make clean\n",
      "    ```\n",
      "\n",
      "    - Test notebook conversions, best choice to see if IPYNB conversion is acting up.\n",
      "    ```bash\n",
      "    make convert\n",
      "    ```\n",
      "    \n",
      "end of README.md\n"
     ]
    }
   ],
   "source": [
    "%%script bash\n",
    "\n",
    "# Extract saved variables\n",
    "source /tmp/variables.sh\n",
    "\n",
    "echo \"Navigate to project, then navigate to area wwhere files were cloned\"\n",
    "\n",
    "cd $project\n",
    "echo \"show the contents of README.md\"\n",
    "echo \"\"\n",
    "\n",
    "cat README.md  # show contents of file, in this case markdown\n",
    "echo \"\"\n",
    "echo \"end of README.md\"\n"
   ]
  },
  {
   "cell_type": "markdown",
   "metadata": {},
   "source": [
    "## Env, Git and GitHub\n",
    "> Env(ironment) is used to capture things like path to Code or Home directory.  Git and GitHub is NOT Only used to exchange code between individuals, it is often used to exchange code through servers, in our case deployment for Website.   All tools we use have a behind the scenes relationships with the system they run on (MacOS, Windows, Linus) or a relationship with servers which they are connected to (ie GitHub).  There is an \"env\" command in bash.  There are environment files and setting files (.git/config) for Git.  They both use a key/value concept.\n",
    "\n",
    "- \"env\" show setting for your shell\n",
    "- \"git clone\" sets up a director of files\n",
    "- \"cd $project\" allows user to move inside that directory of files\n",
    "- \".git\" is a hidden directory that is used by git to establish relationship between machine and the git server on GitHub.  "
   ]
  },
  {
   "cell_type": "code",
   "execution_count": 11,
   "metadata": {
    "vscode": {
     "languageId": "shellscript"
    }
   },
   "outputs": [
    {
     "name": "stdout",
     "output_type": "stream",
     "text": [
      "Show the shell environment variables, key on left of equal value on right\n",
      "\n",
      "MANPATH=/opt/homebrew/share/man:/opt/homebrew/share/man:::\n",
      "VSCODE_CRASH_REPORTER_PROCESS_TYPE=extensionHost\n",
      "NVM_CD_FLAGS=-q\n",
      "GEM_HOME=/Users/lunaiwazaki/.gem/ruby/3.1.3\n",
      "TERM=xterm-color\n",
      "SHELL=/bin/zsh\n",
      "CLICOLOR=1\n",
      "TMPDIR=/var/folders/24/vl6qd3x16mqfs15c52rtwv1r0000gn/T/\n",
      "HOMEBREW_REPOSITORY=/opt/homebrew\n",
      "CONDA_SHLVL=2\n",
      "PYTHONUNBUFFERED=1\n",
      "CONDA_PROMPT_MODIFIER=(test) \n",
      "ORIGINAL_XDG_CURRENT_DESKTOP=undefined\n",
      "MallocNanoZone=0\n",
      "PYDEVD_USE_FRAME_EVAL=NO\n",
      "PYTHONIOENCODING=utf-8\n",
      "USER=lunaiwazaki\n",
      "NVM_DIR=/Users/lunaiwazaki/.nvm\n",
      "COMMAND_MODE=unix2003\n",
      "CONDA_EXE=/Users/lunaiwazaki/anaconda3/bin/conda\n",
      "SSH_AUTH_SOCK=/private/tmp/com.apple.launchd.FZd8rSgZl9/Listeners\n",
      "__CF_USER_TEXT_ENCODING=0x1F5:0:0\n",
      "PAGER=cat\n",
      "ELECTRON_RUN_AS_NODE=1\n",
      "VSCODE_AMD_ENTRYPOINT=vs/workbench/api/node/extensionHostProcess\n",
      "_CE_CONDA=\n",
      "CONDA_ROOT=/Users/lunaiwazaki/anaconda3\n",
      "CONDA_PREFIX_1=/Users/lunaiwazaki/anaconda3\n",
      "PATH=/Users/lunaiwazaki/opt/anaconda3/envs/test/bin:/Users/lunaiwazaki/.gem/ruby/3.1.3/bin:/Users/lunaiwazaki/.rubies/ruby-3.1.3/lib/ruby/gems/3.1.0/bin:/Users/lunaiwazaki/.rubies/ruby-3.1.3/bin:/Users/lunaiwazaki/opt/anaconda3/envs/test/bin:/Users/lunaiwazaki/anaconda3/condabin:/Library/Frameworks/Python.framework/Versions/3.9/bin:/Library/Frameworks/Python.framework/Versions/3.10/bin:/opt/homebrew/bin:/opt/homebrew/sbin:/Library/Frameworks/Python.framework/Versions/3.11/bin:/opt/homebrew/bin:/opt/homebrew/sbin:/Library/Frameworks/Python.framework/Versions/2.7/bin:/usr/local/bin:/System/Cryptexes/App/usr/bin:/usr/bin:/bin:/usr/sbin:/sbin:/var/run/com.apple.security.cryptexd/codex.system/bootstrap/usr/local/bin:/var/run/com.apple.security.cryptexd/codex.system/bootstrap/usr/bin:/var/run/com.apple.security.cryptexd/codex.system/bootstrap/usr/appleinternal/bin\n",
      "LaunchInstanceID=534ADF8C-3442-4A8F-957D-84AFF2AC6EA7\n",
      "__CFBundleIdentifier=com.microsoft.VSCode\n",
      "CONDA_PREFIX=/Users/lunaiwazaki/opt/anaconda3/envs/test\n",
      "PWD=/Users/lunaiwazaki/vscode/student-template/_notebooks\n",
      "VSCODE_HANDLES_UNCAUGHT_ERRORS=true\n",
      "MPLBACKEND=module://matplotlib_inline.backend_inline\n",
      "XPC_FLAGS=0x0\n",
      "FORCE_COLOR=1\n",
      "RUBY_ENGINE=ruby\n",
      "_CE_M=\n",
      "XPC_SERVICE_NAME=0\n",
      "SHLVL=3\n",
      "HOME=/Users/lunaiwazaki\n",
      "APPLICATION_INSIGHTS_NO_DIAGNOSTIC_CHANNEL=1\n",
      "VSCODE_NLS_CONFIG={\"locale\":\"en-us\",\"osLocale\":\"en-us\",\"availableLanguages\":{},\"_languagePackSupport\":true}\n",
      "PYDEVD_IPYTHON_COMPATIBLE_DEBUGGING=1\n",
      "HOMEBREW_PREFIX=/opt/homebrew\n",
      "GEM_ROOT=/Users/lunaiwazaki/.rubies/ruby-3.1.3/lib/ruby/gems/3.1.0\n",
      "LOGNAME=lunaiwazaki\n",
      "CONDA_PYTHON_EXE=/Users/lunaiwazaki/anaconda3/bin/python\n",
      "LC_CTYPE=UTF-8\n",
      "VSCODE_IPC_HOOK=/Users/lunaiwazaki/Library/Application Support/Code/1.81-main.sock\n",
      "VSCODE_CODE_CACHE_PATH=/Users/lunaiwazaki/Library/Application Support/Code/CachedData/6c3e3dba23e8fadc360aed75ce363ba185c49794\n",
      "GEM_PATH=/Users/lunaiwazaki/.gem/ruby/3.1.3:/Users/lunaiwazaki/.rubies/ruby-3.1.3/lib/ruby/gems/3.1.0\n",
      "CLICOLOR_FORCE=1\n",
      "RUBY_ROOT=/Users/lunaiwazaki/.rubies/ruby-3.1.3\n",
      "CONDA_DEFAULT_ENV=test\n",
      "VSCODE_PID=2437\n",
      "INFOPATH=/opt/homebrew/share/info:/opt/homebrew/share/info:\n",
      "HOMEBREW_CELLAR=/opt/homebrew/Cellar\n",
      "GIT_PAGER=cat\n",
      "VSCODE_L10N_BUNDLE_LOCATION=\n",
      "VSCODE_CWD=/\n",
      "SECURITYSESSIONID=186a3\n",
      "RUBY_VERSION=3.1.3\n",
      "_=/usr/bin/env\n"
     ]
    }
   ],
   "source": [
    "%%script bash\n",
    "\n",
    "# This command has no dependencies\n",
    "\n",
    "echo \"Show the shell environment variables, key on left of equal value on right\"\n",
    "echo \"\"\n",
    "\n",
    "env"
   ]
  },
  {
   "cell_type": "code",
   "execution_count": 12,
   "metadata": {
    "vscode": {
     "languageId": "shellscript"
    }
   },
   "outputs": [
    {
     "name": "stdout",
     "output_type": "stream",
     "text": [
      "\n",
      "show the secrets of .git\n",
      "total 72\n",
      "-rw-r--r--   1 lunaiwazaki  staff    102 Aug 22 22:46 FETCH_HEAD\n",
      "-rw-r--r--   1 lunaiwazaki  staff     21 Jun 11 12:31 HEAD\n",
      "-rw-r--r--   1 lunaiwazaki  staff     41 Aug 22 12:34 ORIG_HEAD\n",
      "-rw-r--r--   1 lunaiwazaki  staff    312 Jun 11 12:31 config\n",
      "-rw-r--r--   1 lunaiwazaki  staff     73 Jun 11 12:31 description\n",
      "drwxr-xr-x  15 lunaiwazaki  staff    480 Jun 11 12:31 \u001b[34mhooks\u001b[m\u001b[m\n",
      "-rw-r--r--   1 lunaiwazaki  staff  11702 Aug 22 12:34 index\n",
      "drwxr-xr-x   3 lunaiwazaki  staff     96 Jun 11 12:31 \u001b[34minfo\u001b[m\u001b[m\n",
      "drwxr-xr-x   4 lunaiwazaki  staff    128 Jun 11 12:31 \u001b[34mlogs\u001b[m\u001b[m\n",
      "drwxr-xr-x   4 lunaiwazaki  staff    128 Aug 22 22:46 \u001b[34mobjects\u001b[m\u001b[m\n",
      "-rw-r--r--   1 lunaiwazaki  staff    112 Jun 11 12:31 packed-refs\n",
      "drwxr-xr-x   5 lunaiwazaki  staff    160 Jun 11 12:31 \u001b[34mrefs\u001b[m\u001b[m\n",
      "\n",
      "look at config file\n",
      "[core]\n",
      "\trepositoryformatversion = 0\n",
      "\tfilemode = true\n",
      "\tbare = false\n",
      "\tlogallrefupdates = true\n",
      "\tignorecase = true\n",
      "\tprecomposeunicode = true\n",
      "[remote \"origin\"]\n",
      "\turl = https://github.com/nighthawkcoders/teacher.git\n",
      "\tfetch = +refs/heads/*:refs/remotes/origin/*\n",
      "[branch \"main\"]\n",
      "\tremote = origin\n",
      "\tmerge = refs/heads/main\n"
     ]
    }
   ],
   "source": [
    "%%script bash\n",
    "\n",
    "# Extract saved variables\n",
    "source /tmp/variables.sh\n",
    "\n",
    "cd $project\n",
    "\n",
    "echo \"\"\n",
    "echo \"show the secrets of .git\"\n",
    "cd .git\n",
    "ls -l\n",
    "\n",
    "echo \"\"\n",
    "echo \"look at config file\"\n",
    "cat config"
   ]
  },
  {
   "cell_type": "markdown",
   "metadata": {},
   "source": [
    "## Advanced Student Request - Make a file in Bash\n",
    "> This example was requested by a student (Jun Lim, CSA). The request was to make jupyer file using bash, I adapted the request to markdown.  This type of thought will have great extrapolation to coding and possibilities of using List, Arrays, or APIs to build user interfaces.  JavaScript is a language where building HTML is very common.\n",
    "\n",
    "> To get more interesting output from terminal, this will require using something like mdless (https://github.com/ttscoff/mdless).  This enables see markdown in rendered format.\n",
    "- On Desktop [Install PKG from MacPorts](https://www.macports.org/install.php)\n",
    "- In Terminal on MacOS\n",
    "    - [Install ncurses](https://ports.macports.org/port/ncurses/)\n",
    "    - ```gem install mdless```\n",
    "    \n",
    "> Output of the example is much nicer in \"jupyter\""
   ]
  },
  {
   "cell_type": "code",
   "execution_count": 13,
   "metadata": {
    "vscode": {
     "languageId": "shellscript"
    }
   },
   "outputs": [
    {
     "name": "stdout",
     "output_type": "stream",
     "text": [
      "\n",
      "File listing and status\n",
      "-rw-r--r--  1 lunaiwazaki  wheel  809 Aug 23 01:23 sample.md\n",
      "      15     132     809 sample.md\n"
     ]
    },
    {
     "name": "stderr",
     "output_type": "stream",
     "text": [
      "bash: line 30: mdless: command not found\n"
     ]
    }
   ],
   "source": [
    "%%script bash\n",
    "\n",
    "# This example has error in VSCode, it run best on Jupyter\n",
    "cd /tmp\n",
    "\n",
    "file=\"sample.md\"\n",
    "if [ -f \"$file\" ]; then\n",
    "    rm $file\n",
    "fi\n",
    "\n",
    "tee -a $file >/dev/null <<EOF\n",
    "# Show Generated Markdown\n",
    "This introductory paragraph and this line and the title above are generated using tee with the standard input (<<) redirection operator.\n",
    "- This bulleted element is still part of the tee body.\n",
    "EOF\n",
    "\n",
    "echo \"- This bulleted element and lines below are generated using echo with standard output (>>) redirection operator.\" >> $file\n",
    "echo \"- The list definition, as is, is using space to seperate lines.  Thus the use of commas and hyphens in output.\" >> $file\n",
    "actions=(\"ls,list-directory\" \"cd,change-directory\" \"pwd,present-working-directory\" \"if-then-fi,test-condition\" \"env,bash-environment-variables\" \"cat,view-file-contents\" \"tee,write-to-output\" \"echo,display-content-of-string\" \"echo_text_>\\$file,write-content-to-file\" \"echo_text_>>\\$file,append-content-to-file\")\n",
    "for action in ${actions[@]}; do  # for loop is very similar to other language, though [@], semi-colon, do are new\n",
    "  action=${action//-/ }  # convert dash to space\n",
    "  action=${action//,/: } # convert comma to colon\n",
    "  action=${action//_text_/ \\\"sample text\\\" } # convert _text_ to sample text, note escape character \\ to avoid \"\" having meaning\n",
    "  echo \"    - ${action//-/ }\" >> $file  # echo is redirected to file with >>\n",
    "done\n",
    "\n",
    "echo \"\"\n",
    "echo \"File listing and status\"\n",
    "ls -l $file # list file\n",
    "wc $file   # show words\n",
    "mdless $file  # this requires installation, but renders markown from terminal\n",
    "\n",
    "rm $file  # clean up termporary file"
   ]
  },
  {
   "cell_type": "markdown",
   "metadata": {},
   "source": [
    "## Hack Preparation.\n",
    "> Review Tool Setup Procedures and think about some thing you could verify through a Shell notebook.\n",
    "- Come up with your own student view of this procedure to show your tools are installed.  It is best that you keep the few things you understand, add things later as you start to understand them.\n",
    "- Name and create blog notes on some Linux commands you will use frequently.\n",
    "- Is there anything we use to verify tools we installed? Review versions?\n",
    "- How would you update a repository?  Use the git command line? \n"
   ]
  },
  {
   "cell_type": "markdown",
   "metadata": {},
   "source": [
    "pip list "
   ]
  }
 ],
 "metadata": {
  "kernelspec": {
   "display_name": "Python 3 (ipykernel)",
   "language": "python",
   "name": "python3"
  },
  "language_info": {
   "codemirror_mode": {
    "name": "ipython",
    "version": 3
   },
   "file_extension": ".py",
   "mimetype": "text/x-python",
   "name": "python",
   "nbconvert_exporter": "python",
   "pygments_lexer": "ipython3",
   "version": "3.9.16"
  },
  "vscode": {
   "interpreter": {
    "hash": "aee8b7b246df8f9039afb4144a1f6fd8d2ca17a180786b69acc140d282b71a49"
   }
  }
 },
 "nbformat": 4,
 "nbformat_minor": 2
}
