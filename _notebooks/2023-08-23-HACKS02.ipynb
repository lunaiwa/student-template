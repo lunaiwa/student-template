{
 "cells": [
  {
   "cell_type": "markdown",
   "metadata": {},
   "source": [
    "---\n",
    "comments: true\n",
    "layout: post\n",
    "title: Week 0 | Tools and DevOps\n",
    "description: Week 0 Tools and DevOps HACKS\n",
    "type: hacks\n",
    "courses: { csse: {week: 0}, csp: {week: 0}, csa: {week: 0} }\n",
    "categories: [C4.1]\n",
    "---"
   ]
  },
  {
   "cell_type": "markdown",
   "metadata": {},
   "source": [
    "# **Week 0 HACKS | Tools and DevOps**\n",
    "---"
   ]
  },
  {
   "cell_type": "markdown",
   "metadata": {},
   "source": [
    "# <mark>**Tools and DevOps**</mark>"
   ]
  },
  {
   "cell_type": "markdown",
   "metadata": {},
   "source": [
    "## <span style=\"color:red\">Tools and Equipment Overview</span>"
   ]
  },
  {
   "cell_type": "markdown",
   "metadata": {},
   "source": [
    "### <span style=\"color:blue\">**Hacks**</span>\n",
    "\n",
    "Review all the items mentioned above and get started with setup. Try to understand the concepts behind these tools and seek clarification when needed. Each student needs to take the setup process seriously and should highlight that consistent access to the necessary tools is essential for active participation in the class.\n",
    "\n",
    "- [ ] Bring your computer daily. If you don't have computer and tools access, you are effectually absent!!!\n",
    "- [ ] Review material on tools, draw a picture. Installing tools can be a bit of a process. Read, review, and get started. After you do it a little, it starts to become easy.\n",
    "- [ ] Blog why you love your tools. Do not fear your tools, love your tools'. Then you become familiar and proficient in using your tools, they become extensions of your abilities and empower you to accomplish Code/Code/Coding tasks more efficiently.\n",
    "- [ ] Add yourself to Users Database. We need you registered so we know how to support you best. This registration will be used for automation now and through the year."
   ]
  },
  {
   "cell_type": "markdown",
   "metadata": {},
   "source": [
    "## <span style=\"color:red\">VSCode, GitHub Pages Setup</span>"
   ]
  },
  {
   "cell_type": "markdown",
   "metadata": {},
   "source": [
    "- [] Create a personal repository. Teacher suggestion is to use Template to create your own repository."
   ]
  },
  {
   "cell_type": "markdown",
   "metadata": {},
   "source": [
    "### <span style=\"color:blue\">**Hacks**</span>\n",
    "\n",
    "Installation Hack It is fundamental that you learn how to make your own blogging Website and make sure you begin your understanding of the following.\n",
    "\n",
    "- [ x ] Take note and describe the type of shell commands that you are using through Terminal in this installation procedure.\n",
    "    - [ x ] wsl, cd, git, apt, brew, …"
   ]
  },
  {
   "cell_type": "code",
   "execution_count": null,
   "metadata": {
    "vscode": {
     "languageId": "plaintext"
    }
   },
   "outputs": [],
   "source": [
    "/bin/bash -c \"$(curl -fsSL https://raw.githubusercontent.com/Homebrew/install/HEAD/install.sh)\"\n",
    "\n",
    "brew install wget\n",
    "\n",
    "git config --global user.email <lunaiwazaki@gmail.com>\n",
    "git config --global user.name <lunaiwa>\n",
    "\n",
    "mkdir vscode\n",
    "cd vscode\n",
    "\n",
    "git clone ---\n",
    "\n",
    "code ----repo name----"
   ]
  },
  {
   "cell_type": "markdown",
   "metadata": {},
   "source": [
    "**VSCode Terminal**"
   ]
  },
  {
   "cell_type": "code",
   "execution_count": null,
   "metadata": {
    "vscode": {
     "languageId": "plaintext"
    }
   },
   "outputs": [],
   "source": [
    "cs ~/vscode\n",
    "git clone <link>\n",
    "code <repo name>"
   ]
  },
  {
   "cell_type": "markdown",
   "metadata": {},
   "source": [
    "**Tools to Run Locally**"
   ]
  },
  {
   "cell_type": "code",
   "execution_count": null,
   "metadata": {
    "vscode": {
     "languageId": "plaintext"
    }
   },
   "outputs": [],
   "source": [
    "echo\n",
    "brew update\n",
    "brew upgrade\n",
    "brew install xz\n",
    "\n",
    "echo \n",
    "brew install rbenv\n",
    "rbenv install 3.1.4\n",
    "rbenv global 3.1.4\n",
    "\n",
    "echo\n",
    "rbenv versions\n",
    "\n",
    "echo\n",
    "brew install python\n",
    "\n",
    "echo brew install jupyter\n",
    "\n",
    "export GEM_HOME=\"$HOME/gems\"\n",
    "export PATH=\"$HOME/gems/bin:$PATH\"\n",
    "echo 'export GEM_HOME=\"$HOME/gems\"' >> ~/.zshrc\n",
    "echo 'export PATH=\"$HOME/gems/bin:$PATH\"' >> ~/.zshrc\n",
    "gem install jekyll bundler"
   ]
  },
  {
   "cell_type": "markdown",
   "metadata": {},
   "source": [
    "**Version Check**"
   ]
  },
  {
   "cell_type": "code",
   "execution_count": null,
   "metadata": {
    "vscode": {
     "languageId": "plaintext"
    }
   },
   "outputs": [],
   "source": [
    "ruby -v\n",
    "\n",
    "python --version\n",
    "\n",
    "pip install nbconvert \n",
    "pip install nbformat \n",
    "pip install pyyaml  \n",
    "\n",
    "jupyter --version\n",
    "\n",
    "jupyter kernelspec list\n",
    "\n",
    "bundle install\n",
    "make"
   ]
  },
  {
   "cell_type": "markdown",
   "metadata": {},
   "source": [
    "- [ ] In the Development process, developers use Version control. Annotate in notes what you have learned about Version Control while doing this setup process.\n",
    "    - [ ] Where are the files from GitHub placed on your local machine. How do you navigate to those files.\n",
    "    - [ ] Where are the files placed in the GitHub Cloud, how do you navigate to those files.\n",
    "    - [ ] How would you update your Fork of student repository if teacher wanted you to pick up an update?"
   ]
  },
  {
   "cell_type": "markdown",
   "metadata": {},
   "source": [
    "**Version Control**\n",
    "\n",
    "- Helps Devs keep track of changes in code and keep a history\n",
    "- Git push and pull\n",
    "- You can work with many other people\n",
    "- You can go back inside the code history to see what worked and what didn't\n"
   ]
  },
  {
   "cell_type": "markdown",
   "metadata": {},
   "source": [
    "- [ ] Put into words the difference between viewing GitHub Pages running on localhost machine versus running on a deployed server.\n",
    "    - [ ] What is the localhost URL for your distribution? Can anyone else see it?\n",
    "    - [ ] What is the GitHub Pages URL for your distribution? Can anyone else see it?"
   ]
  },
  {
   "cell_type": "markdown",
   "metadata": {},
   "source": [
    "**Local Host URL:** http://0.0.0.0:4200/student/ \n",
    "Only I can see it since I am running it live on my computer and it is used for testing/development. It is super helpful during testing to test code and see if it works before pushing the code.\n",
    "\n",
    "**GitHUb Pages URL:**\n"
   ]
  },
  {
   "cell_type": "markdown",
   "metadata": {},
   "source": [
    "## <span style=\"color:red\">Anatomy of GitHub Pages</span>"
   ]
  },
  {
   "cell_type": "markdown",
   "metadata": {},
   "source": [
    "Discuss how to develop a home page, code, run local server test, and then sync to deploy to GitHub Pages.\n",
    "\n",
    "- [ ] Review tools setup and make in README.md to support this lesson."
   ]
  },
  {
   "cell_type": "markdown",
   "metadata": {},
   "source": [
    "### <span style=\"color:blue\">**Hacks**</span>\n",
    "\n",
    "- [ ] Perform customization to your ‘student’. This is an opportunity to learn a few concepts from ‘teacher’ repository and then customize your own page to your course needs and personal interests.\n",
    "\n",
    "Observe the Submenu on the teacher project home page.\n",
    "\n",
    "- Course. This is course overview.\n",
    "- Style. This page how to Style, while understanding inherited styling from Theme.\n",
    "- Background. This page contains JavaScript background description overlay.\n",
    "- Table. This page shows how to obtain data from outside source and forming a table.\n",
    "- About. This is about the Creator.\n"
   ]
  },
  {
   "cell_type": "markdown",
   "metadata": {},
   "source": [
    "### <span style=\"color:blue\">**Course Hack**</span>\n",
    "\n",
    "This is made from markdown and references images from the image folder.\n",
    "\n",
    "- index.md is the file that contains markdown for this page\n",
    "- _includes/nave_home.html contains code for submenu, it is included in every page in this dialog\n",
    "- menus code shows img and href examples, /teacher refers to baseurl defined in _config.yml, this is the localtion of all files in WebSite. Note, this changes as you run on localhost and deployed; make sure you remember to use this for locations of assets in site.\n",
    "- [ ] As you view content in any of these files, it is best to recognize language type and then find a reference. For instance, looking at index.md you should recognize it as Markdown and then use a Markdown Cheet Sheet for reference.\n"
   ]
  },
  {
   "cell_type": "markdown",
   "metadata": {},
   "source": [
    "### <span style=\"color:blue\">**Style Hack**</span>\n",
    "\n",
    "The Style submenu is using a Calculator as an example.\n",
    "\n",
    "- [ ] /assets/css/style.css contains import of style customization per rules defined by GitHub Pages themse. Read the description on how Stye customization are handled by midnight in the README.md. This is a way to use there repo of customization, but also add individual spice. This is much faster than trying to do this by yourself.\n",
    "- [ ] /_posts/<date>Example-calculator.md contains code for Calculator in the project. Only the top output is generating completely custom style, the remainder comes from adjusting style.css.\n",
    "- [ ] A Calculator is a great way to learn customizations of things like buttons, which are common elements in a Theme. Also, it is great way to learn Math operations. Suggested Hacks are inside this file.\n",
    "- [ ] As you view the content of this file you will see CSS, HTML, and JavaScipt. To enhance this you would need to start to learn the basic structures and use a Cheat Sheet for reference. Also, putting this code into ChatGPT and aking for overview is a great way to understand line by line."
   ]
  }
 ],
 "metadata": {
  "language_info": {
   "name": "python"
  },
  "orig_nbformat": 4
 },
 "nbformat": 4,
 "nbformat_minor": 2
}
