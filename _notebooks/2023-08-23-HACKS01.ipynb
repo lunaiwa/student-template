{
 "cells": [
  {
   "cell_type": "markdown",
   "metadata": {},
   "source": [
    "---\n",
    "comments: true\n",
    "layout: post\n",
    "title: Week 0 | Code, Code, Code\n",
    "description: Week 0 Code, Code, Code HACKS\n",
    "type: hacks\n",
    "courses: { csse: {week: 0}, csp: {week: 0}, csa: {week: 0} }\n",
    "categories: [C4.1]\n",
    "---"
   ]
  },
  {
   "cell_type": "markdown",
   "metadata": {},
   "source": [
    "# **Week 0 HACKS | Code, Code, Code**\n",
    "---"
   ]
  },
  {
   "cell_type": "markdown",
   "metadata": {},
   "source": [
    "# <mark>**Code, Code, Code**</mark>"
   ]
  },
  {
   "cell_type": "markdown",
   "metadata": {},
   "source": [
    "## <span style=\"color:red\">Markdown Student Page</span>"
   ]
  },
  {
   "cell_type": "markdown",
   "metadata": {},
   "source": [
    "### <span style=\"color:blue\">**Hacks**</span>\n",
    "\n",
    "At the end of this week you should select your theme and start customizing your page.\n",
    "\n",
    "- [ x ] Students should select a theme from the available options in the _config.yml file and start customizing their page accordingly.\n",
    "- [ x ] Try to alter index.md with images and links according to some of your personal interests. For instance, make an outline of your classes, school activities, and homework requirements. Add your freeform picture.\n",
    "- [ x ] Google Markdown Cheatsheet or W3Schools HTML Tutorial for guideance. Try to do something on your index.md not discussed in this blog."
   ]
  },
  {
   "cell_type": "markdown",
   "metadata": {},
   "source": [
    "<img width=\"253\" alt=\"Screenshot 2023-08-22 at 11 42 59 PM\" src=\"https://github.com/lunaiwa/student-template/assets/111661543/44e760c7-f94d-4023-b6f6-4400d012c1b0\">\n",
    "\n",
    "\n",
    "\n",
    "<img width=\"1219\" alt=\"Screenshot 2023-08-22 at 11 44 05 PM\" src=\"https://github.com/lunaiwa/student-template/assets/111661543/43138c47-a70f-4b6c-a889-5aea5c2988d0\">\n"
   ]
  },
  {
   "cell_type": "markdown",
   "metadata": {},
   "source": [
    "## <span style=\"color:red\">Build a Project</span>"
   ]
  },
  {
   "cell_type": "markdown",
   "metadata": {},
   "source": [
    "What do beginning developers like to Create? Everyone says the best way to learn a language is to build something. What would do beginning developers like to build?\n",
    "\n",
    "- [ x ] [Geeks for Geeks Research Ideas](https://www.geeksforgeeks.org/top-10-projects-for-beginners-to-practice-html-and-css-skills/)\n",
    "\n",
    "    - Paralax Website\n",
    "    - Resturant Website\n",
    "    - Personal Portfolio\n",
    "\n",
    "- [ x ] Talk to someone who remembers their 1st Web project. What did the build?\n",
    "\n",
    "Basketball API, Simple Snake Game, tic-tac-toe\n",
    "\n",
    "- [ x ] Ask someone what they need. It is always best to be working on something that is useful.\n",
    "\n",
    "Dress-Up for picking closet clothes, Resturant pickers, Fire safety website...\n",
    "\n",
    "- [ x ] Think about your school year. Computer Science is often thought about as a tool box. How would you use the tools of Computer Science to help you become a better student this year?\n",
    "\n",
    "By using my computer science skills I can easilly create an efficient to-do list or a calender with UI that I fully understand. This can help me with organizing homework and assignments due daily. I can also use coding to log down my ideas and efficiently store them how I want."
   ]
  },
  {
   "cell_type": "markdown",
   "metadata": {},
   "source": [
    "### <span style=\"color:blue\">**Hacks**</span>\n",
    "\n",
    "Go forward with information provided in all the lessons up to now and try to complete a home page for a project and make a new .md file in _posts for one of the hacks describe below. Connect the hack with the home page, index.md. These items listed are considered prevalent on the internet. In this Teachers opinion, this is more of finding and moving code into your project, not so much a development project. This process is to finding code, learning the pieces, and then moving into your project is called integration. If you are doing a lot of coding, you may be over working the coding part, focus more on the integration part!\n",
    "\n",
    "Overall, this project offers a good foundation for high school students to dive into web development using GitHub Pages. It provides guidance on creating a home page, integrating content and features, and suggests fun and engaging projects for students to explore. With the provided links and hacks, students should have plenty of resources and ideas to start building their own GitHub Pages projects."
   ]
  },
  {
   "cell_type": "markdown",
   "metadata": {},
   "source": [
    "**Build a Game**\n",
    "\n",
    "Building a game is an excellent project for students to explore more advanced JavaScript concepts, such as game logic, handling user interactions, and managing state.\n",
    "\n",
    "- [ ] Show data to store game logic\n",
    "- [ ] Many Tic Tac Toe games are available on Internet and ChatGPT, search “tic-tack-toe in javascript”. Additionally, Teach has some other games that are very common…"
   ]
  },
  {
   "cell_type": "markdown",
   "metadata": {},
   "source": [
    "---"
   ]
  }
 ],
 "metadata": {
  "language_info": {
   "name": "python"
  },
  "orig_nbformat": 4
 },
 "nbformat": 4,
 "nbformat_minor": 2
}
