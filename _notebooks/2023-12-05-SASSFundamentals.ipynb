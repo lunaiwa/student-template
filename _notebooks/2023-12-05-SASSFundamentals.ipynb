{
 "cells": [
  {
   "attachments": {},
   "cell_type": "markdown",
   "metadata": {},
   "source": [
    "---\n",
    "comments: true\n",
    "layout: post\n",
    "title: P3 Introduction to SASS\n",
    "description: Understanding the fundamental aspects of SASS\n",
    "authors: Edwin, Yuri\n",
    "courses: { csa: {'week': 17}}\n",
    "type: hacks\n",
    "---"
   ]
  },
  {
   "attachments": {},
   "cell_type": "markdown",
   "metadata": {},
   "source": [
    "# What is SASS?\n",
    "\n",
    "> Sass is a preprocessor language that's interpreted into CSS. A preprocessor language takes input data and converts it to an output that's used as input by another program. This means when you run Sass code, you're actually converting your code to CSS. That CSS code output is then used directly by a browser.\n",
    "![](https://encrypted-tbn0.gstatic.com/images?q=tbn:ANd9GcTMd7eiGMX9FwRLC0uJTDewSjw_7_WvCF4ABLdwztLrCnPEXrqW0gG-pH8eT-fYPLlghjY&usqp=CAU)"
   ]
  },
  {
   "attachments": {},
   "cell_type": "markdown",
   "metadata": {},
   "source": [
    "#  SASS vs. CSS \n",
    "> Understanding the differences between SCSS and CSS\n",
    "\n",
    "## What is CSS\n",
    "- CSS is the default technology that most programmers use when styling webpage. It is one of the 3 fundamental web technologies along with HTML and JavaScript. HTML manages the structure, JavaScript makes pages interactive, and CSS changes the style by taking a markup language like HTML and describes how it should be presented to the user.\n",
    "\n",
    "- However, CSS is not very easy to work with lacking a lot features often making using CSS very confusing and difficult or hard to work with on lengthy projects. This is why there are tools like Bootstrap, Sass, and Tailwind that make styling a lot easier and more efficient. We will be using Sass in this course.  \n",
    "\n",
    "### CSS Example\n",
    "- This is an example of CSS that can be used to change body text of an HTML document\n",
    "- Hack Question: Can you guess what its changing style of the text to? \n",
    "<mark>**Font family to Ariel and the font size into 16 pixels**</mark>"
   ]
  },
  {
   "cell_type": "code",
   "execution_count": null,
   "metadata": {
    "vscode": {
     "languageId": "plaintext"
    }
   },
   "outputs": [],
   "source": [
    "body{\n",
    "color: #0000FF;\n",
    "font-family: Ariel, sans-serif;\n",
    "font-size: 16px;\n",
    "}"
   ]
  },
  {
   "attachments": {},
   "cell_type": "markdown",
   "metadata": {},
   "source": [
    "\n",
    "## What is SCSS\n",
    "- SCSS is short for Sassy Cascading Style Sheets. \n",
    "- SCSS very similar to CSS but the difference comes with the fact that SCSS extends the functionality of CSS while also making it simpler. What this allows us to do is it enables us to things like nested styling, functions, mixins, variables, inheritance (more on these later) and so on. \n",
    "\n",
    "### Sass Code Example"
   ]
  },
  {
   "cell_type": "code",
   "execution_count": null,
   "metadata": {
    "vscode": {
     "languageId": "plaintext"
    }
   },
   "outputs": [],
   "source": [
    "$blue: #0000FF;\n",
    "body{\n",
    "color: $blue;\n",
    "font-family: Ariel, sans-serif;\n",
    "font-size: 16px;\n",
    "}"
   ]
  },
  {
   "attachments": {},
   "cell_type": "markdown",
   "metadata": {},
   "source": [
    "\n",
    "- This example is doing the same thing as the other code segment above but the difference being that here we defined the color as $blue which makes it much easier for us to recall later on. In fact, we have done this before, if you have been using the dark mode/midnight theme then go ahead and navigate your your _sass folder and check out the dark-mode.scss and you'll see something similar to the example above\n",
    "\n",
    "### So which one is better to use?\n",
    "- CSS tends to be better for really simple styling where not many complex or nested styles are required and small projects that doesn't require a lot of customization. \n",
    "- SCSS on the other hand is very good for more complex styling and working with a project with more than one page where maybe lots of customization is needed. Such as the projects we made last and first trimester."
   ]
  },
  {
   "attachments": {},
   "cell_type": "markdown",
   "metadata": {},
   "source": [
    "# Modular SCSS \n",
    "> Understanding how to use modular SCSS\n",
    "- Modular SCSS allows you to break multiple different files and then be able to compile them into a single CSS file \n",
    "- How do you do this? Well all you need to do is have _filenames.scss so that is compiled into its own file\n",
    "- Now after adding the _ to the file name you can import it into you file without the _ and all the styles will be carried over. \n",
    "- The benefits of a partial is that it allows you to big websites and allows you to break up the code in multiple components and easily make changes instead of having to go through a huge file.\n",
    "- All styles in the partial will be added and can be used into the main file as if they were defined in the main file.\n",
    "\n",
    "## File 1 _variable.scss"
   ]
  },
  {
   "cell_type": "code",
   "execution_count": null,
   "metadata": {
    "vscode": {
     "languageId": "plaintext"
    }
   },
   "outputs": [],
   "source": [
    "$primary-button-color: #009494;\n",
    "$hover-color: black;\n",
    "$menu-color: #f2f2f2;"
   ]
  },
  {
   "attachments": {},
   "cell_type": "markdown",
   "metadata": {},
   "source": [
    "## File 2 style.scss\n",
    "- We can see the importing of the .scss file's content into the other main .scss file style.scss"
   ]
  },
  {
   "cell_type": "code",
   "execution_count": null,
   "metadata": {
    "vscode": {
     "languageId": "plaintext"
    }
   },
   "outputs": [],
   "source": [
    "{@import 'variables';\n",
    "@import \"{{ site.theme }}\";}\n",
    "/* \"row style\" is flexible size and aligns pictures in center */\n",
    ".row {\n",
    "    align-items: center;\n",
    "    display: flex;\n",
    "  }\n",
    "  \n",
    "  /* \"column style\" is one-third of the width with padding */\n",
    "  .column {\n",
    "    flex: 33.33%;\n",
    "    padding: 5px;\n",
    "  }\n",
    "\n",
    ".menu a {\n",
    "  // float: left;\n",
    "  display: block;\n",
    "  color: $menu-color;\n",
    "  text-align: center;\n",
    "  // padding: 14px 16px;\n",
    "  text-decoration: none;\n",
    "}\n",
    ".menu a:hover {\n",
    "  background: $primary-button-color;\n",
    "    color: $hover-color;\n",
    "}\n"
   ]
  },
  {
   "attachments": {},
   "cell_type": "markdown",
   "metadata": {},
   "source": [
    "# Nesting\n",
    "\n",
    "> What is nesting? \n",
    "    > Answer here (hack question): <mark>**Organizing code, putting different code segments inside of each other**</mark>\n",
    "- Nesting is a way to organize your code and make it easier to read. It also helps keep your code <mark>**dry**</mark> . \n",
    "- Nesting is when you put one selector inside another selector. This is a great way to keep your code organized and make it easier to <mark>**read**</mark>. \n",
    "- When we make HTML we often nest different <mark>**elements**</mark> within each other and have a clear structure when we look at it.\n",
    "- The problem is that in regular CSS we don't have that so we need to use SASS to help us organize our code.\n",
    "\n",
    "- Warning: Don't nest too much as when the CSS is processed it can make overqualified selectors which can be hard to read and maintain. Which means that it would only target that specific element type and not any other elements that have the same class name.\n",
    "\n",
    "## Sass Nesting\n",
    "- Through nesting the ul, li, and a selectors within the nav selector makes your CSS better and increases its readability overall."
   ]
  },
  {
   "cell_type": "code",
   "execution_count": null,
   "metadata": {
    "vscode": {
     "languageId": "plaintext"
    }
   },
   "outputs": [],
   "source": [
    "nav {\n",
    "  ul {\n",
    "    margin: 0;\n",
    "    padding: 0;\n",
    "    list-style: none;\n",
    "  }\n",
    "\n",
    "  li { display: inline-block; }\n",
    "\n",
    "  a {\n",
    "    display: block;\n",
    "    padding: 6px 12px;\n",
    "    text-decoration: none;\n",
    "  }\n",
    "}\n"
   ]
  },
  {
   "attachments": {},
   "cell_type": "markdown",
   "metadata": {},
   "source": [
    "## CSS - Lack of Nesting\n",
    "- We can see that through the lack of nesting the CSS is not as organized and needs extra information to be able to make it more clear exactly what is being targeted."
   ]
  },
  {
   "cell_type": "code",
   "execution_count": null,
   "metadata": {
    "vscode": {
     "languageId": "plaintext"
    }
   },
   "outputs": [],
   "source": [
    "nav ul {\n",
    "  margin: 0;\n",
    "  padding: 0;\n",
    "  list-style: none;\n",
    "}\n",
    "nav li {\n",
    "  display: inline-block;\n",
    "}\n",
    "nav a {\n",
    "  display: block;\n",
    "  padding: 6px 12px;\n",
    "  text-decoration: none;\n",
    "}"
   ]
  },
  {
   "attachments": {},
   "cell_type": "markdown",
   "metadata": {},
   "source": [
    "# Variables\n",
    "> What is a variable?\n",
    "- A variable is a container that stores <mark>**data/values**</mark> so for instance when you have multiple places that refer to one value you can just use the variable name instead of the value.\n",
    "- This is valuable in SASS because it allows you to reuse that <mark>**value**</mark> in multiple places throughout your stylesheet. \n",
    "- The $ symbol is used in Sass to designate a variable. \n",
    "\n",
    "Pro Tip: The reason SASS variables are better than variables in regular CSS is that they are easier to read with a much simpler syntax. \n",
    "\n",
    "Fun Fact: Variables in SASS came before CSS and often SASS has features long before they are actually added to CSS as a whole. \n",
    "\n",
    "## Variable Example Syntax\n",
    "- $variable-name: value;\n",
    "- Once the sass is processed the variable name is replaced with the value throughout the program."
   ]
  },
  {
   "cell_type": "code",
   "execution_count": null,
   "metadata": {
    "vscode": {
     "languageId": "plaintext"
    }
   },
   "outputs": [],
   "source": [
    "$main-font: Calibri, sans-serif;\n",
    "$main-color: #000;\n",
    "$main-color-hover: #000;"
   ]
  },
  {
   "attachments": {},
   "cell_type": "markdown",
   "metadata": {},
   "source": [
    "# Operators\n",
    "- Operators are used to perform operations on variables and other aspects of the language. Similar to python syntax, we can use operators to see if values are equal, add, divide, subtract, multiply, etc.\n",
    "- SASS has a lot of operators that can be used to perform operations on variables and other aspects of the language as well. They can include\n",
    "    - `== to check if two values are equal and != to check if two values are not equal`\n",
    "    - `+ to add two values together` \n",
    "    - `- to subtract two values`\n",
    "    - `* to multiply two values`\n",
    "    - `/ to divide two values`\n",
    "    - `% to find the remainder of two values`\n",
    "    - `< to check if one value is less than another`\n",
    "    - `> to check if one value is greater than another`\n",
    "    - `<= to check if one value is less than or equal to another`\n",
    "    - `>= to check if one value is greater than or equal to another`\n",
    "    - `Also there is and, or, & not to be able to use boolean operations`\n",
    "\n",
    "## Operator Example Syntax\n",
    "- Operators are used in this example to perform string concatenation"
   ]
  },
  {
   "cell_type": "code",
   "execution_count": null,
   "metadata": {
    "vscode": {
     "languageId": "plaintext"
    }
   },
   "outputs": [],
   "source": [
    "// Html\n",
    "<p id=\"testing\">original text and</p>\n",
    "\n",
    "// SASS\n",
    "#testing:after{\n",
    "  content: \" some\" + \" more\" + \" text\";\n",
    "}\n",
    "\n",
    "// Output\n",
    "original text and some more text"
   ]
  },
  {
   "attachments": {},
   "cell_type": "markdown",
   "metadata": {},
   "source": [
    "# Conditional Statements \n",
    "- There are conditional statements in SASS just like in Python and JavaScript they work the same way as well.\n",
    "- Conditional statements are used to perform different actions based on different conditions. Such as if a certain condition is true then do this, if it is false then do that and so on.\n",
    "- SASS has @if which allows for different styles based on if a boolean expression was true or false.\n",
    "- SASS has @else which allows for different set of styles if the if condition was not met or false. \n",
    "- SASS has @else if which allows for an alternative conditions to be run if the first is not met. "
   ]
  },
  {
   "cell_type": "code",
   "execution_count": null,
   "metadata": {
    "vscode": {
     "languageId": "plaintext"
    }
   },
   "outputs": [],
   "source": [
    "$color: red;\n",
    "\n",
    "button {\n",
    "  @if $color == red {\n",
    "    background-color: $color;\n",
    "  }\n",
    "}\n",
    "// @else: allows you to provide an alternative set of styles to apply if the condition in the @if statement isn't met\n",
    "$color: blue;\n",
    "\n",
    "button {\n",
    "  @if $color == red {\n",
    "    background-color: red;\n",
    "  } @else {\n",
    "    background-color: $color;\n",
    "  }\n",
    "}\n",
    "// @else if: allows you to provide multiple alternative conditions to test\n",
    "$color: green;\n",
    "\n",
    "button {\n",
    "  @if $color == red {\n",
    "    background-color: red;\n",
    "  } @else if $color == blue {\n",
    "    background-color: blue;\n",
    "  } @else {\n",
    "    background-color: $color;\n",
    "  }\n",
    "}\n"
   ]
  },
  {
   "attachments": {},
   "cell_type": "markdown",
   "metadata": {},
   "source": [
    "# Loops In Sass\n",
    "- Loops are present in SASS through the @for and @while decorators, along with @each. \n",
    "- Loops are used to repeat a block of code a certain number of times or until a certain condition is met just like in any other programming language.\n",
    "    - For Loops: Are used to iterate through a value like a list or a range of numbers\n",
    "    - While Loops: Are used to iterate through a block of code until a certain condition is met such as a value is being equal to a certain value through an incrementing or decrementing a variable or any other condition that is met.\n",
    "\n",
    "- When using while loops they can be necessary but it is better to use @each and @for as it will make it clear and be able to compile faster.\n",
    "\n",
    "- Side Note: In SASS lists care a any group of values that are separated by a comma or a space there is no special brackets used in JavaScript. Lists can be searched for values however they are immutable meaning that they cannot be changed once they are created.\n",
    "\n",
    "## Some Code Examples of Loops and Lists"
   ]
  },
  {
   "cell_type": "code",
   "execution_count": null,
   "metadata": {
    "vscode": {
     "languageId": "plaintext"
    }
   },
   "outputs": [],
   "source": [
    "// A for each loop is used to interact with a group of sizes changing \n",
    "// the size of the element for each item in the list\n",
    "\n",
    "$sizes: 40px, 50px, 80px;\n",
    "\n",
    "@each $size in $sizes {\n",
    "  .icon-#{$size} {\n",
    "    font-size: $size;\n",
    "    height: $size;\n",
    "    width: $size;\n",
    "  }\n",
    "}\n",
    "\n",
    "\n",
    "// @each: allows you to loop over a list of values and generate styles\n",
    "$colors: red, green, blue;\n",
    "\n",
    "@each $color in $colors {\n",
    "  .color-#{$color} {\n",
    "    background-color: $color;\n",
    "  }\n",
    "}"
   ]
  },
  {
   "cell_type": "code",
   "execution_count": null,
   "metadata": {
    "vscode": {
     "languageId": "plaintext"
    }
   },
   "outputs": [],
   "source": [
    "@debug list.index(1px solid red, 1px); // 1\n",
    "@debug list.index(1px solid red, solid); // 2\n",
    "@debug list.index(1px solid red, dashed); // null"
   ]
  },
  {
   "cell_type": "code",
   "execution_count": null,
   "metadata": {
    "vscode": {
     "languageId": "plaintext"
    }
   },
   "outputs": [],
   "source": [
    "@use \"sass:math\";\n",
    "\n",
    "/// Divides `$value` by `$ratio` until it's below `$base`.\n",
    "@function scale-below($value, $base, $ratio: 1.618) {\n",
    "  @while $value > $base {\n",
    "    $value: math.div($value, $ratio);\n",
    "  }\n",
    "  @return $value;\n",
    "}\n",
    "\n",
    "$normal-font-size: 16px;\n",
    "sup {\n",
    "  font-size: scale-below(20px, 16px);\n",
    "}"
   ]
  },
  {
   "cell_type": "code",
   "execution_count": null,
   "metadata": {
    "vscode": {
     "languageId": "plaintext"
    }
   },
   "outputs": [],
   "source": [
    "$base-color: #036;\n",
    "\n",
    "@for $i from 1 through 3 {\n",
    "  ul:nth-child(3n + #{$i}) {\n",
    "    background-color: lighten($base-color, $i * 5%);\n",
    "  }\n",
    "}\n",
    "\n",
    "// @for:  allows you to loop over a range of values and generate styles\n",
    "\n",
    "@for $i from 1 through 3 {\n",
    "  .item-#{$i} {\n",
    "    width: 100px * $i;\n",
    "  }\n",
    "}"
   ]
  },
  {
   "attachments": {},
   "cell_type": "markdown",
   "metadata": {},
   "source": [
    "#  Functions in SASS\n",
    "> What is a function?\n",
    "- A function is a block of code that performs a specific task. This is a great method to be able to reuse code and processes in a manner that is more efficient and allows for the reuse of code. We do this all the time in programming languages such as JavaScript.\n",
    "\n",
    "## SASS functions\n",
    "- Sass Functions allow you to define complex calculations and transformations that can be used throughout your stylesheet and allow you to perform complex operations on values, manipulate data, plus you can generate content dynamically.\n",
    "\n",
    "- There a are built in functions and ones you can make on your own like languages such as JavaScript.\n",
    "  \n",
    "- SASS functions can be used to perform arithmetic operations, manipulate colors, work with strings, and more.\n",
    "\n",
    "- Functions in SASS are similar to functions in programming languages, but they can be used within SASS stylesheets to generate CSS code dynamically.\n",
    "\n",
    "## Using Built-in Functions\n",
    "- Like Python and Javascript SASS provides a variety of built-in functions for  math, color manipulation, string manipulation, and more. \n",
    "\n",
    "\n",
    "## Math Functions\n",
    "- SASS has many functions that allow you to be able to perform wide range of math operations similar to the ones present in python including more complex operations. \n"
   ]
  },
  {
   "cell_type": "code",
   "execution_count": null,
   "metadata": {
    "vscode": {
     "languageId": "plaintext"
    }
   },
   "outputs": [],
   "source": [
    "\n",
    ".round(1.2);          // returns 1\n",
    ".ceil(1.2);           // returns 2\n",
    ".floor(1.2);          // returns 1\n",
    ".abs(-1.2);           // returns 1.2\n",
    ".min(1, 2, 3);        // returns 1\n",
    ".max(1, 2, 3);        // returns 3\n",
    ".random(1, 100);      // returns a random number between 1 and 100\n"
   ]
  },
  {
   "attachments": {},
   "cell_type": "markdown",
   "metadata": {
    "vscode": {
     "languageId": "plaintext"
    }
   },
   "source": [
    "## Color Functions\n",
    "- Color is an important component of any website and SASS provides a wide range of functions that allow you to manipulate colors in a variety of ways."
   ]
  },
  {
   "cell_type": "code",
   "execution_count": null,
   "metadata": {
    "vscode": {
     "languageId": "plaintext"
    }
   },
   "outputs": [],
   "source": [
    ".lighten(#007fff, 20%);       // returns a lighter shade of blue\n",
    ".darken(#007fff, 20%);        // returns a darker shade of blue\n",
    ".opacify(#007fff, 0.2);       // makes the color more opaque\n",
    ".transparentize(#007fff, 0.2); // makes the color more transparent\n",
    ".mix(#007fff, #ff0000, 50%);  // returns a mix of two colors"
   ]
  },
  {
   "attachments": {},
   "cell_type": "markdown",
   "metadata": {},
   "source": [
    "## String Functions\n",
    "- SASS provides a variety of string functions that allow you to manipulate strings. Here are some examples:"
   ]
  },
  {
   "cell_type": "code",
   "execution_count": null,
   "metadata": {
    "vscode": {
     "languageId": "plaintext"
    }
   },
   "outputs": [],
   "source": [
    ".to-upper-case(\"hello world\");  // returns \"HELLO WORLD\"\n",
    ".to-lower-case(\"HELLO WORLD\");  // returns \"hello world\"\n",
    ".str-index(\"hello world\", \"world\"); // returns the index of the first occurrence of \"world\"\n",
    ".str-insert(\"hello\", \" world\", 5);  // inserts \" world\" into \"hello\" at position 5"
   ]
  },
  {
   "attachments": {},
   "cell_type": "markdown",
   "metadata": {},
   "source": [
    "## Creating Custom Functions\n",
    "\n",
    "- In addition to using built-in functions, you can also create your own functions in SASS using the ``@function name(arguments){}``\n",
    "- @return is similar to the return statement in JavaScript. It returns a value from a function.\n",
    "- Functions take input values, perform calculations, and return a result. Here's an example of a simple function that calculates the area of a rectangle:"
   ]
  },
  {
   "cell_type": "code",
   "execution_count": null,
   "metadata": {
    "vscode": {
     "languageId": "plaintext"
    }
   },
   "outputs": [],
   "source": [
    "@function rectangle-area($width, $height) {\n",
    "  @return $width * $height;\n",
    "}\n",
    "\n",
    "// Usage:\n",
    "$area: rectangle-area(10px, 20px); // Returns 200px"
   ]
  },
  {
   "attachments": {},
   "cell_type": "markdown",
   "metadata": {},
   "source": [
    "- Or you can also make a different kind of function that increases the font size to the factorial of a inputted number.  "
   ]
  },
  {
   "cell_type": "code",
   "execution_count": null,
   "metadata": {
    "vscode": {
     "languageId": "plaintext"
    }
   },
   "outputs": [],
   "source": [
    "@function factorial($number){\n",
    "  $calculated: 1;\n",
    "  @for $_ from 1 through $number {\n",
    "    $calculated: $calculated*$number;\n",
    "  }\n",
    "  @return $calculated;\n",
    "}\n",
    "\n",
    "#testing {\n",
    "  font-size: factorial(3);\n",
    "}"
   ]
  },
  {
   "cell_type": "code",
   "execution_count": null,
   "metadata": {
    "vscode": {
     "languageId": "plaintext"
    }
   },
   "outputs": [],
   "source": [
    "//Combining functions and loops to achieve different sass effects\n",
    "\n",
    "@function sum($numList){\n",
    "  $sum: 0;\n",
    "  @each $num in $numList {\n",
    "    $sum: $sum+$num;\n",
    "  }\n",
    "  @return $num;\n",
    "}\n",
    "\n",
    "@function tri($num){\n",
    "  $sum: 0;\n",
    "  @for $i from 1 through $num {\n",
    "    $sum: $sum+$num;\n",
    "  }\n",
    "  @return $sum;\n",
    "}\n",
    "\n",
    "@function max($nums){\n",
    "  $i:0;\n",
    "  $value:0px;\n",
    "  @while $i<length($nums){\n",
    "    @if $value<list.nth($nums,$i){\n",
    "      $value:list.nth($nums,$i);\n",
    "    }\n",
    "  }\n",
    "}\n"
   ]
  },
  {
   "attachments": {},
   "cell_type": "markdown",
   "metadata": {},
   "source": [
    "- Custom functions are very powerful, and can be used to create reusable pieces of code that can be used throughout your stylesheets.\n",
    " \n",
    "- SASS functions are a powerful feature that allow you to perform complex operations on values, manipulate data, and generate content dynamically. By using built-in functions and creating your own custom functions, you can greatly extend the capabilities of your SASS stylesheets."
   ]
  },
  {
   "attachments": {},
   "cell_type": "markdown",
   "metadata": {},
   "source": [
    "# Mixins\n",
    "> Mixin what is a mix in what are we mixing in?\n",
    "    > Answer here (hack question): \n",
    "- Mixins are a way to make groups of CSS that you want to reuse throughout your site anywhere you please.\n",
    "- Mixins are a form of template and that you can use to build on top of to make different features later on this prevents you from having to write the same code over and over again.\n",
    "- This is a form of encapsulation in your CSS and is a great way to make your code more organized and easier to read.\n",
    "- Mixins can also take in arguments and be able to be used to apply effects on certain elements if that is a feature you want to add to your site. However unlike functions which also take arguments mixins cannot return values.\n",
    "- To use a mixin declare it with @mixin and then incorporate with @include."
   ]
  },
  {
   "attachments": {},
   "cell_type": "markdown",
   "metadata": {},
   "source": [
    "# Inheritance\n",
    "> What is inheritance?\n",
    "    > Answer here (hack question): <mark>**New class (child class) can inherit attributes form an existing class (parent class)**</mark>\n",
    "- In general programming concept where the child class can <mark>**inherit**</mark> properties from the <mark>**parent**</mark> class. These properties can be changed and modified in the <mark>**child**</mark> class. This prevents code from being repeated and makes the code more usable and flexible.\n",
    "- In SASS we have a similar concept that can be used as well we can create base styles and then have other styles inherit from them and then we can change them as we please. \n",
    "- We can do that by through using @extend .name-of-class and then we can add more styles to it as we please. Simple as that \n",
    "\n",
    "## Mixin & Inheritance Code Example"
   ]
  },
  {
   "cell_type": "code",
   "execution_count": null,
   "metadata": {
    "vscode": {
     "languageId": "plaintext"
    }
   },
   "outputs": [],
   "source": [
    "// example of @mixin\n",
    "@mixin button {\n",
    "  width: auto;\n",
    "  height: auto;\n",
    "  border-radius: 10px;\n",
    "  background-color: #21807c;\n",
    "  border: 3px solid black;\n",
    "  font-size: 1.5em;\n",
    "\n",
    "  display: flex;\n",
    "  justify-content: center;\n",
    "  align-items: center;\n",
    "\n",
    "  grid-column: span 1;\n",
    "  grid-row: span 1;\n",
    "\n",
    "  // creates smooth animation effect\n",
    "  transition: all 0.5s; \n",
    "}\n",
    "\n",
    "// default button theme for calculator and stopwatch buttons. Both will follow the same button format\n",
    ".button {\n",
    "    // uses the scss from the @mixin\n",
    "  @include button;\n",
    "}\n",
    "\n",
    "/* styling for the calculator clear button */\n",
    ".calculator-button-clear {\n",
    "    // @extend inherits .button and then changes the background color from .button\n",
    "  @extend .button;\n",
    "  background-color: #e68b1c;\n",
    "}\n",
    "\n",
    "/* styling for the calculator equals button */\n",
    ".calculator-button-equals {\n",
    "    // another @extend inherits .button and then changes the background color from .button\n",
    "  @extend .button;\n",
    "  background-color: #e70f0f;\n",
    "}"
   ]
  },
  {
   "cell_type": "markdown",
   "metadata": {},
   "source": [
    "# Compiling SASS to CSS\n",
    "SASS can't be directly input to an HTML file, it first must be compiled to CSS. The easiest way to do this is in your terminal. Change the name of your input and output file to whatever you would like to run the conversion a single time. \n",
    "```console\n",
    "sass input.scss output.css\n",
    "```\n",
    "\n",
    "If you want to automatically change your CSS file whenever you update the SASS file, you can instead run:\n",
    "\n",
    "```console\n",
    "sass --watch input.scss output.css\n",
    "```\n",
    "\n",
    "This will update whenever you save a change in your SASS file. If you're actively working on a project and changing the SASS this is probably the better option for you."
   ]
  },
  {
   "attachments": {},
   "cell_type": "markdown",
   "metadata": {},
   "source": [
    "<!-- # Hacks & [Hack Helper - Calculator](https://nighthawkcoders.github.io/teacher_portfolio/c7.0/2023/08/23/javascript-calculator.html)  -->\n",
    "## Hacks\n",
    "- Hacks are due by Friday 12/08/2023 at 11:59 p.m. PST. Any late submission will have a deduction of 0.1 Indicators from their total grade. \n",
    "\n",
    "## Hack Questions .1 Indicators\n",
    "- Answer the hack questions throughout the lesson.\n",
    "\n",
    "## Sass Demo 0.5+ Indicators\n",
    "- Using at least 3 sass features (variables, nesting, mixins, etc.) create a UI demo that may be used for future or current projects. Extra Indicators will be awarded based on creativity and extra addition of features from SASS.\n",
    "\n",
    "## Reflection .3 Indicators\n",
    "- Reflect on each feature you decided to use for your UI demo. Explain how this feature was utilized and why it was more effective than accomplishing the same task without SASS\n",
    "\n",
    "Credits: Team "
   ]
  }
 ],
 "metadata": {
  "kernelspec": {
   "display_name": "Python 3.9.12 ('base')",
   "language": "python",
   "name": "python3"
  },
  "language_info": {
   "name": "python",
   "version": "3.9.12"
  },
  "orig_nbformat": 4,
  "vscode": {
   "interpreter": {
    "hash": "eebbb108244c1ba77f1cb415be6e9567dfea2d09567dcc4fbd86eba351ce5445"
   }
  }
 },
 "nbformat": 4,
 "nbformat_minor": 2
}
