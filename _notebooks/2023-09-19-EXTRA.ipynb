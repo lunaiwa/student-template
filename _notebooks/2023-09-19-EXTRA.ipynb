{
 "cells": [
  {
   "cell_type": "markdown",
   "metadata": {},
   "source": [
    "---\n",
    "layout: post\n",
    "title: Week 5 | Speakers\n",
    "description: Speaks from the alumni\n",
    "categories: []\n",
    "courses: { csa: {week: 5} }\n",
    "type: tangibles\n",
    "---"
   ]
  },
  {
   "cell_type": "markdown",
   "metadata": {},
   "source": [
    "# Computer Science Alumni"
   ]
  },
  {
   "cell_type": "markdown",
   "metadata": {},
   "source": [
    "**Girls in CS interest Panel**\n",
    "\n",
    "- More women in computer science and close the gender gaps in tech\n",
    "- made a digital safety and partnered with the PUSD board of eduaction"
   ]
  },
  {
   "cell_type": "markdown",
   "metadata": {},
   "source": [
    "## Takeaways"
   ]
  },
  {
   "cell_type": "markdown",
   "metadata": {},
   "source": [
    "**College Application Approaches**\n",
    "\n",
    "- as much as you can the more the better since it is variable\n",
    "- undergrad doesn't really matter masters matters though\n",
    "\n",
    "**UCSD** \n",
    "\n",
    "- lottery or not UCSD is a lottery system \n",
    "- apply UCSD engineering even though didn't know what to do and switching is an option\n",
    "- CS is hard to switch into in UCSD\n",
    "- look into niche CS (cognitive, ect.)\n",
    "- interesting project depending on school\n",
    "\n",
    "**Outside Activity**\n",
    "\n",
    "- codeninjas\n",
    "- any to show commitment to coding (higher level of understanding)\n",
    "- freelance web-dev\n",
    "- projects can be better for community\n",
    "- useful and has application"
   ]
  },
  {
   "cell_type": "markdown",
   "metadata": {},
   "source": [
    "**Internships/Jobs**\n",
    "\n",
    "- lots of work during csa/csp and projects\n",
    "- spend time building projects\n",
    "- leetcode\n",
    "\n",
    "find a company that you really want to apply to and think that you can improve and make a study on that thing. Can make a mock-up on how and why you change it."
   ]
  },
  {
   "cell_type": "markdown",
   "metadata": {},
   "source": [
    "**COOLAID**\n",
    "\n",
    "- vercel\n",
    "- sevltkit\n",
    "- personal website\n",
    "- tailwind.css\n",
    "- figma"
   ]
  },
  {
   "cell_type": "markdown",
   "metadata": {},
   "source": [
    "## Reflections"
   ]
  },
  {
   "cell_type": "markdown",
   "metadata": {},
   "source": [
    "Even though this was my second time attending this meeting, I was able to gain more insights into computer science and how to pursue it as both a career and a major. Some of the college approaches discussed were similar to last year, but what caught me by surprise was the revelation that UCSD's computer science program operates on a lottery system. Additionally, I learned that the way some design students submit their UI/UX portfolios closely mirrors the process for traditional art portfolios. Now, I'm motivated to create my own portfolio and dedicate my time to building and crafting mockups of websites. Sources like LeetCode have emerged as crucial tools for the hiring and job application processes, offering a glimpse into what future job applications might resemble. A personal website serves as an excellent platform for businesses and organizations to review your work, allowing you to showcase your projects and track your progress. I'm particularly keen on continuing my pursuit of UI/UX design and plan to initiate a redesigning project soon. At UCSD, it's common for design students to utilize Figma, and I've found that ChatGPT is an easily accessible resource for code snippets related to web design. Additionally, there's an abundance of frontend (UI/UX) resources available. If you locate a teacher's GitHub repository, you can access their entire course, which proves to be a valuable resource."
   ]
  }
 ],
 "metadata": {
  "language_info": {
   "name": "python"
  },
  "orig_nbformat": 4
 },
 "nbformat": 4,
 "nbformat_minor": 2
}
