{
 "cells": [
  {
   "cell_type": "markdown",
   "metadata": {},
   "source": [
    "---\n",
    "toc: true\n",
    "comments: true\n",
    "layout: post\n",
    "title: Plans of the Week \n",
    "description: The detailed plans that need to be finished by the end of the week\n",
    "courses: { csa: {week: 2} }\n",
    "type: plans\n",
    "---"
   ]
  },
  {
   "cell_type": "markdown",
   "metadata": {},
   "source": [
    "# Plans of the Week"
   ]
  },
  {
   "cell_type": "markdown",
   "metadata": {},
   "source": [
    "---"
   ]
  },
  {
   "cell_type": "markdown",
   "metadata": {},
   "source": [
    "### Console Game Hacks"
   ]
  },
  {
   "cell_type": "markdown",
   "metadata": {},
   "source": [
    "- Make RPS, Tic-Tack-Toe, and Higher Lower into different cells and objects. Document each cell in Jupyter Notebooks. 8/29\n",
    "- Simplify logic, particularly T-T-T. What could you do to make this more simple? Java has HashMap (like Python Dictionary), Arrays (fixed size), ArraLists (Dynamic Size). 8/29\n",
    "- Run the menu using recursion versus while loop. Try to color differently. 8/29\n",
    "- Look over 10 units for College Board AP Computer Science A. In your reorganized code blocks and comments identify the Units of Code Used. 8/29\n",
    "- Answer why you think this reorganization and AP indetification is important? 8/30"
   ]
  },
  {
   "cell_type": "markdown",
   "metadata": {},
   "source": [
    "### Java Hello Hacks"
   ]
  },
  {
   "cell_type": "markdown",
   "metadata": {},
   "source": [
    "- Explain Anatomy of a Class in comments of program (Diagram key parts of the class). 8/28\n",
    "- Comment in code where there is a definition of a Class and an instance of a Class (ie object) 8/28\n",
    "- Comment in code where there are constructors and highlight the signature difference in the signature 8/28\n",
    "- Call an object method with parameter (ie setters). 8/28"
   ]
  },
  {
   "cell_type": "markdown",
   "metadata": {},
   "source": [
    "![IMG_0FD79FA9CD9D-1](https://github.com/lunaiwa/student-template/assets/111661543/2365bc45-ceba-4508-9e0b-4f7fa6087846)"
   ]
  }
 ],
 "metadata": {
  "language_info": {
   "name": "python"
  },
  "orig_nbformat": 4
 },
 "nbformat": 4,
 "nbformat_minor": 2
}
