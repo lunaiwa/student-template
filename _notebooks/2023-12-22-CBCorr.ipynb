{
 "cells": [
  {
   "cell_type": "markdown",
   "metadata": {},
   "source": [
    "---\n",
    "toc: true\n",
    "comments: true\n",
    "layout: post\n",
    "title: 2015 CB Corrections\n",
    "description: CB Corrections\n",
    "courses: { csa: {week: 19} }\n",
    "type: hacks\n",
    "---"
   ]
  },
  {
   "cell_type": "markdown",
   "metadata": {},
   "source": [
    "# College Board Corrections"
   ]
  },
  {
   "cell_type": "markdown",
   "metadata": {},
   "source": [
    "<img width=\"1280\" alt=\"Screenshot 2023-12-22 at 9 21 04 AM\" src=\"https://github.com/lunaiwa/blog/assets/111661543/66b350d4-b51d-48a6-8ef5-54cd48453f6e\">"
   ]
  },
  {
   "cell_type": "markdown",
   "metadata": {},
   "source": [
    "# Question 4"
   ]
  },
  {
   "cell_type": "markdown",
   "metadata": {},
   "source": [
    "The answer is C. The largest value in arr is negative.\n",
    "\n",
    "This is because the code initializes the maxVal to zero. If all numbers in the array are zero since the check is for > maxVal, which is zero it will never set maxVal for a negative number. Thus maxVal will remain zero passing through the entire loop."
   ]
  },
  {
   "cell_type": "markdown",
   "metadata": {},
   "source": [
    "# Question 9"
   ]
  },
  {
   "cell_type": "markdown",
   "metadata": {},
   "source": [
    "The answer is E\n",
    "\n",
    "The Math.random() returns a value between 0.0 and 1.0. That is multiplied by 6 to give you a value of 1-6. Multiply that *2 and that gives you a max of 12."
   ]
  },
  {
   "cell_type": "markdown",
   "metadata": {},
   "source": [
    "# Question 26"
   ]
  },
  {
   "cell_type": "markdown",
   "metadata": {},
   "source": [
    "The answer is E\n",
    "\n",
    "No class instance variables here. They are all in the start method. They only exist in the scope of the start method.\n",
    "\n",
    "Only print statements are in the start method and the signature on the \"changeIt\" method is a void return. This shows that while the nums variable, value variable and name variable = \"blackboard\" is passed in there is no modification of those variables in \"changeIt\".\n",
    "\n",
    "not a, c, d : no modification of \"name\" after it is defined at the top of the start method. All lines below that in the start method simply print out the variables. The nums array is printed, then the value of the value variable then the value of the name variable.\n",
    "\n",
    "None of variables in the start method are modified after they are defined. They are just printed out.\n",
    "\n"
   ]
  },
  {
   "cell_type": "markdown",
   "metadata": {},
   "source": [
    "# Question 30"
   ]
  },
  {
   "cell_type": "markdown",
   "metadata": {},
   "source": [
    "The answer is B \n",
    "\n",
    "Code chunk I does not work because every \"if\" statement will be checked.\n",
    "\n",
    "Code chunk II does work because the code uses \"if\" and \"if else\" statements. It starts with the condition for the highest number range first then goes down.\n",
    "\n",
    "Code chunk III does not work because the first if statement simply does > 0. That will take all counts > 0 and apply the $5 a box price range which is incorrect."
   ]
  },
  {
   "cell_type": "markdown",
   "metadata": {},
   "source": [
    "# Question 36"
   ]
  },
  {
   "cell_type": "markdown",
   "metadata": {},
   "source": [
    "The answer is D\n",
    "\n",
    "Code starts out with a while loop with conditions using \"start\" and \"end\" variables. Array starts at zero and ends at last slot (data.length -1).\n",
    "\n",
    "The variable \"mid\" is calculated as (1 + 8) / 2 = 3 for the first pass of the while loop. Target is greater than value at mid slot (i.e. \"4\") so end = mid + 1. Recalculate the \"mid\" variable as (2 + 8) / 2 = 5. Target is equal to the value at mid slot (i.e. \"8\") so we have a hit on the search. Code returns the slot where the middle variable is, which is 5."
   ]
  },
  {
   "cell_type": "markdown",
   "metadata": {},
   "source": [
    "# Question 38"
   ]
  },
  {
   "cell_type": "markdown",
   "metadata": {},
   "source": [
    "The answer is C\n",
    "\n",
    "The first \"if\" block in the code checks to see if there is a match of the search variable (i.e. \"v\") to the last variable in the array (as indicated by numVals - 1). Note that because this is recursive each call to mystery will back up this up one lower in the array. The second \"if\" block checks to see if the array is only one long. If that's the case, return and end. There is no more to process in the array. The else of the second \"if\" block calls mystery again, but this time sets the numVals length one shorter. The mystery method runs again. If there is a match (i.e. first \"if\" block is true), k = 1 meaning that when the stack unwinds 1 will be added to the overall return value. "
   ]
  },
  {
   "cell_type": "markdown",
   "metadata": {},
   "source": [
    "# Reflection\n",
    "\n",
    "- reread questions more often becuase college board has tricky wording\n",
    "- less distracted while taking the test\n",
    "- be careful and make sure the answer is correct before moving onto the next question\n",
    "- try to not run the code block when confused\n",
    "- guess on questions less"
   ]
  }
 ],
 "metadata": {
  "language_info": {
   "name": "python"
  }
 },
 "nbformat": 4,
 "nbformat_minor": 2
}
