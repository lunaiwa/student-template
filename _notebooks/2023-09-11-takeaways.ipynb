{
 "cells": [
  {
   "cell_type": "markdown",
   "metadata": {},
   "source": [
    " ---\n",
    "layout: post\n",
    "title: Athlete Appitite \n",
    "description: Takeaways from making this project\n",
    "courses: { csa: {week: 3} }\n",
    "type: tangibles\n",
    "---"
   ]
  },
  {
   "cell_type": "markdown",
   "metadata": {},
   "source": [
    "# Learning Takeaways"
   ]
  },
  {
   "cell_type": "markdown",
   "metadata": {},
   "source": [
    "### Yay FETCHED API but weird inputs"
   ]
  },
  {
   "cell_type": "markdown",
   "metadata": {},
   "source": [
    "### Switching inputs to buttons but buttons don't FETCH"
   ]
  },
  {
   "cell_type": "markdown",
   "metadata": {},
   "source": [
    "<img width=\"234\" alt=\"Screenshot 2023-09-11 at 1 22 16 AM\" src=\"https://github.com/e-shen2022/APCS_Blog/assets/111661543/0c0f31b6-13d5-4b9c-b075-c9cfdc4cdfaf\">"
   ]
  },
  {
   "cell_type": "markdown",
   "metadata": {},
   "source": [
    "### Changing JS to apply to the new button inputs"
   ]
  },
  {
   "cell_type": "markdown",
   "metadata": {},
   "source": [
    "### Adding a comments section"
   ]
  },
  {
   "cell_type": "markdown",
   "metadata": {},
   "source": [
    "- adding event listers for the drag and drop parts for images\n",
    "- file input element for file selection"
   ]
  },
  {
   "cell_type": "markdown",
   "metadata": {},
   "source": [
    "### Comments aren't saving into local "
   ]
  },
  {
   "cell_type": "markdown",
   "metadata": {},
   "source": [
    "- could make server or database (backend)"
   ]
  },
  {
   "cell_type": "markdown",
   "metadata": {},
   "source": [
    "### Comments save and added delete option to delete comments"
   ]
  },
  {
   "cell_type": "markdown",
   "metadata": {},
   "source": [
    "- added a clear comments which can only be seen in the code and can be toggled off or on"
   ]
  },
  {
   "cell_type": "markdown",
   "metadata": {},
   "source": [
    "# JavaScript Takeaways"
   ]
  },
  {
   "cell_type": "markdown",
   "metadata": {},
   "source": [
    "## Challenges / Learning Moments"
   ]
  },
  {
   "cell_type": "markdown",
   "metadata": {},
   "source": [
    "- Trying to find out how to change the inputs from option to button without ruining API fetch js\n",
    "    - changed the option input and select into button\n",
    "    - option was switched to button and changed the js to manage selection state\n",
    "    - removed the selected "
   ]
  },
  {
   "cell_type": "code",
   "execution_count": null,
   "metadata": {
    "vscode": {
     "languageId": "plaintext"
    }
   },
   "outputs": [],
   "source": [
    "            <label for=\"diet\">Diet:</label>\n",
    "            <select id=\"diet\" name=\"diet\">\n",
    "                <option value=\"pescetarian\">Pescetarian</option>\n",
    "                <option value=\"vegetarian\">Vegetarian</option>\n",
    "                <option value=\"vegan\">Vegan</option>\n",
    "            </select>"
   ]
  },
  {
   "cell_type": "markdown",
   "metadata": {},
   "source": [
    "- changing from table display to card display\n",
    "    - making sure the cards didn't interfere with other recipies \n",
    "\n",
    "- trying to redirect the results to another page (failure)\n",
    "    - tried to make the search button to a redirect button with results\n",
    "    - failed and tried to change some js\n",
    "    - tried to use ajax\n",
    "        - ajax request to fetch the data \n",
    "    - still didn't work"
   ]
  }
 ],
 "metadata": {
  "language_info": {
   "name": "python"
  },
  "orig_nbformat": 4
 },
 "nbformat": 4,
 "nbformat_minor": 2
}
