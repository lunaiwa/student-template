{
 "cells": [
  {
   "cell_type": "markdown",
   "metadata": {},
   "source": [
    "---\n",
    "toc: true\n",
    "comments: true\n",
    "layout: post\n",
    "title: Fibonacci Notes\n",
    "description: In class notes\n",
    "type: tangibles\n",
    "courses: { csa: {week: 13} }\n",
    "---"
   ]
  },
  {
   "cell_type": "markdown",
   "metadata": {},
   "source": [
    "# Fibonacci Notes\n",
    "\n",
    "**Hacks:**\n",
    "\n",
    "- Finish fibonacci and add methods\n",
    "- use inheritance concept \n",
    "- sor analysis\n",
    "\n",
    "**Key Elements:**\n",
    "\n",
    "1. parent child classes, inheritence, overirdes\n",
    "2. practicing different java techniques and algoithms\n",
    "3. analysis go back to big O and do anaylsis on elements and figure how to analyze (reccomendation, number of iteration, number of comparisons, number of swaps or array) when big O notaion its always about space and time. Space like how much memory is used allocating new arryas ad time is like the how many iterations and how many comaprisons. (things that take time).do analysis capture and display it\n",
    "\n",
    ">> simple way to do it\n",
    "2 week highly related to collged board and use all factors and units\n",
    "\n",
    "**UI:**\n",
    "\n",
    "1. never put a <head> or <body> tag in .md file\n",
    "2. style in local files should be limited\n",
    "3. config.yml is header page shows what is on menu\n",
    "\n",
    "\n"
   ]
  },
  {
   "cell_type": "markdown",
   "metadata": {},
   "source": []
  }
 ],
 "metadata": {
  "language_info": {
   "name": "python"
  }
 },
 "nbformat": 4,
 "nbformat_minor": 2
}
