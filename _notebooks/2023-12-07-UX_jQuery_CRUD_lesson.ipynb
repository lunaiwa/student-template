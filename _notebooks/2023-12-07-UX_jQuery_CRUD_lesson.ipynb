{
 "cells": [
  {
   "cell_type": "markdown",
   "metadata": {},
   "source": [
    "---\n",
    "toc: true\n",
    "comments: true\n",
    "layout: notebook\n",
    "title: UX - jQuery - CRUD Lesson\n",
    "description: The Bestest Baddest Coders lesson on UX and jQuery|CRUD\n",
    "courses: { csa: {week: 17} }\n",
    "type: hacks\n",
    "authors: Colin Weis, Orlando Carcamo, Aniket Chakradeo, Mati Danish, Shreyas Sarurkar, Soham Kamat\n",
    "---"
   ]
  },
  {
   "cell_type": "markdown",
   "metadata": {},
   "source": [
    "# UX\n",
    "\n",
    "### Intro to the lesson\n",
    "- Do you remember the first operating system you used?\n",
    "- What makes you remember that first interaction?\n",
    "- The first operating system that I used was Windows XP, and fun fact the XP stands for experience. This shows how important User Experience is.\n",
    "\n",
    "### What is UX?\n",
    "- UX is the shortform of <mark>**user experience**</mark>; a standard of understanding the <mark>**usability**</mark> of a product and optimise it based on data recived from users.\n",
    "\n",
    "- UX is a <mark>**standard of usability**</mark> in all industries since collecting UX and improving the product based on it increases the <mark>**UX**</mark> of the product on the market, increasing profits of the company or collaboration.\n",
    "\n",
    "# Examples of bad UX but Good UI\n",
    "\n",
    "\n",
    "- apple.com\n",
    "    - the website lags on lower end devices.\n",
    "    - renders the website useless on lower end devices\n",
    "    (demonstrate)\n",
    "\n",
    "<img width=\"1912\" alt=\"Screenshot 2023-12-06 at 8 37 54 PM\" src=\"https://github.com/y2kcoders/skatepark.co/assets/111465192/0b959614-184b-4e04-8986-c687fe141102\">\n",
    "\n",
    "\n",
    "\n",
    "- microsoft.com\n",
    "    - the website is very hard to navigate\n",
    "    - very hard to find every feature\n",
    "    - the first time i used it, i didn't know where to change my password and eventually gave up\n",
    "    - is it trying to sell me its products or is it trying to help me?\n",
    "\n",
    "<img width=\"1912\" alt=\"Screenshot 2023-12-06 at 8 41 13 PM\" src=\"https://github.com/hsinaDitaM/Danish_Cookies/assets/111465192/37cdaa0a-0409-4980-a1f0-77dd03f3e749\">\n",
    "\n",
    "\n",
    "\n",
    "- controversial but true, github.com\n",
    "    - veru hard to navigate\n",
    "    - very hard to find every feature\n",
    "    - too much is going on, mental stress 😩\n",
    "\n",
    "<img width=\"1912\" alt=\"Screenshot 2023-12-06 at 8 38 52 PM\" src=\"https://github.com/hsinaDitaM/Danish_Cookies/assets/111465192/2d8a3e01-6e54-4c7f-adb6-c9d49e9c839c\">\n",
    "\n",
    "\n",
    "# Examples of Good UX and Good UI\n",
    "\n",
    "- discord.com\n",
    "    - very easy to navigate\n",
    "    - very easy to find every feature\n",
    "    - everything is very well organized\n",
    "    - the icons are very easy to understand\n",
    "\n",
    "![image](https://github.com/hsinaDitaM/Danish_Cookies/assets/111465192/54c2a731-428c-4fb2-8902-7688edc59b15)\n",
    "\n",
    "\n",
    "- google.com\n",
    "    - it has a search bar, and that's it\n",
    "    - it is very easy to use, even for a 5 year old or a 90 year old\n",
    "\n",
    "<img width=\"1912\" alt=\"Screenshot 2023-12-06 at 8 45 05 PM\" src=\"https://github.com/hsinaDitaM/Danish_Cookies/assets/111465192/954f81ab-345e-44ee-810f-e3e191f0b0ef\">\n",
    "\n",
    "![image](https://github.com/Soham360/refactored-engine/assets/111465192/5d3131ff-d717-4acd-a473-708a7936169a)\n",
    "\n",
    "\n",
    "### What is the difference between UX and UI?\n",
    "- The main difference between UX and UI is that UI focuses on how the website looks rather than how it works.\n",
    "- A website can have a great UI but a bad UX, but a website can't have a great UX but a bad UI\n",
    "    - If the website is bad to look at, the User Experience is going to be horrible.\n",
    "\n",
    "### When is UX Used?\n",
    "- UX is used when a product, especially a new one, needs optimization or modification based on user prefrence. This helps with changing user perception of the product since the company producing it would have had no prior feedback and would have not known their user prefrences.\n",
    "\n",
    "### How is UX data gathered?\n",
    "- UX data is mainly gathered through internet forms or feedback discussion boards. Advertisments and websites such as Google forms or official company forums are some common methods. This data is used to make small or big quality kf life changes that make it more convineient anfor the user.\n",
    "\n",
    "- An example of UX data collection is the Minecraft Forums:\n",
    "![image](https://github.com/Henerystone/ws2/assets/96998793/5cf2c8cf-ce18-46e7-a45a-3a9c9c6720cb)\n",
    "- An example of UX implementation is the Spotify Wrapped interface:\n",
    "![image](https://github.com/Henerystone/ws2/assets/96998793/484ba60b-a16b-471e-85f1-3041ad615d22)   \n",
    "- On one hand, the Minecraft Forums are a source of UX data and on the other hand, the Spotify Wrapped interface is an example of improving UX.\n",
    "\n",
    "### Why is UX important?\n",
    "- UX is vital for the quality of a product; if there is no quality control or optimisation of UX, demand for the product drops and it fades away. If the product keeps up with modern UX expectations, it grows in popularity, gains higher demand and profits.\n",
    "- An example is the contrast between old and new Mario games:\n",
    "![image](https://github.com/Henerystone/ws2/assets/96998793/340763a8-c3c8-4efb-9ff0-30a16c47ada8)\n",
    "\n",
    "- Incredibly low resolution, very lackluster in terms of background and very simple design on the UI and the foreground/level.\n",
    "\n",
    "![image](https://github.com/Henerystone/ws2/assets/96998793/f085b3d8-f56c-4b47-9bb3-6b2ad723c844)\n",
    "\n",
    "- Incredibly detailed, amazing resolution, interesting levels and larger UI/interfaces.\n",
    "\n",
    "- As time has gone by, the user demands for higher resolution, higher detail, better quality, more game depth has translated into games as they strive to improve their UX to keep their products on top of the list."
   ]
  },
  {
   "cell_type": "markdown",
   "metadata": {},
   "source": [
    "### What is jQuery?\n",
    "\n",
    "**jQuery** is a lightweight, “<mark>**write less do more**</mark>”, JavaScript library. The purpose of jQuery is to make it much easier to use JavaScript on your site and it simplifies many tasks that require many lines of JavaScript code to accomplish, wraping them into <mark>**lightweight methods**</mark> that you can call with a single line of code.\n",
    "\n",
    "**jQuery** also simplifies a lot of the complicated things from JavaScript, like AJAX calls and DOM manipulation."
   ]
  },
  {
   "cell_type": "markdown",
   "metadata": {},
   "source": [
    "### The implications of jQuery\n",
    "\n",
    "The jQuery library has the following features\n",
    "\n",
    "1. HTML/DOM manipulation\n",
    "2. CSS manipulation\n",
    "3. HTML event methods\n",
    "4. Effects and animations\n",
    "5. AJAX (Asynchronous Javascript and XML)\n",
    "6. Utilities\n",
    "\n",
    "- In addition, jQuery has plugins for almost any task out there.\n",
    "\n",
    "If you ever want to use jQuery, you can download it [here](http://jquery.com/download/) or just use a CDN (Content Delivery Network) from Google!"
   ]
  },
  {
   "cell_type": "code",
   "execution_count": null,
   "metadata": {
    "vscode": {
     "languageId": "java"
    }
   },
   "outputs": [],
   "source": [
    "<!-- Downloaded jQuery -->\n",
    "<head>\n",
    "<script src=\"jquery-3.7.1.min.js\"></script>\n",
    "</head>"
   ]
  },
  {
   "cell_type": "code",
   "execution_count": null,
   "metadata": {
    "vscode": {
     "languageId": "java"
    }
   },
   "outputs": [],
   "source": [
    "<!-- Google CDN which is the more common method of getting the library -->\n",
    "<head>\n",
    "<script src=\"https://ajax.googleapis.com/ajax/libs/jquery/3.7.1/jquery.min.js\"></script>\n",
    "</head>"
   ]
  },
  {
   "cell_type": "markdown",
   "metadata": {},
   "source": [
    "### jQuery syntax and how to use it\n",
    "\n",
    "With jQuery you select (query) HTML elements and perform \"<mark>**actions**</mark>\" on them.\n",
    "\n",
    "Basic syntax is: $(selector).action()\n",
    "\n",
    "- A $ symbol to define/access jQuery\n",
    "- A (selector) to \"query (or find)\" HTML elements\n",
    "- A jQuery action() to be performed on the element(s)\n",
    "\n",
    "Examples:\n",
    "\n",
    "- $(this).hide() - hides the current element\n",
    "\n",
    "- $(\"p\").hide() - hides all <p> elements\n",
    "\n",
    "- $(\".test\").hide() - hides all elements with class=\"test\"\n",
    "\n",
    "- $(\"#test\").hide() - hides the element with id=\"test\"\n",
    "\n",
    "In the following example, write in one of the comments where the selector is (popcorn hack ~ raise hand when found)"
   ]
  },
  {
   "cell_type": "code",
   "execution_count": null,
   "metadata": {
    "vscode": {
     "languageId": "java"
    }
   },
   "outputs": [],
   "source": [
    "$(document).ready(function(){     // \n",
    "    $(\"button\").click(function(){ // \n",
    "      $(\"p\").hide();              // #id selector\n",
    "    });                           //\n",
    "  });                             //"
   ]
  },
  {
   "cell_type": "markdown",
   "metadata": {},
   "source": [
    "The element Selector\n",
    "- $(\"p\")\n",
    "The #id Selector\n",
    "- $(\"#test\")\n",
    "The .class Selector\n",
    "- $(\".class\")\n",
    "\n",
    "The Document Ready Event\n",
    "\n",
    "All jQuery methods begin inside a document <mark>**document ready**</mark> event:"
   ]
  },
  {
   "cell_type": "code",
   "execution_count": null,
   "metadata": {
    "vscode": {
     "languageId": "java"
    }
   },
   "outputs": [],
   "source": [
    "$(document).ready(function(){\n",
    "\n",
    "    // jQuery methods go here...\n",
    "  \n",
    "  });"
   ]
  },
  {
   "cell_type": "markdown",
   "metadata": {},
   "source": [
    "This is to prevent any jQuery code from running before the document is finished loading (is ready).\n",
    "\n",
    "It is good practice to wait for the document to be fully loaded and ready before working with it. This also allows you to have your JavaScript code before the body of your document, in the head section.\n",
    "\n",
    "Reason:\n",
    "- Trying to hide an element that is not created yet\n",
    "- Trying to get the size of an image that is not loaded yet"
   ]
  },
  {
   "cell_type": "code",
   "execution_count": null,
   "metadata": {
    "vscode": {
     "languageId": "java"
    }
   },
   "outputs": [],
   "source": [
    "$(function(){\n",
    "    \n",
    "    // An even quicker way to do it\n",
    "    // jQuery methods go here...\n",
    "  \n",
    "  });"
   ]
  },
  {
   "cell_type": "markdown",
   "metadata": {},
   "source": [
    "### jQuery methods and event handling \n",
    "\n",
    "What are Events?\n",
    "- All the different visitors' actions that a web page can respond to are called events\n",
    "\n",
    "|Mouse Events|Keyboard Events|Form Events|Document/Window Events|\n",
    "|-|-|-|-|\n",
    "|click|keypress|submit|load|\n",
    "|dblclick|keydown|change|resize|\n",
    "|mouseenter|keyup|focus|scroll|\n",
    "|mouseleave||blur|unload|\n",
    "\n",
    "Popcorn Hack: Name 3 other event HTML events\n",
    "\n",
    "1. Hover\n",
    "\n",
    "2. On Press\n",
    "\n",
    "3. On Reload"
   ]
  },
  {
   "cell_type": "code",
   "execution_count": null,
   "metadata": {
    "vscode": {
     "languageId": "java"
    }
   },
   "outputs": [],
   "source": [
    "onclick=JavaScript\n",
    "// The infamous onclick event in html"
   ]
  },
  {
   "cell_type": "code",
   "execution_count": null,
   "metadata": {
    "vscode": {
     "languageId": "java"
    }
   },
   "outputs": [],
   "source": [
    "<html>\n",
    "<head>\n",
    "<script src=\"https://ajax.googleapis.com/ajax/libs/jquery/3.7.1/jquery.min.js\"></script>\n",
    "<script>\n",
    "$(document).ready(function(){\n",
    "  $(\"p\").click(function(){\n",
    "    $(this).hide();\n",
    "  });\n",
    "});\n",
    "</script>\n",
    "</head>\n",
    "<body>\n",
    "\n",
    "<p>If you click on me, I will disappear.</p>\n",
    "<p>Click me away!</p>\n",
    "<p>Click me too!</p>\n",
    "\n",
    "</body>\n",
    "</html>"
   ]
  },
  {
   "cell_type": "markdown",
   "metadata": {},
   "source": [
    "Final example, look at it [here](https://soham360.github.io/refactored-engine/dissapear.html)"
   ]
  },
  {
   "cell_type": "code",
   "execution_count": null,
   "metadata": {
    "vscode": {
     "languageId": "java"
    }
   },
   "outputs": [],
   "source": [
    "<html>\n",
    "<head>\n",
    "<script src=\"https://ajax.googleapis.com/ajax/libs/jquery/3.7.1/jquery.min.js\"></script>\n",
    "<script>\n",
    "$(document).ready(function(){\n",
    "  $(\"#hide\").click(function(){\n",
    "    $(\"p\").hide();\n",
    "  });\n",
    "  $(\"#show\").click(function(){\n",
    "    $(\"p\").show();\n",
    "  });\n",
    "});\n",
    "</script>\n",
    "</head>\n",
    "<body>\n",
    "\n",
    "<p>If you click on the \"Hide\" button, I will disappear.</p>\n",
    "\n",
    "<button id=\"hide\">Hide</button>\n",
    "<button id=\"show\">Show</button>\n",
    "\n",
    "</body>\n",
    "</html>"
   ]
  },
  {
   "cell_type": "markdown",
   "metadata": {},
   "source": [
    "Final example, look at it [here](https://soham360.github.io/refactored-engine/show.html)"
   ]
  },
  {
   "cell_type": "code",
   "execution_count": null,
   "metadata": {
    "vscode": {
     "languageId": "java"
    }
   },
   "outputs": [],
   "source": [
    "<html>\n",
    "<head>\n",
    "<script src=\"https://ajax.googleapis.com/ajax/libs/jquery/3.7.1/jquery.min.js\"></script>\n",
    "<script>\n",
    "$(document).ready(function(){\n",
    "    // Challenge! Make it so the text appears with an animation, causing it to slowly fade in and out!\n",
    "});\n",
    "</script>\n",
    "</head>\n",
    "<body>\n",
    "\n",
    "<button id=\"hide\">Hide</button>\n",
    "<button id=\"show\">Show</button>\n",
    "\n",
    "<p>Points < Indicators :D</p>\n",
    "<p>This is another small paragraph</p>\n",
    "<p>(if you put a cool joke here you get .01 extra points)</p>\n",
    "<p>\"ew who wrote that?\" ^^^</p>\n",
    "\n",
    "</body>\n",
    "</html>"
   ]
  },
  {
   "cell_type": "markdown",
   "metadata": {},
   "source": [
    "Final example, look at it [here](https://soham360.github.io/refactored-engine/showtime.html)"
   ]
  },
  {
   "cell_type": "code",
   "execution_count": null,
   "metadata": {
    "vscode": {
     "languageId": "java"
    }
   },
   "outputs": [],
   "source": [
    "<html>\n",
    "<head>\n",
    "<script src=\"https://ajax.googleapis.com/ajax/libs/jquery/3.7.1/jquery.min.js\"></script>\n",
    "<script>\n",
    "$(document).ready(function(){\n",
    "  $(\"button\").click(function(){\n",
    "    $(\"#div1\").fadeIn();\n",
    "    $(\"#div2\").fadeIn(\"slow\");\n",
    "    $(\"#div3\").fadeIn(3000);\n",
    "  });\n",
    "});\n",
    "</script>\n",
    "</head>\n",
    "<body>\n",
    "\n",
    "<p>Demonstrate fadeIn() with different parameters.</p>\n",
    "\n",
    "<button>Click to fade in boxes</button><br><br>\n",
    "\n",
    "<div id=\"div1\" style=\"width:80px;height:80px;display:none;background-color:red;\"></div><br>\n",
    "<div id=\"div2\" style=\"width:80px;height:80px;display:none;background-color:green;\"></div><br>\n",
    "<div id=\"div3\" style=\"width:80px;height:80px;display:none;background-color:blue;\"></div>\n",
    "\n",
    "</body>\n",
    "</html>"
   ]
  },
  {
   "cell_type": "markdown",
   "metadata": {},
   "source": [
    "Final example, look at it [here](https://soham360.github.io/refactored-engine/box.html)"
   ]
  },
  {
   "cell_type": "markdown",
   "metadata": {},
   "source": [
    "### Making requests with AJAX\n",
    "\n",
    "**AJAX** stands for Asynchronous JavaScript and XML. It allows web pages to be updated asynchronously in a easier way and is promise based. A **Promise** in JavaScript represents the eventual completion (or failure) of an asynchronous request.\n",
    "\n",
    "### Why use jQuery AJAX over a normal async request or AJAX request?\n",
    "\n",
    "Against a normal async request AJAX has a lot of advantages:\n",
    "\n",
    "1. **Easier Error Handling**: Promises are much easier to deal with than callbacks. If an error occurs in a promise, it will be passed down to the next `catch()` clause.\n",
    "\n",
    "2. **Simpler API Chaining**: If you want to wait for one operation to finish before starting another one you can simply use `.then()`.\n",
    "\n",
    "#### Normal async request"
   ]
  },
  {
   "cell_type": "code",
   "execution_count": null,
   "metadata": {
    "vscode": {
     "languageId": "java"
    }
   },
   "outputs": [],
   "source": [
    "getUserLocation(function(error, location) {\n",
    "    if (error) {\n",
    "        console.error('Error:', error);\n",
    "    } else {\n",
    "        getForecast(location, function(error, forecast) {\n",
    "            if (error) {\n",
    "                console.error('Error:', error);\n",
    "            } else {\n",
    "                console.log('Forecast:', forecast);\n",
    "            }\n",
    "        });\n",
    "    }\n",
    "});"
   ]
  },
  {
   "cell_type": "markdown",
   "metadata": {},
   "source": [
    "#### Ajax requests without any library"
   ]
  },
  {
   "cell_type": "code",
   "execution_count": null,
   "metadata": {
    "vscode": {
     "languageId": "java"
    }
   },
   "outputs": [],
   "source": [
    "fetch('api/location')\n",
    ".then(response => response.json())\n",
    ".then(location => fetch('api/forecast/' + location))\n",
    ".then(response => response.json())\n",
    ".then(forecast => {\n",
    "    console.log('Forecast:', forecast);\n",
    "})\n",
    ".catch(error => {\n",
    "    console.error('Error:', error);\n",
    "});"
   ]
  },
  {
   "cell_type": "markdown",
   "metadata": {},
   "source": [
    "#### Ajax Requests with JQuery"
   ]
  },
  {
   "cell_type": "code",
   "execution_count": null,
   "metadata": {
    "vscode": {
     "languageId": "java"
    }
   },
   "outputs": [],
   "source": [
    "$.ajax({ url: 'api/location', method: 'GET', dataType: 'json' })\n",
    ".then(function(location) {\n",
    "    return $.ajax({ url: 'api/forecast/' + location, method: 'GET', dataType: 'json' });\n",
    "})\n",
    ".then(function(forecast) {\n",
    "    console.log('Forecast:', forecast);\n",
    "})\n",
    ".catch(function(error) {\n",
    "    console.error('Error:', error);\n",
    "});"
   ]
  },
  {
   "cell_type": "markdown",
   "metadata": {},
   "source": [
    "You can see using ajax is much easier to read than callback system. However when it comes to using jquery ajax vs javascript's version there are less differences. It is up to you which syntax you like more.\n",
    "\n",
    "As mentioned earlier, jQuery ajax also builds on top of the old javascript version so it can support older browser versions."
   ]
  },
  {
   "cell_type": "markdown",
   "metadata": {},
   "source": [
    "## Jquery's use with PBL"
   ]
  },
  {
   "cell_type": "markdown",
   "metadata": {},
   "source": [
    "Jquery's most important use is making you site dynamic and update from user input. The most important part of this for our projects is **taking the data from the backend and building html from it**.\n"
   ]
  },
  {
   "cell_type": "code",
   "execution_count": 1,
   "metadata": {
    "vscode": {
     "languageId": "java"
    }
   },
   "outputs": [
    {
     "data": {
      "text/html": [
       "<head>\n",
       "    <script src=\"https://ajax.googleapis.com/ajax/libs/jquery/3.5.1/jquery.min.js\"></script>\n",
       "    <style>\n",
       "        .post {\n",
       "            border: 1px solid #ddd;\n",
       "            margin-bottom: 20px;\n",
       "            padding: 20px;\n",
       "            border-radius: 5px;\n",
       "        }\n",
       "        .like-count {\n",
       "            color: #007BFF;\n",
       "        }\n",
       "    </style>\n",
       "</head>\n",
       "<body>\n",
       "\n",
       "<div id=\"posts\"></div>\n",
       "\n",
       "<script>\n",
       "// Fake API function\n",
       "function getAPI() {\n",
       "    return [\n",
       "        {id: 1, content: 'Dogs are man\\'s best friend.', likes: 10},\n",
       "        {id: 2, content: 'Dogs have an exceptional sense of smell.', likes: 20},\n",
       "        {id: 3, content: 'There are hundreds of different dog breeds.', likes: 30}\n",
       "    ];\n",
       "}\n",
       "\n",
       "$(document).ready(function(){\n",
       "    var posts = getAPI();\n",
       "    $.each(posts, function(i, post) {\n",
       "        var postHtml = '<div class=\"post\"><h2>Post ' + post.id + '</h2><p>' + post.content + '</p><p class=\"like-count\">' + post.likes + ' likes</p></div>';\n",
       "        $('#posts').append(postHtml);\n",
       "    });\n",
       "});\n",
       "</script>\n",
       "\n",
       "</body>\n"
      ],
      "text/plain": [
       "<IPython.core.display.HTML object>"
      ]
     },
     "metadata": {},
     "output_type": "display_data"
    }
   ],
   "source": [
    "%%html\n",
    "<head>\n",
    "    <script src=\"https://ajax.googleapis.com/ajax/libs/jquery/3.5.1/jquery.min.js\"></script>\n",
    "    <style>\n",
    "        .post {\n",
    "            border: 1px solid #ddd;\n",
    "            margin-bottom: 20px;\n",
    "            padding: 20px;\n",
    "            border-radius: 5px;\n",
    "        }\n",
    "        .like-count {\n",
    "            color: #007BFF;\n",
    "        }\n",
    "    </style>\n",
    "</head>\n",
    "<body>\n",
    "\n",
    "<div id=\"posts\"></div>\n",
    "\n",
    "<script>\n",
    "// Fake API function\n",
    "function getAPI() {\n",
    "    return [\n",
    "        {id: 1, content: 'Dogs are man\\'s best friend.', likes: 10},\n",
    "        {id: 2, content: 'Dogs have an exceptional sense of smell.', likes: 20},\n",
    "        {id: 3, content: 'There are hundreds of different dog breeds.', likes: 30}\n",
    "    ];\n",
    "}\n",
    "\n",
    "$(document).ready(function(){\n",
    "    var posts = getAPI();\n",
    "    $.each(posts, function(i, post) {\n",
    "        var postHtml = '<div class=\"post\"><h2>Post ' + post.id + '</h2><p>' + post.content + '</p><p class=\"like-count\">' + post.likes + ' likes</p></div>';\n",
    "        $('#posts').append(postHtml);\n",
    "    });\n",
    "});\n",
    "</script>\n",
    "\n",
    "</body>"
   ]
  },
  {
   "cell_type": "markdown",
   "metadata": {},
   "source": [
    "### Popcorn Hack: Complete the Jquery and JavaScript code\n",
    "\n",
    "This represents a website for buying dogs. The API contains an id, name, price, and breed for each dog. Display them all as html using jQuery."
   ]
  },
  {
   "cell_type": "code",
   "execution_count": null,
   "metadata": {
    "vscode": {
     "languageId": "java"
    }
   },
   "outputs": [],
   "source": [
    "%%html\n",
    "<head>\n",
    "    <script src=\"https://ajax.googleapis.com/ajax/libs/jquery/3.5.1/jquery.min.js\"></script>\n",
    "    <style>\n",
    "        .dog {\n",
    "            border: 1px solid #ddd;\n",
    "            margin-bottom: 20px;\n",
    "            padding: 20px;\n",
    "            border-radius: 5px;\n",
    "        }\n",
    "        .price {\n",
    "            color: #007BFF;\n",
    "        }\n",
    "    </style>\n",
    "</head>\n",
    "<body>\n",
    "\n",
    "<div id=\"dogs\"></div>\n",
    "\n",
    "<script>\n",
    "function getAPI() {\n",
    "    return [\n",
    "        {id: 1, name: 'Abel', price: '$1000', breed: 'Golden Retriever'},\n",
    "        {id: 2, name: 'Beatrice', price: '$800', breed: 'Retriever'},\n",
    "        {id: 3, name: 'Chow', price: '$1200', breed: 'Shepherd'}\n",
    "    ];\n",
    "}\n",
    "\n",
    "$(document).ready(function(){\n",
    "    var dogs = getAPI();\n",
    "\n",
    "    var dogsContainer = $('#dogs');\n",
    "\n",
    "    $.each(dogs, function(index, dog) {\n",
    "        var dogElement = $('<div class=\"dog\">');\n",
    "        dogElement.append('<h2>' + dog.name + '</h2>');\n",
    "        dogElement.append('<p class=\"price\">' + dog.price + '</p>');\n",
    "        dogElement.append('<p>Breed: ' + dog.breed + '</p>');\n",
    "        dogsContainer.append(dogElement);\n",
    "    });\n",
    "});\n",
    "</script>\n",
    "\n",
    "</body>"
   ]
  },
  {
   "cell_type": "markdown",
   "metadata": {},
   "source": [
    "## Animations with JQuery \n",
    "You can also create animations in JQuery. \n",
    "\n",
    "- styles: Specifies the CSS properties to animate. \n",
    "- speed: Optional and specifies the speed of the animation, by default it is 400 milliseconds.\n",
    "- easing: Optional and Specifies the animation pattern. \n",
    "  - “swing” - moves slower at the beginning/end, but faster in the middle\n",
    "  - “linear” - moves in a constant speed\n",
    "- callback: Optional, a function to be executed after the animation completes.\n",
    "  -  By default it is “swing”.\n",
    "\n",
    "> Animations glitch out jupyter notebooks so this example can't be in runnable code.\n",
    "\n",
    "```\n",
    "<html>\n",
    "<head>\n",
    "<script src=\"https://ajax.googleapis.com/ajax/libs/jquery/3.5.1/jquery.min.js\"></script>\n",
    "<script>\n",
    "$(document).ready(function(){\n",
    "  // Reset CSS properties to their original values\n",
    "  $(\"div\").css({\n",
    "    left: '0px',\n",
    "    opacity: '1',\n",
    "    height: '100px',\n",
    "    width: '100%'\n",
    "  });\n",
    "\n",
    "  $(\"button\").click(function(){\n",
    "    $(\"div\").animate({\n",
    "      left: '250px',\n",
    "      opacity: '0.5',\n",
    "      height: '150px',\n",
    "      width: '100%'\n",
    "    });\n",
    "  });\n",
    "});\n",
    "</script>\n",
    "</head>\n",
    "<body>\n",
    "\n",
    "<button>Start</button>\n",
    "\n",
    "<div style=\"background:#98bf21;height:100px;width:100px;position:absolute;\"></div>\n",
    "\n",
    "</body>\n",
    "</html>\n",
    "```"
   ]
  },
  {
   "cell_type": "markdown",
   "metadata": {},
   "source": [
    "Look at the animation [here](https://soham360.github.io/refactored-engine/animation.html)"
   ]
  },
  {
   "cell_type": "markdown",
   "metadata": {},
   "source": [
    "### CRUD Principles:\n",
    "\n",
    "**What Does CRUD Stand For?**\n",
    "- Answer this as a Popcorn Hack\n",
    "\n",
    "<mark>**create, read, update, delete**</mark>\n",
    "\n",
    "**What Does CRUD Do?**\n",
    "- These four basic operations represent the fundamental actions that can be performed on data in a computer system or a database.\n",
    "\n",
    "**How Can CRUD Be Applied to jQuery and Beyond?**\n",
    "- **jQuery:** jQuery is a JavaScript library that simplifies HTML document traversal and manipulation. You can use jQuery to perform CRUD operations on the client side, interacting with the DOM. Here's a brief overview:\n",
    "\n",
    "### Create (C):\n",
    "```javascript\n",
    "// Create a new element and append it to a table\n",
    "$('#myTable').append('<tr><td>New Data</td></tr>');\n",
    "```\n",
    "\n",
    "### Read (R): \n",
    "```javascript\n",
    "// Read data from a table\n",
    "$('#myTable tr').each(function() {\n",
    "  console.log($(this).text());\n",
    "});\n",
    "```\n",
    "\n",
    "### Update (U):\n",
    "```javascript\n",
    "// Update data in a table\n",
    "$('#myTable td:contains(\"Old Data\")').text('Updated Data');\n",
    "```\n",
    "\n",
    "### Delete (D):\n",
    "```javascript\n",
    "// Delete a row from a table\n",
    "$('#myTable td:contains(\"Data to Delete\")').closest('tr').remove();\n",
    "```\n",
    "\n",
    "- **Beyond jQuery:** In more advanced web development scenarios, CRUD operations are often performed using server-side technologies and databases. Technologies like Node.js, Express, Django, Flask, and others are commonly used for server-side development. Databases such as MySQL, MongoDB, and PostgreSQL store and manage the data.\n",
    "\n",
    "### Demonstration of Applying CRUD to Tables:\n",
    "\n",
    "Assuming a simple HTML table with the ID \"myTable\":\n",
    "\n",
    "```html\n",
    "<table id=\"myTable\">\n",
    "  <tr>\n",
    "    <th>Data</th>\n",
    "  </tr>\n",
    "  <tr>\n",
    "    <td>Row 1</td>\n",
    "  </tr>\n",
    "  <tr>\n",
    "    <td>Row 2</td>\n",
    "  </tr>\n",
    "</table>\n",
    "```\n",
    "\n",
    "#### Create (C):\n",
    "```javascript\n",
    "// Create a new row and append it to the table\n",
    "$('#myTable').append('<tr><td>New Row</td></tr>');\n",
    "```\n",
    "\n",
    "#### Read (R):\n",
    "```javascript\n",
    "// Read and log data from the table\n",
    "$('#myTable tr').each(function() {\n",
    "    console.log($(this).text());\n",
    "});\n",
    "```\n",
    "\n",
    "#### Update (U):\n",
    "```javascript\n",
    "// Update data in the first row of the table\n",
    "$('#myTable tr:first-child td').text('Updated Row');\n",
    "```\n",
    "\n",
    "#### Delete (D):\n",
    "```javascript\n",
    "// Delete the second row from the table\n",
    "$('#myTable tr:nth-child(2)').remove();\n",
    "```\n",
    "\n",
    "These examples demonstrate how CRUD operations can be applied using jQuery to manipulate a simple HTML table on the client side. In more complex applications, these operations are often handled on the server side with the help of backend frameworks and databases."
   ]
  },
  {
   "cell_type": "markdown",
   "metadata": {},
   "source": [
    "<html lang=\"en\">\n",
    "<head>\n",
    "    <meta charset=\"UTF-8\">\n",
    "    <meta name=\"viewport\" content=\"width=device-width, initial-scale=1.0\">\n",
    "    <title>jQuery CRUD Demo</title>\n",
    "    <script src=\"https://code.jquery.com/jquery-3.6.4.min.js\"></script>\n",
    "    <style>\n",
    "        table {\n",
    "            border-collapse: collapse;\n",
    "            width: 100%;\n",
    "        }\n",
    "        table, th, td {\n",
    "            border: 1px solid black;\n",
    "        }\n",
    "    </style>\n",
    "</head>\n",
    "<body>\n",
    "    <h2>jQuery CRUD Demo</h2>\n",
    "    <label for=\"nameInput\">Name:</label>\n",
    "    <input type=\"text\" id=\"nameInput\">\n",
    "    <label for=\"reviewInput\">Review:</label>\n",
    "    <input type=\"text\" id=\"reviewInput\">\n",
    "    <button id=\"addBtn\">Add Row</button>\n",
    "    <table id=\"myTable\">\n",
    "        <tr>\n",
    "            <th>Name</th>\n",
    "            <th>Review</th>\n",
    "            <th>Action</th>\n",
    "        </tr>\n",
    "        <tr>\n",
    "            <td>John Mortensen</td>\n",
    "            <td>Great lesson! Explained UX and CRUD principles as well as usage of jQuery very nicely. +3 indicators! </td>\n",
    "            <td><button class=\"editBtn\">Edit</button> <button class=\"deleteBtn\">Delete</button></td>\n",
    "        </tr>\n",
    "        <tr>\n",
    "            <td>Sean Yeung</td>\n",
    "            <td>Very interactive teaching! Covered all the topic but should have made more Taylor Swift references. </td>\n",
    "            <td><button class=\"editBtn\">Edit</button> <button class=\"deleteBtn\">Delete</button></td>\n",
    "        </tr>\n",
    "    </table>\n",
    "    <script>\n",
    "        $(document).ready(function() {\n",
    "            // Add Row\n",
    "            $('#addBtn').on('click', function() {\n",
    "                var name = $('#nameInput').val();\n",
    "                var review = $('#reviewInput').val();\n",
    "                $('#myTable').append('<tr><td>' + name + '</td><td>' + review + '</td><td><button class=\"editBtn\">Edit</button> <button class=\"deleteBtn\">Delete</button></td></tr>');\n",
    "            });\n",
    "            // Edit Row\n",
    "            $(document).on('click', '.editBtn', function() {\n",
    "                var currentRow = $(this).closest('tr');\n",
    "                var name = currentRow.find('td:eq(0)').text();\n",
    "                var review = currentRow.find('td:eq(1)').text();\n",
    "                $('#nameInput').val(name);\n",
    "                $('#reviewInput').val(review);\n",
    "                currentRow.remove();\n",
    "            });\n",
    "            // Delete Row\n",
    "            $(document).on('click', '.deleteBtn', function() {\n",
    "                $(this).closest('tr').remove();\n",
    "            });\n",
    "        });\n",
    "    </script>\n",
    "</body>\n",
    "</html>"
   ]
  },
  {
   "cell_type": "code",
   "execution_count": null,
   "metadata": {
    "vscode": {
     "languageId": "java"
    }
   },
   "outputs": [],
   "source": [
    "popcorn hack"
   ]
  },
  {
   "cell_type": "code",
   "execution_count": 3,
   "metadata": {
    "vscode": {
     "languageId": "java"
    }
   },
   "outputs": [
    {
     "data": {
      "text/html": [
       "\n",
       "<!-- Head contains information to Support the Document -->\n",
       "<head>\n",
       "    <!-- load jQuery and DataTables output style and scripts -->\n",
       "    <link rel=\"stylesheet\" type=\"text/css\" href=\"https://cdn.datatables.net/1.13.4/css/jquery.dataTables.min.css\">\n",
       "    <script type=\"text/javascript\" language=\"javascript\" src=\"https://code.jquery.com/jquery-3.6.0.min.js\"></script>\n",
       "    <script>var define = null;</script>\n",
       "    <script type=\"text/javascript\" language=\"javascript\" src=\"https://cdn.datatables.net/1.13.4/js/jquery.dataTables.min.js\"></script>\n",
       "</head>\n",
       "\n",
       "<!-- Body contains the contents of the Document -->\n",
       "<body>\n",
       "    <table id=\"xdemo\" class=\"table\">\n",
       "        <thead>\n",
       "            <tr>\n",
       "                <th>Make</th>\n",
       "                <th>Model</th>\n",
       "                <th>Year</th>\n",
       "                <th>Color</th>\n",
       "                <th>Price</th>\n",
       "            </tr>\n",
       "        </thead>\n",
       "        <tbody>\n",
       "            <tr>\n",
       "                <td>Ford</td>\n",
       "                <td>Mustang</td>\n",
       "                <td>2022</td>\n",
       "                <td>Red</td>\n",
       "                <td>$35,000</td>\n",
       "            </tr>\n",
       "            <tr>\n",
       "                <td>Toyota</td>\n",
       "                <td>Camry</td>\n",
       "                <td>2022</td>\n",
       "                <td>Silver</td>\n",
       "                <td>$25,000</td>\n",
       "            </tr>\n",
       "            <tr>\n",
       "                <td>Tesla</td>\n",
       "                <td>Model S</td>\n",
       "                <td>2022</td>\n",
       "                <td>White</td>\n",
       "                <td>$80,000</td>\n",
       "            </tr>\n",
       "            <tr>\n",
       "                <td>Cadillac</td>\n",
       "                <td>Broughan</td>\n",
       "                <td>1969</td>\n",
       "                <td>Black</td>\n",
       "                <td>$10,000</td>\n",
       "            </tr>\n",
       "            <tr>\n",
       "                <td>Ford</td>\n",
       "                <td>F-350</td>\n",
       "                <td>1997</td>\n",
       "                <td>Green</td>\n",
       "                <td>$15,000</td>\n",
       "            </tr>\n",
       "            <tr>\n",
       "                <td>Ford</td>\n",
       "                <td>Excursion</td>\n",
       "                <td>2003</td>\n",
       "                <td>Green</td>\n",
       "                <td>$25,000</td>\n",
       "            </tr>\n",
       "            <tr>\n",
       "                <td>Ford</td>\n",
       "                <td>Ranger</td>\n",
       "                <td>2012</td>\n",
       "                <td>Red</td>\n",
       "                <td>$8,000</td>\n",
       "            </tr>\n",
       "            <tr>\n",
       "                <td>Kuboto</td>\n",
       "                <td>L3301 Tractor</td>\n",
       "                <td>2015</td>\n",
       "                <td>Orange</td>\n",
       "                <td>$12,000</td>\n",
       "            </tr>\n",
       "            <tr>\n",
       "                <td>Ford</td>\n",
       "                <td>Fusion Energi</td>\n",
       "                <td>2015</td>\n",
       "                <td>Guard</td>\n",
       "                <td>$25,000</td>\n",
       "            </tr>\n",
       "            <tr>\n",
       "                <td>Acura</td>\n",
       "                <td>XL</td>\n",
       "                <td>2006</td>\n",
       "                <td>Grey</td>\n",
       "                <td>$10,000</td>\n",
       "            </tr>\n",
       "            <tr>\n",
       "                <td>Ford</td>\n",
       "                <td>F150 Lightning</td>\n",
       "                <td>2024</td>\n",
       "                <td>Guard</td>\n",
       "                <td>$70,000</td>\n",
       "            </tr>\n",
       "        </tbody>\n",
       "    </table>\n",
       "</body>\n",
       "\n",
       "<!-- Script is used to embed executable code -->\n",
       "<script>\n",
       "    $(\"#xdemo\").DataTable();\n",
       "</script>\n"
      ],
      "text/plain": [
       "<IPython.core.display.HTML object>"
      ]
     },
     "metadata": {},
     "output_type": "display_data"
    }
   ],
   "source": [
    "%%html\n",
    "\n",
    "<!-- Head contains information to Support the Document -->\n",
    "<head>\n",
    "    <!-- load jQuery and DataTables output style and scripts -->\n",
    "    <link rel=\"stylesheet\" type=\"text/css\" href=\"https://cdn.datatables.net/1.13.4/css/jquery.dataTables.min.css\">\n",
    "    <script type=\"text/javascript\" language=\"javascript\" src=\"https://code.jquery.com/jquery-3.6.0.min.js\"></script>\n",
    "    <script>var define = null;</script>\n",
    "    <script type=\"text/javascript\" language=\"javascript\" src=\"https://cdn.datatables.net/1.13.4/js/jquery.dataTables.min.js\"></script>\n",
    "</head>\n",
    "\n",
    "<!-- Body contains the contents of the Document -->\n",
    "<body>\n",
    "    <table id=\"xdemo\" class=\"table\">\n",
    "        <thead>\n",
    "            <tr>\n",
    "                <th>Make</th>\n",
    "                <th>Model</th>\n",
    "                <th>Year</th>\n",
    "                <th>Color</th>\n",
    "                <th>Price</th>\n",
    "            </tr>\n",
    "        </thead>\n",
    "        <tbody>\n",
    "            <tr>\n",
    "                <td>Ford</td>\n",
    "                <td>Mustang</td>\n",
    "                <td>2022</td>\n",
    "                <td>Red</td>\n",
    "                <td>$35,000</td>\n",
    "            </tr>\n",
    "            <tr>\n",
    "                <td>Toyota</td>\n",
    "                <td>Camry</td>\n",
    "                <td>2022</td>\n",
    "                <td>Silver</td>\n",
    "                <td>$25,000</td>\n",
    "            </tr>\n",
    "            <tr>\n",
    "                <td>Tesla</td>\n",
    "                <td>Model S</td>\n",
    "                <td>2022</td>\n",
    "                <td>White</td>\n",
    "                <td>$80,000</td>\n",
    "            </tr>\n",
    "            <tr>\n",
    "                <td>Cadillac</td>\n",
    "                <td>Broughan</td>\n",
    "                <td>1969</td>\n",
    "                <td>Black</td>\n",
    "                <td>$10,000</td>\n",
    "            </tr>\n",
    "            <tr>\n",
    "                <td>Ford</td>\n",
    "                <td>F-350</td>\n",
    "                <td>1997</td>\n",
    "                <td>Green</td>\n",
    "                <td>$15,000</td>\n",
    "            </tr>\n",
    "            <tr>\n",
    "                <td>Ford</td>\n",
    "                <td>Excursion</td>\n",
    "                <td>2003</td>\n",
    "                <td>Green</td>\n",
    "                <td>$25,000</td>\n",
    "            </tr>\n",
    "            <tr>\n",
    "                <td>Ford</td>\n",
    "                <td>Ranger</td>\n",
    "                <td>2012</td>\n",
    "                <td>Red</td>\n",
    "                <td>$8,000</td>\n",
    "            </tr>\n",
    "            <tr>\n",
    "                <td>Kuboto</td>\n",
    "                <td>L3301 Tractor</td>\n",
    "                <td>2015</td>\n",
    "                <td>Orange</td>\n",
    "                <td>$12,000</td>\n",
    "            </tr>\n",
    "            <tr>\n",
    "                <td>Ford</td>\n",
    "                <td>Fusion Energi</td>\n",
    "                <td>2015</td>\n",
    "                <td>Guard</td>\n",
    "                <td>$25,000</td>\n",
    "            </tr>\n",
    "            <tr>\n",
    "                <td>Acura</td>\n",
    "                <td>XL</td>\n",
    "                <td>2006</td>\n",
    "                <td>Grey</td>\n",
    "                <td>$10,000</td>\n",
    "            </tr>\n",
    "            <tr>\n",
    "                <td>Ford</td>\n",
    "                <td>F150 Lightning</td>\n",
    "                <td>2024</td>\n",
    "                <td>Guard</td>\n",
    "                <td>$70,000</td>\n",
    "            </tr>\n",
    "        </tbody>\n",
    "    </table>\n",
    "</body>\n",
    "\n",
    "<!-- Script is used to embed executable code -->\n",
    "<script>\n",
    "    $(\"#xdemo\").DataTable();\n",
    "</script>"
   ]
  },
  {
   "cell_type": "markdown",
   "metadata": {},
   "source": [
    "# Hacks\n",
    "\n",
    "Combine all aspects taught throughout this lesson. \n",
    "- Store data on the frontend with CRUD functionality. +0.25 \n",
    "- You should create a frontend which can displays data with JQuery. Make sure to use event handling on each item stored to use the CRUD functionality. +0.25\n",
    "- And make it look good using UX design techniques. + 0.2\n",
    "\n",
    "In addition:\n",
    "- Complete all popcorn hacks + 0.2\n",
    "- Do something extra +0.1. Some good ideas are adding JQuery animations to your hacks, use extra JQuery events, or do anything else extra.\n"
   ]
  },
  {
   "cell_type": "code",
   "execution_count": null,
   "metadata": {
    "vscode": {
     "languageId": "java"
    }
   },
   "outputs": [],
   "source": [
    "// Variables\n",
    "$primary-color: #3498db;\n",
    "$secondary-color: #2ecc71;\n",
    "$border-radius: 5px;\n",
    "\n",
    "// Mixin\n",
    "@mixin button-styles($bg-color, $text-color) {\n",
    "  background-color: $bg-color;\n",
    "  color: $text-color;\n",
    "  border: 1px solid darken($bg-color, 10%);\n",
    "  border-radius: $border-radius;\n",
    "  padding: 10px 20px;\n",
    "  cursor: pointer;\n",
    "  transition: background-color 0.3s ease;\n",
    "  \n",
    "  &:hover {\n",
    "    background-color: lighten($bg-color, 10%);\n",
    "  }\n",
    "}\n",
    "\n",
    "// Nesting\n",
    ".container {\n",
    "  width: 80%;\n",
    "  margin: 0 auto;\n",
    "  \n",
    "  h1 {\n",
    "    color: $primary-color;\n",
    "    margin-bottom: 20px;\n",
    "  }\n",
    "  \n",
    "  .button-section {\n",
    "    display: flex;\n",
    "    justify-content: space-around;\n",
    "\n",
    "    // Using Mixin for Primary Button\n",
    "    .primary-button {\n",
    "      @include button-styles($primary-color, #fff);\n",
    "    }\n",
    "\n",
    "    // Using Mixin for Secondary Button\n",
    "    .secondary-button {\n",
    "      @include button-styles($secondary-color, #fff);\n",
    "    }\n",
    "  }\n",
    "}\n",
    "\n"
   ]
  },
  {
   "cell_type": "markdown",
   "metadata": {},
   "source": [
    "Variables:\n",
    "\n",
    "Utilization: Variables are used to store and reuse colors ($primary-color, $secondary-color) and common styles ($border-radius).\n",
    "\n",
    "Effectiveness: It helps in maintaining consistency throughout the stylesheet. If a color or style needs to be changed, you only need to update the variable, and the change will be reflected everywhere.\n",
    "\n",
    "Mixin:\n",
    "\n",
    "Utilization: The button-styles mixin is used to define common styles for buttons, allowing us to reuse the code for both primary and secondary buttons.\n",
    "\n",
    "Effectiveness: Mixins promote code reusability and reduce redundancy. If button styles need to be updated, you only need to modify the mixin, and the changes will apply to all instances where the mixin is used.\n",
    "\n",
    "Nesting:\n",
    "\n",
    "Utilization: Nesting is used for a cleaner and more structured way of writing styles, especially for nested elements like headers within a container and buttons within a button-section.\n",
    "\n",
    "Effectiveness: Nesting helps in organizing styles hierarchically, making the code more readable and maintainable. It also reduces the need for repetitive class names.\n"
   ]
  }
 ],
 "metadata": {
  "kernelspec": {
   "display_name": "Java",
   "language": "java",
   "name": "java"
  },
  "language_info": {
   "codemirror_mode": "java",
   "file_extension": ".jshell",
   "mimetype": "text/x-java-source",
   "name": "Java",
   "pygments_lexer": "java",
   "version": "20.0.1"
  }
 },
 "nbformat": 4,
 "nbformat_minor": 2
}
