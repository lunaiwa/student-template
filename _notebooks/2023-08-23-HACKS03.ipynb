{
 "cells": [
  {
   "cell_type": "markdown",
   "metadata": {},
   "source": [
    "---\n",
    "comments: true\n",
    "layout: post\n",
    "title: Week 0 | Collaboration\n",
    "description: Week 0 Collaboration HACKS\n",
    "type: hacks\n",
    "courses: { csse: {week: 0}, csp: {week: 0}, csa: {week: 0} }\n",
    "categories: [C4.1]\n",
    "---"
   ]
  },
  {
   "cell_type": "markdown",
   "metadata": {},
   "source": [
    "# **Week 0 HACKS | Collaboration**\n",
    "---"
   ]
  },
  {
   "cell_type": "markdown",
   "metadata": {},
   "source": [
    "# <mark>**Collaboration**</mark>"
   ]
  },
  {
   "cell_type": "markdown",
   "metadata": {},
   "source": [
    "## <span style=\"color:red\">Pair Programming</span>"
   ]
  },
  {
   "cell_type": "markdown",
   "metadata": {},
   "source": [
    "- Feature Considerations for Project\n",
    "    - [ ] Final Project and Blog Requirements\n",
    "        - [ ] A home or fun zone for your blog, also a unique idea(s)\n",
    "        - [ ] Educational zones that capture every key learning objective\n",
    "        - [ ] About Me, consider personal privacy issues as this will be public\n",
    "\n",
    "- Project Technicals\n",
    "    - [ ] Managing PBL Requirement for Project (Issues, Scrum Board)\n",
    "    - [ ] CSSE, CSP, CSA. Use of “JavaScript, HTML, CSS”. Frontend or Presentation development.\n",
    "    - [ ] CSP. Use of “Python Functions and Classes” in backend.\n",
    "    - [ ] CSA. Use of “Java Classes and OOP” in backend.\n",
    "    - [ ] Data Structures. The exchange between frontend and backend: Backend could be Data Frames from Pandas, “SQL” or “MongoDB” databases, etc.\n"
   ]
  },
  {
   "cell_type": "markdown",
   "metadata": {},
   "source": [
    "### <span style=\"color:blue\">**Hacks**</span>\n",
    "\n",
    "- [ x ] Establish PBL and Comp Sci attitude; often called an Agile Mindset or Growth Mindset.\n",
    "\n",
    "Changes and mistakes are part of the process and they will not be the end.\n",
    "\n",
    "- [ x ] Watch a video How I Would Learn To Code\n",
    "- [ x ] Attitude. An Agile/Growth mindset is not knowing the answer, making lots of mistakes and performing iteration. A successful grade is dependent on making mistakes, research, asking questions, and continual iteration.\n",
    "- [ x ] Requirement. Please bring a personal laptop or Chromebook to class daily. The Internet, ChatGPT, and AP Classroom web site will be considered a text book.\n",
    "- [ x ] Requirements. Everything will be distributed electronically. All code you develop will be delivered to the Cloud. No paper!\n",
    "\n",
    "- [ x ] Grading guidelines. There will be key technical objectives which will require <mark>producing tangibles</mark> aka tangible artifacts. Essentially, it is impossible to be late with work if you work consistently attend class, work in class and turn in progressive tangibles each week. Thus, failure to have work will result in point deduction. Additionally, late work must be defended in office hours and will receive 10% deduction.\n",
    "    - [ x ] High “A” is very tough to achieve, something beyond the given tangible requirements. Something that exhibits an unforced desire to learn and Code/Code/Code. This grade is required to earn a Teacher recommendation.\n",
    "    - [ x ] Low “A” is consistency in producing tangibles toward Team Project and Individual GH Page according to Issues and Scrum Board plans. Plans must be consistent with key objectives and technicals.\n",
    "    - [ x ] “B” is having flaws in consistency or tangible shortcomings, but mostly on track. A flaw would be mostly working code, attempts, but incomplete.\n",
    "    - [ x ] “C” is a lack consistent effort, lacking tangibles. Lack of producing working Code.\n",
    "    - [ x ] Below “C” is composed of Slash/Slash/Slash offenses. Lack of attendance, disruptive behaviors, using phone inappropriately, doing work from other classes during CompSci class time, paper visible in class, and turning in tangibles that you can’t represent in live review.\n",
    "    - [ x ] Zero is a result of plagiarism. The Teachers will likely miss first offenses of plagiarism, thus any offense will result in an inquiry on previous work. Remember this is an effort based class."
   ]
  }
 ],
 "metadata": {
  "language_info": {
   "name": "python"
  },
  "orig_nbformat": 4
 },
 "nbformat": 4,
 "nbformat_minor": 2
}
