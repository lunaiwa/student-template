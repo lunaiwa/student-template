{
 "cells": [
  {
   "cell_type": "markdown",
   "metadata": {},
   "source": [
    "---\n",
    "layout: post\n",
    "title: Emergency Test\n",
    "description: Random test from Mr.Mort\n",
    "categories: []\n",
    "courses: { csa: {week: 5} }\n",
    "type: hacks\n",
    "---"
   ]
  },
  {
   "cell_type": "markdown",
   "metadata": {},
   "source": [
    "## Emergency Pop Quiz"
   ]
  },
  {
   "cell_type": "code",
   "execution_count": 1,
   "metadata": {
    "vscode": {
     "languageId": "java"
    }
   },
   "outputs": [
    {
     "name": "stdout",
     "output_type": "stream",
     "text": [
      "1 2 3 \n",
      "4 5 6 \n",
      "7 8 9 \n",
      "0 0 0 \n"
     ]
    }
   ],
   "source": [
    "public class Keypad{\n",
    "public static void initializeKeypad() {\n",
    "    int[][] keypad = new int[4][3];\n",
    "    int digit = 1;\n",
    "\n",
    "    for (int row = 0; row < 4; row++) {\n",
    "        for (int col = 0; col < 3; col++) {\n",
    "            if (digit <= 9) {\n",
    "                keypad[row][col] = digit++;\n",
    "            } else {\n",
    "                keypad[row][col] = 0; // For digit 0\n",
    "            }\n",
    "        }\n",
    "    }\n",
    "\n",
    "    // Print the keypad\n",
    "    for (int row = 0; row < 4; row++) {\n",
    "        for (int col = 0; col < 3; col++) {\n",
    "            System.out.print(keypad[row][col] + \" \");\n",
    "        }\n",
    "        System.out.println(); // Move to the next row\n",
    "    }\n",
    "}\n",
    "\n",
    "public static void main(String[] args) {\n",
    "    initializeKeypad();\n",
    "}\n",
    "}\n",
    "Keypad.main(null)\n"
   ]
  },
  {
   "cell_type": "code",
   "execution_count": 2,
   "metadata": {
    "scrolled": true,
    "vscode": {
     "languageId": "java"
    }
   },
   "outputs": [
    {
     "name": "stdout",
     "output_type": "stream",
     "text": [
      "[3, 3, 2, 7, 4]\n"
     ]
    }
   ],
   "source": [
    "import java.util.*;\n",
    "\n",
    "public class Main {\n",
    "    public static ArrayList<Integer> initializeRandomList(Integer n, Integer min, Integer max) {\n",
    "        ArrayList<Integer> randList = new ArrayList<>();\n",
    "        for (int i = 0; i < n; i++) {\n",
    "            int randomNum = (int) (Math.random() * (max - min + 1)) + min;\n",
    "            randList.add(randomNum); // Use .add() to add elements to ArrayList\n",
    "        }\n",
    "        return randList;\n",
    "    }\n",
    "\n",
    "    public static void main(String[] args) {\n",
    "        ArrayList<Integer> randomList = initializeRandomList(5, 2, 8);\n",
    "        System.out.println(randomList);\n",
    "    }\n",
    "}\n",
    "Main.main(null)"
   ]
  },
  {
   "cell_type": "code",
   "execution_count": 4,
   "metadata": {
    "vscode": {
     "languageId": "java"
    }
   },
   "outputs": [
    {
     "name": "stdout",
     "output_type": "stream",
     "text": [
      "Original List:\n",
      "[1, 2, 3, 4, 5]\n",
      "Reversed List:\n",
      "[5, 4, 3, 2, 1]\n"
     ]
    }
   ],
   "source": [
    "import java.util.*;\n",
    "\n",
    "public class Main {\n",
    "    public static ArrayList<Integer> reversedArray(ArrayList<Integer> n) {\n",
    "        ArrayList<Integer> reverse = new ArrayList<>();\n",
    "        for (int i = n.size() - 1; i >= 0; i--) {\n",
    "            reverse.add(n.get(i));\n",
    "        }\n",
    "        return reverse;\n",
    "    }\n",
    "\n",
    "    public static void main(String[] args) {\n",
    "        ArrayList<Integer> originalList = new ArrayList<>(Arrays.asList(1, 2, 3, 4, 5));\n",
    "\n",
    "        ArrayList<Integer> reversedList = reversedArray(originalList);\n",
    "        \n",
    "        System.out.println(\"Original List:\");\n",
    "        System.out.println(originalList);\n",
    "        \n",
    "        System.out.println(\"Reversed List:\");\n",
    "        System.out.println(reversedList);\n",
    "    }\n",
    "}\n",
    "Main.main(null)"
   ]
  }
 ],
 "metadata": {
  "kernelspec": {
   "display_name": "Java",
   "language": "java",
   "name": "java"
  },
  "language_info": {
   "codemirror_mode": "java",
   "file_extension": ".jshell",
   "mimetype": "text/x-java-source",
   "name": "Java",
   "pygments_lexer": "java",
   "version": "20.0.1"
  }
 },
 "nbformat": 4,
 "nbformat_minor": 2
}
