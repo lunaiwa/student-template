{
 "cells": [
  {
   "cell_type": "markdown",
   "metadata": {},
   "source": [
    "---\n",
    "toc: true\n",
    "comments: true\n",
    "layout: post\n",
    "title: College Board FRQ 2015 - Part 4\n",
    "description: Trimester 2 FRQ \n",
    "type: hacks\n",
    "courses: { csa: {week: 19} }\n",
    "---"
   ]
  },
  {
   "cell_type": "markdown",
   "metadata": {},
   "source": [
    "# Question 4\n",
    "\n",
    "This question involves the design of an interface, writing a class that implements the interface, and writing a method that uses the interface.\n",
    "\n",
    "**(a) A number group represents a group of integers defined in some way. It could be empty, or it could contain one or more integers.**\n",
    "\n",
    "**Write an interface named NumberGroup that represents a group of integers. The interface should have a single contains method that determines if a given integer is in the group. For example, if group1 is of type NumberGroup, and it contains only the two numbers -5 and 3, then group1.contains(-5) would return true, and group1.contains(2) would return false.**\n",
    "**Write the complete NumberGroup interface. It must have exactly one method.**"
   ]
  },
  {
   "cell_type": "code",
   "execution_count": 1,
   "metadata": {},
   "outputs": [
    {
     "name": "stdout",
     "output_type": "stream",
     "text": [
      "contains -5 : true\n",
      "contains 2 : false\n"
     ]
    }
   ],
   "source": [
    "public interface NumberGroup {\n",
    "    boolean contains(int n);\n",
    "}\n",
    "\n",
    "// test\n",
    "class NumberGroupTest {\n",
    "    public static void main(String[] args) {\n",
    "        // using numbergroup\n",
    "        NumberGroup group = new NumberGroup() {\n",
    "            @Override\n",
    "            public boolean contains(int n) {\n",
    "                // defining group with only -5 and 3\n",
    "                return n == -5 || n == 3;\n",
    "            }\n",
    "        };\n",
    "\n",
    "        System.out.println(\"contains -5 : \" + group.contains(-5)); // true\n",
    "        System.out.println(\"contains 2 : \" + group.contains(2)); // false\n",
    "    }\n",
    "}\n",
    "\n",
    "NumberGroupTest.main(null);"
   ]
  },
  {
   "cell_type": "markdown",
   "metadata": {},
   "source": [
    "---"
   ]
  },
  {
   "cell_type": "markdown",
   "metadata": {},
   "source": [
    "**(b) A range represents a number group that contains all (and only) the integers between a minimum value and a maximum value, inclusive.**\n",
    "\n",
    "**Write the Range class, which is a NumberGroup. The Range class represents the group of int values that range from a given minimum value up through a given maximum value, inclusive. For example,the declaration**\n",
    "\n",
    "NumberGroup range1 = new Range(-3, 2);\n",
    "\n",
    "represents the group of integer values -3, -2, -1, 0, 1, 2.\n",
    "\n",
    "Write the complete Range class. Include all necessary instance variables and methods as well as a constructor that takes two int parameters. The first parameter represents the minimum value, and the second parameter represents the maximum value of the range. You may assume that the minimum is less than or equal to the maximum."
   ]
  },
  {
   "cell_type": "code",
   "execution_count": 2,
   "metadata": {},
   "outputs": [
    {
     "name": "stdout",
     "output_type": "stream",
     "text": [
      "range: -3 -2 -1 0 1 2\n",
      "true\n",
      "true\n",
      "false\n"
     ]
    }
   ],
   "source": [
    "public interface NumberGroup {\n",
    "    // checking if value is in group\n",
    "    boolean contains(int value);\n",
    "}\n",
    "\n",
    "public class Range implements NumberGroup {\n",
    "    // minimum value in range\n",
    "    private int min;\n",
    "    // maximum value in range\n",
    "    private int max;\n",
    "    // initializing range with the min and max values\n",
    "    public Range(int min, int max) {\n",
    "        this.min = min;\n",
    "        this.max = max;\n",
    "    }\n",
    "    //checking if values are within rnage\n",
    "    public boolean contains(int value) {\n",
    "        return value >= min && value <= max;\n",
    "    }\n",
    "\n",
    "    // returns a string representation of all values in the range\n",
    "    @Override\n",
    "    public String toString() {\n",
    "        StringBuilder builder = new StringBuilder();\n",
    "        builder.append(\"range: \");\n",
    "        for (int i = min; i <= max; i++) {\n",
    "            builder.append(i).append(\" \");\n",
    "        }\n",
    "        return builder.toString().trim(); \n",
    "    }\n",
    "}\n",
    "\n",
    "// test\n",
    "class RangeTest {\n",
    "    public static void main(String[] args) {\n",
    "        // making an instance range of -3,2\n",
    "        Range range = new Range(-3, 2);\n",
    "\n",
    "        System.out.println(range);\n",
    "\n",
    "        System.out.println(range.contains(-3)); // true\n",
    "        System.out.println(range.contains(0)); //  true\n",
    "        System.out.println(range.contains(3)); // false\n",
    "    }\n",
    "}\n",
    "\n",
    "RangeTest.main(null);"
   ]
  },
  {
   "cell_type": "markdown",
   "metadata": {},
   "source": [
    "---"
   ]
  },
  {
   "cell_type": "markdown",
   "metadata": {},
   "source": [
    "**(c) The MultipleGroups class (not shown) represents a collection of NumberGroup objects and isa NumberGroup. The MultipleGroups class stores the number groups in the instance variable groupList (shown below), which is initialized in the constructor.**\n",
    "\n",
    "private List<NumberGroup> groupList;\n",
    "\n",
    "Write the MultipleGroups method contains. The method takes an integer and returns true if and only if the integer is contained in one or more of the number groups in groupList.\n",
    "\n",
    "For example, suppose multiple1 has been declared as an instance of MultipleGroups and consists of the three ranges created by the calls new Range(5, 8), new Range(10, 12), and new Range(1, 6). The following table shows the results of several calls to contains.\n",
    " \n",
    "<img width=\"574\" alt=\"Screenshot 2024-02-22 at 12 17 24 PM\" src=\"https://github.com/lunaiwa/student-template/assets/111661543/989373cf-8488-4651-a4d5-cdb7bbf44bc0\">\n"
   ]
  },
  {
   "cell_type": "code",
   "execution_count": 3,
   "metadata": {},
   "outputs": [
    {
     "name": "stdout",
     "output_type": "stream",
     "text": [
      "true\n",
      "false\n",
      "true\n"
     ]
    }
   ],
   "source": [
    "import java.util.List;\n",
    "import java.util.ArrayList;\n",
    "\n",
    "public class MultipleGroups implements NumberGroup {\n",
    "    private List<NumberGroup> groupList;\n",
    "\n",
    "    // initializes grouplist with range objects representing different ranges of numbs\n",
    "    public MultipleGroups() {\n",
    "        groupList = new ArrayList<>();\n",
    "        // add range object represetnign numbs 5-8\n",
    "        groupList.add(new Range(5, 8));\n",
    "        // add range object representing numbs 10-12\n",
    "        groupList.add(new Range(10, 12));\n",
    "        // add range object representing numbs 1-6\n",
    "        groupList.add(new Range(1, 6));\n",
    "    }\n",
    "\n",
    "    public boolean contains(int num) {\n",
    "        for (NumberGroup group : groupList) {\n",
    "            // if contains number return true\n",
    "            if (group.contains(num)) {\n",
    "                return true;\n",
    "            }\n",
    "        }\n",
    "        // grouo has the number it returns false\n",
    "        return false;\n",
    "    }\n",
    "}\n",
    "\n",
    "// testing\n",
    "class MultipleGroupsTest {\n",
    "    public static void main(String[] args) {\n",
    "        MultipleGroups multiple = new MultipleGroups();\n",
    "\n",
    "        System.out.println(multiple.contains(3)); // true\n",
    "        System.out.println(multiple.contains(9)); // false\n",
    "        System.out.println(multiple.contains(5)); // true\n",
    "    }\n",
    "}\n",
    "\n",
    "MultipleGroupsTest.main(null);\n"
   ]
  },
  {
   "cell_type": "markdown",
   "metadata": {},
   "source": [
    "---"
   ]
  },
  {
   "cell_type": "markdown",
   "metadata": {},
   "source": [
    "# Notes\n",
    "\n",
    "- testing interfaces, no longer requirded on the AP test..."
   ]
  }
 ],
 "metadata": {
  "kernelspec": {
   "display_name": "Java",
   "language": "java",
   "name": "java"
  },
  "language_info": {
   "codemirror_mode": "java",
   "file_extension": ".jshell",
   "mimetype": "text/x-java-source",
   "name": "java",
   "pygments_lexer": "java",
   "version": "20.0.1"
  }
 },
 "nbformat": 4,
 "nbformat_minor": 2
}
