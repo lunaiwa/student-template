{
 "cells": [
  {
   "cell_type": "markdown",
   "metadata": {},
   "source": [
    "---\n",
    "toc: true\n",
    "comments: true\n",
    "layout: post\n",
    "title: College Board 2014 Corrections\n",
    "description: Lesson on Java recursion.\n",
    "type: hacks\n",
    "courses: { csa: {week: 12} }\n",
    "---"
   ]
  },
  {
   "cell_type": "markdown",
   "metadata": {},
   "source": [
    "# College Board 2014 Corrections"
   ]
  },
  {
   "cell_type": "markdown",
   "metadata": {},
   "source": [
    "<img width=\"1187\" alt=\"Screenshot 2023-11-05 at 10 18 15 PM\" src=\"https://github.com/lunaiwa/student-template/assets/111661543/921f7ca0-51a5-4c34-be96-44804e14c77a\">"
   ]
  },
  {
   "cell_type": "markdown",
   "metadata": {},
   "source": [
    "## Q10 seqSearchRec with int array test - Topic 10.1"
   ]
  },
  {
   "cell_type": "markdown",
   "metadata": {},
   "source": [
    "<img width=\"907\" alt=\"Screenshot 2023-11-05 at 10 19 54 PM\" src=\"https://github.com/lunaiwa/student-template/assets/111661543/7deec63e-c39c-4826-b203-9afd9686ecd8\">"
   ]
  },
  {
   "cell_type": "markdown",
   "metadata": {},
   "source": [
    "**Answer B -- II only**\n",
    "\n",
    "Choice I will return the correct value if the element in the array with one element was target. In this case, with the first call to seqSearchRecHelper the value of data[0] would be target and 0 would be returned. Choice II will eventually cause an ArrayIndexOutOfBoundsException to be thrown when the recursive call is made with target and -1. This will happen after every valid index in data has been examined. During this call, data[-1] is out of bounds. Choice III will correctly return the index of the element closest to the end of the array with the value target, since data[last] == target will be true at some valid index value of last."
   ]
  },
  {
   "cell_type": "markdown",
   "metadata": {},
   "source": [
    "## Q14 Vehicle interface getMileage -- Topic 7.2/7.4"
   ]
  },
  {
   "cell_type": "markdown",
   "metadata": {},
   "source": [
    "<img width=\"865\" alt=\"Screenshot 2023-11-05 at 10 21 31 PM\" src=\"https://github.com/lunaiwa/student-template/assets/111661543/9c298cc9-9158-4ece-91b8-476ec05c29f6\">"
   ]
  },
  {
   "cell_type": "markdown",
   "metadata": {},
   "source": [
    "**Answer E -- v.getMileage ()**\n",
    "\n",
    "The algorithm is using an enhanced for loop to access each element in the myVehicles ArrayList. The Vehicle object v is assigned each element, one at a time during the iterations of the enhanced for loop. To access the mileage for each Vehicle, the getMileage method in Vehicle needs to be called on the object. This is accomplished the same way for interfaces as with other classes. The dot operator is used along with the object name to call non-static methods using the form object.method(parameters). The getMileage method does not have any parameters, so v.getMileage() will return the mileage for v. Please note that interface is no longer a part of the AP CSA exam."
   ]
  },
  {
   "cell_type": "markdown",
   "metadata": {},
   "source": [
    "## Q19 Compound expression using 7 and variables a, b -- Topic 3.6"
   ]
  },
  {
   "cell_type": "markdown",
   "metadata": {},
   "source": [
    "<img width=\"483\" alt=\"Screenshot 2023-11-05 at 10 23 32 PM\" src=\"https://github.com/lunaiwa/student-template/assets/111661543/3d24cda0-5ad3-4a7d-9467-f7fd3f5746eb\">"
   ]
  },
  {
   "cell_type": "markdown",
   "metadata": {},
   "source": [
    "**Answer B  -- (a!=b) || (b<=7)**\n",
    "\n",
    "De Morgan’s Law states that !(p && q) is equivalent to !p || !q. By applying De Morgan’s Law to this expression, we negate the first expression !(!(a !=b)) and the second expression !(b >7) to form !(!(a != b)) || !(b > 7). In the first expression the two consecutive not operators (!) cancel each other out giving us (a != b). In the second expression, the opposite of > is <= giving us (b <= 7). The equivalent expression is (a != b) || (b <= 7)."
   ]
  }
 ],
 "metadata": {
  "language_info": {
   "name": "python"
  }
 },
 "nbformat": 4,
 "nbformat_minor": 2
}
