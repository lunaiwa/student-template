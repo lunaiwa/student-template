{
 "cells": [
  {
   "cell_type": "markdown",
   "metadata": {},
   "source": [
    "---\n",
    "toc: true\n",
    "comments: true\n",
    "layout: post\n",
    "title: Indiv Seed\n",
    "description: Tri 3 Check\n",
    "type: hacks\n",
    "courses: { csa: {week: 24} }\n",
    "---"
   ]
  },
  {
   "cell_type": "markdown",
   "metadata": {},
   "source": [
    "# Individual Progress\n",
    "\n",
    "### Ap Prep Progress\n",
    "\n",
    "Although I am not taking the test this year I am taking steps to acomplish each of the FRQs to better help my understanding in some topics I am clouded on or topics I should work on.\n",
    "\n",
    "| FRQ | Link|\n",
    "| --- | --- |\n",
    "| 1 | [College Board FRQ 2015 - Part 1 ](https://lunaiwa.github.io/student-template//2024/02/22/FRQ1_IPYNB_2_.html)|\n",
    "| 2 | [College Board FRQ 2015 - Part 2 ](https://lunaiwa.github.io/student-template//2024/02/22/FRQ2_IPYNB_2_.html) |\n",
    "| 3 | [College Board FRQ 2015 - Part 3](https://lunaiwa.github.io/student-template//2024/02/22/FRQ3_IPYNB_2_.html)|\n",
    "| 4 | [College Board FRQ 2015 - Part 4 ](https://lunaiwa.github.io/student-template//2024/02/22/FRQ4_IPYNB_2_.html) |\n",
    "| PBL | [Issue](https://github.com/lunaiwa/student-template/issues/22) |\n",
    "\n",
    "### Key Commits\n",
    "\n",
    "Here are some of my main commits from the current project\n",
    "\n",
    "1. Addign the maps and assets [here](https://github.com/Codemaxxers/codemaxxerBackend/pull/32)\n",
    "2. figuring out how to use maps [here](https://github.com/Codemaxxers/codemaxxerBackend/pull/32)\n",
    "3. exploring the uses of different softwares to render the maps > libgdx ect ^^\n",
    "4. currently lookling into judge0\n",
    "\n",
    "### Github Analytics\n",
    "\n",
    "<img width=\"851\" alt=\"Screenshot 2024-03-08 at 2 01 21 AM\" src=\"https://github.com/lunaiwa/student-template/assets/111661543/27135098-4a70-411c-bc1a-caf5c3ca6cd4\">\n",
    "\n",
    "### Personal Spotlight\n",
    "\n",
    "This year I have been working in the backend and it is definatly making a lot more sense. I have been working o rendering the maps using a couple different java libaries since I am trying to get the map to render or like the game to work though the backend. I am looking into softwares like Judge0 but I am not 100 percent it will work since I am rendering game maps and posiotns.\n",
    "\n",
    "### GitHub Blog\n",
    "\n",
    "https://lunaiwa.github.io/student-template/csa\n",
    "\n",
    "### Project Work\n",
    "\n",
    "So far I have been liking my group they help me understand things I struggle with and we keep each other responsible for each other's takss. We communicate very often with each other by having zoom meetings to prepare for activites in advance.\n",
    "\n"
   ]
  }
 ],
 "metadata": {
  "language_info": {
   "name": "python"
  }
 },
 "nbformat": 4,
 "nbformat_minor": 2
}
