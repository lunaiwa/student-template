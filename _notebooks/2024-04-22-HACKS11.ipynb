{
 "cells": [
  {
   "cell_type": "markdown",
   "metadata": {},
   "source": [
    "---\n",
    "toc: true\n",
    "comments: true\n",
    "layout: post\n",
    "title: Workshop Week Hacks\n",
    "description: Going over a couple known sorting algrotihms to increase understanding\n",
    "type: hacks\n",
    "courses: { csa: {week: 27} }\n",
    "---"
   ]
  },
  {
   "cell_type": "markdown",
   "metadata": {},
   "source": [
    "# Array HACKS\n",
    "\n",
    "This question involves reasoning about one-dimensional and two-dimensional arrays of integers. You will write three static methods, all of which are in a single enclosing class, named DiverseArray (not shown). The first method returns the sum of the values of a one-dimensional array; the second method returns an array that represents the sums of the rows of a two-dimensional array; and the third method analyzes row sums.\n",
    "\n",
    "(A) Write a static method arraySum that calculates and returns the sum of the entries in a specified one-dimensional array. The following example shows an array arr1 and the value returned by a call to arraySum.\n",
    "\n",
    "Complete method arraySum below."
   ]
  },
  {
   "cell_type": "code",
   "execution_count": null,
   "metadata": {
    "vscode": {
     "languageId": "java"
    }
   },
   "outputs": [],
   "source": [
    "/** Returns the sum of the entries in the one-dimensional array arr.**/ \n",
    "public static int arraySum(int[] arr) \n",
    "{\n",
    "    int sum = 0; \n",
    "    for (int i = 0; i < arr.length; i++)\n",
    "    {\n",
    "        sum += arr[i]; \n",
    "    }\n",
    "    return sum; \n",
    "}"
   ]
  },
  {
   "cell_type": "markdown",
   "metadata": {},
   "source": [
    "### Mistakes:\n",
    "\n",
    "All these are possible mistakes that are almost garunteed to be made and appear on a mcq or frq and would be good to study. We suggest you create examples of these errors and mistakes (yourself or chatgpt or gemini) and solve them on your own. This is a good practice exercise and will help prepare you for the AP exam.\n",
    "\n",
    "**Traversing Arrays**\n",
    "\n",
    "\n",
    "**1. Off by-One Errors:**\n",
    "\n",
    "Off by-one errors occur when a loop iterates too many or too few times, typically due to incorrect indexing or boundary conditions.\n",
    "\n",
    "Example:\n",
    "```java\n",
    "// Incorrect code\n",
    "int[] numbers = {1, 2, 3, 4, 5};\n",
    "int sum = 0;\n",
    "for (int i = 0; i <= numbers.length; i++) {\n",
    "    sum += numbers[i];\n",
    "}\n",
    "System.out.println(\"Sum: \" + sum);\n",
    "```\n",
    "\n",
    "Solution:\n",
    "```java\n",
    "// Corrected code\n",
    "int[] numbers = {1, 2, 3, 4, 5};\n",
    "int sum = 0;\n",
    "for (int i = 0; i < numbers.length; i++) {\n",
    "    sum += numbers[i];\n",
    "}\n",
    "System.out.println(\"Sum: \" + sum);\n",
    "```\n",
    "\n",
    "**2. Modifying Array Length:**\n",
    "\n",
    "Modifying the length of an array incorrectly can lead to unexpected behavior or errors, such as accessing out-of-bounds memory.\n",
    "\n",
    "Example:\n",
    "```java\n",
    "// Incorrect code\n",
    "int[] numbers = {1, 2, 3, 4, 5};\n",
    "numbers.length = 10; // Incorrect attempt to change array length\n",
    "```\n",
    "\n",
    "Solution:\n",
    "Arrays in Java are fixed in length once created. If you need to resize an array, you should create a new array and copy elements over.\n",
    "\n",
    "**3. Ignoring Returned Values:**\n",
    "\n",
    "Ignoring returned values can lead to loss of important data or failure to execute necessary operations.\n",
    "\n",
    "Example:\n",
    "```java\n",
    "// Incorrect code\n",
    "String str = \"Hello\";\n",
    "str.toUpperCase(); // Ignoring returned value\n",
    "System.out.println(str); // Output: Hello (not converted to uppercase)\n",
    "```\n",
    "\n",
    "Solution:\n",
    "```java\n",
    "// Corrected code\n",
    "String str = \"Hello\";\n",
    "str = str.toUpperCase(); // Assigning returned value to variable\n",
    "System.out.println(str); // Output: HELLO\n",
    "```\n",
    "\n",
    "Practicing with these examples should help in understanding and avoiding these common mistakes in traversing arrays."
   ]
  },
  {
   "cell_type": "markdown",
   "metadata": {},
   "source": [
    "**Using For-Each Loops:**\n",
    "\n",
    "**1. Modifying Elements:**\n",
    "\n",
    "Modifying elements while iterating over them using a for-each loop can lead to unexpected behavior or errors because for-each loops are designed for read-only access.\n",
    "\n",
    "Example:\n",
    "```java\n",
    "// Incorrect code\n",
    "int[] numbers = {1, 2, 3, 4, 5};\n",
    "for (int num : numbers) {\n",
    "    num *= 2; // Attempting to modify elements\n",
    "}\n",
    "```\n",
    "\n",
    "Solution:\n",
    "```java\n",
    "// Corrected code\n",
    "int[] numbers = {1, 2, 3, 4, 5};\n",
    "for (int i = 0; i < numbers.length; i++) {\n",
    "    numbers[i] *= 2; // Modifying elements using index\n",
    "}\n",
    "```\n",
    "\n",
    "**2. Tracking Index:**\n",
    "\n",
    "For-each loops do not provide a built-in mechanism to track the index of the current element, which can be necessary in some situations.\n",
    "\n",
    "Example:\n",
    "```java\n",
    "// Incorrect code\n",
    "String[] fruits = {\"Apple\", \"Banana\", \"Orange\"};\n",
    "for (String fruit : fruits) {\n",
    "    System.out.println(\"Fruit: \" + fruit);\n",
    "    // How to track the index here?\n",
    "}\n",
    "```\n",
    "\n",
    "Solution:\n",
    "Use a traditional for loop if you need to track the index.\n",
    "\n",
    "**3. Removing Elements:**\n",
    "\n",
    "Removing elements from a collection while iterating over it using a for-each loop can lead to concurrent modification exceptions.\n",
    "\n",
    "Example:\n",
    "```java\n",
    "// Incorrect code\n",
    "List<Integer> numbers = new ArrayList<>();\n",
    "numbers.add(1);\n",
    "numbers.add(2);\n",
    "numbers.add(3);\n",
    "for (int num : numbers) {\n",
    "    numbers.remove(num); // Attempting to remove elements\n",
    "}\n",
    "```\n",
    "\n",
    "Solution:\n",
    "Use an iterator and its remove method to safely remove elements while iterating.\n",
    "\n",
    "**4. Iterating Backwards or in Multiple Steps:**\n",
    "\n",
    "For-each loops iterate over elements sequentially and do not support iterating backwards or in multiple steps.\n",
    "\n",
    "Example:\n",
    "```java\n",
    "// Incorrect code\n",
    "int[] numbers = {1, 2, 3, 4, 5};\n",
    "for (int num : numbers) {\n",
    "    System.out.println(num);\n",
    "    // How to iterate backwards or in multiple steps here?\n",
    "}\n",
    "```\n",
    "\n",
    "Solution:\n",
    "Use a traditional for loop with appropriate control structures for these cases.\n",
    "\n",
    "**5. Processing Two Arrays in Parallel:**\n",
    "\n",
    "For-each loops iterate over a single collection at a time and do not naturally support iterating over multiple arrays in parallel.\n",
    "\n",
    "Example:\n",
    "```java\n",
    "// Incorrect code\n",
    "int[] arr1 = {1, 2, 3};\n",
    "int[] arr2 = {4, 5, 6};\n",
    "for (int num1 : arr1) {\n",
    "    for (int num2 : arr2) {\n",
    "        // Processing elements from both arrays\n",
    "    }\n",
    "}\n",
    "```\n",
    "\n",
    "Solution:\n",
    "Use a traditional for loop with a common index for processing elements from multiple arrays in parallel.\n",
    "\n",
    "These examples should help clarify potential pitfalls when using for-each loops and how to avoid them."
   ]
  },
  {
   "cell_type": "markdown",
   "metadata": {},
   "source": [
    "---"
   ]
  },
  {
   "cell_type": "markdown",
   "metadata": {},
   "source": [
    "# 2D Array HACKS\n",
    "\n",
    "- Write code to remove an element of an ArrayList moving from the first index to the last index, without skipping any like in the example.\n",
    "- Then use an insertion sort algorithm to sort the ArrayList you created."
   ]
  },
  {
   "cell_type": "code",
   "execution_count": 3,
   "metadata": {
    "vscode": {
     "languageId": "java"
    }
   },
   "outputs": [
    {
     "name": "stdout",
     "output_type": "stream",
     "text": [
      "Removed: [REPL.$JShell$14$Player@56e54a91, REPL.$JShell$14$Player@5ee5ec77]\n",
      "Removed: [REPL.$JShell$14$Player@5ee5ec77]\n",
      "Sorted players based on points:\n",
      "Tanisha: 25 points\n"
     ]
    }
   ],
   "source": [
    "import java.util.ArrayList;\n",
    "\n",
    "public class Main {\n",
    "    public static void main(String[] args) {\n",
    "        // Create an ArrayList of Player objects\n",
    "        ArrayList<Player> players = new ArrayList<>();\n",
    "        players.add(new Player(\"Luna\", 20));\n",
    "        players.add(new Player(\"Rachita\", 15));\n",
    "        players.add(new Player(\"Tanisha\", 25));\n",
    "\n",
    "        // Remove an element moving from the first index to the last index\n",
    "        for (int i = 0; i < players.size(); i++) {\n",
    "            players.remove(0); // Remove the first element each time\n",
    "            System.out.println(\"Removed: \" + players);\n",
    "        }\n",
    "\n",
    "        // Perform insertion sort based on points a player has\n",
    "        for (int i = 1; i < players.size(); i++) {\n",
    "            Player key = players.get(i);\n",
    "            int j = i - 1;\n",
    "            while (j >= 0 && players.get(j).getPoints() > key.getPoints()) {\n",
    "                players.set(j + 1, players.get(j));\n",
    "                j = j - 1;\n",
    "            }\n",
    "            players.set(j + 1, key);\n",
    "        }\n",
    "\n",
    "        // Print the sorted ArrayList\n",
    "        System.out.println(\"Sorted players based on points:\");\n",
    "        for (Player player : players) {\n",
    "            System.out.println(player.getName() + \": \" + player.getPoints() + \" points\");\n",
    "        }\n",
    "    }\n",
    "}\n",
    "class Player {\n",
    "    private String name;\n",
    "    private int points;\n",
    "\n",
    "    public Player(String name, int points) {\n",
    "        this.name = name;\n",
    "        this.points = points;\n",
    "    }\n",
    "\n",
    "    public String getName() {\n",
    "        return name;\n",
    "    }\n",
    "\n",
    "    public int getPoints() {\n",
    "        return points;\n",
    "    }\n",
    "}\n",
    "Main.main(null);"
   ]
  },
  {
   "cell_type": "markdown",
   "metadata": {},
   "source": [
    "## 2015 FRQ Q1\n",
    "\n",
    "Finish FRQ from Friday, 2015 Q1"
   ]
  },
  {
   "cell_type": "code",
   "execution_count": null,
   "metadata": {
    "vscode": {
     "languageId": "java"
    }
   },
   "outputs": [],
   "source": [
    "/** Returns the sum of the entries in the one-dimensional array arr.\n",
    " */ \n",
    "public static int arraySum(int[] arr) \n",
    "{\n",
    "    int sum = 0; \n",
    "    for (int i = 0; i < arr.length; i++)\n",
    "    {\n",
    "        sum += arr[i]; \n",
    "    }\n",
    "    return sum; \n",
    "}\n",
    "\n",
    "/** Returns a one-dimensional array in which the entry at index k is the sum of * the entries of row k of the two-dimensional array arr2D. */ \n",
    "public static int[] rowSums(int[][] arr2D) { \n",
    "    int [] sums=new int[arr2D.length]; \n",
    "    int rowNum=0; \n",
    "    for(int[] row : arr2D) { \n",
    "        sums[rowNum]=arraySum(row); \n",
    "        rowNum++; \n",
    "    } return sums; \n",
    "}\n",
    "\n",
    "/** Returns true if all rows in arr2D have different row sums; * false otherwise. */ \n",
    "public static boolean isDiverse(int[][] arr2D) { \n",
    "    int [] sums=rowSums(arr2D); \n",
    "    for (int i=0; i < sums.length; i++) { \n",
    "        for (int j=i+1; j < sums.length; j++) { \n",
    "            if (sums[i]==sums[j]){ return false; \n",
    "            } \n",
    "        } \n",
    "    } return true; \n",
    "}"
   ]
  },
  {
   "cell_type": "markdown",
   "metadata": {},
   "source": [
    "---"
   ]
  },
  {
   "cell_type": "markdown",
   "metadata": {},
   "source": [
    "# Arraylist HACKS\n",
    "\n",
    "The learning objective is that “Students will be able to represent collections of related object reference data using ArrayList objects.” What does this mean to you?\n",
    "\n",
    "Quick lil popcorn hack\n",
    "Create 2 ArrayLists, 1 called studentName and 1 called studentAge"
   ]
  },
  {
   "cell_type": "code",
   "execution_count": null,
   "metadata": {
    "vscode": {
     "languageId": "java"
    }
   },
   "outputs": [],
   "source": [
    "public class Student\n",
    "{\n",
    "    public static void main(String[] args)\n",
    "    {\n",
    "        ArrayList<String> studentName = new ArrayList<String>();\n",
    "        ArrayList<Integer> studentAge = new ArrayList<Integer>();\n",
    "    }\n",
    "}"
   ]
  },
  {
   "cell_type": "markdown",
   "metadata": {},
   "source": [
    "**Answer the following questions:**\n",
    "\n",
    "1. Look back at Size of the ArrayList. What does the code output and why?\n",
    "The code shows how many items are currently in the ArrayList. It does this by counting the elements stored in it.\n",
    "\n",
    "2. Look back at *Adding items to an `ArrayList`*. What does the code output and why? What type of function is `void`, and what will be the return value?\n",
    "The code displays the list after adding new items to it. The function used to add items is called void, meaning it doesn't give back any specific value.\n",
    "\n",
    "3. Look back at Example 1. What two lines did we remove? Why?\n",
    "We removed two lines that were trying to add a number and a boolean to a list meant for strings. This keeps the list consistent with its intended type.\n",
    "\n",
    "4. If an `ArrayList` is being used as a parameter, what are the only two methods I can use from it? What would happen if I tried to use any other methods?\n",
    "You can only safely use the get and size methods with an ArrayList used as a parameter. If you try to use other methods, it might only affect a temporary copy of the list, not the original one passed into the method.\n",
    "\n",
    "\n",
    "Using the Hack Helper, write code that will:\n",
    "\n",
    "Add 2 items to the list.\n",
    "Remove an item from the list anywhere of the user’s choice.\n",
    "Replace am item anywhere in the list of the user’s choice.\n",
    "Get the first and last element of the list, no matter the length.\n",
    "Return the items added, removed, replaced, and the list’s size, in one string."
   ]
  },
  {
   "cell_type": "code",
   "execution_count": 4,
   "metadata": {
    "vscode": {
     "languageId": "java"
    }
   },
   "outputs": [
    {
     "name": "stdout",
     "output_type": "stream",
     "text": [
      "Added: 1, 2; Removed: 10; Replaced: 1 with 5; First element: 5; Last element: 2; List size: 2\n"
     ]
    }
   ],
   "source": [
    "import java.util.ArrayList;\n",
    "\n",
    "public class HackHelper {\n",
    "\n",
    "    private String manipulateList(ArrayList<Integer> array) {\n",
    "        array.add(1);\n",
    "        array.add(2);\n",
    "        Integer removedItem = array.remove(0);\n",
    "        Integer replacedItem = array.set(0, 5);\n",
    "        Integer firstElement = array.get(0);\n",
    "        Integer lastElement = array.get(array.size() - 1);\n",
    "\n",
    "        return \"Added: 1, 2; Removed: \" + removedItem + \"; Replaced: \" + replacedItem\n",
    "               + \" with 5; First element: \" + firstElement + \"; Last element: \" + lastElement\n",
    "               + \"; List size: \" + array.size();\n",
    "    }\n",
    "\n",
    "    public static void main(String[] args) {\n",
    "        ArrayList<Integer> list = new ArrayList<>();\n",
    "        list.add(10);\n",
    "        \n",
    "        HackHelper helper = new HackHelper();\n",
    "        String result = helper.manipulateList(list);\n",
    "        System.out.println(result);\n",
    "    }\n",
    "}\n",
    "\n",
    "HackHelper.main(null);"
   ]
  },
  {
   "cell_type": "markdown",
   "metadata": {},
   "source": [
    "**Answer the questions:**\n",
    "\n",
    "1. Look back at the examples. What’s similar? What’s different?\n",
    "Both examples manipulate an ArrayList to perform various operations like adding, removing, replacing, and accessing elements. The main difference is how the elements are added: the first example initializes all values at once, while the second one initializes them one by one.\n",
    "\n",
    "2. Why do we use `ArrayList`? Why not just regular lists?\n",
    "We use ArrayList because it can hold objects, unlike regular arrays which have a fixed size in Java.\n",
    "\n",
    "3. Demonstrate at least two ArrayList methods that aren’t ArrayList<>.size() and ArrayList<>.get()."
   ]
  },
  {
   "cell_type": "code",
   "execution_count": 5,
   "metadata": {
    "vscode": {
     "languageId": "java"
    }
   },
   "outputs": [
    {
     "name": "stdout",
     "output_type": "stream",
     "text": [
      "ArrayList after adding elements: [10, 20]\n",
      "ArrayList after removing element at index 0: [20]\n"
     ]
    }
   ],
   "source": [
    "import java.util.ArrayList;\n",
    "\n",
    "public class ArrayListExample {\n",
    "    public static void main(String[] args) {\n",
    "        ArrayList<Integer> numbers = new ArrayList<>();\n",
    "        \n",
    "        // Adding elements\n",
    "        numbers.add(10);\n",
    "        numbers.add(20);\n",
    "        System.out.println(\"ArrayList after adding elements: \" + numbers);\n",
    "        \n",
    "        // Removing element\n",
    "        numbers.remove(0);\n",
    "        System.out.println(\"ArrayList after removing element at index 0: \" + numbers);\n",
    "    }\n",
    "}\n",
    "ArrayListExample.main(null);"
   ]
  },
  {
   "cell_type": "markdown",
   "metadata": {},
   "source": [
    "4. Write the method findSum() using the Hack Helper and incorporating ArrayList"
   ]
  },
  {
   "cell_type": "code",
   "execution_count": 6,
   "metadata": {
    "vscode": {
     "languageId": "java"
    }
   },
   "outputs": [
    {
     "name": "stdout",
     "output_type": "stream",
     "text": [
      "Sum of elements in the ArrayList: 60\n"
     ]
    }
   ],
   "source": [
    "import java.util.ArrayList;\n",
    "\n",
    "public class HackHelper {\n",
    "    public int findSum(ArrayList<Integer> numbers) {\n",
    "        int sum = 0;\n",
    "        for (int num : numbers) {\n",
    "            sum += num;\n",
    "        }\n",
    "        return sum;\n",
    "    }\n",
    "\n",
    "    public static void main(String[] args) {\n",
    "        ArrayList<Integer> numbers = new ArrayList<>();\n",
    "        numbers.add(10);\n",
    "        numbers.add(20);\n",
    "        numbers.add(30);\n",
    "\n",
    "        HackHelper helper = new HackHelper();\n",
    "        int sum = helper.findSum(numbers);\n",
    "        System.out.println(\"Sum of elements in the ArrayList: \" + sum);\n",
    "    }\n",
    "}\n",
    "HackHelper.main(null);"
   ]
  }
 ],
 "metadata": {
  "kernelspec": {
   "display_name": "Java",
   "language": "java",
   "name": "java"
  },
  "language_info": {
   "codemirror_mode": "java",
   "file_extension": ".jshell",
   "mimetype": "text/x-java-source",
   "name": "Java",
   "pygments_lexer": "java",
   "version": "20.0.1"
  }
 },
 "nbformat": 4,
 "nbformat_minor": 2
}
