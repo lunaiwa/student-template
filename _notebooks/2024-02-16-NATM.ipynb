{
 "cells": [
  {
   "cell_type": "markdown",
   "metadata": {},
   "source": [
    "---\n",
    "toc: true\n",
    "comments: true\n",
    "layout: post\n",
    "title: N@TM Tri 2\n",
    "description: Trimester 2 reflection\n",
    "type: hacks\n",
    "courses: { csa: {week: 24} }\n",
    "---"
   ]
  },
  {
   "cell_type": "markdown",
   "metadata": {},
   "source": [
    "# NATM Reflection"
   ]
  },
  {
   "cell_type": "markdown",
   "metadata": {},
   "source": [
    "## ★ how you used N@tM to capture test data to be used in trimester 3\n",
    "- many people had trouble playing the fight parts when they make a new account due tot he creatures being a different level then the player. Only the admin accounts were set to level 0\n",
    "- we collected user accounts too\n",
    "<img width=\"641\" alt=\"Screenshot 2024-02-16 at 11 55 45 AM\" src=\"https://github.com/lunaiwa/student-template/assets/111661543/827b7a3a-112c-42cd-896b-016e336f9399\">\n",
    "\n",
    "## ★ from feedback, something you will add to your project\n",
    "- changing the fight question format, players had trouble reading the questions, maybe make it bigger\n",
    "- changing the theme, some people commented that the theme wasn't really that cohesive, changing the theme to connect it together\n",
    "- using arrow keys additionally\n",
    "<img width=\"458\" alt=\"Screenshot 2024-02-16 at 11 56 55 AM\" src=\"https://github.com/lunaiwa/student-template/assets/111661543/a1fc418e-6852-402f-a2ed-2756304d6b04\">\n",
    "\n",
    "## ★ growth\n",
    "as a team I think we worked really well during this N@TM, we built off of each other's concepts and presented each thing we needed to. In our eyes the project might be nice but with an outside view we were able to collect data on how to improve and better our game.\n",
    "<img width=\"164\" alt=\"Screenshot 2024-02-16 at 11 49 49 AM\" src=\"https://github.com/lunaiwa/student-template/assets/111661543/35747435-a945-4169-a68d-14740608f614\"> <img width=\"160\" alt=\"Screenshot 2024-02-16 at 11 50 03 AM\" src=\"https://github.com/lunaiwa/student-template/assets/111661543/da414ddd-bf7c-444b-9abf-e8f8a0441d25\">\n",
    "\n",
    "\n",
    "## ★ something you saw in CompSci that impressed\n",
    "\n",
    "**Volunteering Tracker/CSP** >> Tara Sehdave, Alara Ipek, Kayden Le, Peyton Leigh\n",
    "- Brings different volunteering organizations to high-school students\n",
    "- Ability to bulk on college apps\n",
    "- They will add an api that fetches the actual volunteer activity\n",
    "- Users can select things they want to volunteer to to their own list\n",
    "<img width=\"210\" alt=\"Screenshot 2024-02-16 at 11 51 06 AM\" src=\"https://github.com/lunaiwa/student-template/assets/111661543/ec734648-e518-4593-bb1d-a3d8aede1f60\">\n",
    "\n",
    "**Book Tracker/CSA** >> Tay Kim, Ethan Tran, Emaad Mir, Anthony Bazhenov\n",
    "- used ai camera tracker to make a sign language game\n",
    "- very fun game and cool logic behind it \n",
    "- is a new idea, pretty creative\n",
    "\n",
    "## ★ something you saw outside of CompSci that you liked\n",
    "\n",
    "this **how to train your dragon** clay sculpture by Hannah Li was very cool 😎 🐉 \n",
    "<img width=\"240\" alt=\"Screenshot 2024-02-16 at 11 37 49 AM\" src=\"https://github.com/lunaiwa/student-template/assets/111661543/32ebcd6b-87b8-484a-a206-13228bcfd6c4\">\n"
   ]
  }
 ],
 "metadata": {
  "language_info": {
   "name": "python"
  }
 },
 "nbformat": 4,
 "nbformat_minor": 2
}
