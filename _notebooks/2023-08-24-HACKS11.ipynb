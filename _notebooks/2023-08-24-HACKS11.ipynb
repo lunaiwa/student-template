{
 "cells": [
  {
   "cell_type": "markdown",
   "metadata": {},
   "source": [
    "---\n",
    "comments: true\n",
    "layout: post\n",
    "title: Week 1 | Tools and DevOps\n",
    "description: Week 1 Tools and DevOps HACKS\n",
    "type: hacks\n",
    "courses: { csse: {week: 0}, csp: {week: 0}, csa: {week: 1} }\n",
    "categories: [C4.1]\n",
    "---"
   ]
  },
  {
   "cell_type": "markdown",
   "metadata": {},
   "source": [
    "# **Week 1 HACKS | Tools and DevOps**\n",
    "---"
   ]
  },
  {
   "cell_type": "markdown",
   "metadata": {},
   "source": [
    "# <mark>**Tools and DevOps**</mark>"
   ]
  },
  {
   "cell_type": "markdown",
   "metadata": {},
   "source": [
    "## <span style=\"color:red\">Linux Shell and Bash</span>"
   ]
  },
  {
   "cell_type": "markdown",
   "metadata": {},
   "source": [
    "### <span style=\"color:blue\">**Hacks**</span>\n",
    "\n",
    "Review Tool Setup Procedures and think about some thing you could verify through a Shell notebook.\n",
    "\n",
    "- [ x ] Come up with your own student view of this procedure to show your tools are installed. It is best that you keep the few things you understand, add things later as you start to understand them.\n",
    "- [ x ] Name and create blog notes on some Linux commands you will use frequently.\n",
    "- [ x ] Is there anything we use to verify tools we installed? Review versions?\n",
    "- [ x ] How would you update a repository? Use the git command line?\n"
   ]
  },
  {
   "cell_type": "markdown",
   "metadata": {},
   "source": [
    "**Common Used**\n",
    "\n",
    "\n",
    "FastPages Commands:\n",
    "\n",
    "make: run local server\n",
    "\n",
    "make convert: checks to see if jupyter notebooks update\n",
    "\n",
    "make clean: stops server and cleans temp files\n",
    "\n",
    "make stop: stops the local server\n",
    "\n",
    "git clone: clone a repo through terminal\n",
    "\n",
    "code: open the cloned git repo from terminal\n",
    "\n",
    "cd: change direct\n",
    "\n",
    "ls: list\n",
    "\n",
    "**Checking Installed Tools**\n",
    "\n",
    "using ls and which to check\n",
    "\n",
    "to see if Java is installed use java -version\n",
    "\n",
    "to see if homebrew is installed use brew -version or brew list\n",
    "\n",
    "rbenv versions\n",
    "\n",
    "ruby -v\n",
    "\n",
    "python --version\n",
    "\n",
    "jupyter --version\n",
    "\n",
    "use jupyter kernelspec list to check kernels\n",
    "\n",
    "**Updating Repository**\n",
    "\n",
    "To update a repository make sure to git pull first and then git push to push edits. Or you can open the source control to commit the changes."
   ]
  }
 ],
 "metadata": {
  "language_info": {
   "name": "python"
  },
  "orig_nbformat": 4
 },
 "nbformat": 4,
 "nbformat_minor": 2
}
