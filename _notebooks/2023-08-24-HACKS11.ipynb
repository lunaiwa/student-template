{
 "cells": [
  {
   "cell_type": "markdown",
   "metadata": {},
   "source": [
    "---\n",
    "comments: true\n",
    "layout: post\n",
    "title: Week 1 | Tools and DevOps\n",
    "description: Week 1 Tools and DevOps HACKS\n",
    "type: hacks\n",
    "courses: { csse: {week: 0}, csp: {week: 0}, csa: {week: 1} }\n",
    "categories: [C4.1]\n",
    "---"
   ]
  },
  {
   "cell_type": "markdown",
   "metadata": {},
   "source": [
    "# **Week 1 HACKS | Tools and DevOps**\n",
    "---"
   ]
  },
  {
   "cell_type": "markdown",
   "metadata": {},
   "source": [
    "# <mark>**Tools and DevOps**</mark>"
   ]
  },
  {
   "cell_type": "markdown",
   "metadata": {},
   "source": [
    "## <span style=\"color:red\">Linux Shell and Bash</span>"
   ]
  },
  {
   "cell_type": "markdown",
   "metadata": {},
   "source": [
    "### <span style=\"color:blue\">**Hacks**</span>\n",
    "\n",
    "Review Tool Setup Procedures and think about some thing you could verify through a Shell notebook.\n",
    "\n",
    "- [ ] Come up with your own student view of this procedure to show your tools are installed. It is best that you keep the few things you understand, add things later as you start to understand them.\n",
    "- [ ] Name and create blog notes on some Linux commands you will use frequently.\n",
    "- [ ] Is there anything we use to verify tools we installed? Review versions?\n",
    "- [ ] How would you update a repository? Use the git command line?\n"
   ]
  }
 ],
 "metadata": {
  "language_info": {
   "name": "python"
  },
  "orig_nbformat": 4
 },
 "nbformat": 4,
 "nbformat_minor": 2
}
