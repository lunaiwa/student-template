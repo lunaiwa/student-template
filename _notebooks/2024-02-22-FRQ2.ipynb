{
 "cells": [
  {
   "cell_type": "markdown",
   "metadata": {},
   "source": [
    "---\n",
    "toc: true\n",
    "comments: true\n",
    "layout: post\n",
    "title: College Board FRQ 2015 - Part 2\n",
    "description: Trimester 2 FRQ\n",
    "type: hacks\n",
    "courses: { csa: {week: 19} }\n",
    "---"
   ]
  },
  {
   "cell_type": "markdown",
   "metadata": {},
   "source": [
    "# Question 2\n",
    "\n",
    "HiddenWord puzzle = new HiddenWord(\"HARPS\");\n",
    "\n",
    "The following table shows several guesses and the hints that would be produced.\n",
    "\n",
    "<img width=\"391\" alt=\"Screenshot 2024-02-22 at 12 09 14 PM\" src=\"https://github.com/lunaiwa/student-template/assets/111661543/300dcf58-ea79-4760-a383-7a5389e7a8df\">\n",
    "\n",
    "**Write the complete HiddenWord class, including any necessary instance variables, its constructor, and the method, getHint, described above. You may assume that the length of the guess is the same as the length of the hidden word.***"
   ]
  },
  {
   "cell_type": "code",
   "execution_count": 1,
   "metadata": {},
   "outputs": [
    {
     "name": "stdout",
     "output_type": "stream",
     "text": [
      "Guess: GHOSTS - Hint: G*****\n",
      "Guess: THANKS - Hint: **++**\n",
      "Guess: GAMBIT - Hint: GAM*+*\n",
      "Guess: GAMBLE - Hint: GAM***\n",
      "Guess: GAMING - Hint: GAMING\n"
     ]
    }
   ],
   "source": [
    "public class HiddenWord {\n",
    "    private String word;\n",
    "\n",
    "    // contrucotr, initialize hidden word\n",
    "    public HiddenWord(String hWord) {\n",
    "        word = hWord;\n",
    "    }\n",
    "\n",
    "    // method, makes hint based on guess\n",
    "    public String getHint(String guess) {\n",
    "        // makes the hint\n",
    "        StringBuilder hint = new StringBuilder();\n",
    "        // looping through each letter in guess word\n",
    "        for (int i = 0; i < guess.length(); i++) {\n",
    "            String guessLetter = guess.substring(i, i + 1);\n",
    "            String hiddenLetter = word.substring(i, i + 1);\n",
    "\n",
    "            if (guessLetter.equals(hiddenLetter)) {\n",
    "                // right letter right position\n",
    "                hint.append(guessLetter); \n",
    "            } else if (word.contains(guessLetter)) {\n",
    "                // right letter wrong position\n",
    "                hint.append('+'); \n",
    "            } else {\n",
    "                // wrong letter\n",
    "                hint.append('*'); \n",
    "            }\n",
    "        }\n",
    "        return hint.toString();\n",
    "    }\n",
    "\n",
    "    // testing the class\n",
    "    public static void main(String[] args) {\n",
    "        HiddenWord puzzle = new HiddenWord(\"GAMING\");\n",
    "\n",
    "        // testing through guesses\n",
    "        String[] guesses = {\"GHOSTS\", \"THANKS\", \"GAMBIT\", \"GAMBLE\", \"GAMING\"};\n",
    "        for (String guess : guesses) {\n",
    "            System.out.println(\"Guess: \" + guess + \" - Hint: \" + puzzle.getHint(guess));\n",
    "        }\n",
    "    }\n",
    "}\n",
    "\n",
    "HiddenWord.main(null);"
   ]
  },
  {
   "cell_type": "markdown",
   "metadata": {},
   "source": [
    "# Notes"
   ]
  }
 ],
 "metadata": {
  "kernelspec": {
   "display_name": "Java",
   "language": "java",
   "name": "java"
  },
  "language_info": {
   "codemirror_mode": "java",
   "file_extension": ".jshell",
   "mimetype": "text/x-java-source",
   "name": "java",
   "pygments_lexer": "java",
   "version": "20.0.1"
  }
 },
 "nbformat": 4,
 "nbformat_minor": 2
}
