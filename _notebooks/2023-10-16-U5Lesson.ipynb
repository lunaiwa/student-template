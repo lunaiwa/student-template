{
 "cells": [
  {
   "cell_type": "markdown",
   "metadata": {},
   "source": [
    "---\n",
    "layout: post\n",
    "title: Unit 5 | this Keyword/Ethics\n",
    "description: Lesson plan \n",
    "comments: true\n",
    "courses: { csa: {week: 9} }\n",
    "type: plans\n",
    "authors: Luna Iwazaki\n",
    "---"
   ]
  },
  {
   "cell_type": "markdown",
   "metadata": {},
   "source": [
    "# 5.9 this Keyword\n",
    "\n",
    "**this keyword** \n",
    "<details>a keyword that essentially refers to the object that is calling the method or the object that the constructor is trying to make</detail>"
   ]
  },
  {
   "cell_type": "markdown",
   "metadata": {},
   "source": [
    "### Can be used 3 Ways:\n",
    "\n",
    "1. **refer to instance variable**  > This will solve the problem of having duplicate variable names. To distinguish the instance and local variables, we use this.variableName for the instance variable and simply variableName for the local variable.\n",
    "\n",
    "2. **parameter** > Sometimes, we can also use the object as a parameter in its own method call to use itself in the method by using objectName.methodName(this).\n",
    "\n",
    "3. **constructor or method call** > Sometimes, we can also use the object as a parameter in its own method call to use itself in the method by using objectName.methodName(this)."
   ]
  },
  {
   "cell_type": "code",
   "execution_count": null,
   "metadata": {
    "vscode": {
     "languageId": "java"
    }
   },
   "outputs": [],
   "source": [
    "public class Dog {\n",
    "    private String breed;\n",
    "\n",
    "    public String getBreed(){\n",
    "        return breed;\n",
    "    }\n",
    "\n",
    "    public boolean isSameBreed(Dog otherDog){\n",
    "        return         \n",
    "        // breed.equals(otherDog.breed);\n",
    "        // this.breed.equals(otherDog.breed);\n",
    "        // **this** makes the code more readable/clear but is not required\n",
    "    }\n",
    "}"
   ]
  },
  {
   "cell_type": "code",
   "execution_count": null,
   "metadata": {
    "vscode": {
     "languageId": "java"
    }
   },
   "outputs": [],
   "source": [
    "public class DogCompetition {\n",
    "\n",
    "    public boolean doBreedMatch (Dog dog1, Dog dog2){\n",
    "        return this.getBreed().equals(dog2.getBreed());\n",
    "        // **this** refers to object which was used to call doBreedsMatch and is a DogCompetition object, not dog object (CANNOT CALL getBreed())\n",
    "        // this.dog1\n",
    "        // dog1 is not data member (parameter) so incorrect\n",
    "        // doBreedMatch doesn't use any data from DogCompetition class no way to use this\n",
    "    }\n",
    "}"
   ]
  },
  {
   "cell_type": "markdown",
   "metadata": {},
   "source": [
    "What method should DoBreedsMatch should have been ?  >> Static not instance (no instance data)"
   ]
  },
  {
   "cell_type": "markdown",
   "metadata": {},
   "source": [
    "### Local vs Instance\n",
    "\n",
    "Make the code a little clearer by using the **this** keyword\n",
    "\n",
    "b,a,w,and s aren't meaningful parameters change them into breed, age, weight, and score \n",
    "\n",
    "distinguish the local and instance variables using the **this** keyword"
   ]
  },
  {
   "cell_type": "code",
   "execution_count": null,
   "metadata": {
    "vscode": {
     "languageId": "java"
    }
   },
   "outputs": [],
   "source": [
    "public class Dog {\n",
    "    private String breed;\n",
    "    private int age;\n",
    "    private double weight;\n",
    "    private double score;\n",
    "\n",
    "    public Dog(sting b, int a, double w, double s){\n",
    "        // 1. make this code a little clearer by using the **this** keyword\n",
    "        // 2. change the parameters into something more meaningful\n",
    "        // 3. distinguish local vs instance variables using **this** keyword\n",
    "        breed = b;\n",
    "        age = a;\n",
    "        weight = w;\n",
    "        score - s;\n",
    "    }\n",
    "}"
   ]
  },
  {
   "cell_type": "markdown",
   "metadata": {},
   "source": [
    "set this as breed to b instead of breed = b set the object whose being contructed data meber to b\n",
    "\n",
    "b a w and s arent meaningful parameter\n",
    "\n",
    "differenciate vs local and instance valiable this.breed = instance vs breed = parameter"
   ]
  },
  {
   "cell_type": "markdown",
   "metadata": {},
   "source": [
    "# 5.10 Ethical and Social Implications of Computing Systems\n",
    "\n",
    "### Impacts\n",
    "\n",
    "Programming affects the world in many ways, such as socially, economically, and culturally. For instance, not everyone has the same access to technology and computer programs, which creates social inequalities. Some people can use technology, while others can't. **Digital Divide**\n",
    "\n",
    "The global economy relies heavily on technology and computer programs, especially in areas like stock trading and economic predictions. Programming and technology have also made the world more connected, allowing different cultures to mix and making it easier for people to communicate globally. However, this has also created a gap between generations, with younger people having more exposure to digital technology than older generations.\n",
    "\n",
    "**These impacts on society, the economy, and culture can be both good and bad.**\n",
    "\n",
    "### System Reliability\n",
    "\n",
    "When programmers create software, they need to consider how reliable the system is. Different devices can perform the same task at varying speeds and in different ways. Each system may have security issues that hackers can exploit.\n",
    "\n",
    "To make systems more reliable, programmers need to fix any bugs as soon as they find them. These fixes are then released to users as updates or patches to ensure that computers can be used safely and correctly.\n",
    "\n",
    "### Intellectual Property\n",
    "\n",
    "Usually, when people create programs on the internet, they own them. However, open source programs blur this line. In open source programs, anyone can make improvements to the code if the program owner allows it.\n",
    "\n",
    "Licensing and access also play a role in letting others adapt and build on existing code to create their own programs. There are different types of licenses, like Creative Commons and MIT License, each serving different purposes.\n",
    "\n",
    "Here is an [article](https://docs.github.com/en/communities/setting-up-your-project-for-healthy-contributions/adding-a-license-to-a-repository) on how to add a license on your Repository"
   ]
  }
 ],
 "metadata": {
  "language_info": {
   "name": "python"
  }
 },
 "nbformat": 4,
 "nbformat_minor": 2
}
